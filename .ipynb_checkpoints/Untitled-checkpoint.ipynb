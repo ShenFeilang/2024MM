{
 "cells": [
  {
   "cell_type": "code",
   "execution_count": 1,
   "id": "0c1ede74",
   "metadata": {
    "ExecuteTime": {
     "end_time": "2024-09-24T20:16:15.725704Z",
     "start_time": "2024-09-24T20:16:14.964488Z"
    }
   },
   "outputs": [
    {
     "ename": "NameError",
     "evalue": "name 'nss_mcs_dict' is not defined",
     "output_type": "error",
     "traceback": [
      "\u001b[1;31m---------------------------------------------------------------------------\u001b[0m",
      "\u001b[1;31mNameError\u001b[0m                                 Traceback (most recent call last)",
      "Cell \u001b[1;32mIn[1], line 16\u001b[0m\n\u001b[0;32m     14\u001b[0m mcs_value \u001b[38;5;241m=\u001b[39m \u001b[38;5;241m1\u001b[39m  \u001b[38;5;66;03m# 假设mcs值\u001b[39;00m\n\u001b[0;32m     15\u001b[0m estimated_phy_value \u001b[38;5;241m=\u001b[39m \u001b[38;5;241m18.0\u001b[39m  \u001b[38;5;66;03m# 假设phy估计值\u001b[39;00m\n\u001b[1;32m---> 16\u001b[0m predicted_nss \u001b[38;5;241m=\u001b[39m predict_nss(mcs_value, estimated_phy_value, nss_mcs_dict)\n\u001b[0;32m     17\u001b[0m \u001b[38;5;28mprint\u001b[39m(\u001b[38;5;124mf\u001b[39m\u001b[38;5;124m\"\u001b[39m\u001b[38;5;124mPredicted nss: \u001b[39m\u001b[38;5;132;01m{\u001b[39;00mpredicted_nss\u001b[38;5;132;01m}\u001b[39;00m\u001b[38;5;124m\"\u001b[39m)\n",
      "\u001b[1;31mNameError\u001b[0m: name 'nss_mcs_dict' is not defined"
     ]
    }
   ],
   "source": [
    "import numpy as np\n",
    "import pandas as pd\n",
    "\n",
    "def predict_nss(mcs, estimated_phy, nss_mcs_dict):\n",
    "    # 找出字典中符合mcs的(nss, phy)对\n",
    "    candidates = [(nss, phy) for (nss, mcs_key), phy in nss_mcs_dict.items() if mcs_key == mcs]\n",
    "    \n",
    "    if not candidates:\n",
    "        raise ValueError(f\"No entries found for mcs={mcs}\")\n",
    "    \n",
    "    # 找到与估计的phy值最接近的实际phy值\n",
    "    closest_nss, closest_phy = min(candidates, key=lambda x: abs(x[1] - estimated_phy))\n",
    "    \n",
    "    return closest_nss\n",
    "\n",
    "# 示例用法\n",
    "mcs_value = 1  # 假设mcs值\n",
    "estimated_phy_value = 18.0  # 假设phy估计值\n",
    "predicted_nss = predict_nss(mcs_value, estimated_phy_value, nss_mcs_dict)\n",
    "print(f\"Predicted nss: {predicted_nss}\")"
   ]
  },
  {
   "cell_type": "code",
   "execution_count": null,
   "id": "3bf5306b",
   "metadata": {},
   "outputs": [],
   "source": []
  }
 ],
 "metadata": {
  "kernelspec": {
   "display_name": "Python 3 (ipykernel)",
   "language": "python",
   "name": "python3"
  },
  "language_info": {
   "codemirror_mode": {
    "name": "ipython",
    "version": 3
   },
   "file_extension": ".py",
   "mimetype": "text/x-python",
   "name": "python",
   "nbconvert_exporter": "python",
   "pygments_lexer": "ipython3",
   "version": "3.11.4"
  },
  "toc": {
   "base_numbering": 1,
   "nav_menu": {},
   "number_sections": false,
   "sideBar": true,
   "skip_h1_title": false,
   "title_cell": "Table of Contents",
   "title_sidebar": "Contents",
   "toc_cell": false,
   "toc_position": {},
   "toc_section_display": true,
   "toc_window_display": false
  },
  "varInspector": {
   "cols": {
    "lenName": 16,
    "lenType": 16,
    "lenVar": 40
   },
   "kernels_config": {
    "python": {
     "delete_cmd_postfix": "",
     "delete_cmd_prefix": "del ",
     "library": "var_list.py",
     "varRefreshCmd": "print(var_dic_list())"
    },
    "r": {
     "delete_cmd_postfix": ") ",
     "delete_cmd_prefix": "rm(",
     "library": "var_list.r",
     "varRefreshCmd": "cat(var_dic_list()) "
    }
   },
   "types_to_exclude": [
    "module",
    "function",
    "builtin_function_or_method",
    "instance",
    "_Feature"
   ],
   "window_display": false
  }
 },
 "nbformat": 4,
 "nbformat_minor": 5
}
