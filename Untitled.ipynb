{
 "cells": [
  {
   "cell_type": "code",
   "execution_count": 10,
   "id": "75439201",
   "metadata": {
    "ExecuteTime": {
     "end_time": "2024-09-24T20:24:24.199764Z",
     "start_time": "2024-09-24T20:24:24.149141Z"
    }
   },
   "outputs": [],
   "source": [
    "import numpy as np\n",
    "import pandas as pd\n",
    "\n",
    "nss_mcs_dict=dict()\n",
    "phy=[8.6,17.2,25.8,34.4,51.6,68.8,77.4,86.0,103.2,114.7,129.0,143.4,17.2,34.4,51.6,68.8,103.2,137.6,154.9,172.1,206.5,\n",
    "    229.4,258.1,286.8]\n",
    "num=0\n",
    "\n",
    "for i in range(1,3):\n",
    "    for j in range(0,12):\n",
    "        nss_mcs_dict[(i,j)]=phy[num]\n",
    "        num+=1\n",
    "data = pd.read_csv('RAWDATA/test_set_2_2ap.csv')\n",
    "\n",
    "# 使用之前定义的predict_nss函数\n",
    "def predict_nss(mcs, estimated_phy, nss_mcs_dict):\n",
    "    candidates = [(nss, phy) for (nss, mcs_key), phy in nss_mcs_dict.items() if mcs_key == mcs]\n",
    "    \n",
    "    if not candidates:\n",
    "        raise ValueError(f\"No entries found for mcs={mcs}\")\n",
    "    \n",
    "    closest_nss, closest_phy = min(candidates, key=lambda x: abs(x[1] - estimated_phy))\n",
    "    \n",
    "    return closest_nss\n",
    "\n",
    "# 定义一个函数用于DataFrame的apply操作\n",
    "def fill_nss(row, nss_mcs_dict):\n",
    "    mcs = row['mcs']\n",
    "    phy = row['PHY_rate']\n",
    "    return predict_nss(mcs, phy, nss_mcs_dict)\n",
    "\n",
    "# 遍历data并填写nss\n",
    "data['nss'] = data.apply(lambda row: fill_nss(row, nss_mcs_dict), axis=1)\n",
    "\n",
    "data.to_csv('outpu.csv')"
   ]
  },
  {
   "cell_type": "code",
   "execution_count": null,
   "id": "ef8c69de",
   "metadata": {},
   "outputs": [],
   "source": []
  }
 ],
 "metadata": {
  "kernelspec": {
   "display_name": "Python 3 (ipykernel)",
   "language": "python",
   "name": "python3"
  },
  "language_info": {
   "codemirror_mode": {
    "name": "ipython",
    "version": 3
   },
   "file_extension": ".py",
   "mimetype": "text/x-python",
   "name": "python",
   "nbconvert_exporter": "python",
   "pygments_lexer": "ipython3",
   "version": "3.11.4"
  },
  "toc": {
   "base_numbering": 1,
   "nav_menu": {},
   "number_sections": false,
   "sideBar": true,
   "skip_h1_title": false,
   "title_cell": "Table of Contents",
   "title_sidebar": "Contents",
   "toc_cell": false,
   "toc_position": {},
   "toc_section_display": true,
   "toc_window_display": false
  },
  "varInspector": {
   "cols": {
    "lenName": 16,
    "lenType": 16,
    "lenVar": 40
   },
   "kernels_config": {
    "python": {
     "delete_cmd_postfix": "",
     "delete_cmd_prefix": "del ",
     "library": "var_list.py",
     "varRefreshCmd": "print(var_dic_list())"
    },
    "r": {
     "delete_cmd_postfix": ") ",
     "delete_cmd_prefix": "rm(",
     "library": "var_list.r",
     "varRefreshCmd": "cat(var_dic_list()) "
    }
   },
   "types_to_exclude": [
    "module",
    "function",
    "builtin_function_or_method",
    "instance",
    "_Feature"
   ],
   "window_display": false
  }
 },
 "nbformat": 4,
 "nbformat_minor": 5
}
