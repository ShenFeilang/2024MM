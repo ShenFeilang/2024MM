{
 "cells": [
  {
   "cell_type": "code",
   "execution_count": 1,
   "id": "c8799379",
   "metadata": {
    "ExecuteTime": {
     "end_time": "2024-09-24T21:20:18.904038Z",
     "start_time": "2024-09-24T21:20:18.387650Z"
    }
   },
   "outputs": [],
   "source": [
    "import pandas as pd\n",
    "import numpy as np"
   ]
  },
  {
   "cell_type": "code",
   "execution_count": 2,
   "id": "34871c03",
   "metadata": {
    "ExecuteTime": {
     "end_time": "2024-09-24T21:20:19.968850Z",
     "start_time": "2024-09-24T21:20:19.951734Z"
    }
   },
   "outputs": [],
   "source": [
    "resource=pd.read_csv('RAWDATA/test_set_1_2ap.csv')\n"
   ]
  },
  {
   "cell_type": "code",
   "execution_count": 3,
   "id": "58979dbb",
   "metadata": {
    "ExecuteTime": {
     "end_time": "2024-09-24T21:20:28.189844Z",
     "start_time": "2024-09-24T21:20:28.180826Z"
    }
   },
   "outputs": [
    {
     "name": "stdout",
     "output_type": "stream",
     "text": [
      "<class 'pandas.core.frame.DataFrame'>\n",
      "RangeIndex: 80 entries, 0 to 79\n",
      "Data columns (total 46 columns):\n",
      " #   Column                       Non-Null Count  Dtype  \n",
      "---  ------                       --------------  -----  \n",
      " 0   test_id                      80 non-null     int64  \n",
      " 1   test_dur                     80 non-null     int64  \n",
      " 2   loc_id                       80 non-null     object \n",
      " 3   protocol                     80 non-null     object \n",
      " 4   pkt_len                      80 non-null     int64  \n",
      " 5   bss_id                       80 non-null     int64  \n",
      " 6   ap_name                      80 non-null     object \n",
      " 7   ap_mac                       80 non-null     object \n",
      " 8   ap_id                        80 non-null     object \n",
      " 9   pd                           80 non-null     int64  \n",
      " 10  ed                           80 non-null     int64  \n",
      " 11  nav                          80 non-null     int64  \n",
      " 12  eirp                         80 non-null     int64  \n",
      " 13  ap_from_ap_0_sum_ant_rssi    40 non-null     object \n",
      " 14  ap_from_ap_0_max_ant_rssi    40 non-null     object \n",
      " 15  ap_from_ap_0_mean_ant_rssi   40 non-null     object \n",
      " 16  ap_from_ap_1_sum_ant_rssi    40 non-null     object \n",
      " 17  ap_from_ap_1_max_ant_rssi    40 non-null     object \n",
      " 18  ap_from_ap_1_mean_ant_rssi   40 non-null     object \n",
      " 19  sta_mac                      80 non-null     object \n",
      " 20  sta_id                       80 non-null     object \n",
      " 21  sta_to_ap_0_sum_ant_rssi     80 non-null     object \n",
      " 22  sta_to_ap_0_max_ant_rssi     80 non-null     object \n",
      " 23  sta_to_ap_0_mean_ant_rssi    80 non-null     object \n",
      " 24  sta_to_ap_1_sum_ant_rssi     80 non-null     object \n",
      " 25  sta_to_ap_1_max_ant_rssi     80 non-null     object \n",
      " 26  sta_to_ap_1_mean_ant_rssi    80 non-null     object \n",
      " 27  sta_from_ap_0_sum_ant_rssi   80 non-null     object \n",
      " 28  sta_from_ap_0_max_ant_rssi   80 non-null     object \n",
      " 29  sta_from_ap_0_mean_ant_rssi  80 non-null     object \n",
      " 30  sta_from_ap_1_sum_ant_rssi   80 non-null     object \n",
      " 31  sta_from_ap_1_max_ant_rssi   80 non-null     object \n",
      " 32  sta_from_ap_1_mean_ant_rssi  80 non-null     object \n",
      " 33  sta_from_sta_0_rssi          0 non-null      float64\n",
      " 34  sta_from_sta_1_rssi          0 non-null      float64\n",
      " 35  nss                          80 non-null     int64  \n",
      " 36  mcs                          80 non-null     int64  \n",
      " 37  per                          80 non-null     float64\n",
      " 38  num_ampdu                    0 non-null      float64\n",
      " 39  ppdu_dur                     0 non-null      float64\n",
      " 40  other_air_time               0 non-null      float64\n",
      " 41  seq_time                     80 non-null     float64\n",
      " 42  throughput                   0 non-null      float64\n",
      " 43  predict seq_time             0 non-null      float64\n",
      " 44  predict throughput           0 non-null      float64\n",
      " 45  error%                       0 non-null      float64\n",
      "dtypes: float64(11), int64(10), object(25)\n",
      "memory usage: 28.9+ KB\n"
     ]
    }
   ],
   "source": [
    "resource.info()"
   ]
  },
  {
   "cell_type": "code",
   "execution_count": 4,
   "id": "6ff6c993",
   "metadata": {
    "ExecuteTime": {
     "end_time": "2024-09-24T21:21:31.107831Z",
     "start_time": "2024-09-24T21:21:31.102813Z"
    }
   },
   "outputs": [],
   "source": [
    "columns=[0,1,2,4,6,7,8,12,19,20,22,23,25,26,28,29,31,32,40,42,43,44,45]\n",
    "resource=resource.drop(resource.columns[columns],axis=1)"
   ]
  },
  {
   "cell_type": "code",
   "execution_count": 5,
   "id": "3bb60424",
   "metadata": {
    "ExecuteTime": {
     "end_time": "2024-09-24T21:21:33.014149Z",
     "start_time": "2024-09-24T21:21:33.005490Z"
    }
   },
   "outputs": [
    {
     "name": "stdout",
     "output_type": "stream",
     "text": [
      "<class 'pandas.core.frame.DataFrame'>\n",
      "RangeIndex: 80 entries, 0 to 79\n",
      "Data columns (total 23 columns):\n",
      " #   Column                      Non-Null Count  Dtype  \n",
      "---  ------                      --------------  -----  \n",
      " 0   protocol                    80 non-null     object \n",
      " 1   bss_id                      80 non-null     int64  \n",
      " 2   pd                          80 non-null     int64  \n",
      " 3   ed                          80 non-null     int64  \n",
      " 4   nav                         80 non-null     int64  \n",
      " 5   ap_from_ap_0_sum_ant_rssi   40 non-null     object \n",
      " 6   ap_from_ap_0_max_ant_rssi   40 non-null     object \n",
      " 7   ap_from_ap_0_mean_ant_rssi  40 non-null     object \n",
      " 8   ap_from_ap_1_sum_ant_rssi   40 non-null     object \n",
      " 9   ap_from_ap_1_max_ant_rssi   40 non-null     object \n",
      " 10  ap_from_ap_1_mean_ant_rssi  40 non-null     object \n",
      " 11  sta_to_ap_0_sum_ant_rssi    80 non-null     object \n",
      " 12  sta_to_ap_1_sum_ant_rssi    80 non-null     object \n",
      " 13  sta_from_ap_0_sum_ant_rssi  80 non-null     object \n",
      " 14  sta_from_ap_1_sum_ant_rssi  80 non-null     object \n",
      " 15  sta_from_sta_0_rssi         0 non-null      float64\n",
      " 16  sta_from_sta_1_rssi         0 non-null      float64\n",
      " 17  nss                         80 non-null     int64  \n",
      " 18  mcs                         80 non-null     int64  \n",
      " 19  per                         80 non-null     float64\n",
      " 20  num_ampdu                   0 non-null      float64\n",
      " 21  ppdu_dur                    0 non-null      float64\n",
      " 22  seq_time                    80 non-null     float64\n",
      "dtypes: float64(6), int64(6), object(11)\n",
      "memory usage: 14.5+ KB\n"
     ]
    }
   ],
   "source": [
    "resource.info()"
   ]
  },
  {
   "cell_type": "code",
   "execution_count": 6,
   "id": "e6d05847",
   "metadata": {
    "ExecuteTime": {
     "end_time": "2024-09-24T21:22:15.165626Z",
     "start_time": "2024-09-24T21:22:15.131111Z"
    }
   },
   "outputs": [],
   "source": [
    "for i in range(resource.shape[0]):\n",
    "    if resource.iloc[i,list(resource.columns).index('bss_id')]==0:\n",
    "        resource.iloc[i,list(resource.columns).index('ap_from_ap_0_sum_ant_rssi')]=resource.iloc[i,list(resource.columns).index('ap_from_ap_1_sum_ant_rssi')]\n",
    "        resource.iloc[i,list(resource.columns).index('ap_from_ap_0_max_ant_rssi')]=resource.iloc[i,list(resource.columns).index('ap_from_ap_1_max_ant_rssi')]\n",
    "        resource.iloc[i,list(resource.columns).index('ap_from_ap_0_mean_ant_rssi')]=resource.iloc[i,list(resource.columns).index('ap_from_ap_1_mean_ant_rssi')]\n",
    "        resource.iloc[i,list(resource.columns).index('sta_from_sta_0_rssi')]=resource.iloc[i,list(resource.columns).index('sta_from_sta_1_rssi')]"
   ]
  },
  {
   "cell_type": "code",
   "execution_count": 7,
   "id": "2d961879",
   "metadata": {
    "ExecuteTime": {
     "end_time": "2024-09-24T21:22:16.726426Z",
     "start_time": "2024-09-24T21:22:16.722113Z"
    }
   },
   "outputs": [],
   "source": [
    "resource=resource.drop(['ap_from_ap_1_sum_ant_rssi','ap_from_ap_1_max_ant_rssi',\n",
    "                       'ap_from_ap_1_mean_ant_rssi','sta_from_sta_1_rssi'],axis=1)"
   ]
  },
  {
   "cell_type": "code",
   "execution_count": 8,
   "id": "5a9df91e",
   "metadata": {
    "ExecuteTime": {
     "end_time": "2024-09-24T21:22:17.558304Z",
     "start_time": "2024-09-24T21:22:17.554427Z"
    }
   },
   "outputs": [],
   "source": [
    "resource.index=range(resource.shape[0])\n",
    "# resource.to_excel('programe3_2ap.xlsx')"
   ]
  },
  {
   "cell_type": "markdown",
   "id": "f864393a",
   "metadata": {},
   "source": [
    "# 读入人工筛选的数据集"
   ]
  },
  {
   "cell_type": "code",
   "execution_count": null,
   "id": "f8314ff7",
   "metadata": {
    "ExecuteTime": {
     "end_time": "2024-09-24T20:51:29.075809Z",
     "start_time": "2024-09-24T20:51:28.938548Z"
    }
   },
   "outputs": [],
   "source": []
  },
  {
   "cell_type": "code",
   "execution_count": 9,
   "id": "b80b242a",
   "metadata": {
    "ExecuteTime": {
     "end_time": "2024-09-24T21:22:44.449169Z",
     "start_time": "2024-09-24T21:22:44.442347Z"
    }
   },
   "outputs": [],
   "source": [
    "# 定义管理rssi中异常值数据，并创造出新特征值\n",
    "def cal_pd(apmax,pd):\n",
    "    apmax = eval(apmax)\n",
    "    comparison_result = [1 if x >= pd else 0 for x in apmax]\n",
    "    proportion_of_ones = sum(comparison_result) / len(apmax)\n",
    "    return proportion_of_ones\n",
    "\n",
    "def cal_ed(apmax,ed):\n",
    "    apmax = eval(apmax)\n",
    "    comparison_result = [1 if x >= ed else 0 for x in apmax]\n",
    "    proportion_of_ones = sum(comparison_result) / len(apmax)\n",
    "    return proportion_of_ones\n",
    "\n",
    "def cal_nav(apmean,nav):\n",
    "    apmean = eval(apmean)\n",
    "    comparison_result = [1 if x >= nav else 0 for x in apmean]\n",
    "    proportion_of_ones = sum(comparison_result) / len(apmean)\n",
    "    return proportion_of_ones    \n",
    "\n",
    "\n",
    "def cal_amsdu(seq_time, ppdu_dur, ampdu, per, throughput):\n",
    "    # 计量单位：微秒 us\n",
    "    # 一次发包成功总耗时为RTS+SIFS+CTS+SIFS+ppdu_dur\n",
    "    # ppdu为一个数据帧的时长，即从RTS-CTS后发出数据帧到收到该帧的ACK\n",
    "    success_dur = ppdu_dur\n",
    "    # 一次发包失败总耗时为RTS+ACK_timeout = 85us\n",
    "    fail_dur = 85.0\n",
    "\n",
    "    # 假设成功发出x个ppdu包， 则有 per/(1-per) * x 个失败包\n",
    "    # 总共耗时seq_time = per/(1-per) * x *fail_dur + x * success_dur\n",
    "    x = seq_time / (success_dur + (per / (1-per) * fail_dur))\n",
    "    \"\"\"\n",
    "    在802.11 WLAN中，最常见的PHY头部大小通常是160位（20字节），适用于802.11a、802.11g、802.11n、802.11ac和802.11ax等标准。这是因为这些标准大多数都基于OFDM（正交频分复用）调制，采用相同的PHY头部结构。\n",
    "    对于802.11b（DSSS和CCK），虽然它的PHY头部是192位（24字节），但在现代无线网络中，802.11a/g/n/ac/ax的使用更为广泛，因此160位的PHY头部是最常见的。\n",
    "    \"\"\"\n",
    "    pkg_len = 1500\n",
    "    # 有效吞吐量（Mbps）为 x*effective_ppdu_len*8 / (60 * 1e6)\n",
    "    # throughput = (x * effective_ppdu_len * 8.0) / (60 * 1e6)\n",
    "    ppdu_len = throughput * 60 * 1e6 / (x*8)\n",
    "    amsdu = ((ppdu_len-20) / ampdu - 40) / 1524\n",
    "    return amsdu"
   ]
  },
  {
   "cell_type": "code",
   "execution_count": 10,
   "id": "91b5535a",
   "metadata": {
    "ExecuteTime": {
     "end_time": "2024-09-24T21:22:48.691050Z",
     "start_time": "2024-09-24T21:22:46.133683Z"
    }
   },
   "outputs": [
    {
     "ename": "KeyError",
     "evalue": "'throughput'",
     "output_type": "error",
     "traceback": [
      "\u001b[1;31m---------------------------------------------------------------------------\u001b[0m",
      "\u001b[1;31mKeyError\u001b[0m                                  Traceback (most recent call last)",
      "File \u001b[1;32m~\\AppData\\Roaming\\Python\\Python311\\site-packages\\pandas\\core\\indexes\\base.py:3790\u001b[0m, in \u001b[0;36mIndex.get_loc\u001b[1;34m(self, key)\u001b[0m\n\u001b[0;32m   3789\u001b[0m \u001b[38;5;28;01mtry\u001b[39;00m:\n\u001b[1;32m-> 3790\u001b[0m     \u001b[38;5;28;01mreturn\u001b[39;00m \u001b[38;5;28mself\u001b[39m\u001b[38;5;241m.\u001b[39m_engine\u001b[38;5;241m.\u001b[39mget_loc(casted_key)\n\u001b[0;32m   3791\u001b[0m \u001b[38;5;28;01mexcept\u001b[39;00m \u001b[38;5;167;01mKeyError\u001b[39;00m \u001b[38;5;28;01mas\u001b[39;00m err:\n",
      "File \u001b[1;32mindex.pyx:152\u001b[0m, in \u001b[0;36mpandas._libs.index.IndexEngine.get_loc\u001b[1;34m()\u001b[0m\n",
      "File \u001b[1;32mindex.pyx:181\u001b[0m, in \u001b[0;36mpandas._libs.index.IndexEngine.get_loc\u001b[1;34m()\u001b[0m\n",
      "File \u001b[1;32mpandas\\_libs\\hashtable_class_helper.pxi:7080\u001b[0m, in \u001b[0;36mpandas._libs.hashtable.PyObjectHashTable.get_item\u001b[1;34m()\u001b[0m\n",
      "File \u001b[1;32mpandas\\_libs\\hashtable_class_helper.pxi:7088\u001b[0m, in \u001b[0;36mpandas._libs.hashtable.PyObjectHashTable.get_item\u001b[1;34m()\u001b[0m\n",
      "\u001b[1;31mKeyError\u001b[0m: 'throughput'",
      "\nThe above exception was the direct cause of the following exception:\n",
      "\u001b[1;31mKeyError\u001b[0m                                  Traceback (most recent call last)",
      "Cell \u001b[1;32mIn[10], line 5\u001b[0m\n\u001b[0;32m      2\u001b[0m resource[\u001b[38;5;124m'\u001b[39m\u001b[38;5;124mpro_ed\u001b[39m\u001b[38;5;124m'\u001b[39m] \u001b[38;5;241m=\u001b[39m resource\u001b[38;5;241m.\u001b[39mapply(\u001b[38;5;28;01mlambda\u001b[39;00m row: cal_ed(row[\u001b[38;5;124m'\u001b[39m\u001b[38;5;124map_from_ap_0_max_ant_rssi\u001b[39m\u001b[38;5;124m'\u001b[39m], row[\u001b[38;5;124m'\u001b[39m\u001b[38;5;124med\u001b[39m\u001b[38;5;124m'\u001b[39m]), axis\u001b[38;5;241m=\u001b[39m\u001b[38;5;241m1\u001b[39m)\n\u001b[0;32m      3\u001b[0m resource[\u001b[38;5;124m'\u001b[39m\u001b[38;5;124mpro_nav\u001b[39m\u001b[38;5;124m'\u001b[39m] \u001b[38;5;241m=\u001b[39m resource\u001b[38;5;241m.\u001b[39mapply(\u001b[38;5;28;01mlambda\u001b[39;00m row: cal_nav(row[\u001b[38;5;124m'\u001b[39m\u001b[38;5;124map_from_ap_0_mean_ant_rssi\u001b[39m\u001b[38;5;124m'\u001b[39m], row[\u001b[38;5;124m'\u001b[39m\u001b[38;5;124mnav\u001b[39m\u001b[38;5;124m'\u001b[39m]), axis\u001b[38;5;241m=\u001b[39m\u001b[38;5;241m1\u001b[39m)\n\u001b[1;32m----> 5\u001b[0m resource[\u001b[38;5;124m'\u001b[39m\u001b[38;5;124mnum_amsdu\u001b[39m\u001b[38;5;124m'\u001b[39m] \u001b[38;5;241m=\u001b[39m resource\u001b[38;5;241m.\u001b[39mapply(\u001b[38;5;28;01mlambda\u001b[39;00m row: cal_amsdu(row[\u001b[38;5;124m'\u001b[39m\u001b[38;5;124mseq_time\u001b[39m\u001b[38;5;124m'\u001b[39m]\u001b[38;5;241m*\u001b[39m\u001b[38;5;241m1000000\u001b[39m, \n\u001b[0;32m      6\u001b[0m                                                      row[\u001b[38;5;124m'\u001b[39m\u001b[38;5;124mppdu_dur\u001b[39m\u001b[38;5;124m'\u001b[39m]\u001b[38;5;241m*\u001b[39m\u001b[38;5;241m1000000\u001b[39m,\n\u001b[0;32m      7\u001b[0m                                                      row[\u001b[38;5;124m'\u001b[39m\u001b[38;5;124mnum_ampdu\u001b[39m\u001b[38;5;124m'\u001b[39m],\n\u001b[0;32m      8\u001b[0m                                                      row[\u001b[38;5;124m'\u001b[39m\u001b[38;5;124mper\u001b[39m\u001b[38;5;124m'\u001b[39m], row[\u001b[38;5;124m'\u001b[39m\u001b[38;5;124mthroughput\u001b[39m\u001b[38;5;124m'\u001b[39m]), axis\u001b[38;5;241m=\u001b[39m\u001b[38;5;241m1\u001b[39m)\n",
      "File \u001b[1;32m~\\AppData\\Roaming\\Python\\Python311\\site-packages\\pandas\\core\\frame.py:10037\u001b[0m, in \u001b[0;36mDataFrame.apply\u001b[1;34m(self, func, axis, raw, result_type, args, by_row, **kwargs)\u001b[0m\n\u001b[0;32m  10025\u001b[0m \u001b[38;5;28;01mfrom\u001b[39;00m \u001b[38;5;21;01mpandas\u001b[39;00m\u001b[38;5;21;01m.\u001b[39;00m\u001b[38;5;21;01mcore\u001b[39;00m\u001b[38;5;21;01m.\u001b[39;00m\u001b[38;5;21;01mapply\u001b[39;00m \u001b[38;5;28;01mimport\u001b[39;00m frame_apply\n\u001b[0;32m  10027\u001b[0m op \u001b[38;5;241m=\u001b[39m frame_apply(\n\u001b[0;32m  10028\u001b[0m     \u001b[38;5;28mself\u001b[39m,\n\u001b[0;32m  10029\u001b[0m     func\u001b[38;5;241m=\u001b[39mfunc,\n\u001b[1;32m   (...)\u001b[0m\n\u001b[0;32m  10035\u001b[0m     kwargs\u001b[38;5;241m=\u001b[39mkwargs,\n\u001b[0;32m  10036\u001b[0m )\n\u001b[1;32m> 10037\u001b[0m \u001b[38;5;28;01mreturn\u001b[39;00m op\u001b[38;5;241m.\u001b[39mapply()\u001b[38;5;241m.\u001b[39m__finalize__(\u001b[38;5;28mself\u001b[39m, method\u001b[38;5;241m=\u001b[39m\u001b[38;5;124m\"\u001b[39m\u001b[38;5;124mapply\u001b[39m\u001b[38;5;124m\"\u001b[39m)\n",
      "File \u001b[1;32m~\\AppData\\Roaming\\Python\\Python311\\site-packages\\pandas\\core\\apply.py:837\u001b[0m, in \u001b[0;36mFrameApply.apply\u001b[1;34m(self)\u001b[0m\n\u001b[0;32m    834\u001b[0m \u001b[38;5;28;01melif\u001b[39;00m \u001b[38;5;28mself\u001b[39m\u001b[38;5;241m.\u001b[39mraw:\n\u001b[0;32m    835\u001b[0m     \u001b[38;5;28;01mreturn\u001b[39;00m \u001b[38;5;28mself\u001b[39m\u001b[38;5;241m.\u001b[39mapply_raw()\n\u001b[1;32m--> 837\u001b[0m \u001b[38;5;28;01mreturn\u001b[39;00m \u001b[38;5;28mself\u001b[39m\u001b[38;5;241m.\u001b[39mapply_standard()\n",
      "File \u001b[1;32m~\\AppData\\Roaming\\Python\\Python311\\site-packages\\pandas\\core\\apply.py:963\u001b[0m, in \u001b[0;36mFrameApply.apply_standard\u001b[1;34m(self)\u001b[0m\n\u001b[0;32m    962\u001b[0m \u001b[38;5;28;01mdef\u001b[39;00m \u001b[38;5;21mapply_standard\u001b[39m(\u001b[38;5;28mself\u001b[39m):\n\u001b[1;32m--> 963\u001b[0m     results, res_index \u001b[38;5;241m=\u001b[39m \u001b[38;5;28mself\u001b[39m\u001b[38;5;241m.\u001b[39mapply_series_generator()\n\u001b[0;32m    965\u001b[0m     \u001b[38;5;66;03m# wrap results\u001b[39;00m\n\u001b[0;32m    966\u001b[0m     \u001b[38;5;28;01mreturn\u001b[39;00m \u001b[38;5;28mself\u001b[39m\u001b[38;5;241m.\u001b[39mwrap_results(results, res_index)\n",
      "File \u001b[1;32m~\\AppData\\Roaming\\Python\\Python311\\site-packages\\pandas\\core\\apply.py:979\u001b[0m, in \u001b[0;36mFrameApply.apply_series_generator\u001b[1;34m(self)\u001b[0m\n\u001b[0;32m    976\u001b[0m \u001b[38;5;28;01mwith\u001b[39;00m option_context(\u001b[38;5;124m\"\u001b[39m\u001b[38;5;124mmode.chained_assignment\u001b[39m\u001b[38;5;124m\"\u001b[39m, \u001b[38;5;28;01mNone\u001b[39;00m):\n\u001b[0;32m    977\u001b[0m     \u001b[38;5;28;01mfor\u001b[39;00m i, v \u001b[38;5;129;01min\u001b[39;00m \u001b[38;5;28menumerate\u001b[39m(series_gen):\n\u001b[0;32m    978\u001b[0m         \u001b[38;5;66;03m# ignore SettingWithCopy here in case the user mutates\u001b[39;00m\n\u001b[1;32m--> 979\u001b[0m         results[i] \u001b[38;5;241m=\u001b[39m \u001b[38;5;28mself\u001b[39m\u001b[38;5;241m.\u001b[39mfunc(v, \u001b[38;5;241m*\u001b[39m\u001b[38;5;28mself\u001b[39m\u001b[38;5;241m.\u001b[39margs, \u001b[38;5;241m*\u001b[39m\u001b[38;5;241m*\u001b[39m\u001b[38;5;28mself\u001b[39m\u001b[38;5;241m.\u001b[39mkwargs)\n\u001b[0;32m    980\u001b[0m         \u001b[38;5;28;01mif\u001b[39;00m \u001b[38;5;28misinstance\u001b[39m(results[i], ABCSeries):\n\u001b[0;32m    981\u001b[0m             \u001b[38;5;66;03m# If we have a view on v, we need to make a copy because\u001b[39;00m\n\u001b[0;32m    982\u001b[0m             \u001b[38;5;66;03m#  series_generator will swap out the underlying data\u001b[39;00m\n\u001b[0;32m    983\u001b[0m             results[i] \u001b[38;5;241m=\u001b[39m results[i]\u001b[38;5;241m.\u001b[39mcopy(deep\u001b[38;5;241m=\u001b[39m\u001b[38;5;28;01mFalse\u001b[39;00m)\n",
      "Cell \u001b[1;32mIn[10], line 8\u001b[0m, in \u001b[0;36m<lambda>\u001b[1;34m(row)\u001b[0m\n\u001b[0;32m      2\u001b[0m resource[\u001b[38;5;124m'\u001b[39m\u001b[38;5;124mpro_ed\u001b[39m\u001b[38;5;124m'\u001b[39m] \u001b[38;5;241m=\u001b[39m resource\u001b[38;5;241m.\u001b[39mapply(\u001b[38;5;28;01mlambda\u001b[39;00m row: cal_ed(row[\u001b[38;5;124m'\u001b[39m\u001b[38;5;124map_from_ap_0_max_ant_rssi\u001b[39m\u001b[38;5;124m'\u001b[39m], row[\u001b[38;5;124m'\u001b[39m\u001b[38;5;124med\u001b[39m\u001b[38;5;124m'\u001b[39m]), axis\u001b[38;5;241m=\u001b[39m\u001b[38;5;241m1\u001b[39m)\n\u001b[0;32m      3\u001b[0m resource[\u001b[38;5;124m'\u001b[39m\u001b[38;5;124mpro_nav\u001b[39m\u001b[38;5;124m'\u001b[39m] \u001b[38;5;241m=\u001b[39m resource\u001b[38;5;241m.\u001b[39mapply(\u001b[38;5;28;01mlambda\u001b[39;00m row: cal_nav(row[\u001b[38;5;124m'\u001b[39m\u001b[38;5;124map_from_ap_0_mean_ant_rssi\u001b[39m\u001b[38;5;124m'\u001b[39m], row[\u001b[38;5;124m'\u001b[39m\u001b[38;5;124mnav\u001b[39m\u001b[38;5;124m'\u001b[39m]), axis\u001b[38;5;241m=\u001b[39m\u001b[38;5;241m1\u001b[39m)\n\u001b[0;32m      5\u001b[0m resource[\u001b[38;5;124m'\u001b[39m\u001b[38;5;124mnum_amsdu\u001b[39m\u001b[38;5;124m'\u001b[39m] \u001b[38;5;241m=\u001b[39m resource\u001b[38;5;241m.\u001b[39mapply(\u001b[38;5;28;01mlambda\u001b[39;00m row: cal_amsdu(row[\u001b[38;5;124m'\u001b[39m\u001b[38;5;124mseq_time\u001b[39m\u001b[38;5;124m'\u001b[39m]\u001b[38;5;241m*\u001b[39m\u001b[38;5;241m1000000\u001b[39m, \n\u001b[0;32m      6\u001b[0m                                                      row[\u001b[38;5;124m'\u001b[39m\u001b[38;5;124mppdu_dur\u001b[39m\u001b[38;5;124m'\u001b[39m]\u001b[38;5;241m*\u001b[39m\u001b[38;5;241m1000000\u001b[39m,\n\u001b[0;32m      7\u001b[0m                                                      row[\u001b[38;5;124m'\u001b[39m\u001b[38;5;124mnum_ampdu\u001b[39m\u001b[38;5;124m'\u001b[39m],\n\u001b[1;32m----> 8\u001b[0m                                                      row[\u001b[38;5;124m'\u001b[39m\u001b[38;5;124mper\u001b[39m\u001b[38;5;124m'\u001b[39m], row[\u001b[38;5;124m'\u001b[39m\u001b[38;5;124mthroughput\u001b[39m\u001b[38;5;124m'\u001b[39m]), axis\u001b[38;5;241m=\u001b[39m\u001b[38;5;241m1\u001b[39m)\n",
      "File \u001b[1;32m~\\AppData\\Roaming\\Python\\Python311\\site-packages\\pandas\\core\\series.py:1040\u001b[0m, in \u001b[0;36mSeries.__getitem__\u001b[1;34m(self, key)\u001b[0m\n\u001b[0;32m   1037\u001b[0m     \u001b[38;5;28;01mreturn\u001b[39;00m \u001b[38;5;28mself\u001b[39m\u001b[38;5;241m.\u001b[39m_values[key]\n\u001b[0;32m   1039\u001b[0m \u001b[38;5;28;01melif\u001b[39;00m key_is_scalar:\n\u001b[1;32m-> 1040\u001b[0m     \u001b[38;5;28;01mreturn\u001b[39;00m \u001b[38;5;28mself\u001b[39m\u001b[38;5;241m.\u001b[39m_get_value(key)\n\u001b[0;32m   1042\u001b[0m \u001b[38;5;66;03m# Convert generator to list before going through hashable part\u001b[39;00m\n\u001b[0;32m   1043\u001b[0m \u001b[38;5;66;03m# (We will iterate through the generator there to check for slices)\u001b[39;00m\n\u001b[0;32m   1044\u001b[0m \u001b[38;5;28;01mif\u001b[39;00m is_iterator(key):\n",
      "File \u001b[1;32m~\\AppData\\Roaming\\Python\\Python311\\site-packages\\pandas\\core\\series.py:1156\u001b[0m, in \u001b[0;36mSeries._get_value\u001b[1;34m(self, label, takeable)\u001b[0m\n\u001b[0;32m   1153\u001b[0m     \u001b[38;5;28;01mreturn\u001b[39;00m \u001b[38;5;28mself\u001b[39m\u001b[38;5;241m.\u001b[39m_values[label]\n\u001b[0;32m   1155\u001b[0m \u001b[38;5;66;03m# Similar to Index.get_value, but we do not fall back to positional\u001b[39;00m\n\u001b[1;32m-> 1156\u001b[0m loc \u001b[38;5;241m=\u001b[39m \u001b[38;5;28mself\u001b[39m\u001b[38;5;241m.\u001b[39mindex\u001b[38;5;241m.\u001b[39mget_loc(label)\n\u001b[0;32m   1158\u001b[0m \u001b[38;5;28;01mif\u001b[39;00m is_integer(loc):\n\u001b[0;32m   1159\u001b[0m     \u001b[38;5;28;01mreturn\u001b[39;00m \u001b[38;5;28mself\u001b[39m\u001b[38;5;241m.\u001b[39m_values[loc]\n",
      "File \u001b[1;32m~\\AppData\\Roaming\\Python\\Python311\\site-packages\\pandas\\core\\indexes\\base.py:3797\u001b[0m, in \u001b[0;36mIndex.get_loc\u001b[1;34m(self, key)\u001b[0m\n\u001b[0;32m   3792\u001b[0m     \u001b[38;5;28;01mif\u001b[39;00m \u001b[38;5;28misinstance\u001b[39m(casted_key, \u001b[38;5;28mslice\u001b[39m) \u001b[38;5;129;01mor\u001b[39;00m (\n\u001b[0;32m   3793\u001b[0m         \u001b[38;5;28misinstance\u001b[39m(casted_key, abc\u001b[38;5;241m.\u001b[39mIterable)\n\u001b[0;32m   3794\u001b[0m         \u001b[38;5;129;01mand\u001b[39;00m \u001b[38;5;28many\u001b[39m(\u001b[38;5;28misinstance\u001b[39m(x, \u001b[38;5;28mslice\u001b[39m) \u001b[38;5;28;01mfor\u001b[39;00m x \u001b[38;5;129;01min\u001b[39;00m casted_key)\n\u001b[0;32m   3795\u001b[0m     ):\n\u001b[0;32m   3796\u001b[0m         \u001b[38;5;28;01mraise\u001b[39;00m InvalidIndexError(key)\n\u001b[1;32m-> 3797\u001b[0m     \u001b[38;5;28;01mraise\u001b[39;00m \u001b[38;5;167;01mKeyError\u001b[39;00m(key) \u001b[38;5;28;01mfrom\u001b[39;00m \u001b[38;5;21;01merr\u001b[39;00m\n\u001b[0;32m   3798\u001b[0m \u001b[38;5;28;01mexcept\u001b[39;00m \u001b[38;5;167;01mTypeError\u001b[39;00m:\n\u001b[0;32m   3799\u001b[0m     \u001b[38;5;66;03m# If we have a listlike key, _check_indexing_error will raise\u001b[39;00m\n\u001b[0;32m   3800\u001b[0m     \u001b[38;5;66;03m#  InvalidIndexError. Otherwise we fall through and re-raise\u001b[39;00m\n\u001b[0;32m   3801\u001b[0m     \u001b[38;5;66;03m#  the TypeError.\u001b[39;00m\n\u001b[0;32m   3802\u001b[0m     \u001b[38;5;28mself\u001b[39m\u001b[38;5;241m.\u001b[39m_check_indexing_error(key)\n",
      "\u001b[1;31mKeyError\u001b[0m: 'throughput'"
     ]
    }
   ],
   "source": [
    "resource['pro_pd'] = resource.apply(lambda row: cal_pd(row['ap_from_ap_0_max_ant_rssi'], row['pd']), axis=1)\n",
    "resource['pro_ed'] = resource.apply(lambda row: cal_ed(row['ap_from_ap_0_max_ant_rssi'], row['ed']), axis=1)\n",
    "resource['pro_nav'] = resource.apply(lambda row: cal_nav(row['ap_from_ap_0_mean_ant_rssi'], row['nav']), axis=1)"
   ]
  },
  {
   "cell_type": "code",
   "execution_count": 12,
   "id": "7ca74f0b",
   "metadata": {
    "ExecuteTime": {
     "end_time": "2024-09-24T21:23:22.515526Z",
     "start_time": "2024-09-24T21:23:22.487702Z"
    }
   },
   "outputs": [
    {
     "data": {
      "text/html": [
       "<div>\n",
       "<style scoped>\n",
       "    .dataframe tbody tr th:only-of-type {\n",
       "        vertical-align: middle;\n",
       "    }\n",
       "\n",
       "    .dataframe tbody tr th {\n",
       "        vertical-align: top;\n",
       "    }\n",
       "\n",
       "    .dataframe thead th {\n",
       "        text-align: right;\n",
       "    }\n",
       "</style>\n",
       "<table border=\"1\" class=\"dataframe\">\n",
       "  <thead>\n",
       "    <tr style=\"text-align: right;\">\n",
       "      <th></th>\n",
       "      <th>protocol</th>\n",
       "      <th>bss_id</th>\n",
       "      <th>pd</th>\n",
       "      <th>ed</th>\n",
       "      <th>nav</th>\n",
       "      <th>ap_from_ap_0_sum_ant_rssi</th>\n",
       "      <th>ap_from_ap_0_max_ant_rssi</th>\n",
       "      <th>ap_from_ap_0_mean_ant_rssi</th>\n",
       "      <th>sta_to_ap_0_sum_ant_rssi</th>\n",
       "      <th>sta_to_ap_1_sum_ant_rssi</th>\n",
       "      <th>...</th>\n",
       "      <th>sta_from_sta_0_rssi</th>\n",
       "      <th>nss</th>\n",
       "      <th>mcs</th>\n",
       "      <th>per</th>\n",
       "      <th>num_ampdu</th>\n",
       "      <th>ppdu_dur</th>\n",
       "      <th>seq_time</th>\n",
       "      <th>pro_pd</th>\n",
       "      <th>pro_ed</th>\n",
       "      <th>pro_nav</th>\n",
       "    </tr>\n",
       "  </thead>\n",
       "  <tbody>\n",
       "    <tr>\n",
       "      <th>0</th>\n",
       "      <td>tcp</td>\n",
       "      <td>1</td>\n",
       "      <td>-82</td>\n",
       "      <td>-62</td>\n",
       "      <td>-82</td>\n",
       "      <td>[-82, -83, -83, -83, -83, -82, -83, -84, -87, ...</td>\n",
       "      <td>[-89, -91, -91, -90, -91, -89, -89, -91, -92, ...</td>\n",
       "      <td>[-91, -92, -92, -92, -92, -91, -92, -93, -96, ...</td>\n",
       "      <td>[-87, -87, -87, -87, -87, -67, -87, -82]</td>\n",
       "      <td>[-68, -66, -67, -66, -67, -67, -68, -67, -67, ...</td>\n",
       "      <td>...</td>\n",
       "      <td>NaN</td>\n",
       "      <td>2</td>\n",
       "      <td>6</td>\n",
       "      <td>0.05</td>\n",
       "      <td>NaN</td>\n",
       "      <td>NaN</td>\n",
       "      <td>47.2651</td>\n",
       "      <td>0.000000</td>\n",
       "      <td>0.0</td>\n",
       "      <td>0.000000</td>\n",
       "    </tr>\n",
       "    <tr>\n",
       "      <th>1</th>\n",
       "      <td>tcp</td>\n",
       "      <td>0</td>\n",
       "      <td>-82</td>\n",
       "      <td>-62</td>\n",
       "      <td>-82</td>\n",
       "      <td>[-83, -84, -84, -85, -85, -84, -83, -85, -84, ...</td>\n",
       "      <td>[-90, -91, -90, -90, -92, -90, -91, -93, -92, ...</td>\n",
       "      <td>[-92, -93, -93, -94, -94, -93, -92, -94, -93, ...</td>\n",
       "      <td>[-83, -66, -65, -65, -66, -67, -66, -67, -67, ...</td>\n",
       "      <td>[-84, -85, -85, -85, -85, -85, -86, -85, -85, ...</td>\n",
       "      <td>...</td>\n",
       "      <td>NaN</td>\n",
       "      <td>2</td>\n",
       "      <td>7</td>\n",
       "      <td>0.04</td>\n",
       "      <td>NaN</td>\n",
       "      <td>NaN</td>\n",
       "      <td>48.3345</td>\n",
       "      <td>0.000000</td>\n",
       "      <td>0.0</td>\n",
       "      <td>0.000000</td>\n",
       "    </tr>\n",
       "    <tr>\n",
       "      <th>2</th>\n",
       "      <td>udp</td>\n",
       "      <td>1</td>\n",
       "      <td>-82</td>\n",
       "      <td>-62</td>\n",
       "      <td>-82</td>\n",
       "      <td>[-82, -83, -83, -83, -83, -82, -83, -84, -87, ...</td>\n",
       "      <td>[-89, -91, -91, -90, -91, -89, -89, -91, -92, ...</td>\n",
       "      <td>[-91, -92, -92, -92, -92, -91, -92, -93, -96, ...</td>\n",
       "      <td>[-87, -87, -87, -87, -87, -67, -87, -82]</td>\n",
       "      <td>[-68, -66, -67, -66, -67, -67, -68, -67, -67, ...</td>\n",
       "      <td>...</td>\n",
       "      <td>NaN</td>\n",
       "      <td>2</td>\n",
       "      <td>7</td>\n",
       "      <td>0.03</td>\n",
       "      <td>NaN</td>\n",
       "      <td>NaN</td>\n",
       "      <td>49.8563</td>\n",
       "      <td>0.000000</td>\n",
       "      <td>0.0</td>\n",
       "      <td>0.000000</td>\n",
       "    </tr>\n",
       "    <tr>\n",
       "      <th>3</th>\n",
       "      <td>udp</td>\n",
       "      <td>0</td>\n",
       "      <td>-82</td>\n",
       "      <td>-62</td>\n",
       "      <td>-82</td>\n",
       "      <td>[-83, -84, -84, -85, -85, -84, -83, -85, -84, ...</td>\n",
       "      <td>[-90, -91, -90, -90, -92, -90, -91, -93, -92, ...</td>\n",
       "      <td>[-92, -93, -93, -94, -94, -93, -92, -94, -93, ...</td>\n",
       "      <td>[-83, -66, -65, -65, -66, -67, -66, -67, -67, ...</td>\n",
       "      <td>[-84, -85, -85, -85, -85, -85, -86, -85, -85, ...</td>\n",
       "      <td>...</td>\n",
       "      <td>NaN</td>\n",
       "      <td>2</td>\n",
       "      <td>7</td>\n",
       "      <td>0.01</td>\n",
       "      <td>NaN</td>\n",
       "      <td>NaN</td>\n",
       "      <td>50.1373</td>\n",
       "      <td>0.000000</td>\n",
       "      <td>0.0</td>\n",
       "      <td>0.000000</td>\n",
       "    </tr>\n",
       "    <tr>\n",
       "      <th>4</th>\n",
       "      <td>tcp</td>\n",
       "      <td>1</td>\n",
       "      <td>-82</td>\n",
       "      <td>-62</td>\n",
       "      <td>-82</td>\n",
       "      <td>[-82, -82, -85, -82, -81, -82, -81, -82, -82, ...</td>\n",
       "      <td>[-87, -88, -90, -89, -88, -90, -89, -89, -88, ...</td>\n",
       "      <td>[-91, -91, -94, -91, -90, -91, -90, -91, -91, ...</td>\n",
       "      <td>[-87, -87, -85, -87]</td>\n",
       "      <td>[-65, -66, -67, -66, -65, -66, -67, -60, -67, ...</td>\n",
       "      <td>...</td>\n",
       "      <td>NaN</td>\n",
       "      <td>2</td>\n",
       "      <td>7</td>\n",
       "      <td>0.04</td>\n",
       "      <td>NaN</td>\n",
       "      <td>NaN</td>\n",
       "      <td>47.2461</td>\n",
       "      <td>0.000000</td>\n",
       "      <td>0.0</td>\n",
       "      <td>0.000000</td>\n",
       "    </tr>\n",
       "    <tr>\n",
       "      <th>...</th>\n",
       "      <td>...</td>\n",
       "      <td>...</td>\n",
       "      <td>...</td>\n",
       "      <td>...</td>\n",
       "      <td>...</td>\n",
       "      <td>...</td>\n",
       "      <td>...</td>\n",
       "      <td>...</td>\n",
       "      <td>...</td>\n",
       "      <td>...</td>\n",
       "      <td>...</td>\n",
       "      <td>...</td>\n",
       "      <td>...</td>\n",
       "      <td>...</td>\n",
       "      <td>...</td>\n",
       "      <td>...</td>\n",
       "      <td>...</td>\n",
       "      <td>...</td>\n",
       "      <td>...</td>\n",
       "      <td>...</td>\n",
       "      <td>...</td>\n",
       "    </tr>\n",
       "    <tr>\n",
       "      <th>75</th>\n",
       "      <td>tcp</td>\n",
       "      <td>0</td>\n",
       "      <td>-82</td>\n",
       "      <td>-62</td>\n",
       "      <td>-82</td>\n",
       "      <td>[-65, -67, -67, -68, -67, -68, -67, -68, -66, ...</td>\n",
       "      <td>[-73, -73, -74, -75, -73, -75, -74, -75, -72, ...</td>\n",
       "      <td>[-74, -76, -76, -77, -76, -77, -77, -77, -75, ...</td>\n",
       "      <td>[-65, -65, -64, -65, -66, -64, -66, -64, -66, ...</td>\n",
       "      <td>[-84, -81, -82, -83, -83, -83, -83, -83, -83, ...</td>\n",
       "      <td>...</td>\n",
       "      <td>NaN</td>\n",
       "      <td>2</td>\n",
       "      <td>9</td>\n",
       "      <td>0.16</td>\n",
       "      <td>NaN</td>\n",
       "      <td>NaN</td>\n",
       "      <td>23.6852</td>\n",
       "      <td>0.936170</td>\n",
       "      <td>0.0</td>\n",
       "      <td>0.936170</td>\n",
       "    </tr>\n",
       "    <tr>\n",
       "      <th>76</th>\n",
       "      <td>tcp</td>\n",
       "      <td>1</td>\n",
       "      <td>-82</td>\n",
       "      <td>-62</td>\n",
       "      <td>-82</td>\n",
       "      <td>[-65, -63, -64, -64, -64, -65, -65, -63, -63, ...</td>\n",
       "      <td>[-70, -71, -71, -71, -69, -71, -71, -70, -69, ...</td>\n",
       "      <td>[-74, -72, -73, -73, -73, -74, -74, -72, -72, ...</td>\n",
       "      <td>[-69, -87, -66, -87, -67, -65, -66, -74, -87]</td>\n",
       "      <td>[-67, -67, -67, -67, -68, -67, -67, -64, -67, ...</td>\n",
       "      <td>...</td>\n",
       "      <td>NaN</td>\n",
       "      <td>2</td>\n",
       "      <td>11</td>\n",
       "      <td>0.02</td>\n",
       "      <td>NaN</td>\n",
       "      <td>NaN</td>\n",
       "      <td>26.9599</td>\n",
       "      <td>0.925000</td>\n",
       "      <td>0.0</td>\n",
       "      <td>0.948718</td>\n",
       "    </tr>\n",
       "    <tr>\n",
       "      <th>77</th>\n",
       "      <td>tcp</td>\n",
       "      <td>0</td>\n",
       "      <td>-82</td>\n",
       "      <td>-62</td>\n",
       "      <td>-82</td>\n",
       "      <td>[-66, -67, -67, -66, -67, -66, -67, -66, -66, ...</td>\n",
       "      <td>[-73, -75, -73, -73, -73, -72, -73, -73, -71, ...</td>\n",
       "      <td>[-75, -76, -76, -75, -76, -75, -76, -75, -75, ...</td>\n",
       "      <td>[-65, -65, -62, -65, -63, -66, -65, -65, -65, ...</td>\n",
       "      <td>[-83, -82, -81, -82, -83, -84, -84, -69, -83, ...</td>\n",
       "      <td>...</td>\n",
       "      <td>NaN</td>\n",
       "      <td>2</td>\n",
       "      <td>11</td>\n",
       "      <td>0.22</td>\n",
       "      <td>NaN</td>\n",
       "      <td>NaN</td>\n",
       "      <td>23.4140</td>\n",
       "      <td>0.791667</td>\n",
       "      <td>0.0</td>\n",
       "      <td>0.925000</td>\n",
       "    </tr>\n",
       "    <tr>\n",
       "      <th>78</th>\n",
       "      <td>udp</td>\n",
       "      <td>1</td>\n",
       "      <td>-82</td>\n",
       "      <td>-62</td>\n",
       "      <td>-82</td>\n",
       "      <td>[-65, -63, -64, -64, -64, -65, -65, -63, -63, ...</td>\n",
       "      <td>[-70, -71, -71, -71, -69, -71, -71, -70, -69, ...</td>\n",
       "      <td>[-74, -72, -73, -73, -73, -74, -74, -72, -72, ...</td>\n",
       "      <td>[-69, -87, -66, -87, -67, -65, -66, -74, -87]</td>\n",
       "      <td>[-67, -67, -67, -67, -68, -67, -67, -64, -67, ...</td>\n",
       "      <td>...</td>\n",
       "      <td>NaN</td>\n",
       "      <td>2</td>\n",
       "      <td>11</td>\n",
       "      <td>0.02</td>\n",
       "      <td>NaN</td>\n",
       "      <td>NaN</td>\n",
       "      <td>29.6329</td>\n",
       "      <td>0.925000</td>\n",
       "      <td>0.0</td>\n",
       "      <td>0.948718</td>\n",
       "    </tr>\n",
       "    <tr>\n",
       "      <th>79</th>\n",
       "      <td>udp</td>\n",
       "      <td>0</td>\n",
       "      <td>-82</td>\n",
       "      <td>-62</td>\n",
       "      <td>-82</td>\n",
       "      <td>[-66, -67, -67, -66, -67, -66, -67, -66, -66, ...</td>\n",
       "      <td>[-73, -75, -73, -73, -73, -72, -73, -73, -71, ...</td>\n",
       "      <td>[-75, -76, -76, -75, -76, -75, -76, -75, -75, ...</td>\n",
       "      <td>[-65, -65, -62, -65, -63, -66, -65, -65, -65, ...</td>\n",
       "      <td>[-83, -82, -81, -82, -83, -84, -84, -69, -83, ...</td>\n",
       "      <td>...</td>\n",
       "      <td>NaN</td>\n",
       "      <td>2</td>\n",
       "      <td>11</td>\n",
       "      <td>0.28</td>\n",
       "      <td>NaN</td>\n",
       "      <td>NaN</td>\n",
       "      <td>24.6413</td>\n",
       "      <td>0.791667</td>\n",
       "      <td>0.0</td>\n",
       "      <td>0.925000</td>\n",
       "    </tr>\n",
       "  </tbody>\n",
       "</table>\n",
       "<p>80 rows × 22 columns</p>\n",
       "</div>"
      ],
      "text/plain": [
       "   protocol  bss_id  pd  ed  nav  \\\n",
       "0       tcp       1 -82 -62  -82   \n",
       "1       tcp       0 -82 -62  -82   \n",
       "2       udp       1 -82 -62  -82   \n",
       "3       udp       0 -82 -62  -82   \n",
       "4       tcp       1 -82 -62  -82   \n",
       "..      ...     ...  ..  ..  ...   \n",
       "75      tcp       0 -82 -62  -82   \n",
       "76      tcp       1 -82 -62  -82   \n",
       "77      tcp       0 -82 -62  -82   \n",
       "78      udp       1 -82 -62  -82   \n",
       "79      udp       0 -82 -62  -82   \n",
       "\n",
       "                            ap_from_ap_0_sum_ant_rssi  \\\n",
       "0   [-82, -83, -83, -83, -83, -82, -83, -84, -87, ...   \n",
       "1   [-83, -84, -84, -85, -85, -84, -83, -85, -84, ...   \n",
       "2   [-82, -83, -83, -83, -83, -82, -83, -84, -87, ...   \n",
       "3   [-83, -84, -84, -85, -85, -84, -83, -85, -84, ...   \n",
       "4   [-82, -82, -85, -82, -81, -82, -81, -82, -82, ...   \n",
       "..                                                ...   \n",
       "75  [-65, -67, -67, -68, -67, -68, -67, -68, -66, ...   \n",
       "76  [-65, -63, -64, -64, -64, -65, -65, -63, -63, ...   \n",
       "77  [-66, -67, -67, -66, -67, -66, -67, -66, -66, ...   \n",
       "78  [-65, -63, -64, -64, -64, -65, -65, -63, -63, ...   \n",
       "79  [-66, -67, -67, -66, -67, -66, -67, -66, -66, ...   \n",
       "\n",
       "                            ap_from_ap_0_max_ant_rssi  \\\n",
       "0   [-89, -91, -91, -90, -91, -89, -89, -91, -92, ...   \n",
       "1   [-90, -91, -90, -90, -92, -90, -91, -93, -92, ...   \n",
       "2   [-89, -91, -91, -90, -91, -89, -89, -91, -92, ...   \n",
       "3   [-90, -91, -90, -90, -92, -90, -91, -93, -92, ...   \n",
       "4   [-87, -88, -90, -89, -88, -90, -89, -89, -88, ...   \n",
       "..                                                ...   \n",
       "75  [-73, -73, -74, -75, -73, -75, -74, -75, -72, ...   \n",
       "76  [-70, -71, -71, -71, -69, -71, -71, -70, -69, ...   \n",
       "77  [-73, -75, -73, -73, -73, -72, -73, -73, -71, ...   \n",
       "78  [-70, -71, -71, -71, -69, -71, -71, -70, -69, ...   \n",
       "79  [-73, -75, -73, -73, -73, -72, -73, -73, -71, ...   \n",
       "\n",
       "                           ap_from_ap_0_mean_ant_rssi  \\\n",
       "0   [-91, -92, -92, -92, -92, -91, -92, -93, -96, ...   \n",
       "1   [-92, -93, -93, -94, -94, -93, -92, -94, -93, ...   \n",
       "2   [-91, -92, -92, -92, -92, -91, -92, -93, -96, ...   \n",
       "3   [-92, -93, -93, -94, -94, -93, -92, -94, -93, ...   \n",
       "4   [-91, -91, -94, -91, -90, -91, -90, -91, -91, ...   \n",
       "..                                                ...   \n",
       "75  [-74, -76, -76, -77, -76, -77, -77, -77, -75, ...   \n",
       "76  [-74, -72, -73, -73, -73, -74, -74, -72, -72, ...   \n",
       "77  [-75, -76, -76, -75, -76, -75, -76, -75, -75, ...   \n",
       "78  [-74, -72, -73, -73, -73, -74, -74, -72, -72, ...   \n",
       "79  [-75, -76, -76, -75, -76, -75, -76, -75, -75, ...   \n",
       "\n",
       "                             sta_to_ap_0_sum_ant_rssi  \\\n",
       "0            [-87, -87, -87, -87, -87, -67, -87, -82]   \n",
       "1   [-83, -66, -65, -65, -66, -67, -66, -67, -67, ...   \n",
       "2            [-87, -87, -87, -87, -87, -67, -87, -82]   \n",
       "3   [-83, -66, -65, -65, -66, -67, -66, -67, -67, ...   \n",
       "4                                [-87, -87, -85, -87]   \n",
       "..                                                ...   \n",
       "75  [-65, -65, -64, -65, -66, -64, -66, -64, -66, ...   \n",
       "76      [-69, -87, -66, -87, -67, -65, -66, -74, -87]   \n",
       "77  [-65, -65, -62, -65, -63, -66, -65, -65, -65, ...   \n",
       "78      [-69, -87, -66, -87, -67, -65, -66, -74, -87]   \n",
       "79  [-65, -65, -62, -65, -63, -66, -65, -65, -65, ...   \n",
       "\n",
       "                             sta_to_ap_1_sum_ant_rssi  ...  \\\n",
       "0   [-68, -66, -67, -66, -67, -67, -68, -67, -67, ...  ...   \n",
       "1   [-84, -85, -85, -85, -85, -85, -86, -85, -85, ...  ...   \n",
       "2   [-68, -66, -67, -66, -67, -67, -68, -67, -67, ...  ...   \n",
       "3   [-84, -85, -85, -85, -85, -85, -86, -85, -85, ...  ...   \n",
       "4   [-65, -66, -67, -66, -65, -66, -67, -60, -67, ...  ...   \n",
       "..                                                ...  ...   \n",
       "75  [-84, -81, -82, -83, -83, -83, -83, -83, -83, ...  ...   \n",
       "76  [-67, -67, -67, -67, -68, -67, -67, -64, -67, ...  ...   \n",
       "77  [-83, -82, -81, -82, -83, -84, -84, -69, -83, ...  ...   \n",
       "78  [-67, -67, -67, -67, -68, -67, -67, -64, -67, ...  ...   \n",
       "79  [-83, -82, -81, -82, -83, -84, -84, -69, -83, ...  ...   \n",
       "\n",
       "   sta_from_sta_0_rssi nss  mcs   per  num_ampdu  ppdu_dur  seq_time  \\\n",
       "0                  NaN   2    6  0.05        NaN       NaN   47.2651   \n",
       "1                  NaN   2    7  0.04        NaN       NaN   48.3345   \n",
       "2                  NaN   2    7  0.03        NaN       NaN   49.8563   \n",
       "3                  NaN   2    7  0.01        NaN       NaN   50.1373   \n",
       "4                  NaN   2    7  0.04        NaN       NaN   47.2461   \n",
       "..                 ...  ..  ...   ...        ...       ...       ...   \n",
       "75                 NaN   2    9  0.16        NaN       NaN   23.6852   \n",
       "76                 NaN   2   11  0.02        NaN       NaN   26.9599   \n",
       "77                 NaN   2   11  0.22        NaN       NaN   23.4140   \n",
       "78                 NaN   2   11  0.02        NaN       NaN   29.6329   \n",
       "79                 NaN   2   11  0.28        NaN       NaN   24.6413   \n",
       "\n",
       "      pro_pd  pro_ed   pro_nav  \n",
       "0   0.000000     0.0  0.000000  \n",
       "1   0.000000     0.0  0.000000  \n",
       "2   0.000000     0.0  0.000000  \n",
       "3   0.000000     0.0  0.000000  \n",
       "4   0.000000     0.0  0.000000  \n",
       "..       ...     ...       ...  \n",
       "75  0.936170     0.0  0.936170  \n",
       "76  0.925000     0.0  0.948718  \n",
       "77  0.791667     0.0  0.925000  \n",
       "78  0.925000     0.0  0.948718  \n",
       "79  0.791667     0.0  0.925000  \n",
       "\n",
       "[80 rows x 22 columns]"
      ]
     },
     "execution_count": 12,
     "metadata": {},
     "output_type": "execute_result"
    }
   ],
   "source": []
  },
  {
   "cell_type": "code",
   "execution_count": 11,
   "id": "c1e41a5c",
   "metadata": {
    "ExecuteTime": {
     "end_time": "2024-09-24T21:23:07.913490Z",
     "start_time": "2024-09-24T21:23:07.904432Z"
    }
   },
   "outputs": [
    {
     "name": "stdout",
     "output_type": "stream",
     "text": [
      "<class 'pandas.core.frame.DataFrame'>\n",
      "RangeIndex: 80 entries, 0 to 79\n",
      "Data columns (total 22 columns):\n",
      " #   Column                      Non-Null Count  Dtype  \n",
      "---  ------                      --------------  -----  \n",
      " 0   protocol                    80 non-null     object \n",
      " 1   bss_id                      80 non-null     int64  \n",
      " 2   pd                          80 non-null     int64  \n",
      " 3   ed                          80 non-null     int64  \n",
      " 4   nav                         80 non-null     int64  \n",
      " 5   ap_from_ap_0_sum_ant_rssi   80 non-null     object \n",
      " 6   ap_from_ap_0_max_ant_rssi   80 non-null     object \n",
      " 7   ap_from_ap_0_mean_ant_rssi  80 non-null     object \n",
      " 8   sta_to_ap_0_sum_ant_rssi    80 non-null     object \n",
      " 9   sta_to_ap_1_sum_ant_rssi    80 non-null     object \n",
      " 10  sta_from_ap_0_sum_ant_rssi  80 non-null     object \n",
      " 11  sta_from_ap_1_sum_ant_rssi  80 non-null     object \n",
      " 12  sta_from_sta_0_rssi         0 non-null      float64\n",
      " 13  nss                         80 non-null     int64  \n",
      " 14  mcs                         80 non-null     int64  \n",
      " 15  per                         80 non-null     float64\n",
      " 16  num_ampdu                   0 non-null      float64\n",
      " 17  ppdu_dur                    0 non-null      float64\n",
      " 18  seq_time                    80 non-null     float64\n",
      " 19  pro_pd                      80 non-null     float64\n",
      " 20  pro_ed                      80 non-null     float64\n",
      " 21  pro_nav                     80 non-null     float64\n",
      "dtypes: float64(8), int64(6), object(8)\n",
      "memory usage: 13.9+ KB\n"
     ]
    }
   ],
   "source": [
    "resource.info()"
   ]
  },
  {
   "cell_type": "code",
   "execution_count": 125,
   "id": "d857b238",
   "metadata": {
    "ExecuteTime": {
     "end_time": "2024-09-24T20:51:33.006721Z",
     "start_time": "2024-09-24T20:51:32.912905Z"
    }
   },
   "outputs": [
    {
     "name": "stdout",
     "output_type": "stream",
     "text": [
      "num_amsdu std is 1.108420263672169\n",
      "num_amsdu mean is 3.4488594574078184\n",
      "pearson between num_amsdu and num_ampdu is 0.6327102984327106\n"
     ]
    },
    {
     "data": {
      "image/png": "[encoded data removed]",
      "text/plain": [
       "<Figure size 640x480 with 1 Axes>"
      ]
     },
     "metadata": {},
     "output_type": "display_data"
    }
   ],
   "source": [
    "import matplotlib.pyplot as plt\n",
    "\n",
    "\n",
    "data = resource\n",
    "std = data['num_amsdu'].std()\n",
    "mean = data['num_amsdu'].mean()\n",
    "correlation = data['num_amsdu'].corr(data['num_ampdu'])\n",
    "print(f'num_amsdu std is {std}')\n",
    "print(f'num_amsdu mean is {mean}')\n",
    "print(f'pearson between num_amsdu and num_ampdu is {correlation}')\n",
    "#['num_amsdu'] = data['num_amsdu'].round()\n",
    "import matplotlib.pyplot as plt\n",
    "\n",
    "# 绘制散点图\n",
    "plt.scatter(data['num_amsdu'], data['num_ampdu'])\n",
    "plt.title('Scatter plot of num_amsdu vs num_ampdu')\n",
    "plt.xlabel('num_amsdu')\n",
    "plt.ylabel('num_ampdu')\n",
    "plt.show()\n"
   ]
  },
  {
   "cell_type": "code",
   "execution_count": 14,
   "id": "52733b79",
   "metadata": {
    "ExecuteTime": {
     "end_time": "2024-09-24T21:23:47.893107Z",
     "start_time": "2024-09-24T21:23:47.888453Z"
    }
   },
   "outputs": [],
   "source": [
    "# 删除无用的值\n",
    "\n",
    "drop_columns=['pd','ed','ap_from_ap_0_mean_ant_rssi','ap_from_ap_0_max_ant_rssi']\n",
    "\n",
    "# drop_columns=['pd','ed','ap_from_ap_0_mean_ant_rssi','ap_from_ap_0_max_ant_rssi'\n",
    "#               ,'sta_to_ap_0_max_ant_rssi','sta_to_ap_0_mean_ant_rssi'\n",
    "#               ,'sta_to_ap_1_max_ant_rssi','sta_to_ap_1_mean_ant_rssi'\n",
    "#              ,'sta_from_ap_0_max_ant_rssi','sta_from_ap_0_mean_ant_rssi'\n",
    "#              ,'sta_from_ap_1_max_ant_rssi','sta_from_ap_1_mean_ant_rssi']\n",
    "\n",
    "resource=resource.drop(drop_columns,axis=1)"
   ]
  },
  {
   "cell_type": "code",
   "execution_count": 15,
   "id": "5bf54a7b",
   "metadata": {
    "ExecuteTime": {
     "end_time": "2024-09-24T21:23:49.939519Z",
     "start_time": "2024-09-24T21:23:49.931656Z"
    }
   },
   "outputs": [
    {
     "name": "stdout",
     "output_type": "stream",
     "text": [
      "<class 'pandas.core.frame.DataFrame'>\n",
      "RangeIndex: 80 entries, 0 to 79\n",
      "Data columns (total 18 columns):\n",
      " #   Column                      Non-Null Count  Dtype  \n",
      "---  ------                      --------------  -----  \n",
      " 0   protocol                    80 non-null     object \n",
      " 1   bss_id                      80 non-null     int64  \n",
      " 2   nav                         80 non-null     int64  \n",
      " 3   ap_from_ap_0_sum_ant_rssi   80 non-null     object \n",
      " 4   sta_to_ap_0_sum_ant_rssi    80 non-null     object \n",
      " 5   sta_to_ap_1_sum_ant_rssi    80 non-null     object \n",
      " 6   sta_from_ap_0_sum_ant_rssi  80 non-null     object \n",
      " 7   sta_from_ap_1_sum_ant_rssi  80 non-null     object \n",
      " 8   sta_from_sta_0_rssi         0 non-null      float64\n",
      " 9   nss                         80 non-null     int64  \n",
      " 10  mcs                         80 non-null     int64  \n",
      " 11  per                         80 non-null     float64\n",
      " 12  num_ampdu                   0 non-null      float64\n",
      " 13  ppdu_dur                    0 non-null      float64\n",
      " 14  seq_time                    80 non-null     float64\n",
      " 15  pro_pd                      80 non-null     float64\n",
      " 16  pro_ed                      80 non-null     float64\n",
      " 17  pro_nav                     80 non-null     float64\n",
      "dtypes: float64(8), int64(4), object(6)\n",
      "memory usage: 11.4+ KB\n"
     ]
    }
   ],
   "source": [
    "resource.info()"
   ]
  },
  {
   "cell_type": "code",
   "execution_count": 16,
   "id": "48128984",
   "metadata": {
    "ExecuteTime": {
     "end_time": "2024-09-24T21:24:01.170921Z",
     "start_time": "2024-09-24T21:24:01.114249Z"
    }
   },
   "outputs": [],
   "source": [
    "# 对RSSI求平均值处理\n",
    "for i in range(3,8):\n",
    "    resource.iloc[:,i]=resource.iloc[:,i].apply(lambda x: sum(eval(x))/len(eval(x)))"
   ]
  },
  {
   "cell_type": "code",
   "execution_count": 17,
   "id": "4ada103a",
   "metadata": {
    "ExecuteTime": {
     "end_time": "2024-09-24T21:24:04.333097Z",
     "start_time": "2024-09-24T21:24:04.328799Z"
    }
   },
   "outputs": [],
   "source": [
    "nss_mcs_dict=dict()\n",
    "phy=[8.6,17.2,25.8,34.4,51.6,68.8,77.4,86.0,103.2,114.7,129.0,143.4,17.2,34.4,51.6,68.8,103.2,137.6,154.9,172.1,206.5,\n",
    "    229.4,258.1,286.8]\n",
    "num=0\n",
    "\n",
    "for i in range(1,3):\n",
    "    for j in range(0,12):\n",
    "        nss_mcs_dict[(i,j)]=phy[num]\n",
    "        num+=1"
   ]
  },
  {
   "cell_type": "code",
   "execution_count": 18,
   "id": "b1fdaa94",
   "metadata": {
    "ExecuteTime": {
     "end_time": "2024-09-24T21:24:06.558500Z",
     "start_time": "2024-09-24T21:24:06.554643Z"
    }
   },
   "outputs": [],
   "source": [
    "def get_phy(nss,mcs):\n",
    "    return nss_mcs_dict[nss,mcs]"
   ]
  },
  {
   "cell_type": "code",
   "execution_count": 19,
   "id": "ad589391",
   "metadata": {
    "ExecuteTime": {
     "end_time": "2024-09-24T21:24:08.094735Z",
     "start_time": "2024-09-24T21:24:08.089522Z"
    }
   },
   "outputs": [],
   "source": [
    "resource['phy_rate']=resource.apply(lambda row:get_phy(row['nss'],row['mcs']),axis=1)"
   ]
  },
  {
   "cell_type": "code",
   "execution_count": 20,
   "id": "c105382d",
   "metadata": {
    "ExecuteTime": {
     "end_time": "2024-09-24T21:24:08.911877Z",
     "start_time": "2024-09-24T21:24:08.907592Z"
    }
   },
   "outputs": [],
   "source": [
    "resource=resource.drop(['nss','mcs'],axis=1)"
   ]
  },
  {
   "cell_type": "code",
   "execution_count": 21,
   "id": "134ff791",
   "metadata": {
    "ExecuteTime": {
     "end_time": "2024-09-24T21:24:10.242306Z",
     "start_time": "2024-09-24T21:24:10.237875Z"
    }
   },
   "outputs": [],
   "source": [
    "resource.iloc[:,0]=resource.iloc[:,0].astype(str).map({'tcp':1,'udp':0})"
   ]
  },
  {
   "cell_type": "code",
   "execution_count": 22,
   "id": "cba16e74",
   "metadata": {
    "ExecuteTime": {
     "end_time": "2024-09-24T21:24:11.207382Z",
     "start_time": "2024-09-24T21:24:11.198866Z"
    }
   },
   "outputs": [
    {
     "name": "stdout",
     "output_type": "stream",
     "text": [
      "<class 'pandas.core.frame.DataFrame'>\n",
      "RangeIndex: 80 entries, 0 to 79\n",
      "Data columns (total 17 columns):\n",
      " #   Column                      Non-Null Count  Dtype  \n",
      "---  ------                      --------------  -----  \n",
      " 0   protocol                    80 non-null     object \n",
      " 1   bss_id                      80 non-null     int64  \n",
      " 2   nav                         80 non-null     int64  \n",
      " 3   ap_from_ap_0_sum_ant_rssi   80 non-null     object \n",
      " 4   sta_to_ap_0_sum_ant_rssi    80 non-null     object \n",
      " 5   sta_to_ap_1_sum_ant_rssi    80 non-null     object \n",
      " 6   sta_from_ap_0_sum_ant_rssi  80 non-null     object \n",
      " 7   sta_from_ap_1_sum_ant_rssi  80 non-null     object \n",
      " 8   sta_from_sta_0_rssi         0 non-null      float64\n",
      " 9   per                         80 non-null     float64\n",
      " 10  num_ampdu                   0 non-null      float64\n",
      " 11  ppdu_dur                    0 non-null      float64\n",
      " 12  seq_time                    80 non-null     float64\n",
      " 13  pro_pd                      80 non-null     float64\n",
      " 14  pro_ed                      80 non-null     float64\n",
      " 15  pro_nav                     80 non-null     float64\n",
      " 16  phy_rate                    80 non-null     float64\n",
      "dtypes: float64(9), int64(2), object(6)\n",
      "memory usage: 10.8+ KB\n"
     ]
    }
   ],
   "source": [
    "resource.info()"
   ]
  },
  {
   "cell_type": "code",
   "execution_count": 23,
   "id": "b57bb9a1",
   "metadata": {
    "ExecuteTime": {
     "end_time": "2024-09-24T21:24:19.603593Z",
     "start_time": "2024-09-24T21:24:18.233763Z"
    }
   },
   "outputs": [
    {
     "name": "stderr",
     "output_type": "stream",
     "text": [
      "D:\\Anaconda\\Lib\\site-packages\\sklearn\\cluster\\_kmeans.py:1412: FutureWarning: The default value of `n_init` will change from 10 to 'auto' in 1.4. Set the value of `n_init` explicitly to suppress the warning\n",
      "  super()._check_params_vs_input(X, default_n_init=10)\n",
      "D:\\Anaconda\\Lib\\site-packages\\sklearn\\cluster\\_kmeans.py:1436: UserWarning: KMeans is known to have a memory leak on Windows with MKL, when there are less chunks than available threads. You can avoid it by setting the environment variable OMP_NUM_THREADS=1.\n",
      "  warnings.warn(\n"
     ]
    },
    {
     "name": "stdout",
     "output_type": "stream",
     "text": [
      "Cluster centers:\n",
      "          0         1           2\n",
      "0  0.001232  0.093311  220.403571\n",
      "1  0.001603  0.919716  284.109375\n",
      "2  0.001887  0.070259  171.240000\n",
      "cluster\n",
      "1    32\n",
      "0    28\n",
      "2    20\n",
      "Name: count, dtype: int64\n"
     ]
    },
    {
     "name": "stderr",
     "output_type": "stream",
     "text": [
      "C:\\Users\\ShenFei\\AppData\\Local\\Temp\\ipykernel_22188\\3999553685.py:10: SettingWithCopyWarning: \n",
      "A value is trying to be set on a copy of a slice from a DataFrame.\n",
      "Try using .loc[row_indexer,col_indexer] = value instead\n",
      "\n",
      "See the caveats in the documentation: https://pandas.pydata.org/pandas-docs/stable/user_guide/indexing.html#returning-a-view-versus-a-copy\n",
      "  df['cluster'] = kmeans.fit_predict(df)\n"
     ]
    }
   ],
   "source": [
    "import numpy as np\n",
    "import pandas as pd\n",
    "from sklearn.cluster import KMeans\n",
    "from sklearn.preprocessing import StandardScaler\n",
    "from sklearn.metrics import silhouette_score\n",
    "\n",
    "df=resource.iloc[:,[14,15,16]]\n",
    "k = 3\n",
    "kmeans = KMeans(n_clusters=k, random_state=42)\n",
    "df['cluster'] = kmeans.fit_predict(df)\n",
    "\n",
    "# 查看每个簇的平均特征值\n",
    "cluster_centers = pd.DataFrame(kmeans.cluster_centers_)\n",
    "# columns=['pro_pd', 'pro_ed', 'pro_nav']\n",
    "\n",
    "print(f\"Cluster centers:\\n{cluster_centers}\")\n",
    "\n",
    "# 查看每个簇的样本数量\n",
    "print(df['cluster'].value_counts())\n",
    "resource['state']=df['cluster']\n",
    "\n",
    "# # 可视化聚类结果\n",
    "# plt.scatter(df['pro_nav'], df['pro_pd'], c=df['cluster'], cmap='viridis', label='Cluster')\n",
    "# plt.colorbar()\n",
    "# plt.xlabel('pro_nav')\n",
    "# plt.ylabel('pro_pd')\n",
    "# plt.title('KMeans Clustering of WLAN Communication States')\n",
    "# plt.show()\n",
    "# 3D plot of the clustering results\n",
    "# fig = plt.figure(figsize=(10, 7))\n",
    "# ax = fig.add_subplot(111, projection='3d')\n",
    "\n",
    "# # Plot the clusters in 3D\n",
    "# scatter = ax.scatter(df['pro_nav'], df['pro_pd'], df['pro_ed'], c=df['cluster'], cmap='viridis')\n",
    "\n",
    "# # Set labels and title\n",
    "# ax.set_xlabel('pro_nav')\n",
    "# ax.set_ylabel('pro_pd')\n",
    "# ax.set_zlabel('pro_ed')\n",
    "# ax.set_title('3D KMeans Clustering of WLAN Communication States')\n",
    "\n",
    "# # Add a color bar\n",
    "# plt.colorbar(scatter)\n",
    "\n",
    "# plt.show()"
   ]
  },
  {
   "cell_type": "code",
   "execution_count": 24,
   "id": "a2da9395",
   "metadata": {
    "ExecuteTime": {
     "end_time": "2024-09-24T21:24:22.287923Z",
     "start_time": "2024-09-24T21:24:22.270328Z"
    }
   },
   "outputs": [],
   "source": [
    "# 信干比采取dbm直接相减得到db\n",
    "def func(x, y, state):\n",
    "    if state == 0:\n",
    "        return x + 100\n",
    "    else:\n",
    "        return x - y\n",
    "\n",
    "    \n",
    "# 创建一个新列来存储 SINR 计算的结果\n",
    "sinr = []\n",
    "df = resource\n",
    "# 遍历 DataFrame 的每一行\n",
    "for i in range(len(df)):\n",
    "    if df.iloc[i, list(df.columns).index('bss_id')] == 1:  # ap1\n",
    "        result = func(df.iloc[i, list(df.columns).index('sta_from_ap_1_sum_ant_rssi')], df.iloc[i, list(df.columns).index('sta_from_ap_0_sum_ant_rssi')],df.iloc[i, list(df.columns).index('state')])\n",
    "    else:  # ap2\n",
    "        result = func(df.iloc[i, list(df.columns).index('sta_from_ap_0_sum_ant_rssi')], df.iloc[i, list(df.columns).index('sta_from_ap_1_sum_ant_rssi')],df.iloc[i, list(df.columns).index('state')])\n",
    "    sinr.append(result)\n",
    "\n",
    "# 将计算结果添加为新列\n",
    "df['sinr'] = sinr"
   ]
  },
  {
   "cell_type": "markdown",
   "id": "86be33c2",
   "metadata": {},
   "source": [
    "# read from here"
   ]
  },
  {
   "cell_type": "code",
   "execution_count": 25,
   "id": "cf0e0c38",
   "metadata": {
    "ExecuteTime": {
     "end_time": "2024-09-24T21:24:44.263773Z",
     "start_time": "2024-09-24T21:24:43.927039Z"
    }
   },
   "outputs": [],
   "source": [
    "resource.to_excel('programe3_test_1_2ap_predict.xlsx')\n",
    "# import numpy as np\n",
    "# import pandas as pd\n",
    "# resource = pd.read_excel('programe3_2ap_processed.xlsx')\n",
    "# resource = resource.sample(frac=1).reset_index(drop=True)"
   ]
  },
  {
   "cell_type": "markdown",
   "id": "54f70160",
   "metadata": {},
   "source": [
    "# process"
   ]
  },
  {
   "cell_type": "code",
   "execution_count": 187,
   "id": "bb1b2a35",
   "metadata": {
    "ExecuteTime": {
     "end_time": "2024-09-24T21:03:07.396227Z",
     "start_time": "2024-09-24T21:03:07.389998Z"
    }
   },
   "outputs": [],
   "source": [
    "target=resource['throughput']\n",
    "resource=resource.drop('throughput',axis=1)\n",
    "resource=resource.drop('sta_from_sta_0_rssi',axis=1)\n",
    "resource=resource.drop('bss_id',axis=1)\n",
    "resource=resource.drop('num_ampdu',axis=1)\n",
    "resource=resource.drop('ppdu_dur',axis=1)"
   ]
  },
  {
   "cell_type": "code",
   "execution_count": 207,
   "id": "297497b3",
   "metadata": {
    "ExecuteTime": {
     "end_time": "2024-09-24T21:14:28.231683Z",
     "start_time": "2024-09-24T21:14:28.223374Z"
    }
   },
   "outputs": [
    {
     "name": "stdout",
     "output_type": "stream",
     "text": [
      "<class 'pandas.core.frame.DataFrame'>\n",
      "RangeIndex: 389 entries, 0 to 388\n",
      "Data columns (total 15 columns):\n",
      " #   Column                      Non-Null Count  Dtype  \n",
      "---  ------                      --------------  -----  \n",
      " 0   protocol                    389 non-null    int64  \n",
      " 1   nav                         389 non-null    int64  \n",
      " 2   ap_from_ap_0_sum_ant_rssi   389 non-null    float64\n",
      " 3   sta_to_ap_0_sum_ant_rssi    389 non-null    float64\n",
      " 4   sta_to_ap_1_sum_ant_rssi    389 non-null    float64\n",
      " 5   sta_from_ap_0_sum_ant_rssi  389 non-null    float64\n",
      " 6   sta_from_ap_1_sum_ant_rssi  389 non-null    float64\n",
      " 7   per                         389 non-null    float64\n",
      " 8   seq_time                    389 non-null    float64\n",
      " 9   pro_pd                      389 non-null    float64\n",
      " 10  pro_ed                      389 non-null    float64\n",
      " 11  pro_nav                     389 non-null    float64\n",
      " 12  phy_rate                    389 non-null    float64\n",
      " 13  state                       389 non-null    int64  \n",
      " 14  sinr                        389 non-null    float64\n",
      "dtypes: float64(12), int64(3)\n",
      "memory usage: 45.7 KB\n"
     ]
    }
   ],
   "source": [
    "\n",
    "resource.info()"
   ]
  },
  {
   "cell_type": "code",
   "execution_count": 204,
   "id": "24a189b9",
   "metadata": {
    "ExecuteTime": {
     "end_time": "2024-09-24T21:13:18.874261Z",
     "start_time": "2024-09-24T21:13:15.833087Z"
    }
   },
   "outputs": [],
   "source": [
    "from sklearn.ensemble import RandomForestRegressor\n",
    "\n",
    "rfg=RandomForestRegressor(n_estimators=100,criterion='friedman_mse',min_samples_leaf=1,max_features='sqrt', max_depth = 20,random_state=0,oob_score=False)\n",
    "\n",
    "\n",
    "# target_0_phy=pd.DataFrame(target_0_phy)\n",
    "\n",
    "rfg=rfg.fit(resource,target)\n",
    "\n",
    "# rfg0=RandomForestRegressor(n_estimators=100,criterion='friedman_mse',random_state=0,oob_score=False)\n",
    "# rfg0=rfg0.fit(resource,target_0.to_numpy())\n",
    "from sklearn.model_selection import cross_val_score\n",
    "\n",
    "res=cross_val_score(rfg,resource,target,cv=10)"
   ]
  },
  {
   "cell_type": "code",
   "execution_count": 205,
   "id": "2fcf4ab6",
   "metadata": {
    "ExecuteTime": {
     "end_time": "2024-09-24T21:13:21.652336Z",
     "start_time": "2024-09-24T21:13:21.647271Z"
    }
   },
   "outputs": [
    {
     "data": {
      "text/plain": [
       "0.9645740214061803"
      ]
     },
     "execution_count": 205,
     "metadata": {},
     "output_type": "execute_result"
    }
   ],
   "source": [
    "res.mean()"
   ]
  },
  {
   "cell_type": "code",
   "execution_count": 206,
   "id": "d2c1995d",
   "metadata": {
    "ExecuteTime": {
     "end_time": "2024-09-24T21:13:23.495207Z",
     "start_time": "2024-09-24T21:13:23.490300Z"
    }
   },
   "outputs": [
    {
     "data": {
      "text/plain": [
       "array([0.98174756, 0.96517943, 0.96197336, 0.96635765, 0.89696014,\n",
       "       0.9692583 , 0.97443453, 0.97289633, 0.97986025, 0.97707267])"
      ]
     },
     "execution_count": 206,
     "metadata": {},
     "output_type": "execute_result"
    }
   ],
   "source": [
    "res"
   ]
  },
  {
   "cell_type": "code",
   "execution_count": 192,
   "id": "92ed4d7c",
   "metadata": {
    "ExecuteTime": {
     "end_time": "2024-09-24T21:03:28.349673Z",
     "start_time": "2024-09-24T21:03:28.333728Z"
    }
   },
   "outputs": [
    {
     "data": {
      "text/plain": [
       "array([8.49952890e-03, 5.56821507e-04, 2.99802118e-03, 3.54211240e-03,\n",
       "       3.17879362e-03, 2.67604264e-03, 1.41655807e-03, 6.41949338e-01,\n",
       "       2.42068417e-01, 2.44999665e-03, 2.54208718e-04, 3.72005282e-03,\n",
       "       7.93924425e-02, 1.31686572e-03, 5.98080000e-03])"
      ]
     },
     "execution_count": 192,
     "metadata": {},
     "output_type": "execute_result"
    }
   ],
   "source": [
    "rfg.feature_importances_"
   ]
  },
  {
   "cell_type": "code",
   "execution_count": 193,
   "id": "ed39af81",
   "metadata": {
    "ExecuteTime": {
     "end_time": "2024-09-24T21:03:31.630497Z",
     "start_time": "2024-09-24T21:03:31.613897Z"
    }
   },
   "outputs": [
    {
     "data": {
      "text/plain": [
       "Index(['pro_ed', 'nav', 'state', 'sta_from_ap_1_sum_ant_rssi', 'pro_pd',\n",
       "       'sta_from_ap_0_sum_ant_rssi', 'ap_from_ap_0_sum_ant_rssi',\n",
       "       'sta_to_ap_1_sum_ant_rssi', 'sta_to_ap_0_sum_ant_rssi', 'pro_nav',\n",
       "       'sinr', 'protocol', 'phy_rate', 'seq_time', 'per'],\n",
       "      dtype='object')"
      ]
     },
     "execution_count": 193,
     "metadata": {},
     "output_type": "execute_result"
    }
   ],
   "source": [
    "resource_columns = resource.columns\n",
    "resource_columns[np.argsort(rfg.feature_importances_)]\n"
   ]
  },
  {
   "cell_type": "code",
   "execution_count": null,
   "id": "7c280590",
   "metadata": {},
   "outputs": [],
   "source": [
    "for i in range(resource.shape[0]):\n",
    "    if resource.iloc[i,list(resource.columns).index('bss_id')]==2:\n",
    "        continue\n",
    "    else: \n",
    "        if resource.iloc[i,list(resource.columns).index('bss_id')]==0:\n",
    "            resource.iloc[i,list(resource.columns).index('ap_from_ap_0_sum_ant_rssi')]=resource.iloc[i,list(resource.columns).index('ap_from_ap_1_sum_ant_rssi')]\n",
    "            resource.iloc[i,list(resource.columns).index('ap_from_ap_0_max_ant_rssi')]=resource.iloc[i,list(resource.columns).index('ap_from_ap_1_max_ant_rssi')]\n",
    "            resource.iloc[i,list(resource.columns).index('ap_from_ap_0_mean_ant_rssi')]=resource.iloc[i,list(resource.columns).index('ap_from_ap_1_mean_ant_rssi')]\n",
    "            resource.iloc[i,list(resource.columns).index('sta_from_sta_0_rssi')]=resource.iloc[i,list(resource.columns).index('sta_from_sta_1_rssi')]\n",
    "        resource.iloc[i,list(resource.columns).index('ap_from_ap_1_sum_ant_rssi')]=resource.iloc[i,list(resource.columns).index('ap_from_ap_2_sum_ant_rssi')]\n",
    "        resource.iloc[i,list(resource.columns).index('ap_from_ap_1_max_ant_rssi')]=resource.iloc[i,list(resource.columns).index('ap_from_ap_2_max_ant_rssi')]\n",
    "        resource.iloc[i,list(resource.columns).index('ap_from_ap_1_mean_ant_rssi')]=resource.iloc[i,list(resource.columns).index('ap_from_ap_2_mean_ant_rssi')]\n",
    "        resource.iloc[i,list(resource.columns).index('sta_from_sta_1_rssi')]=resource.iloc[i,list(resource.columns).index('sta_from_sta_2_rssi')]"
   ]
  },
  {
   "cell_type": "markdown",
   "id": "08160428",
   "metadata": {},
   "source": [
    "# predict"
   ]
  },
  {
   "cell_type": "code",
   "execution_count": null,
   "id": "acbcd609",
   "metadata": {},
   "outputs": [],
   "source": []
  },
  {
   "cell_type": "code",
   "execution_count": null,
   "id": "d0159eb9",
   "metadata": {},
   "outputs": [],
   "source": []
  },
  {
   "cell_type": "code",
   "execution_count": null,
   "id": "d9c8da61",
   "metadata": {},
   "outputs": [],
   "source": []
  },
  {
   "cell_type": "code",
   "execution_count": null,
   "id": "6d6f5e92",
   "metadata": {},
   "outputs": [],
   "source": []
  },
  {
   "cell_type": "code",
   "execution_count": null,
   "id": "073b9ed4",
   "metadata": {},
   "outputs": [],
   "source": []
  }
 ],
 "metadata": {
  "kernelspec": {
   "display_name": "Python 3 (ipykernel)",
   "language": "python",
   "name": "python3"
  },
  "language_info": {
   "codemirror_mode": {
    "name": "ipython",
    "version": 3
   },
   "file_extension": ".py",
   "mimetype": "text/x-python",
   "name": "python",
   "nbconvert_exporter": "python",
   "pygments_lexer": "ipython3",
   "version": "3.11.4"
  },
  "toc": {
   "base_numbering": 1,
   "nav_menu": {},
   "number_sections": false,
   "sideBar": true,
   "skip_h1_title": false,
   "title_cell": "Table of Contents",
   "title_sidebar": "Contents",
   "toc_cell": false,
   "toc_position": {},
   "toc_section_display": true,
   "toc_window_display": false
  },
  "varInspector": {
   "cols": {
    "lenName": 16,
    "lenType": 16,
    "lenVar": 40
   },
   "kernels_config": {
    "python": {
     "delete_cmd_postfix": "",
     "delete_cmd_prefix": "del ",
     "library": "var_list.py",
     "varRefreshCmd": "print(var_dic_list())"
    },
    "r": {
     "delete_cmd_postfix": ") ",
     "delete_cmd_prefix": "rm(",
     "library": "var_list.r",
     "varRefreshCmd": "cat(var_dic_list()) "
    }
   },
   "types_to_exclude": [
    "module",
    "function",
    "builtin_function_or_method",
    "instance",
    "_Feature"
   ],
   "window_display": false
  }
 },
 "nbformat": 4,
 "nbformat_minor": 5
}
