{
 "cells": [
  {
   "cell_type": "code",
   "execution_count": 1,
   "id": "0bf9af82",
   "metadata": {
    "ExecuteTime": {
     "end_time": "2024-09-24T06:14:48.298826Z",
     "start_time": "2024-09-24T06:14:48.024000Z"
    }
   },
   "outputs": [],
   "source": [
    "import numpy as np\n",
    "import pandas as pd"
   ]
  },
  {
   "cell_type": "code",
   "execution_count": 2,
   "id": "5e31f6b2",
   "metadata": {
    "ExecuteTime": {
     "end_time": "2024-09-24T06:14:48.759952Z",
     "start_time": "2024-09-24T06:14:48.665712Z"
    }
   },
   "outputs": [],
   "source": [
    "part1=pd.read_csv('RAWDATA/training_set_3ap_loc30_nav82.csv')\n",
    "# part2=pd.read_csv('RAWDATA/training_set_3ap_loc30_nav86.csv')  #ap_from_ap_0_rssi全部为空，所以不用于模拟三ap数据\n",
    "part3=pd.read_csv('RAWDATA/training_set_3ap_loc31_nav82.csv')\n",
    "part4=pd.read_csv('RAWDATA/training_set_3ap_loc31_nav86.csv')\n",
    "part5=pd.read_csv('RAWDATA/training_set_3ap_loc32_nav82.csv')\n",
    "part6=pd.read_csv('RAWDATA/training_set_3ap_loc32_nav86.csv')\n",
    "part7=pd.read_csv('RAWDATA/training_set_3ap_loc33_nav82_new.csv')\n",
    "part8=pd.read_csv('RAWDATA/training_set_3ap_loc33_nav88.csv')\n",
    "\n",
    "resource=pd.concat([part1,part3,part4,part5,part6,part7,part8],axis=0)"
   ]
  },
  {
   "cell_type": "code",
   "execution_count": 3,
   "id": "d8807f3f",
   "metadata": {
    "ExecuteTime": {
     "end_time": "2024-09-24T06:14:49.120621Z",
     "start_time": "2024-09-24T06:14:49.113605Z"
    }
   },
   "outputs": [
    {
     "name": "stdout",
     "output_type": "stream",
     "text": [
      "<class 'pandas.core.frame.DataFrame'>\n",
      "Index: 707 entries, 0 to 98\n",
      "Data columns (total 55 columns):\n",
      " #   Column                       Non-Null Count  Dtype  \n",
      "---  ------                       --------------  -----  \n",
      " 0   test_id                      707 non-null    int64  \n",
      " 1   test_dur                     707 non-null    int64  \n",
      " 2   loc_id                       707 non-null    object \n",
      " 3   protocol                     707 non-null    object \n",
      " 4   pkt_len                      707 non-null    int64  \n",
      " 5   bss_id                       707 non-null    int64  \n",
      " 6   ap_name                      707 non-null    object \n",
      " 7   ap_mac                       707 non-null    object \n",
      " 8   ap_id                        707 non-null    object \n",
      " 9   pd                           707 non-null    int64  \n",
      " 10  ed                           707 non-null    int64  \n",
      " 11  nav                          707 non-null    int64  \n",
      " 12  eirp                         707 non-null    int64  \n",
      " 13  ap_from_ap_0_sum_ant_rssi    462 non-null    object \n",
      " 14  ap_from_ap_0_max_ant_rssi    462 non-null    object \n",
      " 15  ap_from_ap_0_mean_ant_rssi   462 non-null    object \n",
      " 16  ap_from_ap_1_sum_ant_rssi    461 non-null    object \n",
      " 17  ap_from_ap_1_max_ant_rssi    461 non-null    object \n",
      " 18  ap_from_ap_1_mean_ant_rssi   461 non-null    object \n",
      " 19  ap_from_ap_2_sum_ant_rssi    491 non-null    object \n",
      " 20  ap_from_ap_2_max_ant_rssi    491 non-null    object \n",
      " 21  ap_from_ap_2_mean_ant_rssi   491 non-null    object \n",
      " 22  sta_mac                      707 non-null    object \n",
      " 23  sta_id                       707 non-null    object \n",
      " 24  sta_to_ap_0_sum_ant_rssi     707 non-null    object \n",
      " 25  sta_to_ap_0_max_ant_rssi     707 non-null    object \n",
      " 26  sta_to_ap_0_mean_ant_rssi    707 non-null    object \n",
      " 27  sta_to_ap_1_sum_ant_rssi     707 non-null    object \n",
      " 28  sta_to_ap_1_max_ant_rssi     707 non-null    object \n",
      " 29  sta_to_ap_1_mean_ant_rssi    707 non-null    object \n",
      " 30  sta_to_ap_2_sum_ant_rssi     650 non-null    object \n",
      " 31  sta_to_ap_2_max_ant_rssi     650 non-null    object \n",
      " 32  sta_to_ap_2_mean_ant_rssi    650 non-null    object \n",
      " 33  sta_from_ap_0_sum_ant_rssi   707 non-null    object \n",
      " 34  sta_from_ap_0_max_ant_rssi   707 non-null    object \n",
      " 35  sta_from_ap_0_mean_ant_rssi  707 non-null    object \n",
      " 36  sta_from_ap_1_sum_ant_rssi   707 non-null    object \n",
      " 37  sta_from_ap_1_max_ant_rssi   707 non-null    object \n",
      " 38  sta_from_ap_1_mean_ant_rssi  707 non-null    object \n",
      " 39  sta_from_ap_2_sum_ant_rssi   707 non-null    object \n",
      " 40  sta_from_ap_2_max_ant_rssi   707 non-null    object \n",
      " 41  sta_from_ap_2_mean_ant_rssi  707 non-null    object \n",
      " 42  sta_from_sta_0_rssi          462 non-null    float64\n",
      " 43  sta_from_sta_1_rssi          461 non-null    float64\n",
      " 44  sta_from_sta_2_rssi          491 non-null    float64\n",
      " 45  nss                          707 non-null    int64  \n",
      " 46  mcs                          707 non-null    int64  \n",
      " 47  per                          707 non-null    float64\n",
      " 48  num_ampdu                    707 non-null    int64  \n",
      " 49  ppdu_dur                     707 non-null    float64\n",
      " 50  other_air_time               707 non-null    float64\n",
      " 51  seq_time                     707 non-null    float64\n",
      " 52  throughput                   707 non-null    float64\n",
      " 53  predict throughput           0 non-null      float64\n",
      " 54  error%                       0 non-null      float64\n",
      "dtypes: float64(10), int64(11), object(34)\n",
      "memory usage: 309.3+ KB\n"
     ]
    }
   ],
   "source": [
    "resource.info()"
   ]
  },
  {
   "cell_type": "code",
   "execution_count": 4,
   "id": "47ed8091",
   "metadata": {
    "ExecuteTime": {
     "end_time": "2024-09-24T06:14:49.447006Z",
     "start_time": "2024-09-24T06:14:49.443527Z"
    }
   },
   "outputs": [],
   "source": [
    "columns=[0,1,2,4,6,7,8,12,22,23,47,48,49,50,52,53,54] #这里没删bss_id，为了后续合并空白值计算\n",
    "resource=resource.drop(resource.columns[columns],axis=1)\n",
    "resource.index=range(resource.shape[0])"
   ]
  },
  {
   "cell_type": "code",
   "execution_count": null,
   "id": "b2c6d8b6",
   "metadata": {
    "ExecuteTime": {
     "end_time": "2024-09-24T06:14:49.990309Z",
     "start_time": "2024-09-24T06:14:49.990309Z"
    }
   },
   "outputs": [],
   "source": [
    "resource.to_excel('temp.xlsx')"
   ]
  },
  {
   "cell_type": "code",
   "execution_count": 5,
   "id": "39753fa9",
   "metadata": {
    "ExecuteTime": {
     "end_time": "2024-09-24T06:14:50.249780Z",
     "start_time": "2024-09-24T06:14:50.245754Z"
    }
   },
   "outputs": [],
   "source": [
    "resource=resource.drop(range(551,608),axis=0)  #删除指定有空值的行\n",
    "resource.index=range(resource.shape[0])"
   ]
  },
  {
   "cell_type": "code",
   "execution_count": 6,
   "id": "86a1dca2",
   "metadata": {
    "ExecuteTime": {
     "end_time": "2024-09-24T06:14:50.540387Z",
     "start_time": "2024-09-24T06:14:50.538387Z"
    }
   },
   "outputs": [],
   "source": [
    "# resource.to_excel('temp.xlsx')"
   ]
  },
  {
   "cell_type": "code",
   "execution_count": 7,
   "id": "93d9617d",
   "metadata": {
    "ExecuteTime": {
     "end_time": "2024-09-24T06:14:50.984405Z",
     "start_time": "2024-09-24T06:14:50.977003Z"
    }
   },
   "outputs": [
    {
     "name": "stdout",
     "output_type": "stream",
     "text": [
      "<class 'pandas.core.frame.DataFrame'>\n",
      "RangeIndex: 650 entries, 0 to 649\n",
      "Data columns (total 38 columns):\n",
      " #   Column                       Non-Null Count  Dtype  \n",
      "---  ------                       --------------  -----  \n",
      " 0   protocol                     650 non-null    object \n",
      " 1   bss_id                       650 non-null    int64  \n",
      " 2   pd                           650 non-null    int64  \n",
      " 3   ed                           650 non-null    int64  \n",
      " 4   nav                          650 non-null    int64  \n",
      " 5   ap_from_ap_0_sum_ant_rssi    433 non-null    object \n",
      " 6   ap_from_ap_0_max_ant_rssi    433 non-null    object \n",
      " 7   ap_from_ap_0_mean_ant_rssi   433 non-null    object \n",
      " 8   ap_from_ap_1_sum_ant_rssi    433 non-null    object \n",
      " 9   ap_from_ap_1_max_ant_rssi    433 non-null    object \n",
      " 10  ap_from_ap_1_mean_ant_rssi   433 non-null    object \n",
      " 11  ap_from_ap_2_sum_ant_rssi    434 non-null    object \n",
      " 12  ap_from_ap_2_max_ant_rssi    434 non-null    object \n",
      " 13  ap_from_ap_2_mean_ant_rssi   434 non-null    object \n",
      " 14  sta_to_ap_0_sum_ant_rssi     650 non-null    object \n",
      " 15  sta_to_ap_0_max_ant_rssi     650 non-null    object \n",
      " 16  sta_to_ap_0_mean_ant_rssi    650 non-null    object \n",
      " 17  sta_to_ap_1_sum_ant_rssi     650 non-null    object \n",
      " 18  sta_to_ap_1_max_ant_rssi     650 non-null    object \n",
      " 19  sta_to_ap_1_mean_ant_rssi    650 non-null    object \n",
      " 20  sta_to_ap_2_sum_ant_rssi     650 non-null    object \n",
      " 21  sta_to_ap_2_max_ant_rssi     650 non-null    object \n",
      " 22  sta_to_ap_2_mean_ant_rssi    650 non-null    object \n",
      " 23  sta_from_ap_0_sum_ant_rssi   650 non-null    object \n",
      " 24  sta_from_ap_0_max_ant_rssi   650 non-null    object \n",
      " 25  sta_from_ap_0_mean_ant_rssi  650 non-null    object \n",
      " 26  sta_from_ap_1_sum_ant_rssi   650 non-null    object \n",
      " 27  sta_from_ap_1_max_ant_rssi   650 non-null    object \n",
      " 28  sta_from_ap_1_mean_ant_rssi  650 non-null    object \n",
      " 29  sta_from_ap_2_sum_ant_rssi   650 non-null    object \n",
      " 30  sta_from_ap_2_max_ant_rssi   650 non-null    object \n",
      " 31  sta_from_ap_2_mean_ant_rssi  650 non-null    object \n",
      " 32  sta_from_sta_0_rssi          433 non-null    float64\n",
      " 33  sta_from_sta_1_rssi          433 non-null    float64\n",
      " 34  sta_from_sta_2_rssi          434 non-null    float64\n",
      " 35  nss                          650 non-null    int64  \n",
      " 36  mcs                          650 non-null    int64  \n",
      " 37  seq_time                     650 non-null    float64\n",
      "dtypes: float64(4), int64(6), object(28)\n",
      "memory usage: 193.1+ KB\n"
     ]
    }
   ],
   "source": [
    "resource.info()"
   ]
  },
  {
   "cell_type": "code",
   "execution_count": 8,
   "id": "3f2c6674",
   "metadata": {
    "ExecuteTime": {
     "end_time": "2024-09-24T06:14:51.528815Z",
     "start_time": "2024-09-24T06:14:51.363930Z"
    }
   },
   "outputs": [],
   "source": [
    "for i in range(resource.shape[0]):\n",
    "    if resource.iloc[i,list(resource.columns).index('bss_id')]==2:\n",
    "        continue\n",
    "    else: \n",
    "        if resource.iloc[i,list(resource.columns).index('bss_id')]==0:\n",
    "            resource.iloc[i,list(resource.columns).index('ap_from_ap_0_sum_ant_rssi')]=resource.iloc[i,list(resource.columns).index('ap_from_ap_1_sum_ant_rssi')]\n",
    "            resource.iloc[i,list(resource.columns).index('ap_from_ap_0_max_ant_rssi')]=resource.iloc[i,list(resource.columns).index('ap_from_ap_1_max_ant_rssi')]\n",
    "            resource.iloc[i,list(resource.columns).index('ap_from_ap_0_mean_ant_rssi')]=resource.iloc[i,list(resource.columns).index('ap_from_ap_1_mean_ant_rssi')]\n",
    "            resource.iloc[i,list(resource.columns).index('sta_from_sta_0_rssi')]=resource.iloc[i,list(resource.columns).index('sta_from_sta_1_rssi')]\n",
    "        resource.iloc[i,list(resource.columns).index('ap_from_ap_1_sum_ant_rssi')]=resource.iloc[i,list(resource.columns).index('ap_from_ap_2_sum_ant_rssi')]\n",
    "        resource.iloc[i,list(resource.columns).index('ap_from_ap_1_max_ant_rssi')]=resource.iloc[i,list(resource.columns).index('ap_from_ap_2_max_ant_rssi')]\n",
    "        resource.iloc[i,list(resource.columns).index('ap_from_ap_1_mean_ant_rssi')]=resource.iloc[i,list(resource.columns).index('ap_from_ap_2_mean_ant_rssi')]\n",
    "        resource.iloc[i,list(resource.columns).index('sta_from_sta_1_rssi')]=resource.iloc[i,list(resource.columns).index('sta_from_sta_2_rssi')]"
   ]
  },
  {
   "cell_type": "code",
   "execution_count": 9,
   "id": "4a24ada4",
   "metadata": {
    "ExecuteTime": {
     "end_time": "2024-09-24T06:14:51.885048Z",
     "start_time": "2024-09-24T06:14:51.878526Z"
    }
   },
   "outputs": [
    {
     "name": "stdout",
     "output_type": "stream",
     "text": [
      "<class 'pandas.core.frame.DataFrame'>\n",
      "RangeIndex: 650 entries, 0 to 649\n",
      "Data columns (total 38 columns):\n",
      " #   Column                       Non-Null Count  Dtype  \n",
      "---  ------                       --------------  -----  \n",
      " 0   protocol                     650 non-null    object \n",
      " 1   bss_id                       650 non-null    int64  \n",
      " 2   pd                           650 non-null    int64  \n",
      " 3   ed                           650 non-null    int64  \n",
      " 4   nav                          650 non-null    int64  \n",
      " 5   ap_from_ap_0_sum_ant_rssi    650 non-null    object \n",
      " 6   ap_from_ap_0_max_ant_rssi    650 non-null    object \n",
      " 7   ap_from_ap_0_mean_ant_rssi   650 non-null    object \n",
      " 8   ap_from_ap_1_sum_ant_rssi    650 non-null    object \n",
      " 9   ap_from_ap_1_max_ant_rssi    650 non-null    object \n",
      " 10  ap_from_ap_1_mean_ant_rssi   650 non-null    object \n",
      " 11  ap_from_ap_2_sum_ant_rssi    434 non-null    object \n",
      " 12  ap_from_ap_2_max_ant_rssi    434 non-null    object \n",
      " 13  ap_from_ap_2_mean_ant_rssi   434 non-null    object \n",
      " 14  sta_to_ap_0_sum_ant_rssi     650 non-null    object \n",
      " 15  sta_to_ap_0_max_ant_rssi     650 non-null    object \n",
      " 16  sta_to_ap_0_mean_ant_rssi    650 non-null    object \n",
      " 17  sta_to_ap_1_sum_ant_rssi     650 non-null    object \n",
      " 18  sta_to_ap_1_max_ant_rssi     650 non-null    object \n",
      " 19  sta_to_ap_1_mean_ant_rssi    650 non-null    object \n",
      " 20  sta_to_ap_2_sum_ant_rssi     650 non-null    object \n",
      " 21  sta_to_ap_2_max_ant_rssi     650 non-null    object \n",
      " 22  sta_to_ap_2_mean_ant_rssi    650 non-null    object \n",
      " 23  sta_from_ap_0_sum_ant_rssi   650 non-null    object \n",
      " 24  sta_from_ap_0_max_ant_rssi   650 non-null    object \n",
      " 25  sta_from_ap_0_mean_ant_rssi  650 non-null    object \n",
      " 26  sta_from_ap_1_sum_ant_rssi   650 non-null    object \n",
      " 27  sta_from_ap_1_max_ant_rssi   650 non-null    object \n",
      " 28  sta_from_ap_1_mean_ant_rssi  650 non-null    object \n",
      " 29  sta_from_ap_2_sum_ant_rssi   650 non-null    object \n",
      " 30  sta_from_ap_2_max_ant_rssi   650 non-null    object \n",
      " 31  sta_from_ap_2_mean_ant_rssi  650 non-null    object \n",
      " 32  sta_from_sta_0_rssi          650 non-null    float64\n",
      " 33  sta_from_sta_1_rssi          650 non-null    float64\n",
      " 34  sta_from_sta_2_rssi          434 non-null    float64\n",
      " 35  nss                          650 non-null    int64  \n",
      " 36  mcs                          650 non-null    int64  \n",
      " 37  seq_time                     650 non-null    float64\n",
      "dtypes: float64(4), int64(6), object(28)\n",
      "memory usage: 193.1+ KB\n"
     ]
    }
   ],
   "source": [
    "resource.info()"
   ]
  },
  {
   "cell_type": "code",
   "execution_count": 10,
   "id": "4c4c5d33",
   "metadata": {
    "ExecuteTime": {
     "end_time": "2024-09-24T06:14:52.303891Z",
     "start_time": "2024-09-24T06:14:52.299891Z"
    }
   },
   "outputs": [],
   "source": [
    "resource=resource.drop(['ap_from_ap_2_sum_ant_rssi',\n",
    "                       'ap_from_ap_2_max_ant_rssi','ap_from_ap_2_mean_ant_rssi','sta_from_sta_2_rssi','bss_id'],axis=1)"
   ]
  },
  {
   "cell_type": "code",
   "execution_count": 11,
   "id": "8c13a6cc",
   "metadata": {
    "ExecuteTime": {
     "end_time": "2024-09-24T06:14:52.685737Z",
     "start_time": "2024-09-24T06:14:52.674632Z"
    }
   },
   "outputs": [
    {
     "name": "stdout",
     "output_type": "stream",
     "text": [
      "<class 'pandas.core.frame.DataFrame'>\n",
      "RangeIndex: 650 entries, 0 to 649\n",
      "Data columns (total 33 columns):\n",
      " #   Column                       Non-Null Count  Dtype  \n",
      "---  ------                       --------------  -----  \n",
      " 0   protocol                     650 non-null    object \n",
      " 1   pd                           650 non-null    int64  \n",
      " 2   ed                           650 non-null    int64  \n",
      " 3   nav                          650 non-null    int64  \n",
      " 4   ap_from_ap_0_sum_ant_rssi    650 non-null    object \n",
      " 5   ap_from_ap_0_max_ant_rssi    650 non-null    object \n",
      " 6   ap_from_ap_0_mean_ant_rssi   650 non-null    object \n",
      " 7   ap_from_ap_1_sum_ant_rssi    650 non-null    object \n",
      " 8   ap_from_ap_1_max_ant_rssi    650 non-null    object \n",
      " 9   ap_from_ap_1_mean_ant_rssi   650 non-null    object \n",
      " 10  sta_to_ap_0_sum_ant_rssi     650 non-null    object \n",
      " 11  sta_to_ap_0_max_ant_rssi     650 non-null    object \n",
      " 12  sta_to_ap_0_mean_ant_rssi    650 non-null    object \n",
      " 13  sta_to_ap_1_sum_ant_rssi     650 non-null    object \n",
      " 14  sta_to_ap_1_max_ant_rssi     650 non-null    object \n",
      " 15  sta_to_ap_1_mean_ant_rssi    650 non-null    object \n",
      " 16  sta_to_ap_2_sum_ant_rssi     650 non-null    object \n",
      " 17  sta_to_ap_2_max_ant_rssi     650 non-null    object \n",
      " 18  sta_to_ap_2_mean_ant_rssi    650 non-null    object \n",
      " 19  sta_from_ap_0_sum_ant_rssi   650 non-null    object \n",
      " 20  sta_from_ap_0_max_ant_rssi   650 non-null    object \n",
      " 21  sta_from_ap_0_mean_ant_rssi  650 non-null    object \n",
      " 22  sta_from_ap_1_sum_ant_rssi   650 non-null    object \n",
      " 23  sta_from_ap_1_max_ant_rssi   650 non-null    object \n",
      " 24  sta_from_ap_1_mean_ant_rssi  650 non-null    object \n",
      " 25  sta_from_ap_2_sum_ant_rssi   650 non-null    object \n",
      " 26  sta_from_ap_2_max_ant_rssi   650 non-null    object \n",
      " 27  sta_from_ap_2_mean_ant_rssi  650 non-null    object \n",
      " 28  sta_from_sta_0_rssi          650 non-null    float64\n",
      " 29  sta_from_sta_1_rssi          650 non-null    float64\n",
      " 30  nss                          650 non-null    int64  \n",
      " 31  mcs                          650 non-null    int64  \n",
      " 32  seq_time                     650 non-null    float64\n",
      "dtypes: float64(3), int64(5), object(25)\n",
      "memory usage: 167.7+ KB\n"
     ]
    }
   ],
   "source": [
    "resource.info()"
   ]
  },
  {
   "cell_type": "code",
   "execution_count": 12,
   "id": "91621e79",
   "metadata": {
    "ExecuteTime": {
     "end_time": "2024-09-24T06:14:53.157898Z",
     "start_time": "2024-09-24T06:14:53.152624Z"
    }
   },
   "outputs": [],
   "source": [
    "# 定义管理rssi中异常值数据，并创造出新特征值\n",
    "def cal_pd(apmax,pd):\n",
    "    apmax = eval(apmax)\n",
    "    comparison_result = [1 if x >= pd else 0 for x in apmax]\n",
    "    proportion_of_ones = sum(comparison_result) / len(apmax)\n",
    "    return proportion_of_ones\n",
    "\n",
    "def cal_ed(apmax,ed):\n",
    "    apmax = eval(apmax)\n",
    "    comparison_result = [1 if x >= ed else 0 for x in apmax]\n",
    "    proportion_of_ones = sum(comparison_result) / len(apmax)\n",
    "    return proportion_of_ones\n",
    "\n",
    "def cal_nav(apmean,nav):\n",
    "    apmean = eval(apmean)\n",
    "    comparison_result = [1 if x >= nav else 0 for x in apmean]\n",
    "\n",
    "    # 计算 1 的占比\n",
    "    proportion_of_ones = sum(comparison_result) / len(apmean)\n",
    "    return proportion_of_ones    "
   ]
  },
  {
   "cell_type": "code",
   "execution_count": 13,
   "id": "f0ccde03",
   "metadata": {
    "ExecuteTime": {
     "end_time": "2024-09-24T06:14:55.336317Z",
     "start_time": "2024-09-24T06:14:53.880628Z"
    }
   },
   "outputs": [],
   "source": [
    "resource['pro_pd_0'] = resource.apply(lambda row: cal_pd(row['ap_from_ap_0_max_ant_rssi'], row['pd']), axis=1)\n",
    "resource['pro_ed_0'] = resource.apply(lambda row: cal_ed(row['ap_from_ap_0_max_ant_rssi'], row['ed']), axis=1)\n",
    "resource['pro_nav_0'] = resource.apply(lambda row: cal_nav(row['ap_from_ap_0_mean_ant_rssi'], row['nav']), axis=1)\n",
    "\n",
    "resource['pro_pd_1'] = resource.apply(lambda row: cal_pd(row['ap_from_ap_1_max_ant_rssi'], row['pd']), axis=1)\n",
    "resource['pro_ed_1'] = resource.apply(lambda row: cal_ed(row['ap_from_ap_1_max_ant_rssi'], row['ed']), axis=1)\n",
    "resource['pro_nav_1'] = resource.apply(lambda row: cal_nav(row['ap_from_ap_1_mean_ant_rssi'], row['nav']), axis=1)"
   ]
  },
  {
   "cell_type": "code",
   "execution_count": null,
   "id": "864cc6c6",
   "metadata": {
    "ExecuteTime": {
     "end_time": "2024-09-24T06:10:43.800971Z",
     "start_time": "2024-09-24T06:10:43.800971Z"
    }
   },
   "outputs": [],
   "source": [
    "# # pro_ed的分布情况\n",
    "\n",
    "# import matplotlib.pyplot as plt\n",
    "\n",
    "# # Assuming df is your DataFrame and 'pro_ed' is the column of interest\n",
    "# pro_ed = resource['pro_ed']\n",
    "\n",
    "# # Calculate basic statistics\n",
    "# max_value = pro_ed.max()\n",
    "# min_value = pro_ed.min()\n",
    "# mean_value = pro_ed.mean()\n",
    "# std_dev = pro_ed.std()\n",
    "\n",
    "# # Display basic statistics\n",
    "# print(f\"Max value: {max_value}\")\n",
    "# print(f\"Min value: {min_value}\")\n",
    "# print(f\"Mean value: {mean_value}\")\n",
    "# print(f\"Standard Deviation: {std_dev}\")\n",
    "\n",
    "# # Plot a histogram to visualize the distribution of 'pro_ed'\n",
    "# plt.figure(figsize=(8, 6))\n",
    "# plt.hist(pro_ed, bins=10, color='skyblue', edgecolor='black')\n",
    "# plt.title('Histogram of pro_ed')\n",
    "# plt.xlabel('pro_ed values')\n",
    "# plt.ylabel('Frequency')\n",
    "# plt.grid(True)\n",
    "# plt.show()"
   ]
  },
  {
   "cell_type": "code",
   "execution_count": null,
   "id": "6ae64b28",
   "metadata": {
    "ExecuteTime": {
     "end_time": "2024-09-24T06:10:43.822010Z",
     "start_time": "2024-09-24T06:10:43.822010Z"
    }
   },
   "outputs": [],
   "source": [
    "resource.info()"
   ]
  },
  {
   "cell_type": "code",
   "execution_count": 14,
   "id": "16392b3e",
   "metadata": {
    "ExecuteTime": {
     "end_time": "2024-09-24T06:15:03.397969Z",
     "start_time": "2024-09-24T06:15:01.055523Z"
    }
   },
   "outputs": [
    {
     "name": "stderr",
     "output_type": "stream",
     "text": [
      "D:\\Anaconda\\Lib\\site-packages\\sklearn\\cluster\\_kmeans.py:1436: UserWarning: KMeans is known to have a memory leak on Windows with MKL, when there are less chunks than available threads. You can avoid it by setting the environment variable OMP_NUM_THREADS=3.\n",
      "  warnings.warn(\n",
      "D:\\Anaconda\\Lib\\site-packages\\sklearn\\cluster\\_kmeans.py:1436: UserWarning: KMeans is known to have a memory leak on Windows with MKL, when there are less chunks than available threads. You can avoid it by setting the environment variable OMP_NUM_THREADS=3.\n",
      "  warnings.warn(\n",
      "D:\\Anaconda\\Lib\\site-packages\\sklearn\\cluster\\_kmeans.py:1436: UserWarning: KMeans is known to have a memory leak on Windows with MKL, when there are less chunks than available threads. You can avoid it by setting the environment variable OMP_NUM_THREADS=3.\n",
      "  warnings.warn(\n",
      "D:\\Anaconda\\Lib\\site-packages\\sklearn\\cluster\\_kmeans.py:1436: UserWarning: KMeans is known to have a memory leak on Windows with MKL, when there are less chunks than available threads. You can avoid it by setting the environment variable OMP_NUM_THREADS=3.\n",
      "  warnings.warn(\n"
     ]
    },
    {
     "data": {
      "image/png": "[encoded data removed]",
      "text/plain": [
       "<Figure size 1000x400 with 2 Axes>"
      ]
     },
     "metadata": {},
     "output_type": "display_data"
    }
   ],
   "source": [
    "# 选择pro的聚类个数\n",
    "import numpy as np\n",
    "import pandas as pd\n",
    "from sklearn.cluster import KMeans\n",
    "from sklearn.preprocessing import StandardScaler\n",
    "from sklearn.metrics import silhouette_score\n",
    "import matplotlib.pyplot as plt\n",
    "\n",
    "data_scaled=resource.iloc[:,range(33,39)]\n",
    "\n",
    "# 确定最佳的聚类簇数，使用肘部法或轮廓系数\n",
    "sse = []\n",
    "silhouette_scores = []\n",
    "K = range(2, 6)  # 假设我们要测试2到5个聚类数\n",
    "for k in K:\n",
    "    kmeans = KMeans(n_clusters=k, random_state=42,n_init='auto')\n",
    "    kmeans.fit(data_scaled)\n",
    "    sse.append(kmeans.inertia_)  # SSE\n",
    "    silhouette_scores.append(silhouette_score(data_scaled, kmeans.labels_))\n",
    "\n",
    "# 绘制肘部法图像\n",
    "plt.figure(figsize=(10, 4))\n",
    "plt.subplot(1, 2, 1)\n",
    "plt.plot(K, sse, 'bo-')\n",
    "plt.title('Elbow Method for Optimal k')\n",
    "plt.xlabel('Number of clusters (k)')\n",
    "plt.ylabel('SSE')\n",
    "\n",
    "plt.subplot(1, 2, 2)\n",
    "plt.plot(K, silhouette_scores, 'bo-')\n",
    "plt.title('Silhouette Score for k')\n",
    "plt.xlabel('Number of clusters (k)')\n",
    "plt.ylabel('Silhouette Score')\n",
    "\n",
    "plt.tight_layout()\n",
    "plt.show()"
   ]
  },
  {
   "cell_type": "code",
   "execution_count": 16,
   "id": "f72fa6cc",
   "metadata": {
    "ExecuteTime": {
     "end_time": "2024-09-24T06:15:33.881097Z",
     "start_time": "2024-09-24T06:15:33.877902Z"
    }
   },
   "outputs": [],
   "source": [
    "# import umap\n",
    "# import matplotlib.pyplot as plt\n",
    "# import numpy as np\n",
    "\n",
    "# # 准备数据\n",
    "# data =resource.iloc[:,range(33,39)]\n",
    "\n",
    "# # 创建UMAP对象\n",
    "# reducer = umap.UMAP(n_components=3)\n",
    "\n",
    "# # 使用UMAP进行降维\n",
    "# embedding = reducer.fit_transform(data)\n",
    "\n",
    "# # 绘制结果\n",
    "# plt.figure(figsize=(8, 8))\n",
    "# plt.scatter(embedding[:, 0], embedding[:, 1], s=50, cmap='Spectral', alpha=0.6)\n",
    "# plt.title('UMAP projection of the data')\n",
    "# plt.show()\n"
   ]
  },
  {
   "cell_type": "code",
   "execution_count": 17,
   "id": "ddfceb85",
   "metadata": {
    "ExecuteTime": {
     "end_time": "2024-09-24T06:18:33.181341Z",
     "start_time": "2024-09-24T06:18:33.177059Z"
    }
   },
   "outputs": [],
   "source": [
    "# # 得到‘state’类别\n",
    "# # 0:大量同步\n",
    "# # 1：大量异步\n",
    "# # 2：混合\n",
    "\n",
    "# df=data_scaled\n",
    "# k = 3\n",
    "# kmeans = KMeans(n_clusters=k, random_state=42)\n",
    "# df['cluster'] = kmeans.fit_predict(data_scaled)\n",
    "\n",
    "# # 查看每个簇的平均特征值\n",
    "# cluster_centers = pd.DataFrame(kmeans.cluster_centers_)\n",
    "# # columns=['pro_pd', 'pro_ed', 'pro_nav']\n",
    "\n",
    "# print(f\"Cluster centers:\\n{cluster_centers}\")\n",
    "\n",
    "# # 查看每个簇的样本数量\n",
    "# print(df['cluster'].value_counts())\n",
    "\n",
    "# # # 可视化聚类结果\n",
    "# # plt.scatter(df['pro_nav'], df['pro_pd'], c=df['cluster'], cmap='viridis', label='Cluster')\n",
    "# # plt.colorbar()\n",
    "# # plt.xlabel('pro_nav')\n",
    "# # plt.ylabel('pro_pd')\n",
    "# # plt.title('KMeans Clustering of WLAN Communication States')\n",
    "# # plt.show()\n",
    "# # 3D plot of the clustering results\n",
    "# fig = plt.figure(figsize=(10, 7))\n",
    "# ax = fig.add_subplot(111, projection='3d')\n",
    "\n",
    "# # Plot the clusters in 3D\n",
    "# scatter = ax.scatter(df['pro_nav'], df['pro_pd'], df['pro_ed'], c=df['cluster'], cmap='viridis')\n",
    "\n",
    "# # Set labels and title\n",
    "# ax.set_xlabel('pro_nav')\n",
    "# ax.set_ylabel('pro_pd')\n",
    "# ax.set_zlabel('pro_ed')\n",
    "# ax.set_title('3D KMeans Clustering of WLAN Communication States')\n",
    "\n",
    "# # Add a color bar\n",
    "# plt.colorbar(scatter)\n",
    "\n",
    "# plt.show()"
   ]
  },
  {
   "cell_type": "code",
   "execution_count": 21,
   "id": "fa47465e",
   "metadata": {
    "ExecuteTime": {
     "end_time": "2024-09-24T06:20:18.620717Z",
     "start_time": "2024-09-24T06:20:18.534352Z"
    }
   },
   "outputs": [
    {
     "name": "stderr",
     "output_type": "stream",
     "text": [
      "D:\\Anaconda\\Lib\\site-packages\\sklearn\\cluster\\_kmeans.py:1436: UserWarning: KMeans is known to have a memory leak on Windows with MKL, when there are less chunks than available threads. You can avoid it by setting the environment variable OMP_NUM_THREADS=3.\n",
      "  warnings.warn(\n",
      "C:\\Users\\ShenFei\\AppData\\Local\\Temp\\ipykernel_32500\\150325647.py:1: SettingWithCopyWarning: \n",
      "A value is trying to be set on a copy of a slice from a DataFrame.\n",
      "Try using .loc[row_indexer,col_indexer] = value instead\n",
      "\n",
      "See the caveats in the documentation: https://pandas.pydata.org/pandas-docs/stable/user_guide/indexing.html#returning-a-view-versus-a-copy\n",
      "  data_scaled['cluster'] = kmeans.fit_predict(data_scaled)\n"
     ]
    }
   ],
   "source": [
    "data_scaled['cluster'] = kmeans.fit_predict(data_scaled)\n",
    "resource['state']=data_scaled['cluster']"
   ]
  },
  {
   "cell_type": "code",
   "execution_count": 22,
   "id": "d99cb1af",
   "metadata": {
    "ExecuteTime": {
     "end_time": "2024-09-24T06:20:42.560922Z",
     "start_time": "2024-09-24T06:20:42.551292Z"
    }
   },
   "outputs": [
    {
     "name": "stdout",
     "output_type": "stream",
     "text": [
      "<class 'pandas.core.frame.DataFrame'>\n",
      "RangeIndex: 650 entries, 0 to 649\n",
      "Data columns (total 40 columns):\n",
      " #   Column                       Non-Null Count  Dtype  \n",
      "---  ------                       --------------  -----  \n",
      " 0   protocol                     650 non-null    object \n",
      " 1   pd                           650 non-null    int64  \n",
      " 2   ed                           650 non-null    int64  \n",
      " 3   nav                          650 non-null    int64  \n",
      " 4   ap_from_ap_0_sum_ant_rssi    650 non-null    object \n",
      " 5   ap_from_ap_0_max_ant_rssi    650 non-null    object \n",
      " 6   ap_from_ap_0_mean_ant_rssi   650 non-null    object \n",
      " 7   ap_from_ap_1_sum_ant_rssi    650 non-null    object \n",
      " 8   ap_from_ap_1_max_ant_rssi    650 non-null    object \n",
      " 9   ap_from_ap_1_mean_ant_rssi   650 non-null    object \n",
      " 10  sta_to_ap_0_sum_ant_rssi     650 non-null    object \n",
      " 11  sta_to_ap_0_max_ant_rssi     650 non-null    object \n",
      " 12  sta_to_ap_0_mean_ant_rssi    650 non-null    object \n",
      " 13  sta_to_ap_1_sum_ant_rssi     650 non-null    object \n",
      " 14  sta_to_ap_1_max_ant_rssi     650 non-null    object \n",
      " 15  sta_to_ap_1_mean_ant_rssi    650 non-null    object \n",
      " 16  sta_to_ap_2_sum_ant_rssi     650 non-null    object \n",
      " 17  sta_to_ap_2_max_ant_rssi     650 non-null    object \n",
      " 18  sta_to_ap_2_mean_ant_rssi    650 non-null    object \n",
      " 19  sta_from_ap_0_sum_ant_rssi   650 non-null    object \n",
      " 20  sta_from_ap_0_max_ant_rssi   650 non-null    object \n",
      " 21  sta_from_ap_0_mean_ant_rssi  650 non-null    object \n",
      " 22  sta_from_ap_1_sum_ant_rssi   650 non-null    object \n",
      " 23  sta_from_ap_1_max_ant_rssi   650 non-null    object \n",
      " 24  sta_from_ap_1_mean_ant_rssi  650 non-null    object \n",
      " 25  sta_from_ap_2_sum_ant_rssi   650 non-null    object \n",
      " 26  sta_from_ap_2_max_ant_rssi   650 non-null    object \n",
      " 27  sta_from_ap_2_mean_ant_rssi  650 non-null    object \n",
      " 28  sta_from_sta_0_rssi          650 non-null    float64\n",
      " 29  sta_from_sta_1_rssi          650 non-null    float64\n",
      " 30  nss                          650 non-null    int64  \n",
      " 31  mcs                          650 non-null    int64  \n",
      " 32  seq_time                     650 non-null    float64\n",
      " 33  pro_pd_0                     650 non-null    float64\n",
      " 34  pro_ed_0                     650 non-null    float64\n",
      " 35  pro_nav_0                    650 non-null    float64\n",
      " 36  pro_pd_1                     650 non-null    float64\n",
      " 37  pro_ed_1                     650 non-null    float64\n",
      " 38  pro_nav_1                    650 non-null    float64\n",
      " 39  state                        650 non-null    int32  \n",
      "dtypes: float64(9), int32(1), int64(5), object(25)\n",
      "memory usage: 200.7+ KB\n"
     ]
    }
   ],
   "source": [
    "resource.info()"
   ]
  },
  {
   "cell_type": "markdown",
   "id": "57dc84da",
   "metadata": {},
   "source": [
    "## 进行均值处理与SINR"
   ]
  },
  {
   "cell_type": "code",
   "execution_count": 23,
   "id": "3c51ffc4",
   "metadata": {
    "ExecuteTime": {
     "end_time": "2024-09-24T06:24:53.348835Z",
     "start_time": "2024-09-24T06:24:53.342975Z"
    }
   },
   "outputs": [],
   "source": [
    "# 删除无用的值\n",
    "drop_columns=['pd','ed','ap_from_ap_0_mean_ant_rssi','ap_from_ap_0_max_ant_rssi',\n",
    "              'ap_from_ap_1_mean_ant_rssi','ap_from_ap_1_max_ant_rssi'\n",
    "              ,'sta_to_ap_0_max_ant_rssi','sta_to_ap_0_mean_ant_rssi'\n",
    "              ,'sta_to_ap_1_max_ant_rssi','sta_to_ap_1_mean_ant_rssi',\n",
    "              'sta_to_ap_2_max_ant_rssi','sta_to_ap_2_mean_ant_rssi'\n",
    "             ,'sta_from_ap_0_max_ant_rssi','sta_from_ap_0_mean_ant_rssi'\n",
    "             ,'sta_from_ap_1_max_ant_rssi','sta_from_ap_1_mean_ant_rssi',\n",
    "              'sta_from_ap_2_max_ant_rssi','sta_from_ap_2_mean_ant_rssi',\n",
    "             ]\n",
    "\n",
    "resource=resource.drop(drop_columns,axis=1)"
   ]
  },
  {
   "cell_type": "code",
   "execution_count": 24,
   "id": "0bb00a83",
   "metadata": {
    "ExecuteTime": {
     "end_time": "2024-09-24T06:24:55.624161Z",
     "start_time": "2024-09-24T06:24:55.615151Z"
    }
   },
   "outputs": [
    {
     "name": "stdout",
     "output_type": "stream",
     "text": [
      "<class 'pandas.core.frame.DataFrame'>\n",
      "RangeIndex: 650 entries, 0 to 649\n",
      "Data columns (total 22 columns):\n",
      " #   Column                      Non-Null Count  Dtype  \n",
      "---  ------                      --------------  -----  \n",
      " 0   protocol                    650 non-null    object \n",
      " 1   nav                         650 non-null    int64  \n",
      " 2   ap_from_ap_0_sum_ant_rssi   650 non-null    object \n",
      " 3   ap_from_ap_1_sum_ant_rssi   650 non-null    object \n",
      " 4   sta_to_ap_0_sum_ant_rssi    650 non-null    object \n",
      " 5   sta_to_ap_1_sum_ant_rssi    650 non-null    object \n",
      " 6   sta_to_ap_2_sum_ant_rssi    650 non-null    object \n",
      " 7   sta_from_ap_0_sum_ant_rssi  650 non-null    object \n",
      " 8   sta_from_ap_1_sum_ant_rssi  650 non-null    object \n",
      " 9   sta_from_ap_2_sum_ant_rssi  650 non-null    object \n",
      " 10  sta_from_sta_0_rssi         650 non-null    float64\n",
      " 11  sta_from_sta_1_rssi         650 non-null    float64\n",
      " 12  nss                         650 non-null    int64  \n",
      " 13  mcs                         650 non-null    int64  \n",
      " 14  seq_time                    650 non-null    float64\n",
      " 15  pro_pd_0                    650 non-null    float64\n",
      " 16  pro_ed_0                    650 non-null    float64\n",
      " 17  pro_nav_0                   650 non-null    float64\n",
      " 18  pro_pd_1                    650 non-null    float64\n",
      " 19  pro_ed_1                    650 non-null    float64\n",
      " 20  pro_nav_1                   650 non-null    float64\n",
      " 21  state                       650 non-null    int32  \n",
      "dtypes: float64(9), int32(1), int64(3), object(9)\n",
      "memory usage: 109.3+ KB\n"
     ]
    }
   ],
   "source": [
    "resource.info()"
   ]
  },
  {
   "cell_type": "code",
   "execution_count": 25,
   "id": "4ae360ea",
   "metadata": {
    "ExecuteTime": {
     "end_time": "2024-09-24T06:25:36.126493Z",
     "start_time": "2024-09-24T06:25:33.548944Z"
    }
   },
   "outputs": [],
   "source": [
    "# 对RSSI求平均值处理\n",
    "for i in range(2,10):\n",
    "    resource.iloc[:,i]=resource.iloc[:,i].apply(lambda x: sum(eval(x))/len(eval(x)))"
   ]
  },
  {
   "cell_type": "code",
   "execution_count": 26,
   "id": "1d6225a6",
   "metadata": {
    "ExecuteTime": {
     "end_time": "2024-09-24T06:25:52.637863Z",
     "start_time": "2024-09-24T06:25:52.572759Z"
    }
   },
   "outputs": [
    {
     "name": "stdout",
     "output_type": "stream",
     "text": [
      "0     -15.333333\n",
      "1     -32.666667\n",
      "2     -35.000000\n",
      "3      15.333333\n",
      "4      32.666667\n",
      "         ...    \n",
      "645    25.303571\n",
      "646    27.983051\n",
      "647    39.950000\n",
      "648    49.016667\n",
      "649    54.033333\n",
      "Name: sinr, Length: 650, dtype: float64\n"
     ]
    }
   ],
   "source": [
    "# 信干比采取dbm直接相减得到db\n",
    "def func(x, y, state):\n",
    "    if state == 0:\n",
    "        return x + 100\n",
    "    else:\n",
    "        return x - y\n",
    "\n",
    "    \n",
    "# 创建一个新列来存储 SINR 计算的结果\n",
    "sinr = []\n",
    "df = resource\n",
    "# 遍历 DataFrame 的每一行\n",
    "for i in range(len(df)):\n",
    "    if i % 2 == 0:  # 偶数行\n",
    "        result = func(df.iloc[i, list(df.columns).index('sta_from_ap_1_sum_ant_rssi')], df.iloc[i, list(df.columns).index('sta_from_ap_0_sum_ant_rssi')],df.iloc[i, list(df.columns).index('state')])\n",
    "    else:  # 奇数行\n",
    "        result = func(df.iloc[i, list(df.columns).index('sta_from_ap_0_sum_ant_rssi')], df.iloc[i, list(df.columns).index('sta_from_ap_1_sum_ant_rssi')],df.iloc[i, list(df.columns).index('state')])\n",
    "    sinr.append(result)\n",
    "\n",
    "# 将计算结果添加为新列\n",
    "df['sinr'] = sinr\n",
    "\n",
    "# 输出结果\n",
    "print(df['sinr'])"
   ]
  },
  {
   "cell_type": "code",
   "execution_count": 27,
   "id": "92144d68",
   "metadata": {
    "ExecuteTime": {
     "end_time": "2024-09-24T06:26:00.029462Z",
     "start_time": "2024-09-24T06:26:00.019601Z"
    }
   },
   "outputs": [
    {
     "name": "stdout",
     "output_type": "stream",
     "text": [
      "<class 'pandas.core.frame.DataFrame'>\n",
      "RangeIndex: 650 entries, 0 to 649\n",
      "Data columns (total 23 columns):\n",
      " #   Column                      Non-Null Count  Dtype  \n",
      "---  ------                      --------------  -----  \n",
      " 0   protocol                    650 non-null    object \n",
      " 1   nav                         650 non-null    int64  \n",
      " 2   ap_from_ap_0_sum_ant_rssi   650 non-null    object \n",
      " 3   ap_from_ap_1_sum_ant_rssi   650 non-null    object \n",
      " 4   sta_to_ap_0_sum_ant_rssi    650 non-null    object \n",
      " 5   sta_to_ap_1_sum_ant_rssi    650 non-null    object \n",
      " 6   sta_to_ap_2_sum_ant_rssi    650 non-null    object \n",
      " 7   sta_from_ap_0_sum_ant_rssi  650 non-null    object \n",
      " 8   sta_from_ap_1_sum_ant_rssi  650 non-null    object \n",
      " 9   sta_from_ap_2_sum_ant_rssi  650 non-null    object \n",
      " 10  sta_from_sta_0_rssi         650 non-null    float64\n",
      " 11  sta_from_sta_1_rssi         650 non-null    float64\n",
      " 12  nss                         650 non-null    int64  \n",
      " 13  mcs                         650 non-null    int64  \n",
      " 14  seq_time                    650 non-null    float64\n",
      " 15  pro_pd_0                    650 non-null    float64\n",
      " 16  pro_ed_0                    650 non-null    float64\n",
      " 17  pro_nav_0                   650 non-null    float64\n",
      " 18  pro_pd_1                    650 non-null    float64\n",
      " 19  pro_ed_1                    650 non-null    float64\n",
      " 20  pro_nav_1                   650 non-null    float64\n",
      " 21  state                       650 non-null    int32  \n",
      " 22  sinr                        650 non-null    float64\n",
      "dtypes: float64(10), int32(1), int64(3), object(9)\n",
      "memory usage: 114.4+ KB\n"
     ]
    }
   ],
   "source": [
    "target=resource[['nss','mcs']]\n",
    "# resource=resource.drop(['nss','mcs'],axis=1)\n",
    "resource.info()"
   ]
  },
  {
   "cell_type": "code",
   "execution_count": 28,
   "id": "29356774",
   "metadata": {
    "ExecuteTime": {
     "end_time": "2024-09-24T06:26:11.280156Z",
     "start_time": "2024-09-24T06:26:11.275502Z"
    }
   },
   "outputs": [],
   "source": [
    "resource.iloc[:,0]=resource.iloc[:,0].astype(str).map({'tcp':1,'udp':0})"
   ]
  },
  {
   "cell_type": "code",
   "execution_count": 21,
   "id": "15cb4ccc",
   "metadata": {
    "ExecuteTime": {
     "end_time": "2024-09-24T02:12:10.148408Z",
     "start_time": "2024-09-24T02:12:10.145207Z"
    }
   },
   "outputs": [],
   "source": [
    "# import pandas as pd\n",
    "# from scipy import stats\n",
    "# df = resource\n",
    "# # 假设已有 DataFrame 'df'，包含 'state' 和 'sinr' 两列数据\n",
    "\n",
    "# # 分别提取 state = 0 和 state ≠ 0 的 sinr 值\n",
    "# sinr_state_0 = df[df['state'] == 0]['sinr']\n",
    "# sinr_state_non_0 = df[df['state'] != 0]['sinr']\n",
    "\n",
    "# # 进行独立样本t检验\n",
    "# t_stat, p_value = stats.ttest_ind(sinr_state_0, sinr_state_non_0)\n",
    "\n",
    "# # 输出结果\n",
    "# print(f\"T-statistic: {t_stat}, P-value: {p_value}\")\n",
    "\n",
    "# # 分析结果\n",
    "# if p_value < 0.05:\n",
    "#     print(\"sinr在state为0和state不为0的样本之间存在显著差异。\")\n",
    "#     if sinr_state_0.mean() > sinr_state_non_0.mean():\n",
    "#         print(\"sinr在state为0时更大。\")\n",
    "#     else:\n",
    "#         print(\"sinr在state为0时更小。\")\n",
    "# else:\n",
    "#     print(\"sinr在state为0和state不为0的样本之间没有显著差异。\")"
   ]
  },
  {
   "cell_type": "markdown",
   "id": "2b35e0cd",
   "metadata": {},
   "source": [
    "# 构造nss,mcs字典"
   ]
  },
  {
   "cell_type": "code",
   "execution_count": 29,
   "id": "d8bf0ea9",
   "metadata": {
    "ExecuteTime": {
     "end_time": "2024-09-24T06:26:15.598650Z",
     "start_time": "2024-09-24T06:26:15.593926Z"
    }
   },
   "outputs": [],
   "source": [
    "nss_mcs_dict=dict()\n",
    "phy=[8.6,17.2,25.8,34.4,51.6,68.8,77.4,86.0,103.2,114.7,129.0,143.4,17.2,34.4,51.6,68.8,103.2,137.6,154.9,172.1,206.5,\n",
    "    229.4,258.1,286.8]\n",
    "num=0\n",
    "\n",
    "for i in range(1,3):\n",
    "    for j in range(0,12):\n",
    "        nss_mcs_dict[(i,j)]=phy[num]\n",
    "        num+=1"
   ]
  },
  {
   "cell_type": "markdown",
   "id": "3677b61b",
   "metadata": {
    "ExecuteTime": {
     "end_time": "2024-09-23T11:42:51.592488Z",
     "start_time": "2024-09-23T11:42:51.588488Z"
    },
    "heading_collapsed": true
   },
   "source": [
    "# 相关性分析"
   ]
  },
  {
   "cell_type": "code",
   "execution_count": null,
   "id": "70bd3dc2",
   "metadata": {
    "ExecuteTime": {
     "end_time": "2024-09-23T14:03:41.530205Z",
     "start_time": "2024-09-23T14:03:41.530205Z"
    },
    "hidden": true
   },
   "outputs": [],
   "source": [
    "import matplotlib.pyplot as plt\n",
    "pearson_correlation=resource.corr(method='pearson')\n",
    "spearman_correlation=resource.corr(method='spearman')\n",
    "# 0.8~1的话为极强相关，0.6~0.8之间为强相关,0.4~0.6的话为中等强度相关,0.2~0.4之间为弱相关，0.0~0.2极弱或无相关\n",
    "plt.imshow(pearson_correlation,cmap='coolwarm')\n",
    "a=plt.gca()\n",
    "a.set_yticks(range(len(resource_columns)))\n",
    "a.set_yticklabels(resource_columns)\n",
    "a.set_xticks(range(len(resource_columns)))\n",
    "# a.set_xticklabels(resource_1_columns)\n",
    "plt.show()"
   ]
  },
  {
   "cell_type": "code",
   "execution_count": null,
   "id": "72f431a3",
   "metadata": {
    "ExecuteTime": {
     "end_time": "2024-09-23T14:03:41.531096Z",
     "start_time": "2024-09-23T14:03:41.531096Z"
    },
    "hidden": true
   },
   "outputs": [],
   "source": [
    "plt.imshow(spearman_correlation,cmap='coolwarm')\n",
    "a=plt.gca()\n",
    "a.set_yticks(range(len(resource_columns)))\n",
    "a.set_yticklabels(resource_columns)\n",
    "a.set_xticks(range(len(resource_columns)))\n",
    "# a.set_xticklabels(resource_1_columns)\n",
    "plt.show()"
   ]
  },
  {
   "cell_type": "code",
   "execution_count": null,
   "id": "65e0e5da",
   "metadata": {
    "ExecuteTime": {
     "end_time": "2024-09-23T13:41:46.578226Z",
     "start_time": "2024-09-23T13:41:46.516015Z"
    },
    "hidden": true
   },
   "outputs": [],
   "source": []
  },
  {
   "cell_type": "code",
   "execution_count": 28,
   "id": "1e8a0428",
   "metadata": {
    "ExecuteTime": {
     "end_time": "2024-09-23T14:04:29.828033Z",
     "start_time": "2024-09-23T14:04:29.819515Z"
    },
    "hidden": true
   },
   "outputs": [
    {
     "name": "stdout",
     "output_type": "stream",
     "text": [
      "<class 'pandas.core.frame.DataFrame'>\n",
      "Index: 345 entries, 0 to 76\n",
      "Data columns (total 14 columns):\n",
      " #   Column                      Non-Null Count  Dtype  \n",
      "---  ------                      --------------  -----  \n",
      " 0   protocol                    345 non-null    object \n",
      " 1   nav                         345 non-null    int64  \n",
      " 2   ap_from_ap_0_sum_ant_rssi   345 non-null    object \n",
      " 3   sta_to_ap_0_sum_ant_rssi    345 non-null    object \n",
      " 4   sta_to_ap_1_sum_ant_rssi    345 non-null    object \n",
      " 5   sta_from_ap_0_sum_ant_rssi  345 non-null    object \n",
      " 6   sta_from_ap_1_sum_ant_rssi  345 non-null    object \n",
      " 7   sta_from_sta_0_rssi         345 non-null    float64\n",
      " 8   seq_time                    345 non-null    float64\n",
      " 9   pro_pd                      345 non-null    float64\n",
      " 10  pro_ed                      345 non-null    float64\n",
      " 11  pro_nav                     345 non-null    float64\n",
      " 12  state                       345 non-null    int32  \n",
      " 13  sinr                        345 non-null    float64\n",
      "dtypes: float64(6), int32(1), int64(1), object(6)\n",
      "memory usage: 39.1+ KB\n"
     ]
    }
   ],
   "source": [
    "resource.info()"
   ]
  },
  {
   "cell_type": "code",
   "execution_count": 29,
   "id": "02ae225c",
   "metadata": {
    "ExecuteTime": {
     "end_time": "2024-09-23T14:04:32.151957Z",
     "start_time": "2024-09-23T14:04:32.144922Z"
    },
    "hidden": true
   },
   "outputs": [
    {
     "name": "stdout",
     "output_type": "stream",
     "text": [
      "<class 'pandas.core.frame.DataFrame'>\n",
      "Index: 345 entries, 0 to 76\n",
      "Data columns (total 2 columns):\n",
      " #   Column  Non-Null Count  Dtype\n",
      "---  ------  --------------  -----\n",
      " 0   nss     345 non-null    int64\n",
      " 1   mcs     345 non-null    int64\n",
      "dtypes: int64(2)\n",
      "memory usage: 8.1 KB\n"
     ]
    }
   ],
   "source": [
    "target.info()"
   ]
  },
  {
   "cell_type": "markdown",
   "id": "7dbbff14",
   "metadata": {
    "heading_collapsed": true
   },
   "source": [
    "# SINR_总情况"
   ]
  },
  {
   "cell_type": "code",
   "execution_count": 22,
   "id": "b13f76cd",
   "metadata": {
    "ExecuteTime": {
     "end_time": "2024-09-24T02:18:39.692599Z",
     "start_time": "2024-09-24T02:18:32.283592Z"
    },
    "hidden": true
   },
   "outputs": [],
   "source": [
    "from sklearn.ensemble import RandomForestRegressor\n",
    "\n",
    "rfg0=RandomForestRegressor(n_estimators=100,criterion='friedman_mse',random_state=0,oob_score=False)\n",
    "\n",
    "target_phy=[]\n",
    "for idx,s in target.iterrows():\n",
    "    target_phy.append(nss_mcs_dict[s['nss'],s['mcs']])\n",
    "\n",
    "# target_0_phy=pd.DataFrame(target_0_phy)\n",
    "\n",
    "rfg0=rfg0.fit(resource,target_phy)\n",
    "\n",
    "# rfg0=RandomForestRegressor(n_estimators=100,criterion='friedman_mse',random_state=0,oob_score=False)\n",
    "# rfg0=rfg0.fit(resource,target_0.to_numpy())\n",
    "from sklearn.model_selection import cross_val_score\n",
    "\n",
    "res=cross_val_score(rfg0,resource,target_phy,cv=10)"
   ]
  },
  {
   "cell_type": "code",
   "execution_count": 23,
   "id": "ddb2153c",
   "metadata": {
    "ExecuteTime": {
     "end_time": "2024-09-24T02:18:43.695706Z",
     "start_time": "2024-09-24T02:18:43.691077Z"
    },
    "hidden": true
   },
   "outputs": [
    {
     "data": {
      "text/plain": [
       "array([-9.24078475e+25, -3.15716775e+28, -1.40665702e+27, -6.90294808e+24,\n",
       "        5.33739700e-01,  2.68019466e-02,  1.19765623e-01, -1.28264582e+29,\n",
       "       -1.17046002e+01, -1.98668057e+00])"
      ]
     },
     "execution_count": 23,
     "metadata": {},
     "output_type": "execute_result"
    }
   ],
   "source": [
    "res"
   ]
  },
  {
   "cell_type": "code",
   "execution_count": 24,
   "id": "6d48ccf6",
   "metadata": {
    "ExecuteTime": {
     "end_time": "2024-09-24T02:18:46.133732Z",
     "start_time": "2024-09-24T02:18:46.129038Z"
    },
    "hidden": true
   },
   "outputs": [
    {
     "data": {
      "text/plain": [
       "-1.6134222770512663e+28"
      ]
     },
     "execution_count": 24,
     "metadata": {},
     "output_type": "execute_result"
    }
   ],
   "source": [
    "res.mean()"
   ]
  },
  {
   "cell_type": "markdown",
   "id": "59ff83a1",
   "metadata": {},
   "source": [
    "# 分成三份"
   ]
  },
  {
   "cell_type": "code",
   "execution_count": 30,
   "id": "0cb49de4",
   "metadata": {
    "ExecuteTime": {
     "end_time": "2024-09-24T06:27:21.929130Z",
     "start_time": "2024-09-24T06:27:21.920302Z"
    }
   },
   "outputs": [],
   "source": [
    "child=resource.groupby('state')\n",
    "\n",
    "child_0=list(child)[0][1] #完全同步\n",
    "child_1=list(child)[0][1] # 大量异步\n",
    "child_2=list(child)[0][1]  # 混合情况\n",
    "\n",
    "child_0.index=range(child_0.shape[0])\n",
    "child_1.index=range(child_1.shape[0])\n",
    "child_2.index=range(child_2.shape[0])"
   ]
  },
  {
   "cell_type": "code",
   "execution_count": 31,
   "id": "4fd497e8",
   "metadata": {
    "ExecuteTime": {
     "end_time": "2024-09-24T06:27:26.659920Z",
     "start_time": "2024-09-24T06:27:26.651647Z"
    }
   },
   "outputs": [],
   "source": [
    "# 删除列并取出目标值\n",
    "target_0=child_0[['nss','mcs']]\n",
    "target_1=child_1[['nss','mcs']]\n",
    "target_2=child_2[['nss','mcs']]\n",
    "\n",
    "child_0=child_0.drop(['mcs','nss','state'],axis=1)\n",
    "child_1=child_1.drop(['mcs','nss','state'],axis=1)\n",
    "child_2=child_2.drop(['mcs','nss','state'],axis=1)"
   ]
  },
  {
   "cell_type": "markdown",
   "id": "5dd2c6dc",
   "metadata": {},
   "source": [
    "# child_0情况"
   ]
  },
  {
   "cell_type": "code",
   "execution_count": 32,
   "id": "2d5285a1",
   "metadata": {
    "ExecuteTime": {
     "end_time": "2024-09-24T06:27:38.741515Z",
     "start_time": "2024-09-24T06:27:29.553870Z"
    }
   },
   "outputs": [],
   "source": [
    "from sklearn.ensemble import RandomForestRegressor\n",
    "\n",
    "rfg0=RandomForestRegressor(n_estimators=100,criterion='friedman_mse',random_state=0,oob_score=False)\n",
    "\n",
    "target_0_phy=[]\n",
    "for idx,s in target_0.iterrows():\n",
    "    target_0_phy.append(nss_mcs_dict[s['nss'],s['mcs']])\n",
    "\n",
    "# target_0_phy=pd.DataFrame(target_0_phy)\n",
    "\n",
    "rfg0=rfg0.fit(child_0,target_0_phy)\n",
    "\n",
    "# rfg0=RandomForestRegressor(n_estimators=100,criterion='friedman_mse',random_state=0,oob_score=False)\n",
    "# rfg0=rfg0.fit(resource,target_0.to_numpy())\n",
    "from sklearn.model_selection import cross_val_score\n",
    "\n",
    "res=cross_val_score(rfg0,child_0,target_0_phy,cv=10)"
   ]
  },
  {
   "cell_type": "code",
   "execution_count": 33,
   "id": "8fd73406",
   "metadata": {
    "ExecuteTime": {
     "end_time": "2024-09-24T06:27:39.993702Z",
     "start_time": "2024-09-24T06:27:39.988854Z"
    }
   },
   "outputs": [
    {
     "data": {
      "text/plain": [
       "0.28532444849473004"
      ]
     },
     "execution_count": 33,
     "metadata": {},
     "output_type": "execute_result"
    }
   ],
   "source": [
    "res.mean()"
   ]
  },
  {
   "cell_type": "code",
   "execution_count": 34,
   "id": "e914b1d6",
   "metadata": {
    "ExecuteTime": {
     "end_time": "2024-09-24T06:27:40.868273Z",
     "start_time": "2024-09-24T06:27:40.862848Z"
    }
   },
   "outputs": [
    {
     "data": {
      "text/plain": [
       "array([ 0.        ,  0.21622193,  0.44959683,  0.43638051,  0.71084219,\n",
       "        0.57273752,  0.07515596,  0.36756264,  0.18568441, -0.16093752])"
      ]
     },
     "execution_count": 34,
     "metadata": {},
     "output_type": "execute_result"
    }
   ],
   "source": [
    "res"
   ]
  },
  {
   "cell_type": "markdown",
   "id": "9ba4351a",
   "metadata": {},
   "source": [
    "# child_1情况"
   ]
  },
  {
   "cell_type": "code",
   "execution_count": 27,
   "id": "14d3075e",
   "metadata": {
    "ExecuteTime": {
     "end_time": "2024-09-24T01:55:41.536269Z",
     "start_time": "2024-09-24T01:55:34.878979Z"
    }
   },
   "outputs": [],
   "source": [
    "from sklearn.ensemble import RandomForestRegressor\n",
    "\n",
    "rfg1=RandomForestRegressor(n_estimators=100,criterion='friedman_mse',random_state=0,oob_score=False)\n",
    "\n",
    "target_1_phy=[]\n",
    "for idx,s in target_1.iterrows():\n",
    "    target_1_phy.append(nss_mcs_dict[s['nss'],s['mcs']])\n",
    "\n",
    "\n",
    "rfg1=rfg1.fit(child_1,target_1_phy)\n",
    "\n",
    "# rfg0=RandomForestRegressor(n_estimators=100,criterion='friedman_mse',random_state=0,oob_score=False)\n",
    "# rfg0=rfg0.fit(resource,target_0.to_numpy())\n",
    "from sklearn.model_selection import cross_val_score\n",
    "\n",
    "res=cross_val_score(rfg1,child_1,target_1_phy,cv=10)"
   ]
  },
  {
   "cell_type": "code",
   "execution_count": 28,
   "id": "6805ab35",
   "metadata": {
    "ExecuteTime": {
     "end_time": "2024-09-24T01:55:43.710444Z",
     "start_time": "2024-09-24T01:55:43.704792Z"
    }
   },
   "outputs": [
    {
     "data": {
      "text/plain": [
       "array([ 0.        ,  0.        ,  0.        ,  0.        , -0.03219007,\n",
       "        0.84663934,  0.581401  ,  0.        , -1.17453336, -0.06932281])"
      ]
     },
     "execution_count": 28,
     "metadata": {},
     "output_type": "execute_result"
    }
   ],
   "source": [
    "res"
   ]
  },
  {
   "cell_type": "code",
   "execution_count": 29,
   "id": "64150679",
   "metadata": {
    "ExecuteTime": {
     "end_time": "2024-09-24T01:55:44.931545Z",
     "start_time": "2024-09-24T01:55:44.927035Z"
    }
   },
   "outputs": [
    {
     "data": {
      "text/plain": [
       "0.015199409085189375"
      ]
     },
     "execution_count": 29,
     "metadata": {},
     "output_type": "execute_result"
    }
   ],
   "source": [
    "res.mean()"
   ]
  },
  {
   "cell_type": "markdown",
   "id": "eeba6a45",
   "metadata": {},
   "source": [
    "# child_2情况"
   ]
  },
  {
   "cell_type": "code",
   "execution_count": null,
   "id": "38fdb19c",
   "metadata": {},
   "outputs": [],
   "source": [
    "# from sklearn.ensemble import RandomForestRegressor\n",
    "\n",
    "# rfg1=RandomForestRegressor(n_estimators=100,criterion='friedman_mse',random_state=0,oob_score=False)\n",
    "\n",
    "# target_1_phy=[]\n",
    "# for idx,s in target_1.iterrows():\n",
    "#     target_1_phy.append(nss_mcs_dict[s['nss'],s['mcs']])\n",
    "\n",
    "\n",
    "# rfg1=rfg1.fit(child_1,target_1_phy)\n",
    "\n",
    "# # rfg0=RandomForestRegressor(n_estimators=100,criterion='friedman_mse',random_state=0,oob_score=False)\n",
    "# # rfg0=rfg0.fit(resource,target_0.to_numpy())\n",
    "# from sklearn.model_selection import cross_val_score\n",
    "\n",
    "# res=cross_val_score(rfg1,child_1,target_1_phy,cv=10)"
   ]
  },
  {
   "cell_type": "code",
   "execution_count": 35,
   "id": "79bbe5e1",
   "metadata": {
    "ExecuteTime": {
     "end_time": "2024-09-24T06:32:01.863922Z",
     "start_time": "2024-09-24T06:32:01.860858Z"
    }
   },
   "outputs": [],
   "source": [
    "# from sklearn.ensemble import RandomForestClassifier\n",
    "\n",
    "# rfg1=RandomForestRegressor(n_estimators=100,criterion='gini',random_state=0,oob_score=False)\n",
    "# rfg1=rfg1.fit(child_1,target_1[''])\n",
    "\n",
    "# # rfg0=RandomForestRegressor(n_estimators=100,criterion='friedman_mse',random_state=0,oob_score=False)\n",
    "# # rfg0=rfg0.fit(resource,target_0.to_numpy())\n",
    "# from sklearn.model_selection import cross_val_score\n",
    "\n",
    "# res=cross_val_score(rfg1,child_1,target_1,cv=10)"
   ]
  },
  {
   "cell_type": "code",
   "execution_count": null,
   "id": "d8c4a756",
   "metadata": {},
   "outputs": [],
   "source": []
  },
  {
   "cell_type": "code",
   "execution_count": null,
   "id": "ed35d4a0",
   "metadata": {},
   "outputs": [],
   "source": []
  },
  {
   "cell_type": "code",
   "execution_count": null,
   "id": "d33bdeae",
   "metadata": {},
   "outputs": [],
   "source": []
  }
 ],
 "metadata": {
  "kernelspec": {
   "display_name": "Python 3 (ipykernel)",
   "language": "python",
   "name": "python3"
  },
  "language_info": {
   "codemirror_mode": {
    "name": "ipython",
    "version": 3
   },
   "file_extension": ".py",
   "mimetype": "text/x-python",
   "name": "python",
   "nbconvert_exporter": "python",
   "pygments_lexer": "ipython3",
   "version": "3.11.4"
  },
  "toc": {
   "base_numbering": 1,
   "nav_menu": {},
   "number_sections": false,
   "sideBar": true,
   "skip_h1_title": false,
   "title_cell": "Table of Contents",
   "title_sidebar": "Contents",
   "toc_cell": false,
   "toc_position": {},
   "toc_section_display": true,
   "toc_window_display": false
  },
  "varInspector": {
   "cols": {
    "lenName": 16,
    "lenType": 16,
    "lenVar": 40
   },
   "kernels_config": {
    "python": {
     "delete_cmd_postfix": "",
     "delete_cmd_prefix": "del ",
     "library": "var_list.py",
     "varRefreshCmd": "print(var_dic_list())"
    },
    "r": {
     "delete_cmd_postfix": ") ",
     "delete_cmd_prefix": "rm(",
     "library": "var_list.r",
     "varRefreshCmd": "cat(var_dic_list()) "
    }
   },
   "types_to_exclude": [
    "module",
    "function",
    "builtin_function_or_method",
    "instance",
    "_Feature"
   ],
   "window_display": false
  }
 },
 "nbformat": 4,
 "nbformat_minor": 5
}
