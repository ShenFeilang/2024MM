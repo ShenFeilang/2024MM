{
 "cells": [
  {
   "cell_type": "code",
   "execution_count": 2,
   "id": "0bf9af82",
   "metadata": {
    "ExecuteTime": {
     "end_time": "2024-09-24T19:55:27.511270Z",
     "start_time": "2024-09-24T19:55:27.024541Z"
    }
   },
   "outputs": [],
   "source": [
    "import numpy as np\n",
    "import pandas as pd"
   ]
  },
  {
   "cell_type": "code",
   "execution_count": 3,
   "id": "5e31f6b2",
   "metadata": {
    "ExecuteTime": {
     "end_time": "2024-09-24T19:55:28.908930Z",
     "start_time": "2024-09-24T19:55:28.868450Z"
    }
   },
   "outputs": [],
   "source": [
    "resource=pd.read_csv('RAWDATA/test_set_2_3ap.csv')\n"
   ]
  },
  {
   "cell_type": "code",
   "execution_count": 4,
   "id": "d8807f3f",
   "metadata": {
    "ExecuteTime": {
     "end_time": "2024-09-24T19:55:29.941214Z",
     "start_time": "2024-09-24T19:55:29.931635Z"
    }
   },
   "outputs": [
    {
     "name": "stdout",
     "output_type": "stream",
     "text": [
      "<class 'pandas.core.frame.DataFrame'>\n",
      "RangeIndex: 87 entries, 0 to 86\n",
      "Data columns (total 56 columns):\n",
      " #   Column                       Non-Null Count  Dtype  \n",
      "---  ------                       --------------  -----  \n",
      " 0   test_id                      87 non-null     int64  \n",
      " 1   test_dur                     87 non-null     int64  \n",
      " 2   loc_id                       87 non-null     object \n",
      " 3   protocol                     87 non-null     object \n",
      " 4   pkt_len                      87 non-null     int64  \n",
      " 5   bss_id                       87 non-null     int64  \n",
      " 6   ap_name                      87 non-null     object \n",
      " 7   ap_mac                       87 non-null     object \n",
      " 8   ap_id                        87 non-null     object \n",
      " 9   pd                           87 non-null     int64  \n",
      " 10  ed                           87 non-null     int64  \n",
      " 11  nav                          87 non-null     int64  \n",
      " 12  eirp                         87 non-null     int64  \n",
      " 13  ap_from_ap_0_sum_ant_rssi    58 non-null     object \n",
      " 14  ap_from_ap_0_max_ant_rssi    58 non-null     object \n",
      " 15  ap_from_ap_0_mean_ant_rssi   58 non-null     object \n",
      " 16  ap_from_ap_1_sum_ant_rssi    58 non-null     object \n",
      " 17  ap_from_ap_1_max_ant_rssi    58 non-null     object \n",
      " 18  ap_from_ap_1_mean_ant_rssi   58 non-null     object \n",
      " 19  ap_from_ap_2_sum_ant_rssi    58 non-null     object \n",
      " 20  ap_from_ap_2_max_ant_rssi    58 non-null     object \n",
      " 21  ap_from_ap_2_mean_ant_rssi   58 non-null     object \n",
      " 22  sta_mac                      87 non-null     object \n",
      " 23  sta_id                       87 non-null     object \n",
      " 24  sta_to_ap_0_sum_ant_rssi     87 non-null     object \n",
      " 25  sta_to_ap_0_max_ant_rssi     87 non-null     object \n",
      " 26  sta_to_ap_0_mean_ant_rssi    87 non-null     object \n",
      " 27  sta_to_ap_1_sum_ant_rssi     87 non-null     object \n",
      " 28  sta_to_ap_1_max_ant_rssi     87 non-null     object \n",
      " 29  sta_to_ap_1_mean_ant_rssi    87 non-null     object \n",
      " 30  sta_to_ap_2_sum_ant_rssi     87 non-null     object \n",
      " 31  sta_to_ap_2_max_ant_rssi     87 non-null     object \n",
      " 32  sta_to_ap_2_mean_ant_rssi    87 non-null     object \n",
      " 33  sta_from_ap_0_sum_ant_rssi   87 non-null     object \n",
      " 34  sta_from_ap_0_max_ant_rssi   87 non-null     object \n",
      " 35  sta_from_ap_0_mean_ant_rssi  87 non-null     object \n",
      " 36  sta_from_ap_1_sum_ant_rssi   87 non-null     object \n",
      " 37  sta_from_ap_1_max_ant_rssi   87 non-null     object \n",
      " 38  sta_from_ap_1_mean_ant_rssi  87 non-null     object \n",
      " 39  sta_from_ap_2_sum_ant_rssi   87 non-null     object \n",
      " 40  sta_from_ap_2_max_ant_rssi   87 non-null     object \n",
      " 41  sta_from_ap_2_mean_ant_rssi  87 non-null     object \n",
      " 42  sta_from_sta_0_rssi          58 non-null     float64\n",
      " 43  sta_from_sta_1_rssi          58 non-null     float64\n",
      " 44  sta_from_sta_2_rssi          58 non-null     float64\n",
      " 45  nss                          0 non-null      float64\n",
      " 46  mcs                          0 non-null      float64\n",
      " 47  per                          0 non-null      float64\n",
      " 48  num_ampdu                    0 non-null      float64\n",
      " 49  ppdu_dur                     0 non-null      float64\n",
      " 50  other_air_time               0 non-null      float64\n",
      " 51  seq_time                     87 non-null     float64\n",
      " 52  throughput                   0 non-null      float64\n",
      " 53  predict nss                  0 non-null      float64\n",
      " 54  predict mcs                  0 non-null      float64\n",
      " 55  error%                       0 non-null      float64\n",
      "dtypes: float64(14), int64(8), object(34)\n",
      "memory usage: 38.2+ KB\n"
     ]
    }
   ],
   "source": [
    "resource.info()"
   ]
  },
  {
   "cell_type": "code",
   "execution_count": 4,
   "id": "47ed8091",
   "metadata": {
    "ExecuteTime": {
     "end_time": "2024-09-24T14:47:30.422607Z",
     "start_time": "2024-09-24T14:47:30.417075Z"
    }
   },
   "outputs": [],
   "source": [
    "columns=[0,1,2,4,6,7,8,12,22,23,25,26,28,29,31,32,34,35,37,38,40,41,47,48,49,50,52,53,54,55] #这里没删bss_id，为了后续合并空白值计算\n",
    "resource=resource.drop(resource.columns[columns],axis=1)\n",
    "resource.index=range(resource.shape[0])"
   ]
  },
  {
   "cell_type": "code",
   "execution_count": 5,
   "id": "b2c6d8b6",
   "metadata": {
    "ExecuteTime": {
     "end_time": "2024-09-24T14:47:31.436260Z",
     "start_time": "2024-09-24T14:47:31.432754Z"
    }
   },
   "outputs": [],
   "source": [
    "# resource.to_excel('temp.xlsx')"
   ]
  },
  {
   "cell_type": "code",
   "execution_count": 6,
   "id": "39753fa9",
   "metadata": {
    "ExecuteTime": {
     "end_time": "2024-09-24T14:47:32.487047Z",
     "start_time": "2024-09-24T14:47:32.481037Z"
    }
   },
   "outputs": [],
   "source": [
    "resource=resource.drop(range(551,608),axis=0)  #删除指定有空值的行\n",
    "resource.index=range(resource.shape[0])"
   ]
  },
  {
   "cell_type": "code",
   "execution_count": 7,
   "id": "86a1dca2",
   "metadata": {
    "ExecuteTime": {
     "end_time": "2024-09-24T14:47:33.506167Z",
     "start_time": "2024-09-24T14:47:33.502640Z"
    }
   },
   "outputs": [],
   "source": [
    "# resource.to_excel('temp.xlsx')"
   ]
  },
  {
   "cell_type": "code",
   "execution_count": 8,
   "id": "93d9617d",
   "metadata": {
    "ExecuteTime": {
     "end_time": "2024-09-24T14:47:34.494946Z",
     "start_time": "2024-09-24T14:47:34.485201Z"
    }
   },
   "outputs": [
    {
     "name": "stdout",
     "output_type": "stream",
     "text": [
      "<class 'pandas.core.frame.DataFrame'>\n",
      "RangeIndex: 650 entries, 0 to 649\n",
      "Data columns (total 26 columns):\n",
      " #   Column                      Non-Null Count  Dtype  \n",
      "---  ------                      --------------  -----  \n",
      " 0   protocol                    650 non-null    object \n",
      " 1   bss_id                      650 non-null    int64  \n",
      " 2   pd                          650 non-null    int64  \n",
      " 3   ed                          650 non-null    int64  \n",
      " 4   nav                         650 non-null    int64  \n",
      " 5   ap_from_ap_0_sum_ant_rssi   433 non-null    object \n",
      " 6   ap_from_ap_0_max_ant_rssi   433 non-null    object \n",
      " 7   ap_from_ap_0_mean_ant_rssi  433 non-null    object \n",
      " 8   ap_from_ap_1_sum_ant_rssi   433 non-null    object \n",
      " 9   ap_from_ap_1_max_ant_rssi   433 non-null    object \n",
      " 10  ap_from_ap_1_mean_ant_rssi  433 non-null    object \n",
      " 11  ap_from_ap_2_sum_ant_rssi   434 non-null    object \n",
      " 12  ap_from_ap_2_max_ant_rssi   434 non-null    object \n",
      " 13  ap_from_ap_2_mean_ant_rssi  434 non-null    object \n",
      " 14  sta_to_ap_0_sum_ant_rssi    650 non-null    object \n",
      " 15  sta_to_ap_1_sum_ant_rssi    650 non-null    object \n",
      " 16  sta_to_ap_2_sum_ant_rssi    650 non-null    object \n",
      " 17  sta_from_ap_0_sum_ant_rssi  650 non-null    object \n",
      " 18  sta_from_ap_1_sum_ant_rssi  650 non-null    object \n",
      " 19  sta_from_ap_2_sum_ant_rssi  650 non-null    object \n",
      " 20  sta_from_sta_0_rssi         433 non-null    float64\n",
      " 21  sta_from_sta_1_rssi         433 non-null    float64\n",
      " 22  sta_from_sta_2_rssi         434 non-null    float64\n",
      " 23  nss                         650 non-null    int64  \n",
      " 24  mcs                         650 non-null    int64  \n",
      " 25  seq_time                    650 non-null    float64\n",
      "dtypes: float64(4), int64(6), object(16)\n",
      "memory usage: 132.2+ KB\n"
     ]
    }
   ],
   "source": [
    "resource.info()"
   ]
  },
  {
   "cell_type": "code",
   "execution_count": 9,
   "id": "3f2c6674",
   "metadata": {
    "ExecuteTime": {
     "end_time": "2024-09-24T14:47:35.906350Z",
     "start_time": "2024-09-24T14:47:35.562024Z"
    }
   },
   "outputs": [],
   "source": [
    "for i in range(resource.shape[0]):\n",
    "    if resource.iloc[i,list(resource.columns).index('bss_id')]==2:\n",
    "        continue\n",
    "    else: \n",
    "        if resource.iloc[i,list(resource.columns).index('bss_id')]==0:\n",
    "            resource.iloc[i,list(resource.columns).index('ap_from_ap_0_sum_ant_rssi')]=resource.iloc[i,list(resource.columns).index('ap_from_ap_1_sum_ant_rssi')]\n",
    "            resource.iloc[i,list(resource.columns).index('ap_from_ap_0_max_ant_rssi')]=resource.iloc[i,list(resource.columns).index('ap_from_ap_1_max_ant_rssi')]\n",
    "            resource.iloc[i,list(resource.columns).index('ap_from_ap_0_mean_ant_rssi')]=resource.iloc[i,list(resource.columns).index('ap_from_ap_1_mean_ant_rssi')]\n",
    "            resource.iloc[i,list(resource.columns).index('sta_from_sta_0_rssi')]=resource.iloc[i,list(resource.columns).index('sta_from_sta_1_rssi')]\n",
    "        resource.iloc[i,list(resource.columns).index('ap_from_ap_1_sum_ant_rssi')]=resource.iloc[i,list(resource.columns).index('ap_from_ap_2_sum_ant_rssi')]\n",
    "        resource.iloc[i,list(resource.columns).index('ap_from_ap_1_max_ant_rssi')]=resource.iloc[i,list(resource.columns).index('ap_from_ap_2_max_ant_rssi')]\n",
    "        resource.iloc[i,list(resource.columns).index('ap_from_ap_1_mean_ant_rssi')]=resource.iloc[i,list(resource.columns).index('ap_from_ap_2_mean_ant_rssi')]\n",
    "        resource.iloc[i,list(resource.columns).index('sta_from_sta_1_rssi')]=resource.iloc[i,list(resource.columns).index('sta_from_sta_2_rssi')]"
   ]
  },
  {
   "cell_type": "code",
   "execution_count": 10,
   "id": "4c4c5d33",
   "metadata": {
    "ExecuteTime": {
     "end_time": "2024-09-24T14:47:37.071195Z",
     "start_time": "2024-09-24T14:47:37.067069Z"
    }
   },
   "outputs": [],
   "source": [
    "resource=resource.drop(['ap_from_ap_2_sum_ant_rssi',\n",
    "                       'ap_from_ap_2_max_ant_rssi','ap_from_ap_2_mean_ant_rssi','sta_from_sta_2_rssi'],axis=1)"
   ]
  },
  {
   "cell_type": "code",
   "execution_count": 11,
   "id": "8c13a6cc",
   "metadata": {
    "ExecuteTime": {
     "end_time": "2024-09-24T14:47:38.083192Z",
     "start_time": "2024-09-24T14:47:38.074011Z"
    }
   },
   "outputs": [
    {
     "name": "stdout",
     "output_type": "stream",
     "text": [
      "<class 'pandas.core.frame.DataFrame'>\n",
      "RangeIndex: 650 entries, 0 to 649\n",
      "Data columns (total 22 columns):\n",
      " #   Column                      Non-Null Count  Dtype  \n",
      "---  ------                      --------------  -----  \n",
      " 0   protocol                    650 non-null    object \n",
      " 1   bss_id                      650 non-null    int64  \n",
      " 2   pd                          650 non-null    int64  \n",
      " 3   ed                          650 non-null    int64  \n",
      " 4   nav                         650 non-null    int64  \n",
      " 5   ap_from_ap_0_sum_ant_rssi   650 non-null    object \n",
      " 6   ap_from_ap_0_max_ant_rssi   650 non-null    object \n",
      " 7   ap_from_ap_0_mean_ant_rssi  650 non-null    object \n",
      " 8   ap_from_ap_1_sum_ant_rssi   650 non-null    object \n",
      " 9   ap_from_ap_1_max_ant_rssi   650 non-null    object \n",
      " 10  ap_from_ap_1_mean_ant_rssi  650 non-null    object \n",
      " 11  sta_to_ap_0_sum_ant_rssi    650 non-null    object \n",
      " 12  sta_to_ap_1_sum_ant_rssi    650 non-null    object \n",
      " 13  sta_to_ap_2_sum_ant_rssi    650 non-null    object \n",
      " 14  sta_from_ap_0_sum_ant_rssi  650 non-null    object \n",
      " 15  sta_from_ap_1_sum_ant_rssi  650 non-null    object \n",
      " 16  sta_from_ap_2_sum_ant_rssi  650 non-null    object \n",
      " 17  sta_from_sta_0_rssi         650 non-null    float64\n",
      " 18  sta_from_sta_1_rssi         650 non-null    float64\n",
      " 19  nss                         650 non-null    int64  \n",
      " 20  mcs                         650 non-null    int64  \n",
      " 21  seq_time                    650 non-null    float64\n",
      "dtypes: float64(3), int64(6), object(13)\n",
      "memory usage: 111.8+ KB\n"
     ]
    }
   ],
   "source": [
    "resource.info()"
   ]
  },
  {
   "cell_type": "code",
   "execution_count": 12,
   "id": "91621e79",
   "metadata": {
    "ExecuteTime": {
     "end_time": "2024-09-24T14:47:38.879842Z",
     "start_time": "2024-09-24T14:47:38.873899Z"
    }
   },
   "outputs": [],
   "source": [
    "# 定义管理rssi，并创造出新特征值\n",
    "def cal_pd(apmax,pd):\n",
    "    apmax = eval(apmax)\n",
    "    comparison_result = [1 if x >= pd else 0 for x in apmax]\n",
    "    proportion_of_ones = sum(comparison_result) / len(apmax)\n",
    "    return proportion_of_ones\n",
    "\n",
    "def cal_ed(apmax,ed):\n",
    "    apmax = eval(apmax)\n",
    "    comparison_result = [1 if x >= ed else 0 for x in apmax]\n",
    "    proportion_of_ones = sum(comparison_result) / len(apmax)\n",
    "    return proportion_of_ones\n",
    "\n",
    "def cal_nav(apmean,nav):\n",
    "    apmean = eval(apmean)\n",
    "    comparison_result = [1 if x >= nav else 0 for x in apmean]\n",
    "\n",
    "    # 计算 1 的占比\n",
    "    proportion_of_ones = sum(comparison_result) / len(apmean)\n",
    "    return proportion_of_ones    "
   ]
  },
  {
   "cell_type": "code",
   "execution_count": 13,
   "id": "f0ccde03",
   "metadata": {
    "ExecuteTime": {
     "end_time": "2024-09-24T14:47:41.046179Z",
     "start_time": "2024-09-24T14:47:39.687102Z"
    }
   },
   "outputs": [],
   "source": [
    "resource['pro_pd_0'] = resource.apply(lambda row: cal_pd(row['ap_from_ap_0_max_ant_rssi'], row['pd']), axis=1)\n",
    "resource['pro_ed_0'] = resource.apply(lambda row: cal_ed(row['ap_from_ap_0_max_ant_rssi'], row['ed']), axis=1)\n",
    "resource['pro_nav_0'] = resource.apply(lambda row: cal_nav(row['ap_from_ap_0_mean_ant_rssi'], row['nav']), axis=1)\n",
    "\n",
    "resource['pro_pd_1'] = resource.apply(lambda row: cal_pd(row['ap_from_ap_1_max_ant_rssi'], row['pd']), axis=1)\n",
    "resource['pro_ed_1'] = resource.apply(lambda row: cal_ed(row['ap_from_ap_1_max_ant_rssi'], row['ed']), axis=1)\n",
    "resource['pro_nav_1'] = resource.apply(lambda row: cal_nav(row['ap_from_ap_1_mean_ant_rssi'], row['nav']), axis=1)"
   ]
  },
  {
   "cell_type": "code",
   "execution_count": 14,
   "id": "78d75111",
   "metadata": {
    "ExecuteTime": {
     "end_time": "2024-09-24T14:47:41.916477Z",
     "start_time": "2024-09-24T14:47:41.911459Z"
    }
   },
   "outputs": [],
   "source": [
    "drop_columns=['pd','ed','ap_from_ap_0_mean_ant_rssi','ap_from_ap_0_max_ant_rssi',\n",
    "              'ap_from_ap_1_mean_ant_rssi','ap_from_ap_1_max_ant_rssi']\n",
    "\n",
    "resource=resource.drop(drop_columns,axis=1)"
   ]
  },
  {
   "cell_type": "code",
   "execution_count": 15,
   "id": "1cb8f5b6",
   "metadata": {
    "ExecuteTime": {
     "end_time": "2024-09-24T14:47:43.029571Z",
     "start_time": "2024-09-24T14:47:43.019970Z"
    }
   },
   "outputs": [
    {
     "name": "stdout",
     "output_type": "stream",
     "text": [
      "<class 'pandas.core.frame.DataFrame'>\n",
      "RangeIndex: 650 entries, 0 to 649\n",
      "Data columns (total 22 columns):\n",
      " #   Column                      Non-Null Count  Dtype  \n",
      "---  ------                      --------------  -----  \n",
      " 0   protocol                    650 non-null    object \n",
      " 1   bss_id                      650 non-null    int64  \n",
      " 2   nav                         650 non-null    int64  \n",
      " 3   ap_from_ap_0_sum_ant_rssi   650 non-null    object \n",
      " 4   ap_from_ap_1_sum_ant_rssi   650 non-null    object \n",
      " 5   sta_to_ap_0_sum_ant_rssi    650 non-null    object \n",
      " 6   sta_to_ap_1_sum_ant_rssi    650 non-null    object \n",
      " 7   sta_to_ap_2_sum_ant_rssi    650 non-null    object \n",
      " 8   sta_from_ap_0_sum_ant_rssi  650 non-null    object \n",
      " 9   sta_from_ap_1_sum_ant_rssi  650 non-null    object \n",
      " 10  sta_from_ap_2_sum_ant_rssi  650 non-null    object \n",
      " 11  sta_from_sta_0_rssi         650 non-null    float64\n",
      " 12  sta_from_sta_1_rssi         650 non-null    float64\n",
      " 13  nss                         650 non-null    int64  \n",
      " 14  mcs                         650 non-null    int64  \n",
      " 15  seq_time                    650 non-null    float64\n",
      " 16  pro_pd_0                    650 non-null    float64\n",
      " 17  pro_ed_0                    650 non-null    float64\n",
      " 18  pro_nav_0                   650 non-null    float64\n",
      " 19  pro_pd_1                    650 non-null    float64\n",
      " 20  pro_ed_1                    650 non-null    float64\n",
      " 21  pro_nav_1                   650 non-null    float64\n",
      "dtypes: float64(9), int64(4), object(9)\n",
      "memory usage: 111.8+ KB\n"
     ]
    }
   ],
   "source": [
    "resource.info()"
   ]
  },
  {
   "cell_type": "code",
   "execution_count": 16,
   "id": "3fe51ddc",
   "metadata": {
    "ExecuteTime": {
     "end_time": "2024-09-24T14:47:46.522184Z",
     "start_time": "2024-09-24T14:47:44.108364Z"
    }
   },
   "outputs": [],
   "source": [
    "# 对RSSI求平均值处理\n",
    "for i in range(3,11):\n",
    "    resource.iloc[:,i]=resource.iloc[:,i].apply(lambda x: sum(eval(x))/len(eval(x)))"
   ]
  },
  {
   "cell_type": "code",
   "execution_count": null,
   "id": "864cc6c6",
   "metadata": {
    "ExecuteTime": {
     "end_time": "2024-09-24T14:47:46.575108Z",
     "start_time": "2024-09-24T14:47:46.575108Z"
    }
   },
   "outputs": [],
   "source": [
    "# # pro_ed的分布情况\n",
    "\n",
    "# import matplotlib.pyplot as plt\n",
    "\n",
    "# # Assuming df is your DataFrame and 'pro_ed' is the column of interest\n",
    "# pro_ed = resource['pro_ed']\n",
    "\n",
    "# # Calculate basic statistics\n",
    "# max_value = pro_ed.max()\n",
    "# min_value = pro_ed.min()\n",
    "# mean_value = pro_ed.mean()\n",
    "# std_dev = pro_ed.std()\n",
    "\n",
    "# # Display basic statistics\n",
    "# print(f\"Max value: {max_value}\")\n",
    "# print(f\"Min value: {min_value}\")\n",
    "# print(f\"Mean value: {mean_value}\")\n",
    "# print(f\"Standard Deviation: {std_dev}\")\n",
    "\n",
    "# # Plot a histogram to visualize the distribution of 'pro_ed'\n",
    "# plt.figure(figsize=(8, 6))\n",
    "# plt.hist(pro_ed, bins=10, color='skyblue', edgecolor='black')\n",
    "# plt.title('Histogram of pro_ed')\n",
    "# plt.xlabel('pro_ed values')\n",
    "# plt.ylabel('Frequency')\n",
    "# plt.grid(True)\n",
    "# plt.show()"
   ]
  },
  {
   "cell_type": "code",
   "execution_count": 19,
   "id": "62f34456",
   "metadata": {
    "ExecuteTime": {
     "end_time": "2024-09-24T14:48:22.514653Z",
     "start_time": "2024-09-24T14:48:22.505068Z"
    }
   },
   "outputs": [
    {
     "name": "stdout",
     "output_type": "stream",
     "text": [
      "<class 'pandas.core.frame.DataFrame'>\n",
      "RangeIndex: 650 entries, 0 to 649\n",
      "Data columns (total 22 columns):\n",
      " #   Column                      Non-Null Count  Dtype  \n",
      "---  ------                      --------------  -----  \n",
      " 0   protocol                    650 non-null    object \n",
      " 1   bss_id                      650 non-null    int64  \n",
      " 2   nav                         650 non-null    int64  \n",
      " 3   ap_from_ap_0_sum_ant_rssi   650 non-null    object \n",
      " 4   ap_from_ap_1_sum_ant_rssi   650 non-null    object \n",
      " 5   sta_to_ap_0_sum_ant_rssi    650 non-null    object \n",
      " 6   sta_to_ap_1_sum_ant_rssi    650 non-null    object \n",
      " 7   sta_to_ap_2_sum_ant_rssi    650 non-null    object \n",
      " 8   sta_from_ap_0_sum_ant_rssi  650 non-null    object \n",
      " 9   sta_from_ap_1_sum_ant_rssi  650 non-null    object \n",
      " 10  sta_from_ap_2_sum_ant_rssi  650 non-null    object \n",
      " 11  sta_from_sta_0_rssi         650 non-null    float64\n",
      " 12  sta_from_sta_1_rssi         650 non-null    float64\n",
      " 13  nss                         650 non-null    int64  \n",
      " 14  mcs                         650 non-null    int64  \n",
      " 15  seq_time                    650 non-null    float64\n",
      " 16  pro_pd_0                    650 non-null    float64\n",
      " 17  pro_ed_0                    650 non-null    float64\n",
      " 18  pro_nav_0                   650 non-null    float64\n",
      " 19  pro_pd_1                    650 non-null    float64\n",
      " 20  pro_ed_1                    650 non-null    float64\n",
      " 21  pro_nav_1                   650 non-null    float64\n",
      "dtypes: float64(9), int64(4), object(9)\n",
      "memory usage: 111.8+ KB\n"
     ]
    }
   ],
   "source": [
    "resource.info()"
   ]
  },
  {
   "cell_type": "code",
   "execution_count": 17,
   "id": "16392b3e",
   "metadata": {
    "ExecuteTime": {
     "end_time": "2024-09-24T14:47:50.050614Z",
     "start_time": "2024-09-24T14:47:47.864315Z"
    }
   },
   "outputs": [
    {
     "name": "stderr",
     "output_type": "stream",
     "text": [
      "D:\\Anaconda\\Lib\\site-packages\\sklearn\\cluster\\_kmeans.py:1436: UserWarning: KMeans is known to have a memory leak on Windows with MKL, when there are less chunks than available threads. You can avoid it by setting the environment variable OMP_NUM_THREADS=3.\n",
      "  warnings.warn(\n",
      "D:\\Anaconda\\Lib\\site-packages\\sklearn\\cluster\\_kmeans.py:1436: UserWarning: KMeans is known to have a memory leak on Windows with MKL, when there are less chunks than available threads. You can avoid it by setting the environment variable OMP_NUM_THREADS=3.\n",
      "  warnings.warn(\n",
      "D:\\Anaconda\\Lib\\site-packages\\sklearn\\cluster\\_kmeans.py:1436: UserWarning: KMeans is known to have a memory leak on Windows with MKL, when there are less chunks than available threads. You can avoid it by setting the environment variable OMP_NUM_THREADS=3.\n",
      "  warnings.warn(\n",
      "D:\\Anaconda\\Lib\\site-packages\\sklearn\\cluster\\_kmeans.py:1436: UserWarning: KMeans is known to have a memory leak on Windows with MKL, when there are less chunks than available threads. You can avoid it by setting the environment variable OMP_NUM_THREADS=3.\n",
      "  warnings.warn(\n"
     ]
    },
    {
     "data": {
      "image/png": "[encoded data removed]",
      "text/plain": [
       "<Figure size 1000x400 with 2 Axes>"
      ]
     },
     "metadata": {},
     "output_type": "display_data"
    }
   ],
   "source": [
    "# 选择pro的聚类个数\n",
    "import numpy as np\n",
    "import pandas as pd\n",
    "from sklearn.cluster import KMeans\n",
    "from sklearn.preprocessing import StandardScaler\n",
    "from sklearn.metrics import silhouette_score\n",
    "import matplotlib.pyplot as plt\n",
    "\n",
    "data_scaled=resource.iloc[:,range(16,22)]\n",
    "\n",
    "# 确定最佳的聚类簇数，使用肘部法或轮廓系数\n",
    "sse = []\n",
    "silhouette_scores = []\n",
    "K = range(2, 6)  # 假设我们要测试2到5个聚类数\n",
    "for k in K:\n",
    "    kmeans = KMeans(n_clusters=k, random_state=42,n_init='auto')\n",
    "    kmeans.fit(data_scaled)\n",
    "    sse.append(kmeans.inertia_)  # SSE\n",
    "    silhouette_scores.append(silhouette_score(data_scaled, kmeans.labels_))\n",
    "\n",
    "# 绘制肘部法图像\n",
    "plt.figure(figsize=(10, 4))\n",
    "plt.subplot(1, 2, 1)\n",
    "plt.plot(K, sse, 'bo-')\n",
    "plt.title('Elbow Method for Optimal k')\n",
    "plt.xlabel('Number of clusters (k)')\n",
    "plt.ylabel('SSE')\n",
    "\n",
    "plt.subplot(1, 2, 2)\n",
    "plt.plot(K, silhouette_scores, 'bo-')\n",
    "plt.title('Silhouette Score for k')\n",
    "plt.xlabel('Number of clusters (k)')\n",
    "plt.ylabel('Silhouette Score')\n",
    "\n",
    "plt.tight_layout()\n",
    "plt.show()"
   ]
  },
  {
   "cell_type": "code",
   "execution_count": null,
   "id": "f72fa6cc",
   "metadata": {
    "ExecuteTime": {
     "end_time": "2024-09-24T14:47:50.105856Z",
     "start_time": "2024-09-24T14:47:50.105856Z"
    }
   },
   "outputs": [],
   "source": [
    "# import umap\n",
    "# import matplotlib.pyplot as plt\n",
    "# import numpy as np\n",
    "\n",
    "# # 准备数据\n",
    "# data =resource.iloc[:,range(33,39)]\n",
    "\n",
    "# # 创建UMAP对象\n",
    "# reducer = umap.UMAP(n_components=3)\n",
    "\n",
    "# # 使用UMAP进行降维\n",
    "# embedding = reducer.fit_transform(data)\n",
    "\n",
    "# # 绘制结果\n",
    "# plt.figure(figsize=(8, 8))\n",
    "# plt.scatter(embedding[:, 0], embedding[:, 1], s=50, cmap='Spectral', alpha=0.6)\n",
    "# plt.title('UMAP projection of the data')\n",
    "# plt.show()\n"
   ]
  },
  {
   "cell_type": "code",
   "execution_count": 18,
   "id": "ddfceb85",
   "metadata": {
    "ExecuteTime": {
     "end_time": "2024-09-24T14:47:58.190150Z",
     "start_time": "2024-09-24T14:47:55.897201Z"
    }
   },
   "outputs": [
    {
     "name": "stderr",
     "output_type": "stream",
     "text": [
      "D:\\Anaconda\\Lib\\site-packages\\sklearn\\cluster\\_kmeans.py:1412: FutureWarning: The default value of `n_init` will change from 10 to 'auto' in 1.4. Set the value of `n_init` explicitly to suppress the warning\n",
      "  super()._check_params_vs_input(X, default_n_init=10)\n",
      "D:\\Anaconda\\Lib\\site-packages\\sklearn\\cluster\\_kmeans.py:1436: UserWarning: KMeans is known to have a memory leak on Windows with MKL, when there are less chunks than available threads. You can avoid it by setting the environment variable OMP_NUM_THREADS=3.\n",
      "  warnings.warn(\n",
      "C:\\Users\\ShenFei\\AppData\\Local\\Temp\\ipykernel_3124\\242385487.py:9: SettingWithCopyWarning: \n",
      "A value is trying to be set on a copy of a slice from a DataFrame.\n",
      "Try using .loc[row_indexer,col_indexer] = value instead\n",
      "\n",
      "See the caveats in the documentation: https://pandas.pydata.org/pandas-docs/stable/user_guide/indexing.html#returning-a-view-versus-a-copy\n",
      "  df['cluster'] = kmeans.fit_predict(data_scaled)\n"
     ]
    },
    {
     "name": "stdout",
     "output_type": "stream",
     "text": [
      "Cluster centers:\n",
      "          0         1         2         3         4         5\n",
      "0  0.891473  0.002604  0.888165  0.905722  0.002657  0.925291\n",
      "1  0.136728  0.002467  0.041090  0.157639  0.002483  0.092553\n",
      "2  0.793557  0.001707  0.771345  0.300132  0.002526  0.119686\n",
      "cluster\n",
      "0    277\n",
      "1    268\n",
      "2    105\n",
      "Name: count, dtype: int64\n"
     ]
    },
    {
     "ename": "KeyError",
     "evalue": "'pro_nav'",
     "output_type": "error",
     "traceback": [
      "\u001b[1;31m---------------------------------------------------------------------------\u001b[0m",
      "\u001b[1;31mKeyError\u001b[0m                                  Traceback (most recent call last)",
      "File \u001b[1;32m~\\AppData\\Roaming\\Python\\Python311\\site-packages\\pandas\\core\\indexes\\base.py:3790\u001b[0m, in \u001b[0;36mIndex.get_loc\u001b[1;34m(self, key)\u001b[0m\n\u001b[0;32m   3789\u001b[0m \u001b[38;5;28;01mtry\u001b[39;00m:\n\u001b[1;32m-> 3790\u001b[0m     \u001b[38;5;28;01mreturn\u001b[39;00m \u001b[38;5;28mself\u001b[39m\u001b[38;5;241m.\u001b[39m_engine\u001b[38;5;241m.\u001b[39mget_loc(casted_key)\n\u001b[0;32m   3791\u001b[0m \u001b[38;5;28;01mexcept\u001b[39;00m \u001b[38;5;167;01mKeyError\u001b[39;00m \u001b[38;5;28;01mas\u001b[39;00m err:\n",
      "File \u001b[1;32mindex.pyx:152\u001b[0m, in \u001b[0;36mpandas._libs.index.IndexEngine.get_loc\u001b[1;34m()\u001b[0m\n",
      "File \u001b[1;32mindex.pyx:181\u001b[0m, in \u001b[0;36mpandas._libs.index.IndexEngine.get_loc\u001b[1;34m()\u001b[0m\n",
      "File \u001b[1;32mpandas\\_libs\\hashtable_class_helper.pxi:7080\u001b[0m, in \u001b[0;36mpandas._libs.hashtable.PyObjectHashTable.get_item\u001b[1;34m()\u001b[0m\n",
      "File \u001b[1;32mpandas\\_libs\\hashtable_class_helper.pxi:7088\u001b[0m, in \u001b[0;36mpandas._libs.hashtable.PyObjectHashTable.get_item\u001b[1;34m()\u001b[0m\n",
      "\u001b[1;31mKeyError\u001b[0m: 'pro_nav'",
      "\nThe above exception was the direct cause of the following exception:\n",
      "\u001b[1;31mKeyError\u001b[0m                                  Traceback (most recent call last)",
      "Cell \u001b[1;32mIn[18], line 32\u001b[0m\n\u001b[0;32m     29\u001b[0m ax \u001b[38;5;241m=\u001b[39m fig\u001b[38;5;241m.\u001b[39madd_subplot(\u001b[38;5;241m111\u001b[39m, projection\u001b[38;5;241m=\u001b[39m\u001b[38;5;124m'\u001b[39m\u001b[38;5;124m3d\u001b[39m\u001b[38;5;124m'\u001b[39m)\n\u001b[0;32m     31\u001b[0m \u001b[38;5;66;03m# Plot the clusters in 3D\u001b[39;00m\n\u001b[1;32m---> 32\u001b[0m scatter \u001b[38;5;241m=\u001b[39m ax\u001b[38;5;241m.\u001b[39mscatter(df[\u001b[38;5;124m'\u001b[39m\u001b[38;5;124mpro_nav\u001b[39m\u001b[38;5;124m'\u001b[39m], df[\u001b[38;5;124m'\u001b[39m\u001b[38;5;124mpro_pd\u001b[39m\u001b[38;5;124m'\u001b[39m], df[\u001b[38;5;124m'\u001b[39m\u001b[38;5;124mpro_ed\u001b[39m\u001b[38;5;124m'\u001b[39m], c\u001b[38;5;241m=\u001b[39mdf[\u001b[38;5;124m'\u001b[39m\u001b[38;5;124mcluster\u001b[39m\u001b[38;5;124m'\u001b[39m], cmap\u001b[38;5;241m=\u001b[39m\u001b[38;5;124m'\u001b[39m\u001b[38;5;124mviridis\u001b[39m\u001b[38;5;124m'\u001b[39m)\n\u001b[0;32m     34\u001b[0m \u001b[38;5;66;03m# Set labels and title\u001b[39;00m\n\u001b[0;32m     35\u001b[0m ax\u001b[38;5;241m.\u001b[39mset_xlabel(\u001b[38;5;124m'\u001b[39m\u001b[38;5;124mpro_nav\u001b[39m\u001b[38;5;124m'\u001b[39m)\n",
      "File \u001b[1;32m~\\AppData\\Roaming\\Python\\Python311\\site-packages\\pandas\\core\\frame.py:3896\u001b[0m, in \u001b[0;36mDataFrame.__getitem__\u001b[1;34m(self, key)\u001b[0m\n\u001b[0;32m   3894\u001b[0m \u001b[38;5;28;01mif\u001b[39;00m \u001b[38;5;28mself\u001b[39m\u001b[38;5;241m.\u001b[39mcolumns\u001b[38;5;241m.\u001b[39mnlevels \u001b[38;5;241m>\u001b[39m \u001b[38;5;241m1\u001b[39m:\n\u001b[0;32m   3895\u001b[0m     \u001b[38;5;28;01mreturn\u001b[39;00m \u001b[38;5;28mself\u001b[39m\u001b[38;5;241m.\u001b[39m_getitem_multilevel(key)\n\u001b[1;32m-> 3896\u001b[0m indexer \u001b[38;5;241m=\u001b[39m \u001b[38;5;28mself\u001b[39m\u001b[38;5;241m.\u001b[39mcolumns\u001b[38;5;241m.\u001b[39mget_loc(key)\n\u001b[0;32m   3897\u001b[0m \u001b[38;5;28;01mif\u001b[39;00m is_integer(indexer):\n\u001b[0;32m   3898\u001b[0m     indexer \u001b[38;5;241m=\u001b[39m [indexer]\n",
      "File \u001b[1;32m~\\AppData\\Roaming\\Python\\Python311\\site-packages\\pandas\\core\\indexes\\base.py:3797\u001b[0m, in \u001b[0;36mIndex.get_loc\u001b[1;34m(self, key)\u001b[0m\n\u001b[0;32m   3792\u001b[0m     \u001b[38;5;28;01mif\u001b[39;00m \u001b[38;5;28misinstance\u001b[39m(casted_key, \u001b[38;5;28mslice\u001b[39m) \u001b[38;5;129;01mor\u001b[39;00m (\n\u001b[0;32m   3793\u001b[0m         \u001b[38;5;28misinstance\u001b[39m(casted_key, abc\u001b[38;5;241m.\u001b[39mIterable)\n\u001b[0;32m   3794\u001b[0m         \u001b[38;5;129;01mand\u001b[39;00m \u001b[38;5;28many\u001b[39m(\u001b[38;5;28misinstance\u001b[39m(x, \u001b[38;5;28mslice\u001b[39m) \u001b[38;5;28;01mfor\u001b[39;00m x \u001b[38;5;129;01min\u001b[39;00m casted_key)\n\u001b[0;32m   3795\u001b[0m     ):\n\u001b[0;32m   3796\u001b[0m         \u001b[38;5;28;01mraise\u001b[39;00m InvalidIndexError(key)\n\u001b[1;32m-> 3797\u001b[0m     \u001b[38;5;28;01mraise\u001b[39;00m \u001b[38;5;167;01mKeyError\u001b[39;00m(key) \u001b[38;5;28;01mfrom\u001b[39;00m \u001b[38;5;21;01merr\u001b[39;00m\n\u001b[0;32m   3798\u001b[0m \u001b[38;5;28;01mexcept\u001b[39;00m \u001b[38;5;167;01mTypeError\u001b[39;00m:\n\u001b[0;32m   3799\u001b[0m     \u001b[38;5;66;03m# If we have a listlike key, _check_indexing_error will raise\u001b[39;00m\n\u001b[0;32m   3800\u001b[0m     \u001b[38;5;66;03m#  InvalidIndexError. Otherwise we fall through and re-raise\u001b[39;00m\n\u001b[0;32m   3801\u001b[0m     \u001b[38;5;66;03m#  the TypeError.\u001b[39;00m\n\u001b[0;32m   3802\u001b[0m     \u001b[38;5;28mself\u001b[39m\u001b[38;5;241m.\u001b[39m_check_indexing_error(key)\n",
      "\u001b[1;31mKeyError\u001b[0m: 'pro_nav'"
     ]
    },
    {
     "data": {
      "image/png": "[encoded data removed]",
      "text/plain": [
       "<Figure size 1000x700 with 1 Axes>"
      ]
     },
     "metadata": {},
     "output_type": "display_data"
    }
   ],
   "source": [
    "# 得到‘state’类别\n",
    "# 0:大量同步\n",
    "# 1：大量异步\n",
    "# 2：混合\n",
    "\n",
    "df=data_scaled\n",
    "k = 3\n",
    "kmeans = KMeans(n_clusters=k, random_state=42)\n",
    "df['cluster'] = kmeans.fit_predict(data_scaled)\n",
    "\n",
    "# 查看每个簇的平均特征值\n",
    "cluster_centers = pd.DataFrame(kmeans.cluster_centers_)\n",
    "# columns=['pro_pd', 'pro_ed', 'pro_nav']\n",
    "\n",
    "print(f\"Cluster centers:\\n{cluster_centers}\")\n",
    "\n",
    "# 查看每个簇的样本数量\n",
    "print(df['cluster'].value_counts())\n",
    "\n",
    "# # 可视化聚类结果\n",
    "# plt.scatter(df['pro_nav'], df['pro_pd'], c=df['cluster'], cmap='viridis', label='Cluster')\n",
    "# plt.colorbar()\n",
    "# plt.xlabel('pro_nav')\n",
    "# plt.ylabel('pro_pd')\n",
    "# plt.title('KMeans Clustering of WLAN Communication States')\n",
    "# plt.show()\n",
    "# 3D plot of the clustering results\n",
    "# fig = plt.figure(figsize=(10, 7))\n",
    "# ax = fig.add_subplot(111, projection='3d')\n",
    "\n",
    "# # Plot the clusters in 3D\n",
    "# scatter = ax.scatter(df['pro_nav'], df['pro_pd'], df['pro_ed'], c=df['cluster'], cmap='viridis')\n",
    "\n",
    "# # Set labels and title\n",
    "# ax.set_xlabel('pro_nav')\n",
    "# ax.set_ylabel('pro_pd')\n",
    "# ax.set_zlabel('pro_ed')\n",
    "# ax.set_title('3D KMeans Clustering of WLAN Communication States')\n",
    "\n",
    "# # Add a color bar\n",
    "# plt.colorbar(scatter)\n",
    "\n",
    "# plt.show()"
   ]
  },
  {
   "cell_type": "code",
   "execution_count": 20,
   "id": "fa47465e",
   "metadata": {
    "ExecuteTime": {
     "end_time": "2024-09-24T14:49:05.353701Z",
     "start_time": "2024-09-24T14:49:04.902174Z"
    }
   },
   "outputs": [
    {
     "name": "stderr",
     "output_type": "stream",
     "text": [
      "D:\\Anaconda\\Lib\\site-packages\\sklearn\\cluster\\_kmeans.py:1412: FutureWarning: The default value of `n_init` will change from 10 to 'auto' in 1.4. Set the value of `n_init` explicitly to suppress the warning\n",
      "  super()._check_params_vs_input(X, default_n_init=10)\n",
      "D:\\Anaconda\\Lib\\site-packages\\sklearn\\cluster\\_kmeans.py:1436: UserWarning: KMeans is known to have a memory leak on Windows with MKL, when there are less chunks than available threads. You can avoid it by setting the environment variable OMP_NUM_THREADS=3.\n",
      "  warnings.warn(\n",
      "C:\\Users\\ShenFei\\AppData\\Local\\Temp\\ipykernel_3124\\150325647.py:1: SettingWithCopyWarning: \n",
      "A value is trying to be set on a copy of a slice from a DataFrame.\n",
      "Try using .loc[row_indexer,col_indexer] = value instead\n",
      "\n",
      "See the caveats in the documentation: https://pandas.pydata.org/pandas-docs/stable/user_guide/indexing.html#returning-a-view-versus-a-copy\n",
      "  data_scaled['cluster'] = kmeans.fit_predict(data_scaled)\n"
     ]
    }
   ],
   "source": [
    "data_scaled['cluster'] = kmeans.fit_predict(data_scaled)\n",
    "resource['state']=data_scaled['cluster']"
   ]
  },
  {
   "cell_type": "code",
   "execution_count": 21,
   "id": "d99cb1af",
   "metadata": {
    "ExecuteTime": {
     "end_time": "2024-09-24T14:49:08.187802Z",
     "start_time": "2024-09-24T14:49:08.178630Z"
    }
   },
   "outputs": [
    {
     "name": "stdout",
     "output_type": "stream",
     "text": [
      "<class 'pandas.core.frame.DataFrame'>\n",
      "RangeIndex: 650 entries, 0 to 649\n",
      "Data columns (total 23 columns):\n",
      " #   Column                      Non-Null Count  Dtype  \n",
      "---  ------                      --------------  -----  \n",
      " 0   protocol                    650 non-null    object \n",
      " 1   bss_id                      650 non-null    int64  \n",
      " 2   nav                         650 non-null    int64  \n",
      " 3   ap_from_ap_0_sum_ant_rssi   650 non-null    object \n",
      " 4   ap_from_ap_1_sum_ant_rssi   650 non-null    object \n",
      " 5   sta_to_ap_0_sum_ant_rssi    650 non-null    object \n",
      " 6   sta_to_ap_1_sum_ant_rssi    650 non-null    object \n",
      " 7   sta_to_ap_2_sum_ant_rssi    650 non-null    object \n",
      " 8   sta_from_ap_0_sum_ant_rssi  650 non-null    object \n",
      " 9   sta_from_ap_1_sum_ant_rssi  650 non-null    object \n",
      " 10  sta_from_ap_2_sum_ant_rssi  650 non-null    object \n",
      " 11  sta_from_sta_0_rssi         650 non-null    float64\n",
      " 12  sta_from_sta_1_rssi         650 non-null    float64\n",
      " 13  nss                         650 non-null    int64  \n",
      " 14  mcs                         650 non-null    int64  \n",
      " 15  seq_time                    650 non-null    float64\n",
      " 16  pro_pd_0                    650 non-null    float64\n",
      " 17  pro_ed_0                    650 non-null    float64\n",
      " 18  pro_nav_0                   650 non-null    float64\n",
      " 19  pro_pd_1                    650 non-null    float64\n",
      " 20  pro_ed_1                    650 non-null    float64\n",
      " 21  pro_nav_1                   650 non-null    float64\n",
      " 22  state                       650 non-null    int32  \n",
      "dtypes: float64(9), int32(1), int64(4), object(9)\n",
      "memory usage: 114.4+ KB\n"
     ]
    }
   ],
   "source": [
    "resource.info()"
   ]
  },
  {
   "cell_type": "markdown",
   "id": "57dc84da",
   "metadata": {},
   "source": [
    "## SINR"
   ]
  },
  {
   "cell_type": "code",
   "execution_count": 22,
   "id": "1d6225a6",
   "metadata": {
    "ExecuteTime": {
     "end_time": "2024-09-24T14:49:17.856094Z",
     "start_time": "2024-09-24T14:49:17.734627Z"
    }
   },
   "outputs": [],
   "source": [
    "def dbm_to_linear(dbm):\n",
    "    return 10 ** (dbm / 10)\n",
    "\n",
    "def linear_to_dbm(linear):\n",
    "    return 10 * np.log10(linear)\n",
    "\n",
    "def add_dbm(dbm1, dbm2):\n",
    "    # 使用 NumPy 的广播功能直接进行计算\n",
    "    linear1 = dbm_to_linear(dbm1)\n",
    "    linear2 = dbm_to_linear(dbm2)\n",
    "    \n",
    "    # 将两个线性功率值相加\n",
    "    total_linear = linear1 + linear2\n",
    "    \n",
    "    # 将相加后的线性功率值转换回DBM\n",
    "    total_dbm = linear_to_dbm(total_linear)\n",
    "    \n",
    "    return total_dbm\n",
    "\n",
    "\n",
    "def func(x, y, z, state):\n",
    "    if state == 0:\n",
    "        return x + 100\n",
    "    else:\n",
    "        return x - add_dbm(y,z)\n",
    "\n",
    "    \n",
    "# 创建一个新列来存储 SINR 计算的结果\n",
    "sinr = []\n",
    "df = resource\n",
    "# 遍历 DataFrame 的每一行\n",
    "for i in range(len(df)):\n",
    "    if df.iloc[i, list(df.columns).index('bss_id')] == 2:  # 偶数行\n",
    "        result = func(df.iloc[i, list(df.columns).index('sta_from_ap_2_sum_ant_rssi')],df.iloc[i, list(df.columns).index('sta_from_ap_1_sum_ant_rssi')], df.iloc[i, list(df.columns).index('sta_from_ap_0_sum_ant_rssi')],df.iloc[i, list(df.columns).index('state')])\n",
    "    elif df.iloc[i, list(df.columns).index('bss_id')] == 1:  # 奇数行\n",
    "        result = func(df.iloc[i, list(df.columns).index('sta_from_ap_1_sum_ant_rssi')],df.iloc[i, list(df.columns).index('sta_from_ap_2_sum_ant_rssi')], df.iloc[i, list(df.columns).index('sta_from_ap_0_sum_ant_rssi')],df.iloc[i, list(df.columns).index('state')])\n",
    "    else:\n",
    "        result = func(df.iloc[i, list(df.columns).index('sta_from_ap_0_sum_ant_rssi')],df.iloc[i, list(df.columns).index('sta_from_ap_1_sum_ant_rssi')], df.iloc[i, list(df.columns).index('sta_from_ap_2_sum_ant_rssi')],df.iloc[i, list(df.columns).index('state')])\n",
    "        \n",
    "    sinr.append(result)\n",
    "\n",
    "# 将计算结果添加为新列\n",
    "df['sinr'] = sinr\n",
    "resource = resource.drop('bss_id',axis=1)"
   ]
  },
  {
   "cell_type": "code",
   "execution_count": 23,
   "id": "ed944948",
   "metadata": {
    "ExecuteTime": {
     "end_time": "2024-09-24T14:49:21.846847Z",
     "start_time": "2024-09-24T14:49:21.842624Z"
    }
   },
   "outputs": [],
   "source": [
    "resource = resource.loc[resource['sinr'] > 0]"
   ]
  },
  {
   "cell_type": "markdown",
   "id": "c7e5a7af",
   "metadata": {},
   "source": [
    "# read from here"
   ]
  },
  {
   "cell_type": "code",
   "execution_count": 13,
   "id": "8fce9b72",
   "metadata": {
    "ExecuteTime": {
     "end_time": "2024-09-24T16:41:07.512013Z",
     "start_time": "2024-09-24T16:41:07.262144Z"
    }
   },
   "outputs": [],
   "source": [
    "#resource.to_excel('programe2_3ap_processed.xlsx')\n",
    "import numpy as np\n",
    "import pandas as pd\n",
    "resource = pd.read_excel('programe2_3ap_processed.xlsx')\n",
    "resource = resource.sample(frac=1).reset_index(drop=True)"
   ]
  },
  {
   "cell_type": "markdown",
   "id": "6d3835ae",
   "metadata": {},
   "source": [
    "# process"
   ]
  },
  {
   "cell_type": "code",
   "execution_count": 14,
   "id": "92144d68",
   "metadata": {
    "ExecuteTime": {
     "end_time": "2024-09-24T16:41:10.274395Z",
     "start_time": "2024-09-24T16:41:10.254562Z"
    }
   },
   "outputs": [
    {
     "name": "stdout",
     "output_type": "stream",
     "text": [
      "<class 'pandas.core.frame.DataFrame'>\n",
      "RangeIndex: 627 entries, 0 to 626\n",
      "Data columns (total 23 columns):\n",
      " #   Column                      Non-Null Count  Dtype  \n",
      "---  ------                      --------------  -----  \n",
      " 0   protocol                    627 non-null    object \n",
      " 1   nav                         627 non-null    int64  \n",
      " 2   ap_from_ap_0_sum_ant_rssi   627 non-null    float64\n",
      " 3   ap_from_ap_1_sum_ant_rssi   627 non-null    float64\n",
      " 4   sta_to_ap_0_sum_ant_rssi    627 non-null    float64\n",
      " 5   sta_to_ap_1_sum_ant_rssi    627 non-null    float64\n",
      " 6   sta_to_ap_2_sum_ant_rssi    627 non-null    float64\n",
      " 7   sta_from_ap_0_sum_ant_rssi  627 non-null    float64\n",
      " 8   sta_from_ap_1_sum_ant_rssi  627 non-null    float64\n",
      " 9   sta_from_ap_2_sum_ant_rssi  627 non-null    float64\n",
      " 10  sta_from_sta_0_rssi         627 non-null    int64  \n",
      " 11  sta_from_sta_1_rssi         627 non-null    int64  \n",
      " 12  nss                         627 non-null    int64  \n",
      " 13  mcs                         627 non-null    int64  \n",
      " 14  seq_time                    627 non-null    float64\n",
      " 15  pro_pd_0                    627 non-null    float64\n",
      " 16  pro_ed_0                    627 non-null    float64\n",
      " 17  pro_nav_0                   627 non-null    float64\n",
      " 18  pro_pd_1                    627 non-null    float64\n",
      " 19  pro_ed_1                    627 non-null    float64\n",
      " 20  pro_nav_1                   627 non-null    float64\n",
      " 21  state                       627 non-null    int64  \n",
      " 22  sinr                        627 non-null    float64\n",
      "dtypes: float64(16), int64(6), object(1)\n",
      "memory usage: 112.8+ KB\n"
     ]
    }
   ],
   "source": [
    "target=resource[['nss','mcs']]\n",
    "# resource=resource.drop(['nss','mcs'],axis=1)\n",
    "resource.info()"
   ]
  },
  {
   "cell_type": "code",
   "execution_count": 15,
   "id": "29356774",
   "metadata": {
    "ExecuteTime": {
     "end_time": "2024-09-24T16:41:13.258370Z",
     "start_time": "2024-09-24T16:41:13.253399Z"
    }
   },
   "outputs": [],
   "source": [
    "resource.iloc[:,0]=resource.iloc[:,0].astype(str).map({'tcp':1,'udp':0})"
   ]
  },
  {
   "cell_type": "code",
   "execution_count": 21,
   "id": "15cb4ccc",
   "metadata": {
    "ExecuteTime": {
     "end_time": "2024-09-24T02:12:10.148408Z",
     "start_time": "2024-09-24T02:12:10.145207Z"
    }
   },
   "outputs": [],
   "source": [
    "# import pandas as pd\n",
    "# from scipy import stats\n",
    "# df = resource\n",
    "# # 假设已有 DataFrame 'df'，包含 'state' 和 'sinr' 两列数据\n",
    "\n",
    "# # 分别提取 state = 0 和 state ≠ 0 的 sinr 值\n",
    "# sinr_state_0 = df[df['state'] == 0]['sinr']\n",
    "# sinr_state_non_0 = df[df['state'] != 0]['sinr']\n",
    "\n",
    "# # 进行独立样本t检验\n",
    "# t_stat, p_value = stats.ttest_ind(sinr_state_0, sinr_state_non_0)\n",
    "\n",
    "# # 输出结果\n",
    "# print(f\"T-statistic: {t_stat}, P-value: {p_value}\")\n",
    "\n",
    "# # 分析结果\n",
    "# if p_value < 0.05:\n",
    "#     print(\"sinr在state为0和state不为0的样本之间存在显著差异。\")\n",
    "#     if sinr_state_0.mean() > sinr_state_non_0.mean():\n",
    "#         print(\"sinr在state为0时更大。\")\n",
    "#     else:\n",
    "#         print(\"sinr在state为0时更小。\")\n",
    "# else:\n",
    "#     print(\"sinr在state为0和state不为0的样本之间没有显著差异。\")"
   ]
  },
  {
   "cell_type": "markdown",
   "id": "2b35e0cd",
   "metadata": {},
   "source": [
    "# 构造nss,mcs字典"
   ]
  },
  {
   "cell_type": "code",
   "execution_count": 16,
   "id": "d8bf0ea9",
   "metadata": {
    "ExecuteTime": {
     "end_time": "2024-09-24T16:41:15.826946Z",
     "start_time": "2024-09-24T16:41:15.822504Z"
    }
   },
   "outputs": [],
   "source": [
    "nss_mcs_dict=dict()\n",
    "phy=[8.6,17.2,25.8,34.4,51.6,68.8,77.4,86.0,103.2,114.7,129.0,143.4,17.2,34.4,51.6,68.8,103.2,137.6,154.9,172.1,206.5,\n",
    "    229.4,258.1,286.8]\n",
    "num=0\n",
    "\n",
    "for i in range(1,3):\n",
    "    for j in range(0,12):\n",
    "        nss_mcs_dict[(i,j)]=phy[num]\n",
    "        num+=1"
   ]
  },
  {
   "cell_type": "markdown",
   "id": "3677b61b",
   "metadata": {
    "ExecuteTime": {
     "end_time": "2024-09-23T11:42:51.592488Z",
     "start_time": "2024-09-23T11:42:51.588488Z"
    },
    "heading_collapsed": true
   },
   "source": [
    "# 相关性分析"
   ]
  },
  {
   "cell_type": "code",
   "execution_count": null,
   "id": "70bd3dc2",
   "metadata": {
    "ExecuteTime": {
     "end_time": "2024-09-23T14:03:41.530205Z",
     "start_time": "2024-09-23T14:03:41.530205Z"
    },
    "hidden": true
   },
   "outputs": [],
   "source": [
    "import matplotlib.pyplot as plt\n",
    "pearson_correlation=resource.corr(method='pearson')\n",
    "spearman_correlation=resource.corr(method='spearman')\n",
    "# 0.8~1的话为极强相关，0.6~0.8之间为强相关,0.4~0.6的话为中等强度相关,0.2~0.4之间为弱相关，0.0~0.2极弱或无相关\n",
    "plt.imshow(pearson_correlation,cmap='coolwarm')\n",
    "a=plt.gca()\n",
    "a.set_yticks(range(len(resource_columns)))\n",
    "a.set_yticklabels(resource_columns)\n",
    "a.set_xticks(range(len(resource_columns)))\n",
    "# a.set_xticklabels(resource_1_columns)\n",
    "plt.show()"
   ]
  },
  {
   "cell_type": "code",
   "execution_count": null,
   "id": "72f431a3",
   "metadata": {
    "ExecuteTime": {
     "end_time": "2024-09-23T14:03:41.531096Z",
     "start_time": "2024-09-23T14:03:41.531096Z"
    },
    "hidden": true
   },
   "outputs": [],
   "source": [
    "plt.imshow(spearman_correlation,cmap='coolwarm')\n",
    "a=plt.gca()\n",
    "a.set_yticks(range(len(resource_columns)))\n",
    "a.set_yticklabels(resource_columns)\n",
    "a.set_xticks(range(len(resource_columns)))\n",
    "# a.set_xticklabels(resource_1_columns)\n",
    "plt.show()"
   ]
  },
  {
   "cell_type": "code",
   "execution_count": null,
   "id": "65e0e5da",
   "metadata": {
    "ExecuteTime": {
     "end_time": "2024-09-23T13:41:46.578226Z",
     "start_time": "2024-09-23T13:41:46.516015Z"
    },
    "hidden": true
   },
   "outputs": [],
   "source": []
  },
  {
   "cell_type": "code",
   "execution_count": 28,
   "id": "1e8a0428",
   "metadata": {
    "ExecuteTime": {
     "end_time": "2024-09-23T14:04:29.828033Z",
     "start_time": "2024-09-23T14:04:29.819515Z"
    },
    "hidden": true
   },
   "outputs": [
    {
     "name": "stdout",
     "output_type": "stream",
     "text": [
      "<class 'pandas.core.frame.DataFrame'>\n",
      "Index: 345 entries, 0 to 76\n",
      "Data columns (total 14 columns):\n",
      " #   Column                      Non-Null Count  Dtype  \n",
      "---  ------                      --------------  -----  \n",
      " 0   protocol                    345 non-null    object \n",
      " 1   nav                         345 non-null    int64  \n",
      " 2   ap_from_ap_0_sum_ant_rssi   345 non-null    object \n",
      " 3   sta_to_ap_0_sum_ant_rssi    345 non-null    object \n",
      " 4   sta_to_ap_1_sum_ant_rssi    345 non-null    object \n",
      " 5   sta_from_ap_0_sum_ant_rssi  345 non-null    object \n",
      " 6   sta_from_ap_1_sum_ant_rssi  345 non-null    object \n",
      " 7   sta_from_sta_0_rssi         345 non-null    float64\n",
      " 8   seq_time                    345 non-null    float64\n",
      " 9   pro_pd                      345 non-null    float64\n",
      " 10  pro_ed                      345 non-null    float64\n",
      " 11  pro_nav                     345 non-null    float64\n",
      " 12  state                       345 non-null    int32  \n",
      " 13  sinr                        345 non-null    float64\n",
      "dtypes: float64(6), int32(1), int64(1), object(6)\n",
      "memory usage: 39.1+ KB\n"
     ]
    }
   ],
   "source": [
    "resource.info()"
   ]
  },
  {
   "cell_type": "code",
   "execution_count": 29,
   "id": "02ae225c",
   "metadata": {
    "ExecuteTime": {
     "end_time": "2024-09-23T14:04:32.151957Z",
     "start_time": "2024-09-23T14:04:32.144922Z"
    },
    "hidden": true
   },
   "outputs": [
    {
     "name": "stdout",
     "output_type": "stream",
     "text": [
      "<class 'pandas.core.frame.DataFrame'>\n",
      "Index: 345 entries, 0 to 76\n",
      "Data columns (total 2 columns):\n",
      " #   Column  Non-Null Count  Dtype\n",
      "---  ------  --------------  -----\n",
      " 0   nss     345 non-null    int64\n",
      " 1   mcs     345 non-null    int64\n",
      "dtypes: int64(2)\n",
      "memory usage: 8.1 KB\n"
     ]
    }
   ],
   "source": [
    "target.info()"
   ]
  },
  {
   "cell_type": "markdown",
   "id": "7dbbff14",
   "metadata": {},
   "source": [
    "# SINR_总情况"
   ]
  },
  {
   "cell_type": "code",
   "execution_count": 17,
   "id": "b13f76cd",
   "metadata": {
    "ExecuteTime": {
     "end_time": "2024-09-24T16:41:47.702716Z",
     "start_time": "2024-09-24T16:41:29.173338Z"
    }
   },
   "outputs": [],
   "source": [
    "resource=resource.drop(['mcs','nss'],axis=1)\n",
    "from sklearn.ensemble import RandomForestRegressor\n",
    "\n",
    "rfg0=RandomForestRegressor(n_estimators=100,criterion='friedman_mse',random_state=0,oob_score=False)\n",
    "\n",
    "target_phy=[]\n",
    "for idx,s in target.iterrows():\n",
    "    target_phy.append(nss_mcs_dict[s['nss'],s['mcs']])\n",
    "\n",
    "# target_0_phy=pd.DataFrame(target_0_phy)\n",
    "\n",
    "rfg0=rfg0.fit(resource,target_phy)\n",
    "\n",
    "# rfg0=RandomForestRegressor(n_estimators=100,criterion='friedman_mse',random_state=0,oob_score=False)\n",
    "# rfg0=rfg0.fit(resource,target_0.to_numpy())\n",
    "from sklearn.model_selection import cross_val_score\n",
    "\n",
    "res=cross_val_score(rfg0,resource,target_phy,cv=10)"
   ]
  },
  {
   "cell_type": "code",
   "execution_count": 18,
   "id": "ddb2153c",
   "metadata": {
    "ExecuteTime": {
     "end_time": "2024-09-24T16:41:51.890055Z",
     "start_time": "2024-09-24T16:41:51.883279Z"
    }
   },
   "outputs": [
    {
     "data": {
      "text/plain": [
       "array([0.80188331, 0.8937029 , 0.81215576, 0.93189372, 0.82598226,\n",
       "       0.9270564 , 0.92443516, 0.90637539, 0.86149613, 0.75242808])"
      ]
     },
     "execution_count": 18,
     "metadata": {},
     "output_type": "execute_result"
    }
   ],
   "source": [
    "res"
   ]
  },
  {
   "cell_type": "code",
   "execution_count": 19,
   "id": "6d48ccf6",
   "metadata": {
    "ExecuteTime": {
     "end_time": "2024-09-24T16:41:55.148029Z",
     "start_time": "2024-09-24T16:41:55.143337Z"
    }
   },
   "outputs": [
    {
     "data": {
      "text/plain": [
       "0.863740911195116"
      ]
     },
     "execution_count": 19,
     "metadata": {},
     "output_type": "execute_result"
    }
   ],
   "source": [
    "res.mean()"
   ]
  },
  {
   "cell_type": "markdown",
   "id": "59ff83a1",
   "metadata": {},
   "source": [
    "# 分成三份"
   ]
  },
  {
   "cell_type": "code",
   "execution_count": 5,
   "id": "0cb49de4",
   "metadata": {
    "ExecuteTime": {
     "end_time": "2024-09-24T14:54:58.039604Z",
     "start_time": "2024-09-24T14:54:58.033319Z"
    }
   },
   "outputs": [],
   "source": [
    "child=resource.groupby('state')\n",
    "\n",
    "child_0=list(child)[0][1] #完全同步\n",
    "child_1=list(child)[0][1] # 大量异步\n",
    "child_2=list(child)[0][1]  # 混合情况\n",
    "\n",
    "child_0.index=range(child_0.shape[0])\n",
    "child_1.index=range(child_1.shape[0])\n",
    "child_2.index=range(child_2.shape[0])"
   ]
  },
  {
   "cell_type": "code",
   "execution_count": 6,
   "id": "4fd497e8",
   "metadata": {
    "ExecuteTime": {
     "end_time": "2024-09-24T14:55:00.576269Z",
     "start_time": "2024-09-24T14:55:00.568478Z"
    }
   },
   "outputs": [],
   "source": [
    "# 删除列并取出目标值\n",
    "target_0=child_0[['nss','mcs']]\n",
    "target_1=child_1[['nss','mcs']]\n",
    "target_2=child_2[['nss','mcs']]\n",
    "\n",
    "child_0=child_0.drop(['mcs','nss','state'],axis=1)\n",
    "child_1=child_1.drop(['mcs','nss','state'],axis=1)\n",
    "child_2=child_2.drop(['mcs','nss','state'],axis=1)"
   ]
  },
  {
   "cell_type": "markdown",
   "id": "5dd2c6dc",
   "metadata": {},
   "source": [
    "# child_0情况"
   ]
  },
  {
   "cell_type": "code",
   "execution_count": 7,
   "id": "2d5285a1",
   "metadata": {
    "ExecuteTime": {
     "end_time": "2024-09-24T14:55:12.651548Z",
     "start_time": "2024-09-24T14:55:03.052613Z"
    }
   },
   "outputs": [],
   "source": [
    "from sklearn.ensemble import RandomForestRegressor\n",
    "\n",
    "rfg0=RandomForestRegressor(n_estimators=100,criterion='friedman_mse',random_state=0,oob_score=False)\n",
    "\n",
    "target_0_phy=[]\n",
    "for idx,s in target_0.iterrows():\n",
    "    target_0_phy.append(nss_mcs_dict[s['nss'],s['mcs']])\n",
    "\n",
    "# target_0_phy=pd.DataFrame(target_0_phy)\n",
    "\n",
    "rfg0=rfg0.fit(child_0,target_0_phy)\n",
    "\n",
    "# rfg0=RandomForestRegressor(n_estimators=100,criterion='friedman_mse',random_state=0,oob_score=False)\n",
    "# rfg0=rfg0.fit(resource,target_0.to_numpy())\n",
    "from sklearn.model_selection import cross_val_score\n",
    "\n",
    "res=cross_val_score(rfg0,child_0,target_0_phy,cv=10)"
   ]
  },
  {
   "cell_type": "code",
   "execution_count": 8,
   "id": "8fd73406",
   "metadata": {
    "ExecuteTime": {
     "end_time": "2024-09-24T14:55:15.854727Z",
     "start_time": "2024-09-24T14:55:15.847675Z"
    }
   },
   "outputs": [
    {
     "data": {
      "text/plain": [
       "-6.099034242878034e+28"
      ]
     },
     "execution_count": 8,
     "metadata": {},
     "output_type": "execute_result"
    }
   ],
   "source": [
    "res.mean()"
   ]
  },
  {
   "cell_type": "code",
   "execution_count": 9,
   "id": "e914b1d6",
   "metadata": {
    "ExecuteTime": {
     "end_time": "2024-09-24T14:55:18.727210Z",
     "start_time": "2024-09-24T14:55:18.722234Z"
    }
   },
   "outputs": [
    {
     "data": {
      "text/plain": [
       "array([-6.09903424e+29,  1.90625372e-01,  7.20113508e-02,  5.01139537e-01,\n",
       "        5.28881481e-01,  5.20811316e-01, -1.21729149e+00,  2.13328719e-02,\n",
       "       -3.66385385e-02, -3.58904931e-01])"
      ]
     },
     "execution_count": 9,
     "metadata": {},
     "output_type": "execute_result"
    }
   ],
   "source": [
    "res"
   ]
  },
  {
   "cell_type": "markdown",
   "id": "9ba4351a",
   "metadata": {},
   "source": [
    "# child_1情况"
   ]
  },
  {
   "cell_type": "code",
   "execution_count": 10,
   "id": "14d3075e",
   "metadata": {
    "ExecuteTime": {
     "end_time": "2024-09-24T14:55:43.279785Z",
     "start_time": "2024-09-24T14:55:34.517585Z"
    }
   },
   "outputs": [],
   "source": [
    "from sklearn.ensemble import RandomForestRegressor\n",
    "\n",
    "rfg1=RandomForestRegressor(n_estimators=100,criterion='friedman_mse',random_state=0,oob_score=False)\n",
    "\n",
    "target_1_phy=[]\n",
    "for idx,s in target_1.iterrows():\n",
    "    target_1_phy.append(nss_mcs_dict[s['nss'],s['mcs']])\n",
    "\n",
    "\n",
    "rfg1=rfg1.fit(child_1,target_1_phy)\n",
    "\n",
    "# rfg0=RandomForestRegressor(n_estimators=100,criterion='friedman_mse',random_state=0,oob_score=False)\n",
    "# rfg0=rfg0.fit(resource,target_0.to_numpy())\n",
    "from sklearn.model_selection import cross_val_score\n",
    "\n",
    "res=cross_val_score(rfg1,child_1,target_1_phy,cv=10)"
   ]
  },
  {
   "cell_type": "code",
   "execution_count": 11,
   "id": "6805ab35",
   "metadata": {
    "ExecuteTime": {
     "end_time": "2024-09-24T14:55:48.511299Z",
     "start_time": "2024-09-24T14:55:48.506579Z"
    }
   },
   "outputs": [
    {
     "data": {
      "text/plain": [
       "array([-6.09903424e+29,  1.90625372e-01,  7.20113508e-02,  5.01139537e-01,\n",
       "        5.28881481e-01,  5.20811316e-01, -1.21729149e+00,  2.13328719e-02,\n",
       "       -3.66385385e-02, -3.58904931e-01])"
      ]
     },
     "execution_count": 11,
     "metadata": {},
     "output_type": "execute_result"
    }
   ],
   "source": [
    "res"
   ]
  },
  {
   "cell_type": "code",
   "execution_count": 12,
   "id": "64150679",
   "metadata": {
    "ExecuteTime": {
     "end_time": "2024-09-24T14:55:51.396241Z",
     "start_time": "2024-09-24T14:55:51.391683Z"
    }
   },
   "outputs": [
    {
     "data": {
      "text/plain": [
       "-6.099034242878034e+28"
      ]
     },
     "execution_count": 12,
     "metadata": {},
     "output_type": "execute_result"
    }
   ],
   "source": [
    "res.mean()"
   ]
  },
  {
   "cell_type": "markdown",
   "id": "eeba6a45",
   "metadata": {},
   "source": [
    "# child_2情况"
   ]
  },
  {
   "cell_type": "code",
   "execution_count": null,
   "id": "38fdb19c",
   "metadata": {},
   "outputs": [],
   "source": [
    "# from sklearn.ensemble import RandomForestRegressor\n",
    "\n",
    "# rfg1=RandomForestRegressor(n_estimators=100,criterion='friedman_mse',random_state=0,oob_score=False)\n",
    "\n",
    "# target_1_phy=[]\n",
    "# for idx,s in target_1.iterrows():\n",
    "#     target_1_phy.append(nss_mcs_dict[s['nss'],s['mcs']])\n",
    "\n",
    "\n",
    "# rfg1=rfg1.fit(child_1,target_1_phy)\n",
    "\n",
    "# # rfg0=RandomForestRegressor(n_estimators=100,criterion='friedman_mse',random_state=0,oob_score=False)\n",
    "# # rfg0=rfg0.fit(resource,target_0.to_numpy())\n",
    "# from sklearn.model_selection import cross_val_score\n",
    "\n",
    "# res=cross_val_score(rfg1,child_1,target_1_phy,cv=10)"
   ]
  },
  {
   "cell_type": "code",
   "execution_count": 35,
   "id": "79bbe5e1",
   "metadata": {
    "ExecuteTime": {
     "end_time": "2024-09-24T06:32:01.863922Z",
     "start_time": "2024-09-24T06:32:01.860858Z"
    }
   },
   "outputs": [],
   "source": [
    "# from sklearn.ensemble import RandomForestClassifier\n",
    "\n",
    "# rfg1=RandomForestRegressor(n_estimators=100,criterion='gini',random_state=0,oob_score=False)\n",
    "# rfg1=rfg1.fit(child_1,target_1[''])\n",
    "\n",
    "# # rfg0=RandomForestRegressor(n_estimators=100,criterion='friedman_mse',random_state=0,oob_score=False)\n",
    "# # rfg0=rfg0.fit(resource,target_0.to_numpy())\n",
    "# from sklearn.model_selection import cross_val_score\n",
    "\n",
    "# res=cross_val_score(rfg1,child_1,target_1,cv=10)"
   ]
  },
  {
   "cell_type": "code",
   "execution_count": null,
   "id": "d8c4a756",
   "metadata": {},
   "outputs": [],
   "source": []
  },
  {
   "cell_type": "code",
   "execution_count": null,
   "id": "ed35d4a0",
   "metadata": {},
   "outputs": [],
   "source": []
  },
  {
   "cell_type": "code",
   "execution_count": null,
   "id": "d33bdeae",
   "metadata": {},
   "outputs": [],
   "source": []
  }
 ],
 "metadata": {
  "kernelspec": {
   "display_name": "Python 3 (ipykernel)",
   "language": "python",
   "name": "python3"
  },
  "language_info": {
   "codemirror_mode": {
    "name": "ipython",
    "version": 3
   },
   "file_extension": ".py",
   "mimetype": "text/x-python",
   "name": "python",
   "nbconvert_exporter": "python",
   "pygments_lexer": "ipython3",
   "version": "3.11.4"
  },
  "toc": {
   "base_numbering": 1,
   "nav_menu": {},
   "number_sections": false,
   "sideBar": true,
   "skip_h1_title": false,
   "title_cell": "Table of Contents",
   "title_sidebar": "Contents",
   "toc_cell": false,
   "toc_position": {},
   "toc_section_display": true,
   "toc_window_display": false
  },
  "varInspector": {
   "cols": {
    "lenName": 16,
    "lenType": 16,
    "lenVar": 40
   },
   "kernels_config": {
    "python": {
     "delete_cmd_postfix": "",
     "delete_cmd_prefix": "del ",
     "library": "var_list.py",
     "varRefreshCmd": "print(var_dic_list())"
    },
    "r": {
     "delete_cmd_postfix": ") ",
     "delete_cmd_prefix": "rm(",
     "library": "var_list.r",
     "varRefreshCmd": "cat(var_dic_list()) "
    }
   },
   "types_to_exclude": [
    "module",
    "function",
    "builtin_function_or_method",
    "instance",
    "_Feature"
   ],
   "window_display": false
  }
 },
 "nbformat": 4,
 "nbformat_minor": 5
}
