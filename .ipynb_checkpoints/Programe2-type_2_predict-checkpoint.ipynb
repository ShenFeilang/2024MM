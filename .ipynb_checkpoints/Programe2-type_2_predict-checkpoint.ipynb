{
 "cells": [
  {
   "cell_type": "code",
   "execution_count": 7,
   "id": "0bf9af82",
   "metadata": {
    "ExecuteTime": {
     "end_time": "2024-09-24T19:20:30.827257Z",
     "start_time": "2024-09-24T19:20:30.824233Z"
    }
   },
   "outputs": [],
   "source": [
    "import numpy as np\n",
    "import pandas as pd"
   ]
  },
  {
   "cell_type": "code",
   "execution_count": 30,
   "id": "5e31f6b2",
   "metadata": {
    "ExecuteTime": {
     "end_time": "2024-09-24T19:44:34.500895Z",
     "start_time": "2024-09-24T19:44:34.487879Z"
    }
   },
   "outputs": [],
   "source": [
    "resource=pd.read_csv('RAWDATA/test_set_1_2ap.csv')\n"
   ]
  },
  {
   "cell_type": "code",
   "execution_count": 31,
   "id": "b35ae5fd",
   "metadata": {
    "ExecuteTime": {
     "end_time": "2024-09-24T19:44:35.367674Z",
     "start_time": "2024-09-24T19:44:35.358259Z"
    }
   },
   "outputs": [
    {
     "name": "stdout",
     "output_type": "stream",
     "text": [
      "<class 'pandas.core.frame.DataFrame'>\n",
      "RangeIndex: 80 entries, 0 to 79\n",
      "Data columns (total 46 columns):\n",
      " #   Column                       Non-Null Count  Dtype  \n",
      "---  ------                       --------------  -----  \n",
      " 0   test_id                      80 non-null     int64  \n",
      " 1   test_dur                     80 non-null     int64  \n",
      " 2   loc_id                       80 non-null     object \n",
      " 3   protocol                     80 non-null     object \n",
      " 4   pkt_len                      80 non-null     int64  \n",
      " 5   bss_id                       80 non-null     int64  \n",
      " 6   ap_name                      80 non-null     object \n",
      " 7   ap_mac                       80 non-null     object \n",
      " 8   ap_id                        80 non-null     object \n",
      " 9   pd                           80 non-null     int64  \n",
      " 10  ed                           80 non-null     int64  \n",
      " 11  nav                          80 non-null     int64  \n",
      " 12  eirp                         80 non-null     int64  \n",
      " 13  ap_from_ap_0_sum_ant_rssi    40 non-null     object \n",
      " 14  ap_from_ap_0_max_ant_rssi    40 non-null     object \n",
      " 15  ap_from_ap_0_mean_ant_rssi   40 non-null     object \n",
      " 16  ap_from_ap_1_sum_ant_rssi    40 non-null     object \n",
      " 17  ap_from_ap_1_max_ant_rssi    40 non-null     object \n",
      " 18  ap_from_ap_1_mean_ant_rssi   40 non-null     object \n",
      " 19  sta_mac                      80 non-null     object \n",
      " 20  sta_id                       80 non-null     object \n",
      " 21  sta_to_ap_0_sum_ant_rssi     80 non-null     object \n",
      " 22  sta_to_ap_0_max_ant_rssi     80 non-null     object \n",
      " 23  sta_to_ap_0_mean_ant_rssi    80 non-null     object \n",
      " 24  sta_to_ap_1_sum_ant_rssi     80 non-null     object \n",
      " 25  sta_to_ap_1_max_ant_rssi     80 non-null     object \n",
      " 26  sta_to_ap_1_mean_ant_rssi    80 non-null     object \n",
      " 27  sta_from_ap_0_sum_ant_rssi   80 non-null     object \n",
      " 28  sta_from_ap_0_max_ant_rssi   80 non-null     object \n",
      " 29  sta_from_ap_0_mean_ant_rssi  80 non-null     object \n",
      " 30  sta_from_ap_1_sum_ant_rssi   80 non-null     object \n",
      " 31  sta_from_ap_1_max_ant_rssi   80 non-null     object \n",
      " 32  sta_from_ap_1_mean_ant_rssi  80 non-null     object \n",
      " 33  sta_from_sta_0_rssi          0 non-null      float64\n",
      " 34  sta_from_sta_1_rssi          0 non-null      float64\n",
      " 35  nss                          80 non-null     int64  \n",
      " 36  mcs                          80 non-null     int64  \n",
      " 37  per                          80 non-null     float64\n",
      " 38  num_ampdu                    0 non-null      float64\n",
      " 39  ppdu_dur                     0 non-null      float64\n",
      " 40  other_air_time               0 non-null      float64\n",
      " 41  seq_time                     80 non-null     float64\n",
      " 42  throughput                   0 non-null      float64\n",
      " 43  predict seq_time             0 non-null      float64\n",
      " 44  predict throughput           0 non-null      float64\n",
      " 45  error%                       0 non-null      float64\n",
      "dtypes: float64(11), int64(10), object(25)\n",
      "memory usage: 28.9+ KB\n"
     ]
    }
   ],
   "source": [
    "resource.info()"
   ]
  },
  {
   "cell_type": "code",
   "execution_count": 32,
   "id": "47ed8091",
   "metadata": {
    "ExecuteTime": {
     "end_time": "2024-09-24T19:44:36.439497Z",
     "start_time": "2024-09-24T19:44:36.434682Z"
    }
   },
   "outputs": [],
   "source": [
    "columns=[0,1,2,4,6,7,8,12,19,20,22,23,25,26,28,29,31,32,37,38,39,40,42,43,44,45]\n",
    "resource=resource.drop(resource.columns[columns],axis=1)"
   ]
  },
  {
   "cell_type": "code",
   "execution_count": 33,
   "id": "3c6d76ba",
   "metadata": {
    "ExecuteTime": {
     "end_time": "2024-09-24T19:44:37.385446Z",
     "start_time": "2024-09-24T19:44:37.376400Z"
    }
   },
   "outputs": [
    {
     "name": "stdout",
     "output_type": "stream",
     "text": [
      "<class 'pandas.core.frame.DataFrame'>\n",
      "RangeIndex: 80 entries, 0 to 79\n",
      "Data columns (total 20 columns):\n",
      " #   Column                      Non-Null Count  Dtype  \n",
      "---  ------                      --------------  -----  \n",
      " 0   protocol                    80 non-null     object \n",
      " 1   bss_id                      80 non-null     int64  \n",
      " 2   pd                          80 non-null     int64  \n",
      " 3   ed                          80 non-null     int64  \n",
      " 4   nav                         80 non-null     int64  \n",
      " 5   ap_from_ap_0_sum_ant_rssi   40 non-null     object \n",
      " 6   ap_from_ap_0_max_ant_rssi   40 non-null     object \n",
      " 7   ap_from_ap_0_mean_ant_rssi  40 non-null     object \n",
      " 8   ap_from_ap_1_sum_ant_rssi   40 non-null     object \n",
      " 9   ap_from_ap_1_max_ant_rssi   40 non-null     object \n",
      " 10  ap_from_ap_1_mean_ant_rssi  40 non-null     object \n",
      " 11  sta_to_ap_0_sum_ant_rssi    80 non-null     object \n",
      " 12  sta_to_ap_1_sum_ant_rssi    80 non-null     object \n",
      " 13  sta_from_ap_0_sum_ant_rssi  80 non-null     object \n",
      " 14  sta_from_ap_1_sum_ant_rssi  80 non-null     object \n",
      " 15  sta_from_sta_0_rssi         0 non-null      float64\n",
      " 16  sta_from_sta_1_rssi         0 non-null      float64\n",
      " 17  nss                         80 non-null     int64  \n",
      " 18  mcs                         80 non-null     int64  \n",
      " 19  seq_time                    80 non-null     float64\n",
      "dtypes: float64(3), int64(6), object(11)\n",
      "memory usage: 12.6+ KB\n"
     ]
    }
   ],
   "source": [
    "resource.info()"
   ]
  },
  {
   "cell_type": "code",
   "execution_count": 34,
   "id": "9d6f5865",
   "metadata": {
    "ExecuteTime": {
     "end_time": "2024-09-24T19:44:38.366543Z",
     "start_time": "2024-09-24T19:44:38.363119Z"
    }
   },
   "outputs": [],
   "source": [
    "# resource.to_excel('programe2.xlsx')"
   ]
  },
  {
   "cell_type": "code",
   "execution_count": 35,
   "id": "3f2c6674",
   "metadata": {
    "ExecuteTime": {
     "end_time": "2024-09-24T19:44:39.217490Z",
     "start_time": "2024-09-24T19:44:39.187014Z"
    }
   },
   "outputs": [],
   "source": [
    "for i in range(resource.shape[0]):\n",
    "    if resource.iloc[i,list(resource.columns).index('bss_id')]==0:\n",
    "        resource.iloc[i,list(resource.columns).index('ap_from_ap_0_sum_ant_rssi')]=resource.iloc[i,list(resource.columns).index('ap_from_ap_1_sum_ant_rssi')]\n",
    "        resource.iloc[i,list(resource.columns).index('ap_from_ap_0_max_ant_rssi')]=resource.iloc[i,list(resource.columns).index('ap_from_ap_1_max_ant_rssi')]\n",
    "        resource.iloc[i,list(resource.columns).index('ap_from_ap_0_mean_ant_rssi')]=resource.iloc[i,list(resource.columns).index('ap_from_ap_1_mean_ant_rssi')]\n",
    "        resource.iloc[i,list(resource.columns).index('sta_from_sta_0_rssi')]=resource.iloc[i,list(resource.columns).index('sta_from_sta_1_rssi')]"
   ]
  },
  {
   "cell_type": "code",
   "execution_count": 36,
   "id": "f2f5fae7",
   "metadata": {
    "ExecuteTime": {
     "end_time": "2024-09-24T19:44:40.034078Z",
     "start_time": "2024-09-24T19:44:40.028972Z"
    }
   },
   "outputs": [],
   "source": [
    "resource=resource.drop(['ap_from_ap_1_sum_ant_rssi','ap_from_ap_1_max_ant_rssi',\n",
    "                       'ap_from_ap_1_mean_ant_rssi','sta_from_sta_1_rssi'],axis=1)"
   ]
  },
  {
   "cell_type": "code",
   "execution_count": 37,
   "id": "8c13a6cc",
   "metadata": {
    "ExecuteTime": {
     "end_time": "2024-09-24T19:44:40.852850Z",
     "start_time": "2024-09-24T19:44:40.844665Z"
    }
   },
   "outputs": [
    {
     "name": "stdout",
     "output_type": "stream",
     "text": [
      "<class 'pandas.core.frame.DataFrame'>\n",
      "RangeIndex: 80 entries, 0 to 79\n",
      "Data columns (total 16 columns):\n",
      " #   Column                      Non-Null Count  Dtype  \n",
      "---  ------                      --------------  -----  \n",
      " 0   protocol                    80 non-null     object \n",
      " 1   bss_id                      80 non-null     int64  \n",
      " 2   pd                          80 non-null     int64  \n",
      " 3   ed                          80 non-null     int64  \n",
      " 4   nav                         80 non-null     int64  \n",
      " 5   ap_from_ap_0_sum_ant_rssi   80 non-null     object \n",
      " 6   ap_from_ap_0_max_ant_rssi   80 non-null     object \n",
      " 7   ap_from_ap_0_mean_ant_rssi  80 non-null     object \n",
      " 8   sta_to_ap_0_sum_ant_rssi    80 non-null     object \n",
      " 9   sta_to_ap_1_sum_ant_rssi    80 non-null     object \n",
      " 10  sta_from_ap_0_sum_ant_rssi  80 non-null     object \n",
      " 11  sta_from_ap_1_sum_ant_rssi  80 non-null     object \n",
      " 12  sta_from_sta_0_rssi         0 non-null      float64\n",
      " 13  nss                         80 non-null     int64  \n",
      " 14  mcs                         80 non-null     int64  \n",
      " 15  seq_time                    80 non-null     float64\n",
      "dtypes: float64(2), int64(6), object(8)\n",
      "memory usage: 10.1+ KB\n"
     ]
    }
   ],
   "source": [
    "resource.info()"
   ]
  },
  {
   "cell_type": "code",
   "execution_count": 38,
   "id": "91621e79",
   "metadata": {
    "ExecuteTime": {
     "end_time": "2024-09-24T19:44:51.871970Z",
     "start_time": "2024-09-24T19:44:51.865623Z"
    }
   },
   "outputs": [],
   "source": [
    "# 定义管理rssi中异常值数据，并创造出新特征值\n",
    "def cal_pd(apmax,pd):\n",
    "    apmax = eval(apmax)\n",
    "    comparison_result = [1 if x >= pd else 0 for x in apmax]\n",
    "    proportion_of_ones = sum(comparison_result) / len(apmax)\n",
    "    return proportion_of_ones\n",
    "\n",
    "def cal_ed(apmax,ed):\n",
    "    apmax = eval(apmax)\n",
    "    comparison_result = [1 if x >= ed else 0 for x in apmax]\n",
    "    proportion_of_ones = sum(comparison_result) / len(apmax)\n",
    "    return proportion_of_ones\n",
    "\n",
    "def cal_nav(apmean,nav):\n",
    "    apmean = eval(apmean)\n",
    "    comparison_result = [1 if x >= nav else 0 for x in apmean]\n",
    "\n",
    "    # 计算 1 的占比\n",
    "    proportion_of_ones = sum(comparison_result) / len(apmean)\n",
    "    return proportion_of_ones    "
   ]
  },
  {
   "cell_type": "code",
   "execution_count": 39,
   "id": "f0ccde03",
   "metadata": {
    "ExecuteTime": {
     "end_time": "2024-09-24T19:44:53.134989Z",
     "start_time": "2024-09-24T19:44:53.102951Z"
    }
   },
   "outputs": [],
   "source": [
    "resource['pro_pd'] = resource.apply(lambda row: cal_pd(row['ap_from_ap_0_max_ant_rssi'], row['pd']), axis=1)\n",
    "resource['pro_ed'] = resource.apply(lambda row: cal_ed(row['ap_from_ap_0_max_ant_rssi'], row['ed']), axis=1)\n",
    "resource['pro_nav'] = resource.apply(lambda row: cal_nav(row['ap_from_ap_0_mean_ant_rssi'], row['nav']), axis=1)"
   ]
  },
  {
   "cell_type": "code",
   "execution_count": 40,
   "id": "d17cc8e9",
   "metadata": {
    "ExecuteTime": {
     "end_time": "2024-09-24T19:44:54.035627Z",
     "start_time": "2024-09-24T19:44:54.031261Z"
    }
   },
   "outputs": [],
   "source": [
    "drop_columns=['pd','ed','ap_from_ap_0_mean_ant_rssi','ap_from_ap_0_max_ant_rssi']\n",
    "\n",
    "# drop_columns=['pd','ed','ap_from_ap_0_mean_ant_rssi','ap_from_ap_0_max_ant_rssi'\n",
    "#               ,'sta_to_ap_0_max_ant_rssi','sta_to_ap_0_mean_ant_rssi'\n",
    "#               ,'sta_to_ap_1_max_ant_rssi','sta_to_ap_1_mean_ant_rssi'\n",
    "#              ,'sta_from_ap_0_max_ant_rssi','sta_from_ap_0_mean_ant_rssi'\n",
    "#              ,'sta_from_ap_1_max_ant_rssi','sta_from_ap_1_mean_ant_rssi']\n",
    "\n",
    "resource=resource.drop(drop_columns,axis=1)"
   ]
  },
  {
   "cell_type": "code",
   "execution_count": 41,
   "id": "6dfeb29a",
   "metadata": {
    "ExecuteTime": {
     "end_time": "2024-09-24T19:44:54.978372Z",
     "start_time": "2024-09-24T19:44:54.970722Z"
    }
   },
   "outputs": [
    {
     "name": "stdout",
     "output_type": "stream",
     "text": [
      "<class 'pandas.core.frame.DataFrame'>\n",
      "RangeIndex: 80 entries, 0 to 79\n",
      "Data columns (total 15 columns):\n",
      " #   Column                      Non-Null Count  Dtype  \n",
      "---  ------                      --------------  -----  \n",
      " 0   protocol                    80 non-null     object \n",
      " 1   bss_id                      80 non-null     int64  \n",
      " 2   nav                         80 non-null     int64  \n",
      " 3   ap_from_ap_0_sum_ant_rssi   80 non-null     object \n",
      " 4   sta_to_ap_0_sum_ant_rssi    80 non-null     object \n",
      " 5   sta_to_ap_1_sum_ant_rssi    80 non-null     object \n",
      " 6   sta_from_ap_0_sum_ant_rssi  80 non-null     object \n",
      " 7   sta_from_ap_1_sum_ant_rssi  80 non-null     object \n",
      " 8   sta_from_sta_0_rssi         0 non-null      float64\n",
      " 9   nss                         80 non-null     int64  \n",
      " 10  mcs                         80 non-null     int64  \n",
      " 11  seq_time                    80 non-null     float64\n",
      " 12  pro_pd                      80 non-null     float64\n",
      " 13  pro_ed                      80 non-null     float64\n",
      " 14  pro_nav                     80 non-null     float64\n",
      "dtypes: float64(5), int64(4), object(6)\n",
      "memory usage: 9.5+ KB\n"
     ]
    }
   ],
   "source": [
    "resource.info()"
   ]
  },
  {
   "cell_type": "code",
   "execution_count": 42,
   "id": "a8065e2a",
   "metadata": {
    "ExecuteTime": {
     "end_time": "2024-09-24T19:45:00.469915Z",
     "start_time": "2024-09-24T19:45:00.417072Z"
    }
   },
   "outputs": [],
   "source": [
    "# 对RSSI求平均值处理\n",
    "for i in range(3,8):\n",
    "    resource.iloc[:,i]=resource.iloc[:,i].apply(lambda x: sum(eval(x))/len(eval(x)))"
   ]
  },
  {
   "cell_type": "code",
   "execution_count": 43,
   "id": "864cc6c6",
   "metadata": {
    "ExecuteTime": {
     "end_time": "2024-09-24T19:45:02.159289Z",
     "start_time": "2024-09-24T19:45:01.977095Z"
    }
   },
   "outputs": [
    {
     "name": "stdout",
     "output_type": "stream",
     "text": [
      "Max value: 0.02564102564102564\n",
      "Min value: 0.0\n",
      "Mean value: 0.0015437582369918087\n",
      "Standard Deviation: 0.005547033310599147\n"
     ]
    },
    {
     "data": {
      "image/png": "[encoded data removed]",
      "text/plain": [
       "<Figure size 800x600 with 1 Axes>"
      ]
     },
     "metadata": {},
     "output_type": "display_data"
    }
   ],
   "source": [
    "# pro_ed的分布情况\n",
    "\n",
    "import matplotlib.pyplot as plt\n",
    "\n",
    "# Assuming df is your DataFrame and 'pro_ed' is the column of interest\n",
    "pro_ed = resource['pro_ed']\n",
    "\n",
    "# Calculate basic statistics\n",
    "max_value = pro_ed.max()\n",
    "min_value = pro_ed.min()\n",
    "mean_value = pro_ed.mean()\n",
    "std_dev = pro_ed.std()\n",
    "\n",
    "# Display basic statistics\n",
    "print(f\"Max value: {max_value}\")\n",
    "print(f\"Min value: {min_value}\")\n",
    "print(f\"Mean value: {mean_value}\")\n",
    "print(f\"Standard Deviation: {std_dev}\")\n",
    "\n",
    "# Plot a histogram to visualize the distribution of 'pro_ed'\n",
    "plt.figure(figsize=(8, 6))\n",
    "plt.hist(pro_ed, bins=10, color='skyblue', edgecolor='black')\n",
    "plt.title('Histogram of pro_ed')\n",
    "plt.xlabel('pro_ed values')\n",
    "plt.ylabel('Frequency')\n",
    "plt.grid(True)\n",
    "plt.show()"
   ]
  },
  {
   "cell_type": "code",
   "execution_count": 44,
   "id": "16392b3e",
   "metadata": {
    "ExecuteTime": {
     "end_time": "2024-09-24T19:45:09.214113Z",
     "start_time": "2024-09-24T19:45:09.208948Z"
    }
   },
   "outputs": [],
   "source": [
    "# 选择pro的聚类个数\n",
    "import numpy as np\n",
    "import pandas as pd\n",
    "from sklearn.cluster import KMeans\n",
    "from sklearn.preprocessing import StandardScaler\n",
    "from sklearn.metrics import silhouette_score\n",
    "import matplotlib.pyplot as plt\n",
    "\n",
    "data_scaled=resource.iloc[:,[12,13,14]]\n",
    "\n",
    "# # 确定最佳的聚类簇数，使用肘部法或轮廓系数\n",
    "# sse = []\n",
    "# silhouette_scores = []\n",
    "# K = range(2, 6)  # 假设我们要测试2到5个聚类数\n",
    "# for k in K:\n",
    "#     kmeans = KMeans(n_clusters=k, random_state=42)\n",
    "#     kmeans.fit(data_scaled)\n",
    "#     sse.append(kmeans.inertia_)  # SSE\n",
    "#     silhouette_scores.append(silhouette_score(data_scaled, kmeans.labels_))\n",
    "\n",
    "# # 绘制肘部法图像\n",
    "# plt.figure(figsize=(10, 4))\n",
    "# plt.subplot(1, 2, 1)\n",
    "# plt.plot(K, sse, 'bo-')\n",
    "# plt.title('Elbow Method for Optimal k')\n",
    "# plt.xlabel('Number of clusters (k)')\n",
    "# plt.ylabel('SSE')\n",
    "\n",
    "# plt.subplot(1, 2, 2)\n",
    "# plt.plot(K, silhouette_scores, 'bo-')\n",
    "# plt.title('Silhouette Score for k')\n",
    "# plt.xlabel('Number of clusters (k)')\n",
    "# plt.ylabel('Silhouette Score')\n",
    "\n",
    "# plt.tight_layout()\n",
    "# plt.show()"
   ]
  },
  {
   "cell_type": "code",
   "execution_count": 46,
   "id": "ddfceb85",
   "metadata": {
    "ExecuteTime": {
     "end_time": "2024-09-24T19:45:24.870275Z",
     "start_time": "2024-09-24T19:45:24.378428Z"
    }
   },
   "outputs": [
    {
     "name": "stderr",
     "output_type": "stream",
     "text": [
      "D:\\Anaconda\\Lib\\site-packages\\sklearn\\cluster\\_kmeans.py:1412: FutureWarning: The default value of `n_init` will change from 10 to 'auto' in 1.4. Set the value of `n_init` explicitly to suppress the warning\n",
      "  super()._check_params_vs_input(X, default_n_init=10)\n",
      "D:\\Anaconda\\Lib\\site-packages\\sklearn\\cluster\\_kmeans.py:1436: UserWarning: KMeans is known to have a memory leak on Windows with MKL, when there are less chunks than available threads. You can avoid it by setting the environment variable OMP_NUM_THREADS=1.\n",
      "  warnings.warn(\n"
     ]
    },
    {
     "name": "stdout",
     "output_type": "stream",
     "text": [
      "Cluster centers:\n",
      "          0             1         2\n",
      "0  0.053833  2.124077e-03  0.005862\n",
      "1  0.876570  1.424501e-03  0.893614\n",
      "2  0.772115 -4.336809e-19  0.107937\n",
      "cluster\n",
      "1    36\n",
      "0    34\n",
      "2    10\n",
      "Name: count, dtype: int64\n"
     ]
    },
    {
     "name": "stderr",
     "output_type": "stream",
     "text": [
      "C:\\Users\\ShenFei\\AppData\\Local\\Temp\\ipykernel_25104\\107460010.py:10: SettingWithCopyWarning: \n",
      "A value is trying to be set on a copy of a slice from a DataFrame.\n",
      "Try using .loc[row_indexer,col_indexer] = value instead\n",
      "\n",
      "See the caveats in the documentation: https://pandas.pydata.org/pandas-docs/stable/user_guide/indexing.html#returning-a-view-versus-a-copy\n",
      "  df['cluster'] = kmeans.fit_predict(data_scaled)\n"
     ]
    }
   ],
   "source": [
    "# 得到‘state’类别\n",
    "# 0:大量同步\n",
    "# 1：大量异步\n",
    "# 2：混合\n",
    "\n",
    "\n",
    "df=data_scaled\n",
    "k = 3\n",
    "kmeans = KMeans(n_clusters=k, random_state=42)\n",
    "df['cluster'] = kmeans.fit_predict(data_scaled)\n",
    "\n",
    "# 查看每个簇的平均特征值\n",
    "cluster_centers = pd.DataFrame(kmeans.cluster_centers_)\n",
    "# columns=['pro_pd', 'pro_ed', 'pro_nav']\n",
    "\n",
    "print(f\"Cluster centers:\\n{cluster_centers}\")\n",
    "\n",
    "# 查看每个簇的样本数量\n",
    "print(df['cluster'].value_counts())\n",
    "\n",
    "# # 可视化聚类结果\n",
    "# plt.scatter(df['pro_nav'], df['pro_pd'], c=df['cluster'], cmap='viridis', label='Cluster')\n",
    "# plt.colorbar()\n",
    "# plt.xlabel('pro_nav')\n",
    "# plt.ylabel('pro_pd')\n",
    "# plt.title('KMeans Clustering of WLAN Communication States')\n",
    "# plt.show()\n",
    "# 3D plot of the clustering results\n",
    "# fig = plt.figure(figsize=(10, 7))\n",
    "# ax = fig.add_subplot(111, projection='3d')\n",
    "\n",
    "# # Plot the clusters in 3D\n",
    "# scatter = ax.scatter(df['pro_nav'], df['pro_pd'], df['pro_ed'], c=df['cluster'], cmap='viridis')\n",
    "\n",
    "# # Set labels and title\n",
    "# ax.set_xlabel('pro_nav')\n",
    "# ax.set_ylabel('pro_pd')\n",
    "# ax.set_zlabel('pro_ed')\n",
    "# ax.set_title('3D KMeans Clustering of WLAN Communication States')\n",
    "\n",
    "# # Add a color bar\n",
    "# plt.colorbar(scatter)\n",
    "\n",
    "# plt.show()"
   ]
  },
  {
   "cell_type": "code",
   "execution_count": 47,
   "id": "d99cb1af",
   "metadata": {
    "ExecuteTime": {
     "end_time": "2024-09-24T19:45:30.933629Z",
     "start_time": "2024-09-24T19:45:30.929892Z"
    }
   },
   "outputs": [],
   "source": [
    "resource['state']=df['cluster']"
   ]
  },
  {
   "cell_type": "markdown",
   "id": "57dc84da",
   "metadata": {},
   "source": [
    "## 进行均值处理与SINR"
   ]
  },
  {
   "cell_type": "code",
   "execution_count": 48,
   "id": "aa34983e",
   "metadata": {
    "ExecuteTime": {
     "end_time": "2024-09-24T19:45:33.127163Z",
     "start_time": "2024-09-24T19:45:33.119020Z"
    }
   },
   "outputs": [
    {
     "name": "stdout",
     "output_type": "stream",
     "text": [
      "<class 'pandas.core.frame.DataFrame'>\n",
      "RangeIndex: 80 entries, 0 to 79\n",
      "Data columns (total 16 columns):\n",
      " #   Column                      Non-Null Count  Dtype  \n",
      "---  ------                      --------------  -----  \n",
      " 0   protocol                    80 non-null     object \n",
      " 1   bss_id                      80 non-null     int64  \n",
      " 2   nav                         80 non-null     int64  \n",
      " 3   ap_from_ap_0_sum_ant_rssi   80 non-null     object \n",
      " 4   sta_to_ap_0_sum_ant_rssi    80 non-null     object \n",
      " 5   sta_to_ap_1_sum_ant_rssi    80 non-null     object \n",
      " 6   sta_from_ap_0_sum_ant_rssi  80 non-null     object \n",
      " 7   sta_from_ap_1_sum_ant_rssi  80 non-null     object \n",
      " 8   sta_from_sta_0_rssi         0 non-null      float64\n",
      " 9   nss                         80 non-null     int64  \n",
      " 10  mcs                         80 non-null     int64  \n",
      " 11  seq_time                    80 non-null     float64\n",
      " 12  pro_pd                      80 non-null     float64\n",
      " 13  pro_ed                      80 non-null     float64\n",
      " 14  pro_nav                     80 non-null     float64\n",
      " 15  state                       80 non-null     int32  \n",
      "dtypes: float64(5), int32(1), int64(4), object(6)\n",
      "memory usage: 9.8+ KB\n"
     ]
    }
   ],
   "source": [
    "resource.info()"
   ]
  },
  {
   "cell_type": "code",
   "execution_count": 49,
   "id": "1d6225a6",
   "metadata": {
    "ExecuteTime": {
     "end_time": "2024-09-24T19:45:41.372185Z",
     "start_time": "2024-09-24T19:45:41.351782Z"
    }
   },
   "outputs": [
    {
     "name": "stdout",
     "output_type": "stream",
     "text": [
      "0     27.700000\n",
      "1     31.050000\n",
      "2     27.700000\n",
      "3     31.050000\n",
      "4     28.625000\n",
      "        ...    \n",
      "75    16.843590\n",
      "76    31.207143\n",
      "77    19.727632\n",
      "78    31.207143\n",
      "79    19.727632\n",
      "Name: sinr, Length: 80, dtype: float64\n"
     ]
    }
   ],
   "source": [
    "# 信干比采取dbm直接相减得到db\n",
    "def func(x, y, state):\n",
    "    if state == 0:\n",
    "        return x + 100\n",
    "    else:\n",
    "        return x - y\n",
    "\n",
    "    \n",
    "# 创建一个新列来存储 SINR 计算的结果\n",
    "sinr = []\n",
    "df = resource\n",
    "# 遍历 DataFrame 的每一行\n",
    "for i in range(len(df)):\n",
    "    if df.iloc[i, list(df.columns).index('bss_id')] == 1:  # ap1\n",
    "        result = func(df.iloc[i, list(df.columns).index('sta_from_ap_1_sum_ant_rssi')], df.iloc[i, list(df.columns).index('sta_from_ap_0_sum_ant_rssi')],df.iloc[i, list(df.columns).index('state')])\n",
    "    else:  # ap2\n",
    "        result = func(df.iloc[i, list(df.columns).index('sta_from_ap_0_sum_ant_rssi')], df.iloc[i, list(df.columns).index('sta_from_ap_1_sum_ant_rssi')],df.iloc[i, list(df.columns).index('state')])\n",
    "    sinr.append(result)\n",
    "\n",
    "# 将计算结果添加为新列\n",
    "df['sinr'] = sinr\n",
    "\n",
    "# 输出结果\n",
    "print(df['sinr'])\n",
    "resource = resource.drop('bss_id',axis=1)"
   ]
  },
  {
   "cell_type": "code",
   "execution_count": 23,
   "id": "a301daf2",
   "metadata": {
    "ExecuteTime": {
     "end_time": "2024-09-24T16:30:57.416009Z",
     "start_time": "2024-09-24T16:30:57.411824Z"
    }
   },
   "outputs": [],
   "source": [
    "resource = resource.loc[resource['sinr'] > 0]"
   ]
  },
  {
   "cell_type": "code",
   "execution_count": 50,
   "id": "2151b493",
   "metadata": {
    "ExecuteTime": {
     "end_time": "2024-09-24T19:45:51.260390Z",
     "start_time": "2024-09-24T19:45:51.256377Z"
    }
   },
   "outputs": [],
   "source": [
    "resource.iloc[:,0]=resource.iloc[:,0].astype(str).map({'tcp':1,'udp':0})"
   ]
  },
  {
   "cell_type": "markdown",
   "id": "b4e209b2",
   "metadata": {},
   "source": [
    "# read from here"
   ]
  },
  {
   "cell_type": "code",
   "execution_count": 51,
   "id": "ddd7bc5e",
   "metadata": {
    "ExecuteTime": {
     "end_time": "2024-09-24T19:45:59.206538Z",
     "start_time": "2024-09-24T19:45:59.164502Z"
    }
   },
   "outputs": [],
   "source": [
    "resource.to_excel('programe2_test_1_2ap_processed.xlsx')\n",
    "# import numpy as np\n",
    "# import pandas as pd\n",
    "# resource = pd.read_excel('programe2_2ap_processed.xlsx')\n",
    "# resource = resource.sample(frac=1).reset_index(drop=True)"
   ]
  },
  {
   "cell_type": "code",
   "execution_count": 29,
   "id": "c6cafcdb",
   "metadata": {
    "ExecuteTime": {
     "end_time": "2024-09-24T19:25:32.354482Z",
     "start_time": "2024-09-24T19:25:32.346693Z"
    }
   },
   "outputs": [
    {
     "name": "stdout",
     "output_type": "stream",
     "text": [
      "<class 'pandas.core.frame.DataFrame'>\n",
      "RangeIndex: 64 entries, 0 to 63\n",
      "Data columns (total 16 columns):\n",
      " #   Column                      Non-Null Count  Dtype  \n",
      "---  ------                      --------------  -----  \n",
      " 0   protocol                    64 non-null     object \n",
      " 1   nav                         64 non-null     int64  \n",
      " 2   ap_from_ap_0_sum_ant_rssi   64 non-null     object \n",
      " 3   sta_to_ap_0_sum_ant_rssi    64 non-null     object \n",
      " 4   sta_to_ap_1_sum_ant_rssi    64 non-null     object \n",
      " 5   sta_from_ap_0_sum_ant_rssi  64 non-null     object \n",
      " 6   sta_from_ap_1_sum_ant_rssi  64 non-null     object \n",
      " 7   sta_from_sta_0_rssi         64 non-null     float64\n",
      " 8   nss                         0 non-null      float64\n",
      " 9   mcs                         0 non-null      float64\n",
      " 10  seq_time                    64 non-null     float64\n",
      " 11  pro_pd                      64 non-null     float64\n",
      " 12  pro_ed                      64 non-null     float64\n",
      " 13  pro_nav                     64 non-null     float64\n",
      " 14  state                       64 non-null     int32  \n",
      " 15  sinr                        64 non-null     float64\n",
      "dtypes: float64(8), int32(1), int64(1), object(6)\n",
      "memory usage: 7.9+ KB\n"
     ]
    }
   ],
   "source": [
    "resource.info()"
   ]
  },
  {
   "cell_type": "code",
   "execution_count": 37,
   "id": "92144d68",
   "metadata": {
    "ExecuteTime": {
     "end_time": "2024-09-24T16:37:33.745000Z",
     "start_time": "2024-09-24T16:37:33.736092Z"
    }
   },
   "outputs": [
    {
     "name": "stdout",
     "output_type": "stream",
     "text": [
      "<class 'pandas.core.frame.DataFrame'>\n",
      "RangeIndex: 379 entries, 0 to 378\n",
      "Data columns (total 16 columns):\n",
      " #   Column                      Non-Null Count  Dtype  \n",
      "---  ------                      --------------  -----  \n",
      " 0   protocol                    379 non-null    int64  \n",
      " 1   nav                         379 non-null    int64  \n",
      " 2   ap_from_ap_0_sum_ant_rssi   379 non-null    float64\n",
      " 3   sta_to_ap_0_sum_ant_rssi    379 non-null    float64\n",
      " 4   sta_to_ap_1_sum_ant_rssi    379 non-null    float64\n",
      " 5   sta_from_ap_0_sum_ant_rssi  379 non-null    float64\n",
      " 6   sta_from_ap_1_sum_ant_rssi  379 non-null    float64\n",
      " 7   sta_from_sta_0_rssi         379 non-null    int64  \n",
      " 8   nss                         379 non-null    int64  \n",
      " 9   mcs                         379 non-null    int64  \n",
      " 10  seq_time                    379 non-null    float64\n",
      " 11  pro_pd                      379 non-null    float64\n",
      " 12  pro_ed                      379 non-null    float64\n",
      " 13  pro_nav                     379 non-null    float64\n",
      " 14  state                       379 non-null    int64  \n",
      " 15  sinr                        379 non-null    float64\n",
      "dtypes: float64(10), int64(6)\n",
      "memory usage: 47.5 KB\n"
     ]
    }
   ],
   "source": [
    "target=resource[['nss','mcs']]\n",
    "# resource=resource.drop(['nss','mcs'],axis=1)\n",
    "resource.info()"
   ]
  },
  {
   "cell_type": "markdown",
   "id": "2b35e0cd",
   "metadata": {},
   "source": [
    "# 构造nss,mcs字典"
   ]
  },
  {
   "cell_type": "code",
   "execution_count": 38,
   "id": "d8bf0ea9",
   "metadata": {
    "ExecuteTime": {
     "end_time": "2024-09-24T16:37:38.708228Z",
     "start_time": "2024-09-24T16:37:38.703763Z"
    }
   },
   "outputs": [],
   "source": [
    "nss_mcs_dict=dict()\n",
    "phy=[8.6,17.2,25.8,34.4,51.6,68.8,77.4,86.0,103.2,114.7,129.0,143.4,17.2,34.4,51.6,68.8,103.2,137.6,154.9,172.1,206.5,\n",
    "    229.4,258.1,286.8]\n",
    "num=0\n",
    "\n",
    "for i in range(1,3):\n",
    "    for j in range(0,12):\n",
    "        nss_mcs_dict[(i,j)]=phy[num]\n",
    "        num+=1"
   ]
  },
  {
   "cell_type": "markdown",
   "id": "3677b61b",
   "metadata": {
    "ExecuteTime": {
     "end_time": "2024-09-23T11:42:51.592488Z",
     "start_time": "2024-09-23T11:42:51.588488Z"
    },
    "heading_collapsed": true
   },
   "source": [
    "# 相关性分析"
   ]
  },
  {
   "cell_type": "code",
   "execution_count": null,
   "id": "70bd3dc2",
   "metadata": {
    "ExecuteTime": {
     "end_time": "2024-09-23T14:03:41.530205Z",
     "start_time": "2024-09-23T14:03:41.530205Z"
    },
    "hidden": true
   },
   "outputs": [],
   "source": [
    "import matplotlib.pyplot as plt\n",
    "pearson_correlation=resource.corr(method='pearson')\n",
    "spearman_correlation=resource.corr(method='spearman')\n",
    "# 0.8~1的话为极强相关，0.6~0.8之间为强相关,0.4~0.6的话为中等强度相关,0.2~0.4之间为弱相关，0.0~0.2极弱或无相关\n",
    "plt.imshow(pearson_correlation,cmap='coolwarm')\n",
    "a=plt.gca()\n",
    "a.set_yticks(range(len(resource_columns)))\n",
    "a.set_yticklabels(resource_columns)\n",
    "a.set_xticks(range(len(resource_columns)))\n",
    "# a.set_xticklabels(resource_1_columns)\n",
    "plt.show()"
   ]
  },
  {
   "cell_type": "code",
   "execution_count": null,
   "id": "72f431a3",
   "metadata": {
    "ExecuteTime": {
     "end_time": "2024-09-23T14:03:41.531096Z",
     "start_time": "2024-09-23T14:03:41.531096Z"
    },
    "hidden": true
   },
   "outputs": [],
   "source": [
    "plt.imshow(spearman_correlation,cmap='coolwarm')\n",
    "a=plt.gca()\n",
    "a.set_yticks(range(len(resource_columns)))\n",
    "a.set_yticklabels(resource_columns)\n",
    "a.set_xticks(range(len(resource_columns)))\n",
    "# a.set_xticklabels(resource_1_columns)\n",
    "plt.show()"
   ]
  },
  {
   "cell_type": "code",
   "execution_count": null,
   "id": "65e0e5da",
   "metadata": {
    "ExecuteTime": {
     "end_time": "2024-09-23T13:41:46.578226Z",
     "start_time": "2024-09-23T13:41:46.516015Z"
    },
    "hidden": true
   },
   "outputs": [],
   "source": []
  },
  {
   "cell_type": "code",
   "execution_count": 28,
   "id": "1e8a0428",
   "metadata": {
    "ExecuteTime": {
     "end_time": "2024-09-23T14:04:29.828033Z",
     "start_time": "2024-09-23T14:04:29.819515Z"
    },
    "hidden": true
   },
   "outputs": [
    {
     "name": "stdout",
     "output_type": "stream",
     "text": [
      "<class 'pandas.core.frame.DataFrame'>\n",
      "Index: 345 entries, 0 to 76\n",
      "Data columns (total 14 columns):\n",
      " #   Column                      Non-Null Count  Dtype  \n",
      "---  ------                      --------------  -----  \n",
      " 0   protocol                    345 non-null    object \n",
      " 1   nav                         345 non-null    int64  \n",
      " 2   ap_from_ap_0_sum_ant_rssi   345 non-null    object \n",
      " 3   sta_to_ap_0_sum_ant_rssi    345 non-null    object \n",
      " 4   sta_to_ap_1_sum_ant_rssi    345 non-null    object \n",
      " 5   sta_from_ap_0_sum_ant_rssi  345 non-null    object \n",
      " 6   sta_from_ap_1_sum_ant_rssi  345 non-null    object \n",
      " 7   sta_from_sta_0_rssi         345 non-null    float64\n",
      " 8   seq_time                    345 non-null    float64\n",
      " 9   pro_pd                      345 non-null    float64\n",
      " 10  pro_ed                      345 non-null    float64\n",
      " 11  pro_nav                     345 non-null    float64\n",
      " 12  state                       345 non-null    int32  \n",
      " 13  sinr                        345 non-null    float64\n",
      "dtypes: float64(6), int32(1), int64(1), object(6)\n",
      "memory usage: 39.1+ KB\n"
     ]
    }
   ],
   "source": [
    "resource.info()"
   ]
  },
  {
   "cell_type": "code",
   "execution_count": 29,
   "id": "02ae225c",
   "metadata": {
    "ExecuteTime": {
     "end_time": "2024-09-23T14:04:32.151957Z",
     "start_time": "2024-09-23T14:04:32.144922Z"
    },
    "hidden": true
   },
   "outputs": [
    {
     "name": "stdout",
     "output_type": "stream",
     "text": [
      "<class 'pandas.core.frame.DataFrame'>\n",
      "Index: 345 entries, 0 to 76\n",
      "Data columns (total 2 columns):\n",
      " #   Column  Non-Null Count  Dtype\n",
      "---  ------  --------------  -----\n",
      " 0   nss     345 non-null    int64\n",
      " 1   mcs     345 non-null    int64\n",
      "dtypes: int64(2)\n",
      "memory usage: 8.1 KB\n"
     ]
    }
   ],
   "source": [
    "target.info()"
   ]
  },
  {
   "cell_type": "markdown",
   "id": "7dbbff14",
   "metadata": {},
   "source": [
    "# SINR_总情况"
   ]
  },
  {
   "cell_type": "code",
   "execution_count": 39,
   "id": "b13f76cd",
   "metadata": {
    "ExecuteTime": {
     "end_time": "2024-09-24T16:37:47.425368Z",
     "start_time": "2024-09-24T16:37:40.553366Z"
    }
   },
   "outputs": [],
   "source": [
    "resource=resource.drop('sta_from_sta_0_rssi',axis=1)\n",
    "resource=resource.drop(['mcs','nss'],axis=1)\n",
    "from sklearn.ensemble import RandomForestRegressor\n",
    "\n",
    "rfg0=RandomForestRegressor(n_estimators=100,criterion='friedman_mse',random_state=0,oob_score=False)\n",
    "\n",
    "target_phy=[]\n",
    "for idx,s in target.iterrows():\n",
    "    target_phy.append(nss_mcs_dict[s['nss'],s['mcs']])\n",
    "\n",
    "# target_0_phy=pd.DataFrame(target_0_phy)\n",
    "\n",
    "rfg0=rfg0.fit(resource,target_phy)\n",
    "\n",
    "# rfg0=RandomForestRegressor(n_estimators=100,criterion='friedman_mse',random_state=0,oob_score=False)\n",
    "# rfg0=rfg0.fit(resource,target_0.to_numpy())\n",
    "from sklearn.model_selection import cross_val_score\n",
    "\n",
    "res=cross_val_score(rfg0,resource,target_phy,cv=10)"
   ]
  },
  {
   "cell_type": "code",
   "execution_count": 40,
   "id": "ddb2153c",
   "metadata": {
    "ExecuteTime": {
     "end_time": "2024-09-24T16:37:50.669137Z",
     "start_time": "2024-09-24T16:37:50.664078Z"
    }
   },
   "outputs": [
    {
     "data": {
      "text/plain": [
       "array([0.92995441, 0.79079064, 0.95193647, 0.86490908, 0.99936925,\n",
       "       0.94104548, 0.77841965, 0.96861224, 0.63332615, 0.77678148])"
      ]
     },
     "execution_count": 40,
     "metadata": {},
     "output_type": "execute_result"
    }
   ],
   "source": [
    "res"
   ]
  },
  {
   "cell_type": "code",
   "execution_count": 41,
   "id": "6d48ccf6",
   "metadata": {
    "ExecuteTime": {
     "end_time": "2024-09-24T16:38:00.611485Z",
     "start_time": "2024-09-24T16:38:00.601257Z"
    }
   },
   "outputs": [
    {
     "data": {
      "text/plain": [
       "0.8635144845236236"
      ]
     },
     "execution_count": 41,
     "metadata": {},
     "output_type": "execute_result"
    }
   ],
   "source": [
    "res.mean()"
   ]
  },
  {
   "cell_type": "code",
   "execution_count": 42,
   "id": "29c80433",
   "metadata": {
    "ExecuteTime": {
     "end_time": "2024-09-24T16:38:16.319538Z",
     "start_time": "2024-09-24T16:38:16.303394Z"
    }
   },
   "outputs": [
    {
     "data": {
      "text/html": [
       "<div>\n",
       "<style scoped>\n",
       "    .dataframe tbody tr th:only-of-type {\n",
       "        vertical-align: middle;\n",
       "    }\n",
       "\n",
       "    .dataframe tbody tr th {\n",
       "        vertical-align: top;\n",
       "    }\n",
       "\n",
       "    .dataframe thead th {\n",
       "        text-align: right;\n",
       "    }\n",
       "</style>\n",
       "<table border=\"1\" class=\"dataframe\">\n",
       "  <thead>\n",
       "    <tr style=\"text-align: right;\">\n",
       "      <th></th>\n",
       "      <th>protocol</th>\n",
       "      <th>nav</th>\n",
       "      <th>ap_from_ap_0_sum_ant_rssi</th>\n",
       "      <th>sta_to_ap_0_sum_ant_rssi</th>\n",
       "      <th>sta_to_ap_1_sum_ant_rssi</th>\n",
       "      <th>sta_from_ap_0_sum_ant_rssi</th>\n",
       "      <th>sta_from_ap_1_sum_ant_rssi</th>\n",
       "      <th>sta_from_sta_0_rssi</th>\n",
       "      <th>seq_time</th>\n",
       "      <th>pro_pd</th>\n",
       "      <th>pro_ed</th>\n",
       "      <th>pro_nav</th>\n",
       "      <th>state</th>\n",
       "      <th>sinr</th>\n",
       "    </tr>\n",
       "  </thead>\n",
       "  <tbody>\n",
       "    <tr>\n",
       "      <th>0</th>\n",
       "      <td>1</td>\n",
       "      <td>-82</td>\n",
       "      <td>-69.087500</td>\n",
       "      <td>-79.875000</td>\n",
       "      <td>-67.784946</td>\n",
       "      <td>-74.945946</td>\n",
       "      <td>-52.550</td>\n",
       "      <td>-78</td>\n",
       "      <td>26.98</td>\n",
       "      <td>0.925926</td>\n",
       "      <td>0.000000</td>\n",
       "      <td>0.888889</td>\n",
       "      <td>0</td>\n",
       "      <td>47.450000</td>\n",
       "    </tr>\n",
       "    <tr>\n",
       "      <th>1</th>\n",
       "      <td>0</td>\n",
       "      <td>-82</td>\n",
       "      <td>-76.897727</td>\n",
       "      <td>-84.909091</td>\n",
       "      <td>-67.688172</td>\n",
       "      <td>-92.000000</td>\n",
       "      <td>-61.550</td>\n",
       "      <td>-78</td>\n",
       "      <td>48.61</td>\n",
       "      <td>0.375000</td>\n",
       "      <td>0.000000</td>\n",
       "      <td>0.011364</td>\n",
       "      <td>1</td>\n",
       "      <td>30.450000</td>\n",
       "    </tr>\n",
       "    <tr>\n",
       "      <th>2</th>\n",
       "      <td>1</td>\n",
       "      <td>-86</td>\n",
       "      <td>-73.280899</td>\n",
       "      <td>-57.597561</td>\n",
       "      <td>-85.081967</td>\n",
       "      <td>-42.200000</td>\n",
       "      <td>-78.450</td>\n",
       "      <td>-85</td>\n",
       "      <td>29.90</td>\n",
       "      <td>0.845361</td>\n",
       "      <td>0.010309</td>\n",
       "      <td>0.910112</td>\n",
       "      <td>0</td>\n",
       "      <td>57.800000</td>\n",
       "    </tr>\n",
       "    <tr>\n",
       "      <th>3</th>\n",
       "      <td>1</td>\n",
       "      <td>-82</td>\n",
       "      <td>-81.620000</td>\n",
       "      <td>-75.682353</td>\n",
       "      <td>-62.253012</td>\n",
       "      <td>-72.058824</td>\n",
       "      <td>-59.425</td>\n",
       "      <td>-71</td>\n",
       "      <td>50.26</td>\n",
       "      <td>0.069307</td>\n",
       "      <td>0.000000</td>\n",
       "      <td>0.009901</td>\n",
       "      <td>1</td>\n",
       "      <td>12.633824</td>\n",
       "    </tr>\n",
       "    <tr>\n",
       "      <th>4</th>\n",
       "      <td>0</td>\n",
       "      <td>-86</td>\n",
       "      <td>-81.439024</td>\n",
       "      <td>-57.700000</td>\n",
       "      <td>-85.955882</td>\n",
       "      <td>-54.275000</td>\n",
       "      <td>-92.000</td>\n",
       "      <td>-85</td>\n",
       "      <td>50.67</td>\n",
       "      <td>0.022989</td>\n",
       "      <td>0.011494</td>\n",
       "      <td>0.024096</td>\n",
       "      <td>1</td>\n",
       "      <td>37.725000</td>\n",
       "    </tr>\n",
       "    <tr>\n",
       "      <th>...</th>\n",
       "      <td>...</td>\n",
       "      <td>...</td>\n",
       "      <td>...</td>\n",
       "      <td>...</td>\n",
       "      <td>...</td>\n",
       "      <td>...</td>\n",
       "      <td>...</td>\n",
       "      <td>...</td>\n",
       "      <td>...</td>\n",
       "      <td>...</td>\n",
       "      <td>...</td>\n",
       "      <td>...</td>\n",
       "      <td>...</td>\n",
       "      <td>...</td>\n",
       "    </tr>\n",
       "    <tr>\n",
       "      <th>374</th>\n",
       "      <td>1</td>\n",
       "      <td>-86</td>\n",
       "      <td>-70.045977</td>\n",
       "      <td>-63.655172</td>\n",
       "      <td>-80.510870</td>\n",
       "      <td>-92.000000</td>\n",
       "      <td>-92.000</td>\n",
       "      <td>-70</td>\n",
       "      <td>11.41</td>\n",
       "      <td>0.977273</td>\n",
       "      <td>0.000000</td>\n",
       "      <td>0.988506</td>\n",
       "      <td>0</td>\n",
       "      <td>8.000000</td>\n",
       "    </tr>\n",
       "    <tr>\n",
       "      <th>375</th>\n",
       "      <td>0</td>\n",
       "      <td>-86</td>\n",
       "      <td>-76.415730</td>\n",
       "      <td>-76.079545</td>\n",
       "      <td>-64.662921</td>\n",
       "      <td>-71.974359</td>\n",
       "      <td>-62.000</td>\n",
       "      <td>-71</td>\n",
       "      <td>32.07</td>\n",
       "      <td>0.555556</td>\n",
       "      <td>0.000000</td>\n",
       "      <td>0.932584</td>\n",
       "      <td>0</td>\n",
       "      <td>38.000000</td>\n",
       "    </tr>\n",
       "    <tr>\n",
       "      <th>376</th>\n",
       "      <td>0</td>\n",
       "      <td>-86</td>\n",
       "      <td>-73.280899</td>\n",
       "      <td>-57.597561</td>\n",
       "      <td>-85.081967</td>\n",
       "      <td>-42.200000</td>\n",
       "      <td>-78.450</td>\n",
       "      <td>-85</td>\n",
       "      <td>32.83</td>\n",
       "      <td>0.845361</td>\n",
       "      <td>0.010309</td>\n",
       "      <td>0.910112</td>\n",
       "      <td>0</td>\n",
       "      <td>57.800000</td>\n",
       "    </tr>\n",
       "    <tr>\n",
       "      <th>377</th>\n",
       "      <td>0</td>\n",
       "      <td>-86</td>\n",
       "      <td>-79.810127</td>\n",
       "      <td>-84.259740</td>\n",
       "      <td>-47.756410</td>\n",
       "      <td>-76.600000</td>\n",
       "      <td>-45.025</td>\n",
       "      <td>-86</td>\n",
       "      <td>51.43</td>\n",
       "      <td>0.000000</td>\n",
       "      <td>0.000000</td>\n",
       "      <td>0.012658</td>\n",
       "      <td>1</td>\n",
       "      <td>31.575000</td>\n",
       "    </tr>\n",
       "    <tr>\n",
       "      <th>378</th>\n",
       "      <td>1</td>\n",
       "      <td>-82</td>\n",
       "      <td>-75.059524</td>\n",
       "      <td>-75.313953</td>\n",
       "      <td>-62.341772</td>\n",
       "      <td>-66.487179</td>\n",
       "      <td>-53.500</td>\n",
       "      <td>-71</td>\n",
       "      <td>42.22</td>\n",
       "      <td>0.776471</td>\n",
       "      <td>0.000000</td>\n",
       "      <td>0.023810</td>\n",
       "      <td>2</td>\n",
       "      <td>12.987179</td>\n",
       "    </tr>\n",
       "  </tbody>\n",
       "</table>\n",
       "<p>379 rows × 14 columns</p>\n",
       "</div>"
      ],
      "text/plain": [
       "     protocol  nav  ap_from_ap_0_sum_ant_rssi  sta_to_ap_0_sum_ant_rssi  \\\n",
       "0           1  -82                 -69.087500                -79.875000   \n",
       "1           0  -82                 -76.897727                -84.909091   \n",
       "2           1  -86                 -73.280899                -57.597561   \n",
       "3           1  -82                 -81.620000                -75.682353   \n",
       "4           0  -86                 -81.439024                -57.700000   \n",
       "..        ...  ...                        ...                       ...   \n",
       "374         1  -86                 -70.045977                -63.655172   \n",
       "375         0  -86                 -76.415730                -76.079545   \n",
       "376         0  -86                 -73.280899                -57.597561   \n",
       "377         0  -86                 -79.810127                -84.259740   \n",
       "378         1  -82                 -75.059524                -75.313953   \n",
       "\n",
       "     sta_to_ap_1_sum_ant_rssi  sta_from_ap_0_sum_ant_rssi  \\\n",
       "0                  -67.784946                  -74.945946   \n",
       "1                  -67.688172                  -92.000000   \n",
       "2                  -85.081967                  -42.200000   \n",
       "3                  -62.253012                  -72.058824   \n",
       "4                  -85.955882                  -54.275000   \n",
       "..                        ...                         ...   \n",
       "374                -80.510870                  -92.000000   \n",
       "375                -64.662921                  -71.974359   \n",
       "376                -85.081967                  -42.200000   \n",
       "377                -47.756410                  -76.600000   \n",
       "378                -62.341772                  -66.487179   \n",
       "\n",
       "     sta_from_ap_1_sum_ant_rssi  sta_from_sta_0_rssi  seq_time    pro_pd  \\\n",
       "0                       -52.550                  -78     26.98  0.925926   \n",
       "1                       -61.550                  -78     48.61  0.375000   \n",
       "2                       -78.450                  -85     29.90  0.845361   \n",
       "3                       -59.425                  -71     50.26  0.069307   \n",
       "4                       -92.000                  -85     50.67  0.022989   \n",
       "..                          ...                  ...       ...       ...   \n",
       "374                     -92.000                  -70     11.41  0.977273   \n",
       "375                     -62.000                  -71     32.07  0.555556   \n",
       "376                     -78.450                  -85     32.83  0.845361   \n",
       "377                     -45.025                  -86     51.43  0.000000   \n",
       "378                     -53.500                  -71     42.22  0.776471   \n",
       "\n",
       "       pro_ed   pro_nav  state       sinr  \n",
       "0    0.000000  0.888889      0  47.450000  \n",
       "1    0.000000  0.011364      1  30.450000  \n",
       "2    0.010309  0.910112      0  57.800000  \n",
       "3    0.000000  0.009901      1  12.633824  \n",
       "4    0.011494  0.024096      1  37.725000  \n",
       "..        ...       ...    ...        ...  \n",
       "374  0.000000  0.988506      0   8.000000  \n",
       "375  0.000000  0.932584      0  38.000000  \n",
       "376  0.010309  0.910112      0  57.800000  \n",
       "377  0.000000  0.012658      1  31.575000  \n",
       "378  0.000000  0.023810      2  12.987179  \n",
       "\n",
       "[379 rows x 14 columns]"
      ]
     },
     "execution_count": 42,
     "metadata": {},
     "output_type": "execute_result"
    }
   ],
   "source": [
    "resource"
   ]
  },
  {
   "cell_type": "markdown",
   "id": "59ff83a1",
   "metadata": {},
   "source": [
    "# 分成三份"
   ]
  },
  {
   "cell_type": "code",
   "execution_count": 27,
   "id": "0cb49de4",
   "metadata": {
    "ExecuteTime": {
     "end_time": "2024-09-24T16:31:24.727492Z",
     "start_time": "2024-09-24T16:31:24.720491Z"
    }
   },
   "outputs": [],
   "source": [
    "child=resource.groupby('state')\n",
    "\n",
    "child_0=list(child)[0][1] #完全同步\n",
    "child_1=list(child)[0][1] # 大量异步\n",
    "child_2=list(child)[0][1]  # 混合情况\n",
    "\n",
    "child_0.index=range(child_0.shape[0])\n",
    "child_1.index=range(child_1.shape[0])\n",
    "child_2.index=range(child_2.shape[0])"
   ]
  },
  {
   "cell_type": "code",
   "execution_count": 28,
   "id": "4fd497e8",
   "metadata": {
    "ExecuteTime": {
     "end_time": "2024-09-24T16:31:26.912955Z",
     "start_time": "2024-09-24T16:31:26.905933Z"
    }
   },
   "outputs": [],
   "source": [
    "# 删除列并取出目标值\n",
    "target_0=child_0[['nss','mcs']]\n",
    "target_1=child_1[['nss','mcs']]\n",
    "target_2=child_2[['nss','mcs']]\n",
    "\n",
    "child_0=child_0.drop(['mcs','nss','state'],axis=1)\n",
    "child_1=child_1.drop(['mcs','nss','state'],axis=1)\n",
    "child_2=child_2.drop(['mcs','nss','state'],axis=1)"
   ]
  },
  {
   "cell_type": "markdown",
   "id": "5dd2c6dc",
   "metadata": {},
   "source": [
    "# child_0情况"
   ]
  },
  {
   "cell_type": "code",
   "execution_count": 29,
   "id": "2d5285a1",
   "metadata": {
    "ExecuteTime": {
     "end_time": "2024-09-24T16:31:46.049702Z",
     "start_time": "2024-09-24T16:31:39.196882Z"
    }
   },
   "outputs": [],
   "source": [
    "from sklearn.ensemble import RandomForestRegressor\n",
    "\n",
    "rfg0=RandomForestRegressor(n_estimators=100,criterion='friedman_mse',random_state=0,oob_score=False)\n",
    "\n",
    "target_0_phy=[]\n",
    "for idx,s in target_0.iterrows():\n",
    "    target_0_phy.append(nss_mcs_dict[s['nss'],s['mcs']])\n",
    "\n",
    "# target_0_phy=pd.DataFrame(target_0_phy)\n",
    "\n",
    "rfg0=rfg0.fit(child_0,target_0_phy)\n",
    "\n",
    "# rfg0=RandomForestRegressor(n_estimators=100,criterion='friedman_mse',random_state=0,oob_score=False)\n",
    "# rfg0=rfg0.fit(resource,target_0.to_numpy())\n",
    "from sklearn.model_selection import cross_val_score\n",
    "\n",
    "res=cross_val_score(rfg0,child_0,target_0_phy,cv=10)"
   ]
  },
  {
   "cell_type": "code",
   "execution_count": 30,
   "id": "8fd73406",
   "metadata": {
    "ExecuteTime": {
     "end_time": "2024-09-24T16:31:47.417650Z",
     "start_time": "2024-09-24T16:31:47.413070Z"
    }
   },
   "outputs": [
    {
     "data": {
      "text/plain": [
       "0.015199409085189375"
      ]
     },
     "execution_count": 30,
     "metadata": {},
     "output_type": "execute_result"
    }
   ],
   "source": [
    "res.mean()"
   ]
  },
  {
   "cell_type": "code",
   "execution_count": 31,
   "id": "e914b1d6",
   "metadata": {
    "ExecuteTime": {
     "end_time": "2024-09-24T16:31:49.831382Z",
     "start_time": "2024-09-24T16:31:49.826064Z"
    }
   },
   "outputs": [
    {
     "data": {
      "text/plain": [
       "array([ 0.        ,  0.        ,  0.        ,  0.        , -0.03219007,\n",
       "        0.84663934,  0.581401  ,  0.        , -1.17453336, -0.06932281])"
      ]
     },
     "execution_count": 31,
     "metadata": {},
     "output_type": "execute_result"
    }
   ],
   "source": [
    "res"
   ]
  },
  {
   "cell_type": "markdown",
   "id": "9ba4351a",
   "metadata": {},
   "source": [
    "# child_1情况"
   ]
  },
  {
   "cell_type": "code",
   "execution_count": 43,
   "id": "14d3075e",
   "metadata": {
    "ExecuteTime": {
     "end_time": "2024-09-24T16:29:11.782236Z",
     "start_time": "2024-09-24T16:29:05.410524Z"
    }
   },
   "outputs": [],
   "source": [
    "from sklearn.ensemble import RandomForestRegressor\n",
    "\n",
    "rfg1=RandomForestRegressor(n_estimators=100,criterion='friedman_mse',random_state=0,oob_score=False)\n",
    "\n",
    "target_1_phy=[]\n",
    "for idx,s in target_1.iterrows():\n",
    "    target_1_phy.append(nss_mcs_dict[s['nss'],s['mcs']])\n",
    "\n",
    "\n",
    "rfg1=rfg1.fit(child_1,target_1_phy)\n",
    "\n",
    "# rfg0=RandomForestRegressor(n_estimators=100,criterion='friedman_mse',random_state=0,oob_score=False)\n",
    "# rfg0=rfg0.fit(resource,target_0.to_numpy())\n",
    "from sklearn.model_selection import cross_val_score\n",
    "\n",
    "res=cross_val_score(rfg1,child_1,target_1_phy,cv=10)"
   ]
  },
  {
   "cell_type": "code",
   "execution_count": 44,
   "id": "6805ab35",
   "metadata": {
    "ExecuteTime": {
     "end_time": "2024-09-24T16:29:12.901948Z",
     "start_time": "2024-09-24T16:29:12.897417Z"
    }
   },
   "outputs": [
    {
     "data": {
      "text/plain": [
       "array([ 0.        ,  0.        ,  0.        ,  0.        , -0.03219007,\n",
       "        0.84663934,  0.581401  ,  0.        , -1.17453336, -0.06932281])"
      ]
     },
     "execution_count": 44,
     "metadata": {},
     "output_type": "execute_result"
    }
   ],
   "source": [
    "res"
   ]
  },
  {
   "cell_type": "code",
   "execution_count": 29,
   "id": "64150679",
   "metadata": {
    "ExecuteTime": {
     "end_time": "2024-09-24T01:55:44.931545Z",
     "start_time": "2024-09-24T01:55:44.927035Z"
    }
   },
   "outputs": [
    {
     "data": {
      "text/plain": [
       "0.015199409085189375"
      ]
     },
     "execution_count": 29,
     "metadata": {},
     "output_type": "execute_result"
    }
   ],
   "source": [
    "res.mean()"
   ]
  },
  {
   "cell_type": "markdown",
   "id": "eeba6a45",
   "metadata": {},
   "source": [
    "# child_2情况"
   ]
  },
  {
   "cell_type": "code",
   "execution_count": null,
   "id": "38fdb19c",
   "metadata": {},
   "outputs": [],
   "source": [
    "# from sklearn.ensemble import RandomForestRegressor\n",
    "\n",
    "# rfg1=RandomForestRegressor(n_estimators=100,criterion='friedman_mse',random_state=0,oob_score=False)\n",
    "\n",
    "# target_1_phy=[]\n",
    "# for idx,s in target_1.iterrows():\n",
    "#     target_1_phy.append(nss_mcs_dict[s['nss'],s['mcs']])\n",
    "\n",
    "\n",
    "# rfg1=rfg1.fit(child_1,target_1_phy)\n",
    "\n",
    "# # rfg0=RandomForestRegressor(n_estimators=100,criterion='friedman_mse',random_state=0,oob_score=False)\n",
    "# # rfg0=rfg0.fit(resource,target_0.to_numpy())\n",
    "# from sklearn.model_selection import cross_val_score\n",
    "\n",
    "# res=cross_val_score(rfg1,child_1,target_1_phy,cv=10)"
   ]
  },
  {
   "cell_type": "code",
   "execution_count": 30,
   "id": "79bbe5e1",
   "metadata": {
    "ExecuteTime": {
     "end_time": "2024-09-24T01:55:51.273138Z",
     "start_time": "2024-09-24T01:55:49.551334Z"
    }
   },
   "outputs": [
    {
     "ename": "KeyError",
     "evalue": "''",
     "output_type": "error",
     "traceback": [
      "\u001b[1;31m---------------------------------------------------------------------------\u001b[0m",
      "\u001b[1;31mKeyError\u001b[0m                                  Traceback (most recent call last)",
      "File \u001b[1;32m~\\AppData\\Roaming\\Python\\Python311\\site-packages\\pandas\\core\\indexes\\base.py:3790\u001b[0m, in \u001b[0;36mIndex.get_loc\u001b[1;34m(self, key)\u001b[0m\n\u001b[0;32m   3789\u001b[0m \u001b[38;5;28;01mtry\u001b[39;00m:\n\u001b[1;32m-> 3790\u001b[0m     \u001b[38;5;28;01mreturn\u001b[39;00m \u001b[38;5;28mself\u001b[39m\u001b[38;5;241m.\u001b[39m_engine\u001b[38;5;241m.\u001b[39mget_loc(casted_key)\n\u001b[0;32m   3791\u001b[0m \u001b[38;5;28;01mexcept\u001b[39;00m \u001b[38;5;167;01mKeyError\u001b[39;00m \u001b[38;5;28;01mas\u001b[39;00m err:\n",
      "File \u001b[1;32mindex.pyx:152\u001b[0m, in \u001b[0;36mpandas._libs.index.IndexEngine.get_loc\u001b[1;34m()\u001b[0m\n",
      "File \u001b[1;32mindex.pyx:181\u001b[0m, in \u001b[0;36mpandas._libs.index.IndexEngine.get_loc\u001b[1;34m()\u001b[0m\n",
      "File \u001b[1;32mpandas\\_libs\\hashtable_class_helper.pxi:7080\u001b[0m, in \u001b[0;36mpandas._libs.hashtable.PyObjectHashTable.get_item\u001b[1;34m()\u001b[0m\n",
      "File \u001b[1;32mpandas\\_libs\\hashtable_class_helper.pxi:7088\u001b[0m, in \u001b[0;36mpandas._libs.hashtable.PyObjectHashTable.get_item\u001b[1;34m()\u001b[0m\n",
      "\u001b[1;31mKeyError\u001b[0m: ''",
      "\nThe above exception was the direct cause of the following exception:\n",
      "\u001b[1;31mKeyError\u001b[0m                                  Traceback (most recent call last)",
      "Cell \u001b[1;32mIn[30], line 4\u001b[0m\n\u001b[0;32m      1\u001b[0m \u001b[38;5;28;01mfrom\u001b[39;00m \u001b[38;5;21;01msklearn\u001b[39;00m\u001b[38;5;21;01m.\u001b[39;00m\u001b[38;5;21;01mensemble\u001b[39;00m \u001b[38;5;28;01mimport\u001b[39;00m RandomForestClassifier\n\u001b[0;32m      3\u001b[0m rfg1\u001b[38;5;241m=\u001b[39mRandomForestRegressor(n_estimators\u001b[38;5;241m=\u001b[39m\u001b[38;5;241m100\u001b[39m,criterion\u001b[38;5;241m=\u001b[39m\u001b[38;5;124m'\u001b[39m\u001b[38;5;124mgini\u001b[39m\u001b[38;5;124m'\u001b[39m,random_state\u001b[38;5;241m=\u001b[39m\u001b[38;5;241m0\u001b[39m,oob_score\u001b[38;5;241m=\u001b[39m\u001b[38;5;28;01mFalse\u001b[39;00m)\n\u001b[1;32m----> 4\u001b[0m rfg1\u001b[38;5;241m=\u001b[39mrfg1\u001b[38;5;241m.\u001b[39mfit(child_1,target_1[\u001b[38;5;124m'\u001b[39m\u001b[38;5;124m'\u001b[39m])\n\u001b[0;32m      6\u001b[0m \u001b[38;5;66;03m# rfg0=RandomForestRegressor(n_estimators=100,criterion='friedman_mse',random_state=0,oob_score=False)\u001b[39;00m\n\u001b[0;32m      7\u001b[0m \u001b[38;5;66;03m# rfg0=rfg0.fit(resource,target_0.to_numpy())\u001b[39;00m\n\u001b[0;32m      8\u001b[0m \u001b[38;5;28;01mfrom\u001b[39;00m \u001b[38;5;21;01msklearn\u001b[39;00m\u001b[38;5;21;01m.\u001b[39;00m\u001b[38;5;21;01mmodel_selection\u001b[39;00m \u001b[38;5;28;01mimport\u001b[39;00m cross_val_score\n",
      "File \u001b[1;32m~\\AppData\\Roaming\\Python\\Python311\\site-packages\\pandas\\core\\frame.py:3896\u001b[0m, in \u001b[0;36mDataFrame.__getitem__\u001b[1;34m(self, key)\u001b[0m\n\u001b[0;32m   3894\u001b[0m \u001b[38;5;28;01mif\u001b[39;00m \u001b[38;5;28mself\u001b[39m\u001b[38;5;241m.\u001b[39mcolumns\u001b[38;5;241m.\u001b[39mnlevels \u001b[38;5;241m>\u001b[39m \u001b[38;5;241m1\u001b[39m:\n\u001b[0;32m   3895\u001b[0m     \u001b[38;5;28;01mreturn\u001b[39;00m \u001b[38;5;28mself\u001b[39m\u001b[38;5;241m.\u001b[39m_getitem_multilevel(key)\n\u001b[1;32m-> 3896\u001b[0m indexer \u001b[38;5;241m=\u001b[39m \u001b[38;5;28mself\u001b[39m\u001b[38;5;241m.\u001b[39mcolumns\u001b[38;5;241m.\u001b[39mget_loc(key)\n\u001b[0;32m   3897\u001b[0m \u001b[38;5;28;01mif\u001b[39;00m is_integer(indexer):\n\u001b[0;32m   3898\u001b[0m     indexer \u001b[38;5;241m=\u001b[39m [indexer]\n",
      "File \u001b[1;32m~\\AppData\\Roaming\\Python\\Python311\\site-packages\\pandas\\core\\indexes\\base.py:3797\u001b[0m, in \u001b[0;36mIndex.get_loc\u001b[1;34m(self, key)\u001b[0m\n\u001b[0;32m   3792\u001b[0m     \u001b[38;5;28;01mif\u001b[39;00m \u001b[38;5;28misinstance\u001b[39m(casted_key, \u001b[38;5;28mslice\u001b[39m) \u001b[38;5;129;01mor\u001b[39;00m (\n\u001b[0;32m   3793\u001b[0m         \u001b[38;5;28misinstance\u001b[39m(casted_key, abc\u001b[38;5;241m.\u001b[39mIterable)\n\u001b[0;32m   3794\u001b[0m         \u001b[38;5;129;01mand\u001b[39;00m \u001b[38;5;28many\u001b[39m(\u001b[38;5;28misinstance\u001b[39m(x, \u001b[38;5;28mslice\u001b[39m) \u001b[38;5;28;01mfor\u001b[39;00m x \u001b[38;5;129;01min\u001b[39;00m casted_key)\n\u001b[0;32m   3795\u001b[0m     ):\n\u001b[0;32m   3796\u001b[0m         \u001b[38;5;28;01mraise\u001b[39;00m InvalidIndexError(key)\n\u001b[1;32m-> 3797\u001b[0m     \u001b[38;5;28;01mraise\u001b[39;00m \u001b[38;5;167;01mKeyError\u001b[39;00m(key) \u001b[38;5;28;01mfrom\u001b[39;00m \u001b[38;5;21;01merr\u001b[39;00m\n\u001b[0;32m   3798\u001b[0m \u001b[38;5;28;01mexcept\u001b[39;00m \u001b[38;5;167;01mTypeError\u001b[39;00m:\n\u001b[0;32m   3799\u001b[0m     \u001b[38;5;66;03m# If we have a listlike key, _check_indexing_error will raise\u001b[39;00m\n\u001b[0;32m   3800\u001b[0m     \u001b[38;5;66;03m#  InvalidIndexError. Otherwise we fall through and re-raise\u001b[39;00m\n\u001b[0;32m   3801\u001b[0m     \u001b[38;5;66;03m#  the TypeError.\u001b[39;00m\n\u001b[0;32m   3802\u001b[0m     \u001b[38;5;28mself\u001b[39m\u001b[38;5;241m.\u001b[39m_check_indexing_error(key)\n",
      "\u001b[1;31mKeyError\u001b[0m: ''"
     ]
    }
   ],
   "source": [
    "# from sklearn.ensemble import RandomForestClassifier\n",
    "\n",
    "# rfg1=RandomForestRegressor(n_estimators=100,criterion='gini',random_state=0,oob_score=False)\n",
    "# rfg1=rfg1.fit(child_1,target_1[''])\n",
    "\n",
    "# # rfg0=RandomForestRegressor(n_estimators=100,criterion='friedman_mse',random_state=0,oob_score=False)\n",
    "# # rfg0=rfg0.fit(resource,target_0.to_numpy())\n",
    "# from sklearn.model_selection import cross_val_score\n",
    "\n",
    "# res=cross_val_score(rfg1,child_1,target_1,cv=10)"
   ]
  },
  {
   "cell_type": "code",
   "execution_count": null,
   "id": "d8c4a756",
   "metadata": {},
   "outputs": [],
   "source": []
  },
  {
   "cell_type": "code",
   "execution_count": null,
   "id": "ed35d4a0",
   "metadata": {},
   "outputs": [],
   "source": []
  },
  {
   "cell_type": "code",
   "execution_count": null,
   "id": "d33bdeae",
   "metadata": {},
   "outputs": [],
   "source": []
  }
 ],
 "metadata": {
  "kernelspec": {
   "display_name": "Python 3 (ipykernel)",
   "language": "python",
   "name": "python3"
  },
  "language_info": {
   "codemirror_mode": {
    "name": "ipython",
    "version": 3
   },
   "file_extension": ".py",
   "mimetype": "text/x-python",
   "name": "python",
   "nbconvert_exporter": "python",
   "pygments_lexer": "ipython3",
   "version": "3.11.4"
  },
  "toc": {
   "base_numbering": 1,
   "nav_menu": {},
   "number_sections": false,
   "sideBar": true,
   "skip_h1_title": false,
   "title_cell": "Table of Contents",
   "title_sidebar": "Contents",
   "toc_cell": false,
   "toc_position": {},
   "toc_section_display": true,
   "toc_window_display": false
  },
  "varInspector": {
   "cols": {
    "lenName": 16,
    "lenType": 16,
    "lenVar": 40
   },
   "kernels_config": {
    "python": {
     "delete_cmd_postfix": "",
     "delete_cmd_prefix": "del ",
     "library": "var_list.py",
     "varRefreshCmd": "print(var_dic_list())"
    },
    "r": {
     "delete_cmd_postfix": ") ",
     "delete_cmd_prefix": "rm(",
     "library": "var_list.r",
     "varRefreshCmd": "cat(var_dic_list()) "
    }
   },
   "types_to_exclude": [
    "module",
    "function",
    "builtin_function_or_method",
    "instance",
    "_Feature"
   ],
   "window_display": false
  }
 },
 "nbformat": 4,
 "nbformat_minor": 5
}
