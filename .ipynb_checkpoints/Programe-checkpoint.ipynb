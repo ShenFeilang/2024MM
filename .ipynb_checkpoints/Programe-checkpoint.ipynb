{
 "cells": [
  {
   "cell_type": "code",
   "execution_count": 1,
   "id": "0a27b5db",
   "metadata": {
    "ExecuteTime": {
     "end_time": "2024-09-21T14:07:57.694242Z",
     "start_time": "2024-09-21T14:07:57.411622Z"
    }
   },
   "outputs": [],
   "source": [
    "import numpy as np\n",
    "import pandas as pd"
   ]
  },
  {
   "cell_type": "code",
   "execution_count": 2,
   "id": "68061ed3",
   "metadata": {
    "ExecuteTime": {
     "end_time": "2024-09-21T14:08:00.504986Z",
     "start_time": "2024-09-21T14:08:00.471837Z"
    }
   },
   "outputs": [],
   "source": [
    "part1=pd.read_csv('RAWDATA/training_set_2ap_loc0_nav82.csv')\n",
    "part2=pd.read_csv('RAWDATA/training_set_2ap_loc0_nav86.csv')\n",
    "part3=pd.read_csv('RAWDATA/training_set_2ap_loc1_nav82.csv')\n",
    "part4=pd.read_csv('RAWDATA/training_set_2ap_loc1_nav86.csv')\n",
    "part5=pd.read_csv('RAWDATA/training_set_2ap_loc2_nav82.csv')\n",
    "\n",
    "resource=pd.concat([part1,part2,part3,part4,part5],axis=0)\n",
    "\n",
    "columns=[0,1,2,4,5,6,7,8,9,10,19,20,35,36,37,38,39,40,42]\n",
    "resource=resource.drop(resource.columns[columns],axis=1)\n",
    "\n",
    "resource=resource.iloc[:392,:]"
   ]
  },
  {
   "cell_type": "code",
   "execution_count": 3,
   "id": "6876a6a1",
   "metadata": {
    "ExecuteTime": {
     "end_time": "2024-09-21T14:08:02.771018Z",
     "start_time": "2024-09-21T14:08:02.761043Z"
    }
   },
   "outputs": [
    {
     "name": "stdout",
     "output_type": "stream",
     "text": [
      "<class 'pandas.core.frame.DataFrame'>\n",
      "Index: 392 entries, 0 to 77\n",
      "Data columns (total 24 columns):\n",
      " #   Column                       Non-Null Count  Dtype  \n",
      "---  ------                       --------------  -----  \n",
      " 0   protocol                     392 non-null    object \n",
      " 1   nav                          392 non-null    int64  \n",
      " 2   eirp                         392 non-null    int64  \n",
      " 3   ap_from_ap_0_sum_ant_rssi    196 non-null    object \n",
      " 4   ap_from_ap_0_max_ant_rssi    196 non-null    object \n",
      " 5   ap_from_ap_0_mean_ant_rssi   196 non-null    object \n",
      " 6   ap_from_ap_1_sum_ant_rssi    196 non-null    object \n",
      " 7   ap_from_ap_1_max_ant_rssi    196 non-null    object \n",
      " 8   ap_from_ap_1_mean_ant_rssi   196 non-null    object \n",
      " 9   sta_to_ap_0_sum_ant_rssi     392 non-null    object \n",
      " 10  sta_to_ap_0_max_ant_rssi     392 non-null    object \n",
      " 11  sta_to_ap_0_mean_ant_rssi    392 non-null    object \n",
      " 12  sta_to_ap_1_sum_ant_rssi     392 non-null    object \n",
      " 13  sta_to_ap_1_max_ant_rssi     392 non-null    object \n",
      " 14  sta_to_ap_1_mean_ant_rssi    392 non-null    object \n",
      " 15  sta_from_ap_0_sum_ant_rssi   392 non-null    object \n",
      " 16  sta_from_ap_0_max_ant_rssi   392 non-null    object \n",
      " 17  sta_from_ap_0_mean_ant_rssi  392 non-null    object \n",
      " 18  sta_from_ap_1_sum_ant_rssi   392 non-null    object \n",
      " 19  sta_from_ap_1_max_ant_rssi   392 non-null    object \n",
      " 20  sta_from_ap_1_mean_ant_rssi  392 non-null    object \n",
      " 21  sta_from_sta_0_rssi          196 non-null    float64\n",
      " 22  sta_from_sta_1_rssi          196 non-null    float64\n",
      " 23  seq_time                     392 non-null    float64\n",
      "dtypes: float64(3), int64(2), object(19)\n",
      "memory usage: 76.6+ KB\n"
     ]
    }
   ],
   "source": [
    "resource.info()"
   ]
  },
  {
   "cell_type": "code",
   "execution_count": 4,
   "id": "2b99d630",
   "metadata": {
    "ExecuteTime": {
     "end_time": "2024-09-21T14:08:31.082145Z",
     "start_time": "2024-09-21T14:08:31.078541Z"
    }
   },
   "outputs": [],
   "source": [
    "resource_1=resource.iloc[::2,:]\n",
    "resource_0=resource.iloc[1::2,:]"
   ]
  },
  {
   "cell_type": "code",
   "execution_count": 5,
   "id": "c3fe8b36",
   "metadata": {
    "ExecuteTime": {
     "end_time": "2024-09-21T14:08:33.081325Z",
     "start_time": "2024-09-21T14:08:33.068741Z"
    }
   },
   "outputs": [
    {
     "name": "stdout",
     "output_type": "stream",
     "text": [
      "<class 'pandas.core.frame.DataFrame'>\n",
      "Index: 196 entries, 1 to 77\n",
      "Data columns (total 24 columns):\n",
      " #   Column                       Non-Null Count  Dtype  \n",
      "---  ------                       --------------  -----  \n",
      " 0   protocol                     196 non-null    object \n",
      " 1   nav                          196 non-null    int64  \n",
      " 2   eirp                         196 non-null    int64  \n",
      " 3   ap_from_ap_0_sum_ant_rssi    0 non-null      object \n",
      " 4   ap_from_ap_0_max_ant_rssi    0 non-null      object \n",
      " 5   ap_from_ap_0_mean_ant_rssi   0 non-null      object \n",
      " 6   ap_from_ap_1_sum_ant_rssi    196 non-null    object \n",
      " 7   ap_from_ap_1_max_ant_rssi    196 non-null    object \n",
      " 8   ap_from_ap_1_mean_ant_rssi   196 non-null    object \n",
      " 9   sta_to_ap_0_sum_ant_rssi     196 non-null    object \n",
      " 10  sta_to_ap_0_max_ant_rssi     196 non-null    object \n",
      " 11  sta_to_ap_0_mean_ant_rssi    196 non-null    object \n",
      " 12  sta_to_ap_1_sum_ant_rssi     196 non-null    object \n",
      " 13  sta_to_ap_1_max_ant_rssi     196 non-null    object \n",
      " 14  sta_to_ap_1_mean_ant_rssi    196 non-null    object \n",
      " 15  sta_from_ap_0_sum_ant_rssi   196 non-null    object \n",
      " 16  sta_from_ap_0_max_ant_rssi   196 non-null    object \n",
      " 17  sta_from_ap_0_mean_ant_rssi  196 non-null    object \n",
      " 18  sta_from_ap_1_sum_ant_rssi   196 non-null    object \n",
      " 19  sta_from_ap_1_max_ant_rssi   196 non-null    object \n",
      " 20  sta_from_ap_1_mean_ant_rssi  196 non-null    object \n",
      " 21  sta_from_sta_0_rssi          0 non-null      float64\n",
      " 22  sta_from_sta_1_rssi          196 non-null    float64\n",
      " 23  seq_time                     196 non-null    float64\n",
      "dtypes: float64(3), int64(2), object(19)\n",
      "memory usage: 38.3+ KB\n"
     ]
    }
   ],
   "source": [
    "resource_0.info()"
   ]
  },
  {
   "cell_type": "code",
   "execution_count": 6,
   "id": "b98627d9",
   "metadata": {
    "ExecuteTime": {
     "end_time": "2024-09-21T14:08:35.452635Z",
     "start_time": "2024-09-21T14:08:35.443654Z"
    }
   },
   "outputs": [
    {
     "name": "stdout",
     "output_type": "stream",
     "text": [
      "<class 'pandas.core.frame.DataFrame'>\n",
      "Index: 196 entries, 0 to 76\n",
      "Data columns (total 24 columns):\n",
      " #   Column                       Non-Null Count  Dtype  \n",
      "---  ------                       --------------  -----  \n",
      " 0   protocol                     196 non-null    object \n",
      " 1   nav                          196 non-null    int64  \n",
      " 2   eirp                         196 non-null    int64  \n",
      " 3   ap_from_ap_0_sum_ant_rssi    196 non-null    object \n",
      " 4   ap_from_ap_0_max_ant_rssi    196 non-null    object \n",
      " 5   ap_from_ap_0_mean_ant_rssi   196 non-null    object \n",
      " 6   ap_from_ap_1_sum_ant_rssi    0 non-null      object \n",
      " 7   ap_from_ap_1_max_ant_rssi    0 non-null      object \n",
      " 8   ap_from_ap_1_mean_ant_rssi   0 non-null      object \n",
      " 9   sta_to_ap_0_sum_ant_rssi     196 non-null    object \n",
      " 10  sta_to_ap_0_max_ant_rssi     196 non-null    object \n",
      " 11  sta_to_ap_0_mean_ant_rssi    196 non-null    object \n",
      " 12  sta_to_ap_1_sum_ant_rssi     196 non-null    object \n",
      " 13  sta_to_ap_1_max_ant_rssi     196 non-null    object \n",
      " 14  sta_to_ap_1_mean_ant_rssi    196 non-null    object \n",
      " 15  sta_from_ap_0_sum_ant_rssi   196 non-null    object \n",
      " 16  sta_from_ap_0_max_ant_rssi   196 non-null    object \n",
      " 17  sta_from_ap_0_mean_ant_rssi  196 non-null    object \n",
      " 18  sta_from_ap_1_sum_ant_rssi   196 non-null    object \n",
      " 19  sta_from_ap_1_max_ant_rssi   196 non-null    object \n",
      " 20  sta_from_ap_1_mean_ant_rssi  196 non-null    object \n",
      " 21  sta_from_sta_0_rssi          196 non-null    float64\n",
      " 22  sta_from_sta_1_rssi          0 non-null      float64\n",
      " 23  seq_time                     196 non-null    float64\n",
      "dtypes: float64(3), int64(2), object(19)\n",
      "memory usage: 38.3+ KB\n"
     ]
    }
   ],
   "source": [
    "resource_1.info()"
   ]
  },
  {
   "cell_type": "code",
   "execution_count": 7,
   "id": "85d4d23f",
   "metadata": {
    "ExecuteTime": {
     "end_time": "2024-09-21T14:11:17.254291Z",
     "start_time": "2024-09-21T14:11:17.248752Z"
    }
   },
   "outputs": [],
   "source": [
    "target_0=resource_0.iloc[:,23]\n",
    "resource_0=resource_0.drop(resource_0.columns[[3,4,5,21,23]],axis=1)\n",
    "\n",
    "target_1=resource_1.iloc[:,23]\n",
    "resource_1=resource_1.drop(resource_1.columns[[6,7,8,22,23]],axis=1)"
   ]
  },
  {
   "cell_type": "code",
   "execution_count": 39,
   "id": "11d7c0f5",
   "metadata": {
    "ExecuteTime": {
     "end_time": "2024-09-21T15:01:33.956559Z",
     "start_time": "2024-09-21T15:01:33.947274Z"
    }
   },
   "outputs": [
    {
     "name": "stdout",
     "output_type": "stream",
     "text": [
      "<class 'pandas.core.frame.DataFrame'>\n",
      "RangeIndex: 196 entries, 0 to 195\n",
      "Data columns (total 19 columns):\n",
      " #   Column                       Non-Null Count  Dtype  \n",
      "---  ------                       --------------  -----  \n",
      " 0   protocol                     196 non-null    object \n",
      " 1   nav                          196 non-null    int64  \n",
      " 2   eirp                         196 non-null    int64  \n",
      " 3   ap_from_ap_1_sum_ant_rssi    196 non-null    object \n",
      " 4   ap_from_ap_1_max_ant_rssi    196 non-null    object \n",
      " 5   ap_from_ap_1_mean_ant_rssi   196 non-null    object \n",
      " 6   sta_to_ap_0_sum_ant_rssi     196 non-null    object \n",
      " 7   sta_to_ap_0_max_ant_rssi     196 non-null    object \n",
      " 8   sta_to_ap_0_mean_ant_rssi    196 non-null    object \n",
      " 9   sta_to_ap_1_sum_ant_rssi     196 non-null    object \n",
      " 10  sta_to_ap_1_max_ant_rssi     196 non-null    object \n",
      " 11  sta_to_ap_1_mean_ant_rssi    196 non-null    object \n",
      " 12  sta_from_ap_0_sum_ant_rssi   196 non-null    object \n",
      " 13  sta_from_ap_0_max_ant_rssi   196 non-null    object \n",
      " 14  sta_from_ap_0_mean_ant_rssi  196 non-null    object \n",
      " 15  sta_from_ap_1_sum_ant_rssi   196 non-null    object \n",
      " 16  sta_from_ap_1_max_ant_rssi   196 non-null    object \n",
      " 17  sta_from_ap_1_mean_ant_rssi  196 non-null    object \n",
      " 18  sta_from_sta_1_rssi          196 non-null    float64\n",
      "dtypes: float64(1), int64(2), object(16)\n",
      "memory usage: 29.2+ KB\n"
     ]
    }
   ],
   "source": [
    "resource_0.info()"
   ]
  },
  {
   "cell_type": "code",
   "execution_count": 38,
   "id": "26436e54",
   "metadata": {
    "ExecuteTime": {
     "end_time": "2024-09-21T15:01:21.416096Z",
     "start_time": "2024-09-21T15:01:21.407229Z"
    },
    "collapsed": true
   },
   "outputs": [
    {
     "name": "stdout",
     "output_type": "stream",
     "text": [
      "<class 'pandas.core.frame.DataFrame'>\n",
      "RangeIndex: 196 entries, 0 to 195\n",
      "Data columns (total 19 columns):\n",
      " #   Column                       Non-Null Count  Dtype  \n",
      "---  ------                       --------------  -----  \n",
      " 0   protocol                     196 non-null    object \n",
      " 1   nav                          196 non-null    int64  \n",
      " 2   eirp                         196 non-null    int64  \n",
      " 3   ap_from_ap_0_sum_ant_rssi    196 non-null    object \n",
      " 4   ap_from_ap_0_max_ant_rssi    196 non-null    object \n",
      " 5   ap_from_ap_0_mean_ant_rssi   196 non-null    object \n",
      " 6   sta_to_ap_0_sum_ant_rssi     196 non-null    object \n",
      " 7   sta_to_ap_0_max_ant_rssi     196 non-null    object \n",
      " 8   sta_to_ap_0_mean_ant_rssi    196 non-null    object \n",
      " 9   sta_to_ap_1_sum_ant_rssi     196 non-null    object \n",
      " 10  sta_to_ap_1_max_ant_rssi     196 non-null    object \n",
      " 11  sta_to_ap_1_mean_ant_rssi    196 non-null    object \n",
      " 12  sta_from_ap_0_sum_ant_rssi   196 non-null    object \n",
      " 13  sta_from_ap_0_max_ant_rssi   196 non-null    object \n",
      " 14  sta_from_ap_0_mean_ant_rssi  196 non-null    object \n",
      " 15  sta_from_ap_1_sum_ant_rssi   196 non-null    object \n",
      " 16  sta_from_ap_1_max_ant_rssi   196 non-null    object \n",
      " 17  sta_from_ap_1_mean_ant_rssi  196 non-null    object \n",
      " 18  sta_from_sta_0_rssi          196 non-null    float64\n",
      "dtypes: float64(1), int64(2), object(16)\n",
      "memory usage: 29.2+ KB\n"
     ]
    }
   ],
   "source": [
    "resource_1.info()"
   ]
  },
  {
   "cell_type": "code",
   "execution_count": 29,
   "id": "f7179b05",
   "metadata": {
    "ExecuteTime": {
     "end_time": "2024-09-21T14:47:54.013407Z",
     "start_time": "2024-09-21T14:47:54.009358Z"
    }
   },
   "outputs": [],
   "source": [
    "resource_1.index=range(resource_1.shape[0])\n",
    "resource_0.index=range(resource_0.shape[0])"
   ]
  },
  {
   "cell_type": "code",
   "execution_count": 37,
   "id": "14c8a8ad",
   "metadata": {
    "ExecuteTime": {
     "end_time": "2024-09-21T14:59:04.697076Z",
     "start_time": "2024-09-21T14:59:04.406026Z"
    }
   },
   "outputs": [],
   "source": [
    "resource_1.to_excel('resource_1.xlsx')\n",
    "resource_0.to_excel('resource_0.xlsx')"
   ]
  },
  {
   "cell_type": "code",
   "execution_count": 41,
   "id": "49f86ec7",
   "metadata": {
    "ExecuteTime": {
     "end_time": "2024-09-21T15:17:52.871700Z",
     "start_time": "2024-09-21T15:17:52.365338Z"
    }
   },
   "outputs": [],
   "source": [
    "def test(s_item):\n",
    "    temp=eval(s_item)\n",
    "    data_array=np.array(temp)\n",
    "    mean = data_array.mean()\n",
    "    std = data_array.std()\n",
    "    # 根据3σ原则计算上下限\n",
    "    lower_limit = mean - 3 * std\n",
    "    upper_limit = mean + 3 * std\n",
    "    \n",
    "    for i in range(len(data_array)):\n",
    "        if data_array[i]<lower_limit or data_array[i]>upper_limit:\n",
    "            temp.remove(data_array[i])\n",
    "    return temp\n",
    "\n",
    "# for i in range(3,18):\n",
    "#     resource_0.iloc[:,i].apply(test)\n",
    "#     resource_0.iloc[:,i].apply(test)\n",
    "    \n",
    "# resource_0.to_excel('filter_resource_0.xlsx')\n",
    "# resource_1.to_excel('filter_resource_1.xlsx')"
   ]
  },
  {
   "cell_type": "code",
   "execution_count": 50,
   "id": "1f0af6e5",
   "metadata": {
    "ExecuteTime": {
     "end_time": "2024-09-21T15:27:27.445891Z",
     "start_time": "2024-09-21T15:27:26.314446Z"
    }
   },
   "outputs": [],
   "source": [
    "for i in range(3,18):\n",
    "    resource_1.iloc[:,i]=resource_1.iloc[:,i].apply(lambda x: sum(eval(x))/len(eval(x)))\n",
    "    resource_0.iloc[:,i]=resource_0.iloc[:,i].apply(lambda x: sum(eval(x))/len(eval(x)))"
   ]
  },
  {
   "cell_type": "markdown",
   "id": "5ceafd2f",
   "metadata": {},
   "source": [
    "# encoder记载"
   ]
  },
  {
   "cell_type": "code",
   "execution_count": 62,
   "id": "22f6e6f1",
   "metadata": {
    "ExecuteTime": {
     "end_time": "2024-09-21T15:49:53.897286Z",
     "start_time": "2024-09-21T15:49:53.877009Z"
    }
   },
   "outputs": [],
   "source": [
    "from sklearn.preprocessing import OneHotEncoder\n",
    "\n",
    "\n",
    "temp=np.vstack([resource_0.iloc[:,0].to_numpy(),resource_1.iloc[:,0].to_numpy()])\n",
    "enc=OneHotEncoder(categories='auto',handle_unknown='error',sparse_output=False).fit(temp)\n",
    "result = enc.transform(temp)"
   ]
  },
  {
   "cell_type": "code",
   "execution_count": null,
   "id": "3ecc23ef",
   "metadata": {
    "ExecuteTime": {
     "end_time": "2024-09-21T15:51:31.553877Z",
     "start_time": "2024-09-21T15:51:31.548134Z"
    }
   },
   "outputs": [],
   "source": []
  },
  {
   "cell_type": "code",
   "execution_count": null,
   "id": "a37113ec",
   "metadata": {},
   "outputs": [],
   "source": []
  },
  {
   "cell_type": "code",
   "execution_count": 17,
   "id": "199fa4cb",
   "metadata": {
    "ExecuteTime": {
     "end_time": "2024-09-21T10:56:46.563265Z",
     "start_time": "2024-09-21T10:56:46.547773Z"
    }
   },
   "outputs": [],
   "source": [
    "resource_0['protocol'] = resource_0['protocol'].map({'tcp': 0, 'udp': 1})"
   ]
  },
  {
   "cell_type": "code",
   "execution_count": 18,
   "id": "9b22e6ab",
   "metadata": {
    "ExecuteTime": {
     "end_time": "2024-09-21T10:56:46.578243Z",
     "start_time": "2024-09-21T10:56:46.564272Z"
    }
   },
   "outputs": [],
   "source": []
  },
  {
   "cell_type": "code",
   "execution_count": 19,
   "id": "ba48d923",
   "metadata": {
    "ExecuteTime": {
     "end_time": "2024-09-21T10:56:47.973601Z",
     "start_time": "2024-09-21T10:56:46.579198Z"
    }
   },
   "outputs": [
    {
     "data": {
      "text/plain": [
       "array([0.01901142, 0.04710385, 0.04231243, 0.13184086, 0.31794187,\n",
       "       0.22836059, 0.00477668, 0.01790342, 0.01052732, 0.04546757,\n",
       "       0.0215203 , 0.02151213, 0.02320294, 0.00993689, 0.04116563,\n",
       "       0.00448388, 0.00607895, 0.00644818, 0.00040506])"
      ]
     },
     "execution_count": 19,
     "metadata": {},
     "output_type": "execute_result"
    }
   ],
   "source": [
    "from sklearn.ensemble import RandomForestRegressor\n",
    "\n",
    "rfg1=RandomForestRegressor(n_estimators=100,criterion='friedman_mse',random_state=0,oob_score=False)\n",
    "rfg1=rfg1.fit(resource_1.to_numpy(),target_1.to_numpy())\n",
    "\n",
    "rfg0=RandomForestRegressor(n_estimators=100,criterion='friedman_mse',random_state=0,oob_score=False)\n",
    "rfg0=rfg0.fit(resource_0.to_numpy(),target_0.to_numpy())\n",
    "\n",
    "rfg1.feature_importances_"
   ]
  },
  {
   "cell_type": "code",
   "execution_count": 20,
   "id": "fb317bd5",
   "metadata": {
    "ExecuteTime": {
     "end_time": "2024-09-21T10:56:47.984264Z",
     "start_time": "2024-09-21T10:56:47.974646Z"
    }
   },
   "outputs": [
    {
     "data": {
      "text/plain": [
       "array([0.03487494, 0.0088667 , 0.00519311, 0.18136896, 0.60588372,\n",
       "       0.008294  , 0.01445775, 0.01111482, 0.01355015, 0.00961982,\n",
       "       0.01393696, 0.00835363, 0.02312617, 0.01539861, 0.01820205,\n",
       "       0.01007672, 0.00823862, 0.00879102, 0.00065224])"
      ]
     },
     "execution_count": 20,
     "metadata": {},
     "output_type": "execute_result"
    }
   ],
   "source": [
    "rfg0.feature_importances_"
   ]
  },
  {
   "cell_type": "code",
   "execution_count": 24,
   "id": "18c7cdaf",
   "metadata": {
    "ExecuteTime": {
     "end_time": "2024-09-21T11:05:07.720245Z",
     "start_time": "2024-09-21T11:05:07.703290Z"
    }
   },
   "outputs": [
    {
     "data": {
      "text/plain": [
       "Index(['sta_from_sta_0_rssi', 'sta_from_ap_1_sum_ant_rssi',\n",
       "       'sta_to_ap_0_sum_ant_rssi', 'sta_from_ap_1_max_ant_rssi',\n",
       "       'sta_from_ap_1_mean_ant_rssi', 'sta_from_ap_0_max_ant_rssi',\n",
       "       'sta_to_ap_0_mean_ant_rssi', 'sta_to_ap_0_max_ant_rssi', 'protocol',\n",
       "       'sta_to_ap_1_mean_ant_rssi', 'sta_to_ap_1_max_ant_rssi',\n",
       "       'sta_from_ap_0_sum_ant_rssi', 'sta_from_ap_0_mean_ant_rssi', 'eirp',\n",
       "       'sta_to_ap_1_sum_ant_rssi', 'nav', 'ap_from_ap_0_sum_ant_rssi',\n",
       "       'ap_from_ap_0_mean_ant_rssi', 'ap_from_ap_0_max_ant_rssi'],\n",
       "      dtype='object')"
      ]
     },
     "execution_count": 24,
     "metadata": {},
     "output_type": "execute_result"
    }
   ],
   "source": [
    "resource_1.columns[np.argsort(rfg1.feature_importances_)]"
   ]
  },
  {
   "cell_type": "code",
   "execution_count": 25,
   "id": "0681147e",
   "metadata": {
    "ExecuteTime": {
     "end_time": "2024-09-21T11:05:08.513834Z",
     "start_time": "2024-09-21T11:05:08.497288Z"
    }
   },
   "outputs": [
    {
     "data": {
      "text/plain": [
       "Index(['sta_from_sta_1_rssi', 'eirp', 'sta_from_ap_1_max_ant_rssi',\n",
       "       'ap_from_ap_1_mean_ant_rssi', 'sta_to_ap_1_mean_ant_rssi',\n",
       "       'sta_from_ap_1_mean_ant_rssi', 'nav', 'sta_to_ap_1_sum_ant_rssi',\n",
       "       'sta_from_ap_1_sum_ant_rssi', 'sta_to_ap_0_max_ant_rssi',\n",
       "       'sta_to_ap_0_mean_ant_rssi', 'sta_to_ap_1_max_ant_rssi',\n",
       "       'sta_to_ap_0_sum_ant_rssi', 'sta_from_ap_0_max_ant_rssi',\n",
       "       'sta_from_ap_0_mean_ant_rssi', 'sta_from_ap_0_sum_ant_rssi', 'protocol',\n",
       "       'ap_from_ap_1_sum_ant_rssi', 'ap_from_ap_1_max_ant_rssi'],\n",
       "      dtype='object')"
      ]
     },
     "execution_count": 25,
     "metadata": {},
     "output_type": "execute_result"
    }
   ],
   "source": [
    "resource_0.columns[np.argsort(rfg0.feature_importances_)]"
   ]
  },
  {
   "cell_type": "code",
   "execution_count": 40,
   "id": "934f0feb",
   "metadata": {
    "ExecuteTime": {
     "end_time": "2024-09-21T15:11:14.572392Z",
     "start_time": "2024-09-21T15:11:14.553250Z"
    }
   },
   "outputs": [
    {
     "ename": "AttributeError",
     "evalue": "'numpy.ndarray' object has no attribute 'remove'",
     "output_type": "error",
     "traceback": [
      "\u001b[1;31m---------------------------------------------------------------------------\u001b[0m",
      "\u001b[1;31mAttributeError\u001b[0m                            Traceback (most recent call last)",
      "Cell \u001b[1;32mIn[40], line 2\u001b[0m\n\u001b[0;32m      1\u001b[0m a\u001b[38;5;241m=\u001b[39mnp\u001b[38;5;241m.\u001b[39marray([\u001b[38;5;241m1\u001b[39m,\u001b[38;5;241m2\u001b[39m,\u001b[38;5;241m3\u001b[39m])\n\u001b[1;32m----> 2\u001b[0m a\u001b[38;5;241m.\u001b[39mremove(\u001b[38;5;241m2\u001b[39m)\n",
      "\u001b[1;31mAttributeError\u001b[0m: 'numpy.ndarray' object has no attribute 'remove'"
     ]
    }
   ],
   "source": []
  },
  {
   "cell_type": "code",
   "execution_count": null,
   "id": "a9f3f8ba",
   "metadata": {},
   "outputs": [],
   "source": []
  }
 ],
 "metadata": {
  "kernelspec": {
   "display_name": "Python 3 (ipykernel)",
   "language": "python",
   "name": "python3"
  },
  "language_info": {
   "codemirror_mode": {
    "name": "ipython",
    "version": 3
   },
   "file_extension": ".py",
   "mimetype": "text/x-python",
   "name": "python",
   "nbconvert_exporter": "python",
   "pygments_lexer": "ipython3",
   "version": "3.11.4"
  },
  "toc": {
   "base_numbering": 1,
   "nav_menu": {},
   "number_sections": false,
   "sideBar": true,
   "skip_h1_title": false,
   "title_cell": "Table of Contents",
   "title_sidebar": "Contents",
   "toc_cell": false,
   "toc_position": {},
   "toc_section_display": true,
   "toc_window_display": false
  },
  "varInspector": {
   "cols": {
    "lenName": 16,
    "lenType": 16,
    "lenVar": 40
   },
   "kernels_config": {
    "python": {
     "delete_cmd_postfix": "",
     "delete_cmd_prefix": "del ",
     "library": "var_list.py",
     "varRefreshCmd": "print(var_dic_list())"
    },
    "r": {
     "delete_cmd_postfix": ") ",
     "delete_cmd_prefix": "rm(",
     "library": "var_list.r",
     "varRefreshCmd": "cat(var_dic_list()) "
    }
   },
   "types_to_exclude": [
    "module",
    "function",
    "builtin_function_or_method",
    "instance",
    "_Feature"
   ],
   "window_display": false
  }
 },
 "nbformat": 4,
 "nbformat_minor": 5
}
