{
 "cells": [
  {
   "cell_type": "code",
   "execution_count": 1,
   "id": "099d375f",
   "metadata": {
    "ExecuteTime": {
     "end_time": "2024-09-24T14:21:01.887913Z",
     "start_time": "2024-09-24T14:21:01.477738Z"
    }
   },
   "outputs": [],
   "source": [
    "import numpy as np\n",
    "import pandas as pd"
   ]
  },
  {
   "cell_type": "code",
   "execution_count": 2,
   "id": "a6462d20",
   "metadata": {
    "ExecuteTime": {
     "end_time": "2024-09-24T14:21:02.103620Z",
     "start_time": "2024-09-24T14:21:01.936672Z"
    }
   },
   "outputs": [],
   "source": [
    "part1=pd.read_csv('RAWDATA/training_set_3ap_loc30_nav82.csv')\n",
    "# part2=pd.read_csv('RAWDATA/training_set_3ap_loc30_nav86.csv')  #ap_from_ap_0_rssi全部为空，所以不用于模拟三ap数据\n",
    "part3=pd.read_csv('RAWDATA/training_set_3ap_loc31_nav82.csv')\n",
    "part4=pd.read_csv('RAWDATA/training_set_3ap_loc31_nav86.csv')\n",
    "part5=pd.read_csv('RAWDATA/training_set_3ap_loc32_nav82.csv')\n",
    "part6=pd.read_csv('RAWDATA/training_set_3ap_loc32_nav86.csv')\n",
    "part7=pd.read_csv('RAWDATA/training_set_3ap_loc33_nav82_new.csv')\n",
    "part8=pd.read_csv('RAWDATA/training_set_3ap_loc33_nav88.csv')\n",
    "\n",
    "resource=pd.concat([part1,part3,part4,part5,part6,part7,part8],axis=0)"
   ]
  },
  {
   "cell_type": "code",
   "execution_count": 3,
   "id": "c930b06b",
   "metadata": {
    "ExecuteTime": {
     "end_time": "2024-09-24T14:21:02.283808Z",
     "start_time": "2024-09-24T14:21:02.272884Z"
    },
    "collapsed": true
   },
   "outputs": [
    {
     "name": "stdout",
     "output_type": "stream",
     "text": [
      "<class 'pandas.core.frame.DataFrame'>\n",
      "Index: 707 entries, 0 to 98\n",
      "Data columns (total 55 columns):\n",
      " #   Column                       Non-Null Count  Dtype  \n",
      "---  ------                       --------------  -----  \n",
      " 0   test_id                      707 non-null    int64  \n",
      " 1   test_dur                     707 non-null    int64  \n",
      " 2   loc_id                       707 non-null    object \n",
      " 3   protocol                     707 non-null    object \n",
      " 4   pkt_len                      707 non-null    int64  \n",
      " 5   bss_id                       707 non-null    int64  \n",
      " 6   ap_name                      707 non-null    object \n",
      " 7   ap_mac                       707 non-null    object \n",
      " 8   ap_id                        707 non-null    object \n",
      " 9   pd                           707 non-null    int64  \n",
      " 10  ed                           707 non-null    int64  \n",
      " 11  nav                          707 non-null    int64  \n",
      " 12  eirp                         707 non-null    int64  \n",
      " 13  ap_from_ap_0_sum_ant_rssi    462 non-null    object \n",
      " 14  ap_from_ap_0_max_ant_rssi    462 non-null    object \n",
      " 15  ap_from_ap_0_mean_ant_rssi   462 non-null    object \n",
      " 16  ap_from_ap_1_sum_ant_rssi    461 non-null    object \n",
      " 17  ap_from_ap_1_max_ant_rssi    461 non-null    object \n",
      " 18  ap_from_ap_1_mean_ant_rssi   461 non-null    object \n",
      " 19  ap_from_ap_2_sum_ant_rssi    491 non-null    object \n",
      " 20  ap_from_ap_2_max_ant_rssi    491 non-null    object \n",
      " 21  ap_from_ap_2_mean_ant_rssi   491 non-null    object \n",
      " 22  sta_mac                      707 non-null    object \n",
      " 23  sta_id                       707 non-null    object \n",
      " 24  sta_to_ap_0_sum_ant_rssi     707 non-null    object \n",
      " 25  sta_to_ap_0_max_ant_rssi     707 non-null    object \n",
      " 26  sta_to_ap_0_mean_ant_rssi    707 non-null    object \n",
      " 27  sta_to_ap_1_sum_ant_rssi     707 non-null    object \n",
      " 28  sta_to_ap_1_max_ant_rssi     707 non-null    object \n",
      " 29  sta_to_ap_1_mean_ant_rssi    707 non-null    object \n",
      " 30  sta_to_ap_2_sum_ant_rssi     650 non-null    object \n",
      " 31  sta_to_ap_2_max_ant_rssi     650 non-null    object \n",
      " 32  sta_to_ap_2_mean_ant_rssi    650 non-null    object \n",
      " 33  sta_from_ap_0_sum_ant_rssi   707 non-null    object \n",
      " 34  sta_from_ap_0_max_ant_rssi   707 non-null    object \n",
      " 35  sta_from_ap_0_mean_ant_rssi  707 non-null    object \n",
      " 36  sta_from_ap_1_sum_ant_rssi   707 non-null    object \n",
      " 37  sta_from_ap_1_max_ant_rssi   707 non-null    object \n",
      " 38  sta_from_ap_1_mean_ant_rssi  707 non-null    object \n",
      " 39  sta_from_ap_2_sum_ant_rssi   707 non-null    object \n",
      " 40  sta_from_ap_2_max_ant_rssi   707 non-null    object \n",
      " 41  sta_from_ap_2_mean_ant_rssi  707 non-null    object \n",
      " 42  sta_from_sta_0_rssi          462 non-null    float64\n",
      " 43  sta_from_sta_1_rssi          461 non-null    float64\n",
      " 44  sta_from_sta_2_rssi          491 non-null    float64\n",
      " 45  nss                          707 non-null    int64  \n",
      " 46  mcs                          707 non-null    int64  \n",
      " 47  per                          707 non-null    float64\n",
      " 48  num_ampdu                    707 non-null    int64  \n",
      " 49  ppdu_dur                     707 non-null    float64\n",
      " 50  other_air_time               707 non-null    float64\n",
      " 51  seq_time                     707 non-null    float64\n",
      " 52  throughput                   707 non-null    float64\n",
      " 53  predict throughput           0 non-null      float64\n",
      " 54  error%                       0 non-null      float64\n",
      "dtypes: float64(10), int64(11), object(34)\n",
      "memory usage: 309.3+ KB\n"
     ]
    }
   ],
   "source": [
    "resource.info()"
   ]
  },
  {
   "cell_type": "code",
   "execution_count": 4,
   "id": "22a1d04c",
   "metadata": {
    "ExecuteTime": {
     "end_time": "2024-09-24T14:22:56.725022Z",
     "start_time": "2024-09-24T14:22:56.719347Z"
    }
   },
   "outputs": [],
   "source": [
    "columns=[0,1,2,4,6,7,8,12,22,23,25,26,28,29,31,32,34,35,37,38,40,41,50,53,54]  #这里没删bss_id，为了后续合并空白值计算\n",
    "\n",
    "resource=resource.drop(resource.columns[columns],axis=1)\n",
    "resource.index=range(resource.shape[0])"
   ]
  },
  {
   "cell_type": "code",
   "execution_count": 5,
   "id": "4b14c6ac",
   "metadata": {
    "ExecuteTime": {
     "end_time": "2024-09-24T14:22:58.118497Z",
     "start_time": "2024-09-24T14:22:58.115160Z"
    }
   },
   "outputs": [],
   "source": [
    "#resource.to_excel('temp.xlsx')"
   ]
  },
  {
   "cell_type": "code",
   "execution_count": 6,
   "id": "ab0ff440",
   "metadata": {
    "ExecuteTime": {
     "end_time": "2024-09-24T14:22:59.590369Z",
     "start_time": "2024-09-24T14:22:59.585101Z"
    }
   },
   "outputs": [],
   "source": [
    "resource=resource.drop(range(551,608),axis=0)  #删除指定有空值的行\n",
    "resource.index=range(resource.shape[0])"
   ]
  },
  {
   "cell_type": "code",
   "execution_count": 7,
   "id": "51fe93d0",
   "metadata": {
    "ExecuteTime": {
     "end_time": "2024-09-24T14:23:00.527638Z",
     "start_time": "2024-09-24T14:23:00.192665Z"
    }
   },
   "outputs": [],
   "source": [
    "for i in range(resource.shape[0]):\n",
    "    if resource.iloc[i,list(resource.columns).index('bss_id')]==2:\n",
    "        continue\n",
    "    else: \n",
    "        if resource.iloc[i,list(resource.columns).index('bss_id')]==0:\n",
    "            resource.iloc[i,list(resource.columns).index('ap_from_ap_0_sum_ant_rssi')]=resource.iloc[i,list(resource.columns).index('ap_from_ap_1_sum_ant_rssi')]\n",
    "            resource.iloc[i,list(resource.columns).index('ap_from_ap_0_max_ant_rssi')]=resource.iloc[i,list(resource.columns).index('ap_from_ap_1_max_ant_rssi')]\n",
    "            resource.iloc[i,list(resource.columns).index('ap_from_ap_0_mean_ant_rssi')]=resource.iloc[i,list(resource.columns).index('ap_from_ap_1_mean_ant_rssi')]\n",
    "            resource.iloc[i,list(resource.columns).index('sta_from_sta_0_rssi')]=resource.iloc[i,list(resource.columns).index('sta_from_sta_1_rssi')]\n",
    "        resource.iloc[i,list(resource.columns).index('ap_from_ap_1_sum_ant_rssi')]=resource.iloc[i,list(resource.columns).index('ap_from_ap_2_sum_ant_rssi')]\n",
    "        resource.iloc[i,list(resource.columns).index('ap_from_ap_1_max_ant_rssi')]=resource.iloc[i,list(resource.columns).index('ap_from_ap_2_max_ant_rssi')]\n",
    "        resource.iloc[i,list(resource.columns).index('ap_from_ap_1_mean_ant_rssi')]=resource.iloc[i,list(resource.columns).index('ap_from_ap_2_mean_ant_rssi')]\n",
    "        resource.iloc[i,list(resource.columns).index('sta_from_sta_1_rssi')]=resource.iloc[i,list(resource.columns).index('sta_from_sta_2_rssi')]"
   ]
  },
  {
   "cell_type": "code",
   "execution_count": 8,
   "id": "4e0276c0",
   "metadata": {
    "ExecuteTime": {
     "end_time": "2024-09-24T14:23:03.223592Z",
     "start_time": "2024-09-24T14:23:03.219078Z"
    }
   },
   "outputs": [],
   "source": [
    "resource=resource.drop(['ap_from_ap_2_sum_ant_rssi',\n",
    "                       'ap_from_ap_2_max_ant_rssi','ap_from_ap_2_mean_ant_rssi','sta_from_sta_2_rssi'],axis=1)"
   ]
  },
  {
   "cell_type": "code",
   "execution_count": 9,
   "id": "ac91bc44",
   "metadata": {
    "ExecuteTime": {
     "end_time": "2024-09-24T14:23:12.432265Z",
     "start_time": "2024-09-24T14:23:12.424265Z"
    }
   },
   "outputs": [],
   "source": [
    "# 定义管理rssi中异常值数据，并创造出新特征值\n",
    "def cal_pd(apmax,pd):\n",
    "    apmax = eval(apmax)\n",
    "    comparison_result = [1 if x >= pd else 0 for x in apmax]\n",
    "    proportion_of_ones = sum(comparison_result) / len(apmax)\n",
    "    return proportion_of_ones\n",
    "\n",
    "def cal_ed(apmax,ed):\n",
    "    apmax = eval(apmax)\n",
    "    comparison_result = [1 if x >= ed else 0 for x in apmax]\n",
    "    proportion_of_ones = sum(comparison_result) / len(apmax)\n",
    "    return proportion_of_ones\n",
    "\n",
    "def cal_nav(apmean,nav):\n",
    "    apmean = eval(apmean)\n",
    "    comparison_result = [1 if x >= nav else 0 for x in apmean]\n",
    "    proportion_of_ones = sum(comparison_result) / len(apmean)\n",
    "    return proportion_of_ones    \n",
    "\n",
    "\n",
    "def cal_amsdu(seq_time, ppdu_dur, ampdu, per, throughput):\n",
    "    # 计量单位：微秒 us\n",
    "    # 一次发包成功总耗时为RTS+SIFS+CTS+SIFS+ppdu_dur\n",
    "    # ppdu为一个数据帧的时长，即从RTS-CTS后发出数据帧到收到该帧的ACK\n",
    "    success_dur = ppdu_dur\n",
    "    # 一次发包失败总耗时为RTS+ACK_timeout = 85us\n",
    "    fail_dur = 85.0\n",
    "\n",
    "    # 假设成功发出x个ppdu包， 则有 per/(1-per) * x 个失败包\n",
    "    # 总共耗时seq_time = per/(1-per) * x *fail_dur + x * success_dur\n",
    "    x = seq_time / (success_dur + (per / (1-per) * fail_dur))\n",
    "    \"\"\"\n",
    "    在802.11 WLAN中，最常见的PHY头部大小通常是160位（20字节），适用于802.11a、802.11g、802.11n、802.11ac和802.11ax等标准。这是因为这些标准大多数都基于OFDM（正交频分复用）调制，采用相同的PHY头部结构。\n",
    "    对于802.11b（DSSS和CCK），虽然它的PHY头部是192位（24字节），但在现代无线网络中，802.11a/g/n/ac/ax的使用更为广泛，因此160位的PHY头部是最常见的。\n",
    "    \"\"\"\n",
    "    pkg_len = 1500\n",
    "    # 有效吞吐量（Mbps）为 x*effective_ppdu_len*8 / (60 * 1e6)\n",
    "    # throughput = (x * effective_ppdu_len * 8.0) / (60 * 1e6)\n",
    "    ppdu_len = throughput * 60 * 1e6 / (x*8)\n",
    "    amsdu = ((ppdu_len-20) / ampdu - 40) / 1524\n",
    "    return amsdu"
   ]
  },
  {
   "cell_type": "code",
   "execution_count": 10,
   "id": "32dade9c",
   "metadata": {
    "ExecuteTime": {
     "end_time": "2024-09-24T14:23:28.295153Z",
     "start_time": "2024-09-24T14:23:26.951299Z"
    }
   },
   "outputs": [],
   "source": [
    "resource['pro_pd_0'] = resource.apply(lambda row: cal_pd(row['ap_from_ap_0_max_ant_rssi'], row['pd']), axis=1)\n",
    "resource['pro_ed_0'] = resource.apply(lambda row: cal_ed(row['ap_from_ap_0_max_ant_rssi'], row['ed']), axis=1)\n",
    "resource['pro_nav_0'] = resource.apply(lambda row: cal_nav(row['ap_from_ap_0_mean_ant_rssi'], row['nav']), axis=1)\n",
    "\n",
    "resource['pro_pd_1'] = resource.apply(lambda row: cal_pd(row['ap_from_ap_1_max_ant_rssi'], row['pd']), axis=1)\n",
    "resource['pro_ed_1'] = resource.apply(lambda row: cal_ed(row['ap_from_ap_1_max_ant_rssi'], row['ed']), axis=1)\n",
    "resource['pro_nav_1'] = resource.apply(lambda row: cal_nav(row['ap_from_ap_1_mean_ant_rssi'], row['nav']), axis=1)"
   ]
  },
  {
   "cell_type": "code",
   "execution_count": 11,
   "id": "73f59afb",
   "metadata": {
    "ExecuteTime": {
     "end_time": "2024-09-24T14:23:28.893845Z",
     "start_time": "2024-09-24T14:23:28.889211Z"
    }
   },
   "outputs": [],
   "source": [
    "drop_columns=['pd','ed','ap_from_ap_0_mean_ant_rssi','ap_from_ap_0_max_ant_rssi',\n",
    "              'ap_from_ap_1_mean_ant_rssi','ap_from_ap_1_max_ant_rssi']\n",
    "\n",
    "resource=resource.drop(drop_columns,axis=1)"
   ]
  },
  {
   "cell_type": "code",
   "execution_count": 12,
   "id": "3520163b",
   "metadata": {
    "ExecuteTime": {
     "end_time": "2024-09-24T13:53:08.275281Z",
     "start_time": "2024-09-24T13:53:05.872812Z"
    }
   },
   "outputs": [],
   "source": [
    "# 对RSSI求平均值处理\n",
    "for i in range(3,11):\n",
    "    resource.iloc[:,i]=resource.iloc[:,i].apply(lambda x: sum(eval(x))/len(eval(x)))"
   ]
  },
  {
   "cell_type": "code",
   "execution_count": 13,
   "id": "91df98d5",
   "metadata": {
    "ExecuteTime": {
     "end_time": "2024-09-24T13:53:09.324853Z",
     "start_time": "2024-09-24T13:53:09.319562Z"
    }
   },
   "outputs": [],
   "source": [
    "nss_mcs_dict=dict()\n",
    "phy=[8.6,17.2,25.8,34.4,51.6,68.8,77.4,86.0,103.2,114.7,129.0,143.4,17.2,34.4,51.6,68.8,103.2,137.6,154.9,172.1,206.5,\n",
    "    229.4,258.1,286.8]\n",
    "num=0\n",
    "\n",
    "for i in range(1,3):\n",
    "    for j in range(0,12):\n",
    "        nss_mcs_dict[(i,j)]=phy[num]\n",
    "        num+=1\n",
    "\n",
    "def get_phy(nss,mcs):\n",
    "    return nss_mcs_dict[nss,mcs]"
   ]
  },
  {
   "cell_type": "code",
   "execution_count": 14,
   "id": "b5fa9f9b",
   "metadata": {
    "ExecuteTime": {
     "end_time": "2024-09-24T13:53:11.027689Z",
     "start_time": "2024-09-24T13:53:11.016474Z"
    }
   },
   "outputs": [],
   "source": [
    "resource['phy_rate']=resource.apply(lambda row:get_phy(row['nss'],row['mcs']),axis=1)"
   ]
  },
  {
   "cell_type": "code",
   "execution_count": 15,
   "id": "6e7ea2b3",
   "metadata": {
    "ExecuteTime": {
     "end_time": "2024-09-24T13:53:12.609824Z",
     "start_time": "2024-09-24T13:53:12.605257Z"
    }
   },
   "outputs": [],
   "source": [
    "resource=resource.drop(['nss','mcs'],axis=1)"
   ]
  },
  {
   "cell_type": "code",
   "execution_count": 16,
   "id": "2e586ed7",
   "metadata": {
    "ExecuteTime": {
     "end_time": "2024-09-24T13:53:14.418340Z",
     "start_time": "2024-09-24T13:53:14.414142Z"
    }
   },
   "outputs": [],
   "source": [
    "resource.iloc[:,0]=resource.iloc[:,0].astype(str).map({'tcp':1,'udp':0})"
   ]
  },
  {
   "cell_type": "code",
   "execution_count": 17,
   "id": "221ba23f",
   "metadata": {
    "ExecuteTime": {
     "end_time": "2024-09-24T13:53:15.543362Z",
     "start_time": "2024-09-24T13:53:15.533988Z"
    }
   },
   "outputs": [
    {
     "name": "stdout",
     "output_type": "stream",
     "text": [
      "<class 'pandas.core.frame.DataFrame'>\n",
      "RangeIndex: 650 entries, 0 to 649\n",
      "Data columns (total 25 columns):\n",
      " #   Column                      Non-Null Count  Dtype  \n",
      "---  ------                      --------------  -----  \n",
      " 0   protocol                    650 non-null    object \n",
      " 1   bss_id                      650 non-null    int64  \n",
      " 2   nav                         650 non-null    int64  \n",
      " 3   ap_from_ap_0_sum_ant_rssi   650 non-null    object \n",
      " 4   ap_from_ap_1_sum_ant_rssi   650 non-null    object \n",
      " 5   sta_to_ap_0_sum_ant_rssi    650 non-null    object \n",
      " 6   sta_to_ap_1_sum_ant_rssi    650 non-null    object \n",
      " 7   sta_to_ap_2_sum_ant_rssi    650 non-null    object \n",
      " 8   sta_from_ap_0_sum_ant_rssi  650 non-null    object \n",
      " 9   sta_from_ap_1_sum_ant_rssi  650 non-null    object \n",
      " 10  sta_from_ap_2_sum_ant_rssi  650 non-null    object \n",
      " 11  sta_from_sta_0_rssi         650 non-null    float64\n",
      " 12  sta_from_sta_1_rssi         650 non-null    float64\n",
      " 13  per                         650 non-null    float64\n",
      " 14  num_ampdu                   650 non-null    int64  \n",
      " 15  ppdu_dur                    650 non-null    float64\n",
      " 16  seq_time                    650 non-null    float64\n",
      " 17  throughput                  650 non-null    float64\n",
      " 18  pro_pd_0                    650 non-null    float64\n",
      " 19  pro_ed_0                    650 non-null    float64\n",
      " 20  pro_nav_0                   650 non-null    float64\n",
      " 21  pro_pd_1                    650 non-null    float64\n",
      " 22  pro_ed_1                    650 non-null    float64\n",
      " 23  pro_nav_1                   650 non-null    float64\n",
      " 24  phy_rate                    650 non-null    float64\n",
      "dtypes: float64(13), int64(3), object(9)\n",
      "memory usage: 127.1+ KB\n"
     ]
    }
   ],
   "source": [
    "resource.info()"
   ]
  },
  {
   "cell_type": "code",
   "execution_count": 18,
   "id": "8551e15b",
   "metadata": {
    "ExecuteTime": {
     "end_time": "2024-09-24T13:53:30.516382Z",
     "start_time": "2024-09-24T13:53:29.054650Z"
    }
   },
   "outputs": [],
   "source": [
    "import numpy as np\n",
    "import pandas as pd\n",
    "from sklearn.cluster import KMeans\n",
    "from sklearn.preprocessing import StandardScaler\n",
    "from sklearn.metrics import silhouette_score\n",
    "import matplotlib.pyplot as plt"
   ]
  },
  {
   "cell_type": "code",
   "execution_count": 19,
   "id": "d49b22e4",
   "metadata": {
    "ExecuteTime": {
     "end_time": "2024-09-24T13:54:03.703514Z",
     "start_time": "2024-09-24T13:54:03.084609Z"
    }
   },
   "outputs": [
    {
     "name": "stderr",
     "output_type": "stream",
     "text": [
      "D:\\Anaconda\\Lib\\site-packages\\sklearn\\cluster\\_kmeans.py:1412: FutureWarning: The default value of `n_init` will change from 10 to 'auto' in 1.4. Set the value of `n_init` explicitly to suppress the warning\n",
      "  super()._check_params_vs_input(X, default_n_init=10)\n",
      "D:\\Anaconda\\Lib\\site-packages\\sklearn\\cluster\\_kmeans.py:1436: UserWarning: KMeans is known to have a memory leak on Windows with MKL, when there are less chunks than available threads. You can avoid it by setting the environment variable OMP_NUM_THREADS=3.\n",
      "  warnings.warn(\n"
     ]
    },
    {
     "name": "stdout",
     "output_type": "stream",
     "text": [
      "Cluster centers:\n",
      "          0         1         2         3         4         5\n",
      "0  0.891473  0.002604  0.888165  0.905722  0.002657  0.925291\n",
      "1  0.136728  0.002467  0.041090  0.157639  0.002483  0.092553\n",
      "2  0.793557  0.001707  0.771345  0.300132  0.002526  0.119686\n",
      "cluster\n",
      "0    277\n",
      "1    268\n",
      "2    105\n",
      "Name: count, dtype: int64\n"
     ]
    },
    {
     "name": "stderr",
     "output_type": "stream",
     "text": [
      "C:\\Users\\ShenFei\\AppData\\Local\\Temp\\ipykernel_20436\\1928297672.py:4: SettingWithCopyWarning: \n",
      "A value is trying to be set on a copy of a slice from a DataFrame.\n",
      "Try using .loc[row_indexer,col_indexer] = value instead\n",
      "\n",
      "See the caveats in the documentation: https://pandas.pydata.org/pandas-docs/stable/user_guide/indexing.html#returning-a-view-versus-a-copy\n",
      "  df['cluster'] = kmeans.fit_predict(df)\n"
     ]
    }
   ],
   "source": [
    "df=resource.iloc[:,range(18,24)]\n",
    "k = 3\n",
    "kmeans = KMeans(n_clusters=k, random_state=42)\n",
    "df['cluster'] = kmeans.fit_predict(df)\n",
    "\n",
    "# 查看每个簇的平均特征值\n",
    "cluster_centers = pd.DataFrame(kmeans.cluster_centers_)\n",
    "# columns=['pro_pd', 'pro_ed', 'pro_nav']\n",
    "\n",
    "print(f\"Cluster centers:\\n{cluster_centers}\")\n",
    "\n",
    "# 查看每个簇的样本数量\n",
    "print(df['cluster'].value_counts())"
   ]
  },
  {
   "cell_type": "code",
   "execution_count": 20,
   "id": "b5f9e26f",
   "metadata": {
    "ExecuteTime": {
     "end_time": "2024-09-24T13:54:07.068059Z",
     "start_time": "2024-09-24T13:54:07.064378Z"
    }
   },
   "outputs": [],
   "source": [
    "resource['state']=df['cluster']"
   ]
  },
  {
   "cell_type": "code",
   "execution_count": 22,
   "id": "91c87267",
   "metadata": {
    "ExecuteTime": {
     "end_time": "2024-09-24T13:54:33.082556Z",
     "start_time": "2024-09-24T13:54:32.966064Z"
    }
   },
   "outputs": [],
   "source": [
    "def dbm_to_linear(dbm):\n",
    "    return 10 ** (dbm / 10)\n",
    "\n",
    "def linear_to_dbm(linear):\n",
    "    return 10 * np.log10(linear)\n",
    "\n",
    "def add_dbm(dbm1, dbm2):\n",
    "    # 使用 NumPy 的广播功能直接进行计算\n",
    "    linear1 = dbm_to_linear(dbm1)\n",
    "    linear2 = dbm_to_linear(dbm2)\n",
    "    \n",
    "    # 将两个线性功率值相加\n",
    "    total_linear = linear1 + linear2\n",
    "    \n",
    "    # 将相加后的线性功率值转换回DBM\n",
    "    total_dbm = linear_to_dbm(total_linear)\n",
    "    \n",
    "    return total_dbm\n",
    "\n",
    "\n",
    "def func(x, y, z, state):\n",
    "    if state == 0:\n",
    "        return x + 100\n",
    "    else:\n",
    "        return x - add_dbm(y,z)\n",
    "\n",
    "    \n",
    "# 创建一个新列来存储 SINR 计算的结果\n",
    "sinr = []\n",
    "df = resource\n",
    "# 遍历 DataFrame 的每一行\n",
    "for i in range(len(df)):\n",
    "    if df.iloc[i, list(df.columns).index('bss_id')] == 2:  # 偶数行\n",
    "        result = func(df.iloc[i, list(df.columns).index('sta_from_ap_2_sum_ant_rssi')],df.iloc[i, list(df.columns).index('sta_from_ap_1_sum_ant_rssi')], df.iloc[i, list(df.columns).index('sta_from_ap_0_sum_ant_rssi')],df.iloc[i, list(df.columns).index('state')])\n",
    "    elif df.iloc[i, list(df.columns).index('bss_id')] == 1:  # 奇数行\n",
    "        result = func(df.iloc[i, list(df.columns).index('sta_from_ap_1_sum_ant_rssi')],df.iloc[i, list(df.columns).index('sta_from_ap_2_sum_ant_rssi')], df.iloc[i, list(df.columns).index('sta_from_ap_0_sum_ant_rssi')],df.iloc[i, list(df.columns).index('state')])\n",
    "    else:\n",
    "        result = func(df.iloc[i, list(df.columns).index('sta_from_ap_0_sum_ant_rssi')],df.iloc[i, list(df.columns).index('sta_from_ap_1_sum_ant_rssi')], df.iloc[i, list(df.columns).index('sta_from_ap_2_sum_ant_rssi')],df.iloc[i, list(df.columns).index('state')])\n",
    "        \n",
    "    sinr.append(result)\n",
    "\n",
    "# 将计算结果添加为新列\n",
    "df['sinr'] = sinr\n",
    "resource = resource.drop('bss_id',axis=1)"
   ]
  },
  {
   "cell_type": "code",
   "execution_count": 32,
   "id": "ab369847",
   "metadata": {
    "ExecuteTime": {
     "end_time": "2024-09-24T14:02:29.217320Z",
     "start_time": "2024-09-24T14:02:29.212319Z"
    }
   },
   "outputs": [],
   "source": [
    "resource = resource.loc[resource['sinr'] > 0]"
   ]
  },
  {
   "cell_type": "code",
   "execution_count": 33,
   "id": "a47f598d",
   "metadata": {
    "ExecuteTime": {
     "end_time": "2024-09-24T14:02:33.540564Z",
     "start_time": "2024-09-24T14:02:33.530860Z"
    }
   },
   "outputs": [
    {
     "name": "stdout",
     "output_type": "stream",
     "text": [
      "<class 'pandas.core.frame.DataFrame'>\n",
      "Index: 627 entries, 0 to 649\n",
      "Data columns (total 26 columns):\n",
      " #   Column                      Non-Null Count  Dtype  \n",
      "---  ------                      --------------  -----  \n",
      " 0   protocol                    627 non-null    object \n",
      " 1   nav                         627 non-null    int64  \n",
      " 2   ap_from_ap_0_sum_ant_rssi   627 non-null    object \n",
      " 3   ap_from_ap_1_sum_ant_rssi   627 non-null    object \n",
      " 4   sta_to_ap_0_sum_ant_rssi    627 non-null    object \n",
      " 5   sta_to_ap_1_sum_ant_rssi    627 non-null    object \n",
      " 6   sta_to_ap_2_sum_ant_rssi    627 non-null    object \n",
      " 7   sta_from_ap_0_sum_ant_rssi  627 non-null    object \n",
      " 8   sta_from_ap_1_sum_ant_rssi  627 non-null    object \n",
      " 9   sta_from_ap_2_sum_ant_rssi  627 non-null    object \n",
      " 10  sta_from_sta_0_rssi         627 non-null    float64\n",
      " 11  sta_from_sta_1_rssi         627 non-null    float64\n",
      " 12  per                         627 non-null    float64\n",
      " 13  num_ampdu                   627 non-null    int64  \n",
      " 14  ppdu_dur                    627 non-null    float64\n",
      " 15  seq_time                    627 non-null    float64\n",
      " 16  throughput                  627 non-null    float64\n",
      " 17  pro_pd_0                    627 non-null    float64\n",
      " 18  pro_ed_0                    627 non-null    float64\n",
      " 19  pro_nav_0                   627 non-null    float64\n",
      " 20  pro_pd_1                    627 non-null    float64\n",
      " 21  pro_ed_1                    627 non-null    float64\n",
      " 22  pro_nav_1                   627 non-null    float64\n",
      " 23  phy_rate                    627 non-null    float64\n",
      " 24  state                       627 non-null    int32  \n",
      " 25  sinr                        627 non-null    float64\n",
      "dtypes: float64(14), int32(1), int64(2), object(9)\n",
      "memory usage: 129.8+ KB\n"
     ]
    }
   ],
   "source": [
    "resource.info()"
   ]
  },
  {
   "cell_type": "code",
   "execution_count": 24,
   "id": "505042b9",
   "metadata": {
    "ExecuteTime": {
     "end_time": "2024-09-24T13:55:07.549528Z",
     "start_time": "2024-09-24T13:55:07.535926Z"
    }
   },
   "outputs": [
    {
     "name": "stdout",
     "output_type": "stream",
     "text": [
      "T-statistic: 41.234043570168204, P-value: 2.4843000998793368e-183\n",
      "sinr在state为0和state不为0的样本之间存在显著差异。\n",
      "sinr在state为0时更大。\n"
     ]
    }
   ],
   "source": [
    "# import pandas as pd\n",
    "# from scipy import stats\n",
    "# df = resource\n",
    "# # 假设已有 DataFrame 'df'，包含 'state' 和 'sinr' 两列数据\n",
    "\n",
    "# # 分别提取 state = 0 和 state ≠ 0 的 sinr 值\n",
    "# sinr_state_0 = df[df['state'] == 0]['sinr']\n",
    "# sinr_state_non_0 = df[df['state'] != 0]['sinr']\n",
    "\n",
    "# # 进行独立样本t检验\n",
    "# t_stat, p_value = stats.ttest_ind(sinr_state_0, sinr_state_non_0)\n",
    "\n",
    "# # 输出结果\n",
    "# print(f\"T-statistic: {t_stat}, P-value: {p_value}\")\n",
    "\n",
    "# # 分析结果\n",
    "# if p_value < 0.05:\n",
    "#     print(\"sinr在state为0和state不为0的样本之间存在显著差异。\")\n",
    "#     if sinr_state_0.mean() > sinr_state_non_0.mean():\n",
    "#         print(\"sinr在state为0时更大。\")\n",
    "#     else:\n",
    "#         print(\"sinr在state为0时更小。\")\n",
    "# else:\n",
    "#     print(\"sinr在state为0和state不为0的样本之间没有显著差异。\")"
   ]
  },
  {
   "cell_type": "markdown",
   "id": "601b0f99",
   "metadata": {},
   "source": [
    "# read from here"
   ]
  },
  {
   "cell_type": "code",
   "execution_count": 7,
   "id": "2eda8119",
   "metadata": {
    "ExecuteTime": {
     "end_time": "2024-09-25T02:56:35.661776Z",
     "start_time": "2024-09-25T02:56:35.396950Z"
    }
   },
   "outputs": [],
   "source": [
    "#resource.to_excel('programe3_3ap_processed.xlsx')\n",
    "import numpy as np\n",
    "import pandas as pd\n",
    "resource = pd.read_excel('programe3_3ap_processed.xlsx')\n",
    "resource = resource.sample(frac=1).reset_index(drop=True)"
   ]
  },
  {
   "cell_type": "markdown",
   "id": "27d1c5ef",
   "metadata": {},
   "source": [
    "# process"
   ]
  },
  {
   "cell_type": "code",
   "execution_count": 8,
   "id": "2ef57a56",
   "metadata": {
    "ExecuteTime": {
     "end_time": "2024-09-25T02:56:36.592309Z",
     "start_time": "2024-09-25T02:56:36.581902Z"
    }
   },
   "outputs": [],
   "source": [
    "target=resource['throughput']\n",
    "resource=resource.drop('throughput',axis=1)\n",
    "resource=resource.drop('num_ampdu',axis=1)\n",
    "resource=resource.drop('ppdu_dur',axis=1)"
   ]
  },
  {
   "cell_type": "code",
   "execution_count": 9,
   "id": "1aa51ced",
   "metadata": {
    "ExecuteTime": {
     "end_time": "2024-09-25T02:56:37.057218Z",
     "start_time": "2024-09-25T02:56:37.052038Z"
    }
   },
   "outputs": [],
   "source": [
    "resource=resource.drop('sta_from_sta_0_rssi',axis=1)\n",
    "resource=resource.drop('sta_from_sta_1_rssi',axis=1)"
   ]
  },
  {
   "cell_type": "code",
   "execution_count": 10,
   "id": "ca87ac19",
   "metadata": {
    "ExecuteTime": {
     "end_time": "2024-09-25T02:56:57.797314Z",
     "start_time": "2024-09-25T02:56:37.610907Z"
    }
   },
   "outputs": [],
   "source": [
    "from sklearn.ensemble import RandomForestRegressor\n",
    "\n",
    "rfg=RandomForestRegressor(n_estimators=100,criterion='friedman_mse',random_state=0,oob_score=False)\n",
    "\n",
    "\n",
    "# target_0_phy=pd.DataFrame(target_0_phy)\n",
    "\n",
    "rfg=rfg.fit(resource,target)\n",
    "\n",
    "# rfg0=RandomForestRegressor(n_estimators=100,criterion='friedman_mse',random_state=0,oob_score=False)\n",
    "# rfg0=rfg0.fit(resource,target_0.to_numpy())\n",
    "from sklearn.model_selection import cross_val_score\n",
    "\n",
    "res=cross_val_score(rfg,resource,target,cv=10)"
   ]
  },
  {
   "cell_type": "code",
   "execution_count": 11,
   "id": "532b225d",
   "metadata": {
    "ExecuteTime": {
     "end_time": "2024-09-25T02:57:00.843801Z",
     "start_time": "2024-09-25T02:57:00.838162Z"
    }
   },
   "outputs": [
    {
     "data": {
      "text/plain": [
       "0.96851192654992"
      ]
     },
     "execution_count": 11,
     "metadata": {},
     "output_type": "execute_result"
    }
   ],
   "source": [
    "res.mean()"
   ]
  },
  {
   "cell_type": "code",
   "execution_count": 12,
   "id": "7dbcf2e4",
   "metadata": {
    "ExecuteTime": {
     "end_time": "2024-09-25T02:57:02.731192Z",
     "start_time": "2024-09-25T02:57:02.726188Z"
    }
   },
   "outputs": [
    {
     "data": {
      "text/plain": [
       "array([0.98334349, 0.96686551, 0.95915152, 0.96409017, 0.95097542,\n",
       "       0.98655284, 0.96545143, 0.98180721, 0.96531689, 0.96156478])"
      ]
     },
     "execution_count": 12,
     "metadata": {},
     "output_type": "execute_result"
    }
   ],
   "source": [
    "res"
   ]
  },
  {
   "cell_type": "code",
   "execution_count": 13,
   "id": "5ed95b65",
   "metadata": {
    "ExecuteTime": {
     "end_time": "2024-09-25T02:57:50.611532Z",
     "start_time": "2024-09-25T02:57:50.209092Z"
    }
   },
   "outputs": [],
   "source": [
    "from xgboost import XGBRegressor as XGBR\n",
    "reg=XGBR(n_estimators=100).fit(resource.to_numpy(),target.to_numpy())"
   ]
  },
  {
   "cell_type": "code",
   "execution_count": 14,
   "id": "a3f8675a",
   "metadata": {
    "ExecuteTime": {
     "end_time": "2024-09-25T02:57:53.390297Z",
     "start_time": "2024-09-25T02:57:51.210320Z"
    }
   },
   "outputs": [],
   "source": [
    "res=cross_val_score(reg,resource.to_numpy(),target.to_numpy(),cv=10)"
   ]
  },
  {
   "cell_type": "code",
   "execution_count": 15,
   "id": "038b3d34",
   "metadata": {
    "ExecuteTime": {
     "end_time": "2024-09-25T02:57:54.206200Z",
     "start_time": "2024-09-25T02:57:54.201469Z"
    }
   },
   "outputs": [
    {
     "data": {
      "text/plain": [
       "array([0.97810601, 0.958254  , 0.95584997, 0.97064261, 0.96462505,\n",
       "       0.98477018, 0.95189116, 0.98281608, 0.97297215, 0.97991032])"
      ]
     },
     "execution_count": 15,
     "metadata": {},
     "output_type": "execute_result"
    }
   ],
   "source": [
    "res"
   ]
  },
  {
   "cell_type": "code",
   "execution_count": 16,
   "id": "5ab77d79",
   "metadata": {
    "ExecuteTime": {
     "end_time": "2024-09-25T02:57:59.567308Z",
     "start_time": "2024-09-25T02:57:59.561518Z"
    }
   },
   "outputs": [
    {
     "data": {
      "text/plain": [
       "0.9699837523609969"
      ]
     },
     "execution_count": 16,
     "metadata": {},
     "output_type": "execute_result"
    }
   ],
   "source": [
    "res.mean()"
   ]
  },
  {
   "cell_type": "markdown",
   "id": "38e11992",
   "metadata": {},
   "source": [
    "# predict  'programe3_test_3_3ap_predict.xlsx'"
   ]
  },
  {
   "cell_type": "code",
   "execution_count": 18,
   "id": "c35c249e",
   "metadata": {
    "ExecuteTime": {
     "end_time": "2024-09-24T21:47:55.294304Z",
     "start_time": "2024-09-24T21:47:55.285573Z"
    }
   },
   "outputs": [
    {
     "name": "stdout",
     "output_type": "stream",
     "text": [
      "<class 'pandas.core.frame.DataFrame'>\n",
      "RangeIndex: 627 entries, 0 to 626\n",
      "Data columns (total 21 columns):\n",
      " #   Column                      Non-Null Count  Dtype  \n",
      "---  ------                      --------------  -----  \n",
      " 0   protocol                    627 non-null    int64  \n",
      " 1   nav                         627 non-null    int64  \n",
      " 2   ap_from_ap_0_sum_ant_rssi   627 non-null    float64\n",
      " 3   ap_from_ap_1_sum_ant_rssi   627 non-null    float64\n",
      " 4   sta_to_ap_0_sum_ant_rssi    627 non-null    float64\n",
      " 5   sta_to_ap_1_sum_ant_rssi    627 non-null    float64\n",
      " 6   sta_to_ap_2_sum_ant_rssi    627 non-null    float64\n",
      " 7   sta_from_ap_0_sum_ant_rssi  627 non-null    float64\n",
      " 8   sta_from_ap_1_sum_ant_rssi  627 non-null    float64\n",
      " 9   sta_from_ap_2_sum_ant_rssi  627 non-null    float64\n",
      " 10  per                         627 non-null    float64\n",
      " 11  seq_time                    627 non-null    float64\n",
      " 12  pro_pd_0                    627 non-null    float64\n",
      " 13  pro_ed_0                    627 non-null    float64\n",
      " 14  pro_nav_0                   627 non-null    float64\n",
      " 15  pro_pd_1                    627 non-null    float64\n",
      " 16  pro_ed_1                    627 non-null    float64\n",
      " 17  pro_nav_1                   627 non-null    float64\n",
      " 18  phy_rate                    627 non-null    float64\n",
      " 19  state                       627 non-null    int64  \n",
      " 20  sinr                        627 non-null    float64\n",
      "dtypes: float64(18), int64(3)\n",
      "memory usage: 103.0 KB\n"
     ]
    }
   ],
   "source": [
    "resource.info()"
   ]
  },
  {
   "cell_type": "code",
   "execution_count": 19,
   "id": "c8152ca6",
   "metadata": {
    "ExecuteTime": {
     "end_time": "2024-09-24T21:49:15.183493Z",
     "start_time": "2024-09-24T21:49:15.139507Z"
    }
   },
   "outputs": [],
   "source": [
    "import numpy as np\n",
    "import pandas as pd\n",
    "predict = pd.read_excel('programe3_test_3_3ap_predict.xlsx')\n"
   ]
  },
  {
   "cell_type": "code",
   "execution_count": 20,
   "id": "ebc3d5ec",
   "metadata": {
    "ExecuteTime": {
     "end_time": "2024-09-24T21:49:16.611364Z",
     "start_time": "2024-09-24T21:49:16.602859Z"
    }
   },
   "outputs": [
    {
     "name": "stdout",
     "output_type": "stream",
     "text": [
      "<class 'pandas.core.frame.DataFrame'>\n",
      "RangeIndex: 105 entries, 0 to 104\n",
      "Data columns (total 25 columns):\n",
      " #   Column                      Non-Null Count  Dtype  \n",
      "---  ------                      --------------  -----  \n",
      " 0   protocol                    105 non-null    int64  \n",
      " 1   nav                         105 non-null    int64  \n",
      " 2   ap_from_ap_0_sum_ant_rssi   105 non-null    float64\n",
      " 3   ap_from_ap_1_sum_ant_rssi   105 non-null    float64\n",
      " 4   sta_to_ap_0_sum_ant_rssi    105 non-null    float64\n",
      " 5   sta_to_ap_1_sum_ant_rssi    105 non-null    float64\n",
      " 6   sta_to_ap_2_sum_ant_rssi    105 non-null    float64\n",
      " 7   sta_from_ap_0_sum_ant_rssi  105 non-null    float64\n",
      " 8   sta_from_ap_1_sum_ant_rssi  105 non-null    float64\n",
      " 9   sta_from_ap_2_sum_ant_rssi  105 non-null    float64\n",
      " 10  sta_from_sta_0_rssi         105 non-null    int64  \n",
      " 11  sta_from_sta_1_rssi         105 non-null    int64  \n",
      " 12  per                         105 non-null    float64\n",
      " 13  num_ampdu                   0 non-null      float64\n",
      " 14  ppdu_dur                    0 non-null      float64\n",
      " 15  seq_time                    105 non-null    float64\n",
      " 16  pro_pd_0                    105 non-null    float64\n",
      " 17  pro_ed_0                    105 non-null    float64\n",
      " 18  pro_nav_0                   105 non-null    float64\n",
      " 19  pro_pd_1                    105 non-null    float64\n",
      " 20  pro_ed_1                    105 non-null    float64\n",
      " 21  pro_nav_1                   105 non-null    float64\n",
      " 22  phy_rate                    105 non-null    float64\n",
      " 23  state                       105 non-null    int64  \n",
      " 24  sinr                        105 non-null    float64\n",
      "dtypes: float64(20), int64(5)\n",
      "memory usage: 20.6 KB\n"
     ]
    }
   ],
   "source": [
    "predict.info()"
   ]
  },
  {
   "cell_type": "code",
   "execution_count": 21,
   "id": "a4f8252a",
   "metadata": {
    "ExecuteTime": {
     "end_time": "2024-09-24T21:49:54.397578Z",
     "start_time": "2024-09-24T21:49:54.391306Z"
    }
   },
   "outputs": [],
   "source": [
    "predict=predict.drop('sta_from_sta_0_rssi',axis=1)\n",
    "predict=predict.drop('sta_from_sta_1_rssi',axis=1)\n",
    "predict=predict.drop('num_ampdu',axis=1)\n",
    "predict=predict.drop('ppdu_dur',axis=1)"
   ]
  },
  {
   "cell_type": "code",
   "execution_count": 22,
   "id": "a8f58ad1",
   "metadata": {
    "ExecuteTime": {
     "end_time": "2024-09-24T21:50:19.317440Z",
     "start_time": "2024-09-24T21:50:19.279242Z"
    }
   },
   "outputs": [],
   "source": [
    "res=rfg.predict(predict)\n",
    "pd.DataFrame(res).to_excel('programe3_test1_type3_res_throughput.xlsx')"
   ]
  },
  {
   "cell_type": "code",
   "execution_count": null,
   "id": "a61eae14",
   "metadata": {},
   "outputs": [],
   "source": []
  }
 ],
 "metadata": {
  "kernelspec": {
   "display_name": "Python 3 (ipykernel)",
   "language": "python",
   "name": "python3"
  },
  "language_info": {
   "codemirror_mode": {
    "name": "ipython",
    "version": 3
   },
   "file_extension": ".py",
   "mimetype": "text/x-python",
   "name": "python",
   "nbconvert_exporter": "python",
   "pygments_lexer": "ipython3",
   "version": "3.11.4"
  },
  "toc": {
   "base_numbering": 1,
   "nav_menu": {},
   "number_sections": false,
   "sideBar": true,
   "skip_h1_title": false,
   "title_cell": "Table of Contents",
   "title_sidebar": "Contents",
   "toc_cell": false,
   "toc_position": {},
   "toc_section_display": true,
   "toc_window_display": false
  },
  "varInspector": {
   "cols": {
    "lenName": 16,
    "lenType": 16,
    "lenVar": 40
   },
   "kernels_config": {
    "python": {
     "delete_cmd_postfix": "",
     "delete_cmd_prefix": "del ",
     "library": "var_list.py",
     "varRefreshCmd": "print(var_dic_list())"
    },
    "r": {
     "delete_cmd_postfix": ") ",
     "delete_cmd_prefix": "rm(",
     "library": "var_list.r",
     "varRefreshCmd": "cat(var_dic_list()) "
    }
   },
   "types_to_exclude": [
    "module",
    "function",
    "builtin_function_or_method",
    "instance",
    "_Feature"
   ],
   "window_display": false
  }
 },
 "nbformat": 4,
 "nbformat_minor": 5
}
