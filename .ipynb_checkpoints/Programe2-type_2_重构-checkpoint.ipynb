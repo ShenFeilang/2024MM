{
 "cells": [
  {
   "cell_type": "code",
   "execution_count": 2,
   "id": "0bf9af82",
   "metadata": {
    "ExecuteTime": {
     "end_time": "2024-09-24T16:30:05.050164Z",
     "start_time": "2024-09-24T16:30:04.549431Z"
    }
   },
   "outputs": [],
   "source": [
    "import numpy as np\n",
    "import pandas as pd"
   ]
  },
  {
   "cell_type": "code",
   "execution_count": 3,
   "id": "5e31f6b2",
   "metadata": {
    "ExecuteTime": {
     "end_time": "2024-09-24T16:30:06.340174Z",
     "start_time": "2024-09-24T16:30:06.283920Z"
    }
   },
   "outputs": [],
   "source": [
    "part1=pd.read_csv('RAWDATA/training_set_2ap_loc0_nav82.csv')\n",
    "part2=pd.read_csv('RAWDATA/training_set_2ap_loc0_nav86.csv')\n",
    "part3=pd.read_csv('RAWDATA/training_set_2ap_loc1_nav82.csv')\n",
    "part4=pd.read_csv('RAWDATA/training_set_2ap_loc1_nav86_new.csv')\n",
    "part5=pd.read_csv('RAWDATA/training_set_2ap_loc2_nav82.csv')\n",
    "\n",
    "resource=pd.concat([part1,part2,part3,part4,part5],axis=0)\n",
    "resource=resource.iloc[:390,:]    #删掉异常的行值"
   ]
  },
  {
   "cell_type": "code",
   "execution_count": 4,
   "id": "b35ae5fd",
   "metadata": {
    "ExecuteTime": {
     "end_time": "2024-09-24T16:30:08.272596Z",
     "start_time": "2024-09-24T16:30:08.262055Z"
    }
   },
   "outputs": [
    {
     "name": "stdout",
     "output_type": "stream",
     "text": [
      "<class 'pandas.core.frame.DataFrame'>\n",
      "Index: 390 entries, 0 to 77\n",
      "Data columns (total 43 columns):\n",
      " #   Column                       Non-Null Count  Dtype  \n",
      "---  ------                       --------------  -----  \n",
      " 0   test_id                      390 non-null    int64  \n",
      " 1   test_dur                     390 non-null    int64  \n",
      " 2   loc_id                       390 non-null    object \n",
      " 3   protocol                     390 non-null    object \n",
      " 4   pkt_len                      390 non-null    int64  \n",
      " 5   bss_id                       390 non-null    int64  \n",
      " 6   ap_name                      390 non-null    object \n",
      " 7   ap_mac                       390 non-null    object \n",
      " 8   ap_id                        390 non-null    object \n",
      " 9   pd                           390 non-null    int64  \n",
      " 10  ed                           390 non-null    int64  \n",
      " 11  nav                          390 non-null    int64  \n",
      " 12  eirp                         390 non-null    int64  \n",
      " 13  ap_from_ap_0_sum_ant_rssi    195 non-null    object \n",
      " 14  ap_from_ap_0_max_ant_rssi    195 non-null    object \n",
      " 15  ap_from_ap_0_mean_ant_rssi   195 non-null    object \n",
      " 16  ap_from_ap_1_sum_ant_rssi    195 non-null    object \n",
      " 17  ap_from_ap_1_max_ant_rssi    195 non-null    object \n",
      " 18  ap_from_ap_1_mean_ant_rssi   195 non-null    object \n",
      " 19  sta_mac                      390 non-null    object \n",
      " 20  sta_id                       390 non-null    object \n",
      " 21  sta_to_ap_0_sum_ant_rssi     390 non-null    object \n",
      " 22  sta_to_ap_0_max_ant_rssi     390 non-null    object \n",
      " 23  sta_to_ap_0_mean_ant_rssi    390 non-null    object \n",
      " 24  sta_to_ap_1_sum_ant_rssi     390 non-null    object \n",
      " 25  sta_to_ap_1_max_ant_rssi     390 non-null    object \n",
      " 26  sta_to_ap_1_mean_ant_rssi    390 non-null    object \n",
      " 27  sta_from_ap_0_sum_ant_rssi   390 non-null    object \n",
      " 28  sta_from_ap_0_max_ant_rssi   390 non-null    object \n",
      " 29  sta_from_ap_0_mean_ant_rssi  390 non-null    object \n",
      " 30  sta_from_ap_1_sum_ant_rssi   390 non-null    object \n",
      " 31  sta_from_ap_1_max_ant_rssi   390 non-null    object \n",
      " 32  sta_from_ap_1_mean_ant_rssi  390 non-null    object \n",
      " 33  sta_from_sta_0_rssi          195 non-null    float64\n",
      " 34  sta_from_sta_1_rssi          195 non-null    float64\n",
      " 35  nss                          390 non-null    float64\n",
      " 36  mcs                          390 non-null    float64\n",
      " 37  per                          390 non-null    float64\n",
      " 38  num_ampdu                    390 non-null    float64\n",
      " 39  ppdu_dur                     390 non-null    float64\n",
      " 40  other_air_time               390 non-null    float64\n",
      " 41  seq_time                     390 non-null    float64\n",
      " 42  throughput                   390 non-null    float64\n",
      "dtypes: float64(10), int64(8), object(25)\n",
      "memory usage: 134.1+ KB\n"
     ]
    }
   ],
   "source": [
    "resource.info()"
   ]
  },
  {
   "cell_type": "code",
   "execution_count": 5,
   "id": "47ed8091",
   "metadata": {
    "ExecuteTime": {
     "end_time": "2024-09-24T16:30:09.610508Z",
     "start_time": "2024-09-24T16:30:09.605769Z"
    }
   },
   "outputs": [],
   "source": [
    "columns=[0,1,2,4,6,7,8,12,19,20,22,23,25,26,28,29,31,32,37,38,39,40,42]\n",
    "resource=resource.drop(resource.columns[columns],axis=1)"
   ]
  },
  {
   "cell_type": "code",
   "execution_count": 6,
   "id": "3c6d76ba",
   "metadata": {
    "ExecuteTime": {
     "end_time": "2024-09-24T16:30:10.992262Z",
     "start_time": "2024-09-24T16:30:10.984477Z"
    }
   },
   "outputs": [
    {
     "name": "stdout",
     "output_type": "stream",
     "text": [
      "<class 'pandas.core.frame.DataFrame'>\n",
      "Index: 390 entries, 0 to 77\n",
      "Data columns (total 20 columns):\n",
      " #   Column                      Non-Null Count  Dtype  \n",
      "---  ------                      --------------  -----  \n",
      " 0   protocol                    390 non-null    object \n",
      " 1   bss_id                      390 non-null    int64  \n",
      " 2   pd                          390 non-null    int64  \n",
      " 3   ed                          390 non-null    int64  \n",
      " 4   nav                         390 non-null    int64  \n",
      " 5   ap_from_ap_0_sum_ant_rssi   195 non-null    object \n",
      " 6   ap_from_ap_0_max_ant_rssi   195 non-null    object \n",
      " 7   ap_from_ap_0_mean_ant_rssi  195 non-null    object \n",
      " 8   ap_from_ap_1_sum_ant_rssi   195 non-null    object \n",
      " 9   ap_from_ap_1_max_ant_rssi   195 non-null    object \n",
      " 10  ap_from_ap_1_mean_ant_rssi  195 non-null    object \n",
      " 11  sta_to_ap_0_sum_ant_rssi    390 non-null    object \n",
      " 12  sta_to_ap_1_sum_ant_rssi    390 non-null    object \n",
      " 13  sta_from_ap_0_sum_ant_rssi  390 non-null    object \n",
      " 14  sta_from_ap_1_sum_ant_rssi  390 non-null    object \n",
      " 15  sta_from_sta_0_rssi         195 non-null    float64\n",
      " 16  sta_from_sta_1_rssi         195 non-null    float64\n",
      " 17  nss                         390 non-null    float64\n",
      " 18  mcs                         390 non-null    float64\n",
      " 19  seq_time                    390 non-null    float64\n",
      "dtypes: float64(5), int64(4), object(11)\n",
      "memory usage: 64.0+ KB\n"
     ]
    }
   ],
   "source": [
    "resource.info()"
   ]
  },
  {
   "cell_type": "code",
   "execution_count": 7,
   "id": "9d6f5865",
   "metadata": {
    "ExecuteTime": {
     "end_time": "2024-09-24T16:30:12.216731Z",
     "start_time": "2024-09-24T16:30:12.213856Z"
    }
   },
   "outputs": [],
   "source": [
    "# resource.to_excel('programe2.xlsx')"
   ]
  },
  {
   "cell_type": "code",
   "execution_count": 8,
   "id": "3f2c6674",
   "metadata": {
    "ExecuteTime": {
     "end_time": "2024-09-24T16:30:13.435531Z",
     "start_time": "2024-09-24T16:30:13.323989Z"
    }
   },
   "outputs": [],
   "source": [
    "for i in range(resource.shape[0]):\n",
    "    if resource.iloc[i,list(resource.columns).index('bss_id')]==0:\n",
    "        resource.iloc[i,list(resource.columns).index('ap_from_ap_0_sum_ant_rssi')]=resource.iloc[i,list(resource.columns).index('ap_from_ap_1_sum_ant_rssi')]\n",
    "        resource.iloc[i,list(resource.columns).index('ap_from_ap_0_max_ant_rssi')]=resource.iloc[i,list(resource.columns).index('ap_from_ap_1_max_ant_rssi')]\n",
    "        resource.iloc[i,list(resource.columns).index('ap_from_ap_0_mean_ant_rssi')]=resource.iloc[i,list(resource.columns).index('ap_from_ap_1_mean_ant_rssi')]\n",
    "        resource.iloc[i,list(resource.columns).index('sta_from_sta_0_rssi')]=resource.iloc[i,list(resource.columns).index('sta_from_sta_1_rssi')]"
   ]
  },
  {
   "cell_type": "code",
   "execution_count": 9,
   "id": "f2f5fae7",
   "metadata": {
    "ExecuteTime": {
     "end_time": "2024-09-24T16:30:14.849452Z",
     "start_time": "2024-09-24T16:30:14.844993Z"
    }
   },
   "outputs": [],
   "source": [
    "resource=resource.drop(['ap_from_ap_1_sum_ant_rssi','ap_from_ap_1_max_ant_rssi',\n",
    "                       'ap_from_ap_1_mean_ant_rssi','sta_from_sta_1_rssi'],axis=1)"
   ]
  },
  {
   "cell_type": "code",
   "execution_count": 10,
   "id": "8c13a6cc",
   "metadata": {
    "ExecuteTime": {
     "end_time": "2024-09-24T16:30:15.857835Z",
     "start_time": "2024-09-24T16:30:15.849322Z"
    }
   },
   "outputs": [
    {
     "name": "stdout",
     "output_type": "stream",
     "text": [
      "<class 'pandas.core.frame.DataFrame'>\n",
      "Index: 390 entries, 0 to 77\n",
      "Data columns (total 16 columns):\n",
      " #   Column                      Non-Null Count  Dtype  \n",
      "---  ------                      --------------  -----  \n",
      " 0   protocol                    390 non-null    object \n",
      " 1   bss_id                      390 non-null    int64  \n",
      " 2   pd                          390 non-null    int64  \n",
      " 3   ed                          390 non-null    int64  \n",
      " 4   nav                         390 non-null    int64  \n",
      " 5   ap_from_ap_0_sum_ant_rssi   390 non-null    object \n",
      " 6   ap_from_ap_0_max_ant_rssi   390 non-null    object \n",
      " 7   ap_from_ap_0_mean_ant_rssi  390 non-null    object \n",
      " 8   sta_to_ap_0_sum_ant_rssi    390 non-null    object \n",
      " 9   sta_to_ap_1_sum_ant_rssi    390 non-null    object \n",
      " 10  sta_from_ap_0_sum_ant_rssi  390 non-null    object \n",
      " 11  sta_from_ap_1_sum_ant_rssi  390 non-null    object \n",
      " 12  sta_from_sta_0_rssi         390 non-null    float64\n",
      " 13  nss                         390 non-null    float64\n",
      " 14  mcs                         390 non-null    float64\n",
      " 15  seq_time                    390 non-null    float64\n",
      "dtypes: float64(4), int64(4), object(8)\n",
      "memory usage: 51.8+ KB\n"
     ]
    }
   ],
   "source": [
    "resource.info()"
   ]
  },
  {
   "cell_type": "code",
   "execution_count": 11,
   "id": "91621e79",
   "metadata": {
    "ExecuteTime": {
     "end_time": "2024-09-24T16:30:17.336188Z",
     "start_time": "2024-09-24T16:30:17.331222Z"
    }
   },
   "outputs": [],
   "source": [
    "# 定义管理rssi中异常值数据，并创造出新特征值\n",
    "def cal_pd(apmax,pd):\n",
    "    apmax = eval(apmax)\n",
    "    comparison_result = [1 if x >= pd else 0 for x in apmax]\n",
    "    proportion_of_ones = sum(comparison_result) / len(apmax)\n",
    "    return proportion_of_ones\n",
    "\n",
    "def cal_ed(apmax,ed):\n",
    "    apmax = eval(apmax)\n",
    "    comparison_result = [1 if x >= ed else 0 for x in apmax]\n",
    "    proportion_of_ones = sum(comparison_result) / len(apmax)\n",
    "    return proportion_of_ones\n",
    "\n",
    "def cal_nav(apmean,nav):\n",
    "    apmean = eval(apmean)\n",
    "    comparison_result = [1 if x >= nav else 0 for x in apmean]\n",
    "\n",
    "    # 计算 1 的占比\n",
    "    proportion_of_ones = sum(comparison_result) / len(apmean)\n",
    "    return proportion_of_ones    "
   ]
  },
  {
   "cell_type": "code",
   "execution_count": 12,
   "id": "f0ccde03",
   "metadata": {
    "ExecuteTime": {
     "end_time": "2024-09-24T16:30:18.588668Z",
     "start_time": "2024-09-24T16:30:18.413498Z"
    }
   },
   "outputs": [],
   "source": [
    "resource['pro_pd'] = resource.apply(lambda row: cal_pd(row['ap_from_ap_0_max_ant_rssi'], row['pd']), axis=1)\n",
    "resource['pro_ed'] = resource.apply(lambda row: cal_ed(row['ap_from_ap_0_max_ant_rssi'], row['ed']), axis=1)\n",
    "resource['pro_nav'] = resource.apply(lambda row: cal_nav(row['ap_from_ap_0_mean_ant_rssi'], row['nav']), axis=1)"
   ]
  },
  {
   "cell_type": "code",
   "execution_count": 13,
   "id": "d17cc8e9",
   "metadata": {
    "ExecuteTime": {
     "end_time": "2024-09-24T16:30:19.807085Z",
     "start_time": "2024-09-24T16:30:19.802061Z"
    }
   },
   "outputs": [],
   "source": [
    "drop_columns=['pd','ed','ap_from_ap_0_mean_ant_rssi','ap_from_ap_0_max_ant_rssi']\n",
    "\n",
    "# drop_columns=['pd','ed','ap_from_ap_0_mean_ant_rssi','ap_from_ap_0_max_ant_rssi'\n",
    "#               ,'sta_to_ap_0_max_ant_rssi','sta_to_ap_0_mean_ant_rssi'\n",
    "#               ,'sta_to_ap_1_max_ant_rssi','sta_to_ap_1_mean_ant_rssi'\n",
    "#              ,'sta_from_ap_0_max_ant_rssi','sta_from_ap_0_mean_ant_rssi'\n",
    "#              ,'sta_from_ap_1_max_ant_rssi','sta_from_ap_1_mean_ant_rssi']\n",
    "\n",
    "resource=resource.drop(drop_columns,axis=1)"
   ]
  },
  {
   "cell_type": "code",
   "execution_count": 14,
   "id": "6dfeb29a",
   "metadata": {
    "ExecuteTime": {
     "end_time": "2024-09-24T16:30:21.054366Z",
     "start_time": "2024-09-24T16:30:21.045271Z"
    }
   },
   "outputs": [
    {
     "name": "stdout",
     "output_type": "stream",
     "text": [
      "<class 'pandas.core.frame.DataFrame'>\n",
      "Index: 390 entries, 0 to 77\n",
      "Data columns (total 15 columns):\n",
      " #   Column                      Non-Null Count  Dtype  \n",
      "---  ------                      --------------  -----  \n",
      " 0   protocol                    390 non-null    object \n",
      " 1   bss_id                      390 non-null    int64  \n",
      " 2   nav                         390 non-null    int64  \n",
      " 3   ap_from_ap_0_sum_ant_rssi   390 non-null    object \n",
      " 4   sta_to_ap_0_sum_ant_rssi    390 non-null    object \n",
      " 5   sta_to_ap_1_sum_ant_rssi    390 non-null    object \n",
      " 6   sta_from_ap_0_sum_ant_rssi  390 non-null    object \n",
      " 7   sta_from_ap_1_sum_ant_rssi  390 non-null    object \n",
      " 8   sta_from_sta_0_rssi         390 non-null    float64\n",
      " 9   nss                         390 non-null    float64\n",
      " 10  mcs                         390 non-null    float64\n",
      " 11  seq_time                    390 non-null    float64\n",
      " 12  pro_pd                      390 non-null    float64\n",
      " 13  pro_ed                      390 non-null    float64\n",
      " 14  pro_nav                     390 non-null    float64\n",
      "dtypes: float64(7), int64(2), object(6)\n",
      "memory usage: 48.8+ KB\n"
     ]
    }
   ],
   "source": [
    "resource.info()"
   ]
  },
  {
   "cell_type": "code",
   "execution_count": 15,
   "id": "a8065e2a",
   "metadata": {
    "ExecuteTime": {
     "end_time": "2024-09-24T16:30:22.595648Z",
     "start_time": "2024-09-24T16:30:22.241762Z"
    }
   },
   "outputs": [],
   "source": [
    "# 对RSSI求平均值处理\n",
    "for i in range(3,8):\n",
    "    resource.iloc[:,i]=resource.iloc[:,i].apply(lambda x: sum(eval(x))/len(eval(x)))"
   ]
  },
  {
   "cell_type": "code",
   "execution_count": 16,
   "id": "864cc6c6",
   "metadata": {
    "ExecuteTime": {
     "end_time": "2024-09-24T16:30:25.550778Z",
     "start_time": "2024-09-24T16:30:24.888311Z"
    }
   },
   "outputs": [
    {
     "name": "stdout",
     "output_type": "stream",
     "text": [
      "Max value: 0.044444444444444446\n",
      "Min value: 0.0\n",
      "Mean value: 0.002331550769270887\n",
      "Standard Deviation: 0.0059889756477766775\n"
     ]
    },
    {
     "data": {
      "image/png": "[encoded data removed]",
      "text/plain": [
       "<Figure size 800x600 with 1 Axes>"
      ]
     },
     "metadata": {},
     "output_type": "display_data"
    }
   ],
   "source": [
    "# pro_ed的分布情况\n",
    "\n",
    "import matplotlib.pyplot as plt\n",
    "\n",
    "# Assuming df is your DataFrame and 'pro_ed' is the column of interest\n",
    "pro_ed = resource['pro_ed']\n",
    "\n",
    "# Calculate basic statistics\n",
    "max_value = pro_ed.max()\n",
    "min_value = pro_ed.min()\n",
    "mean_value = pro_ed.mean()\n",
    "std_dev = pro_ed.std()\n",
    "\n",
    "# Display basic statistics\n",
    "print(f\"Max value: {max_value}\")\n",
    "print(f\"Min value: {min_value}\")\n",
    "print(f\"Mean value: {mean_value}\")\n",
    "print(f\"Standard Deviation: {std_dev}\")\n",
    "\n",
    "# Plot a histogram to visualize the distribution of 'pro_ed'\n",
    "plt.figure(figsize=(8, 6))\n",
    "plt.hist(pro_ed, bins=10, color='skyblue', edgecolor='black')\n",
    "plt.title('Histogram of pro_ed')\n",
    "plt.xlabel('pro_ed values')\n",
    "plt.ylabel('Frequency')\n",
    "plt.grid(True)\n",
    "plt.show()"
   ]
  },
  {
   "cell_type": "code",
   "execution_count": 17,
   "id": "16392b3e",
   "metadata": {
    "ExecuteTime": {
     "end_time": "2024-09-24T16:30:31.857706Z",
     "start_time": "2024-09-24T16:30:28.557948Z"
    }
   },
   "outputs": [
    {
     "name": "stderr",
     "output_type": "stream",
     "text": [
      "D:\\Anaconda\\Lib\\site-packages\\sklearn\\cluster\\_kmeans.py:1412: FutureWarning: The default value of `n_init` will change from 10 to 'auto' in 1.4. Set the value of `n_init` explicitly to suppress the warning\n",
      "  super()._check_params_vs_input(X, default_n_init=10)\n",
      "D:\\Anaconda\\Lib\\site-packages\\sklearn\\cluster\\_kmeans.py:1436: UserWarning: KMeans is known to have a memory leak on Windows with MKL, when there are less chunks than available threads. You can avoid it by setting the environment variable OMP_NUM_THREADS=2.\n",
      "  warnings.warn(\n",
      "D:\\Anaconda\\Lib\\site-packages\\sklearn\\cluster\\_kmeans.py:1412: FutureWarning: The default value of `n_init` will change from 10 to 'auto' in 1.4. Set the value of `n_init` explicitly to suppress the warning\n",
      "  super()._check_params_vs_input(X, default_n_init=10)\n",
      "D:\\Anaconda\\Lib\\site-packages\\sklearn\\cluster\\_kmeans.py:1436: UserWarning: KMeans is known to have a memory leak on Windows with MKL, when there are less chunks than available threads. You can avoid it by setting the environment variable OMP_NUM_THREADS=2.\n",
      "  warnings.warn(\n",
      "D:\\Anaconda\\Lib\\site-packages\\sklearn\\cluster\\_kmeans.py:1412: FutureWarning: The default value of `n_init` will change from 10 to 'auto' in 1.4. Set the value of `n_init` explicitly to suppress the warning\n",
      "  super()._check_params_vs_input(X, default_n_init=10)\n",
      "D:\\Anaconda\\Lib\\site-packages\\sklearn\\cluster\\_kmeans.py:1436: UserWarning: KMeans is known to have a memory leak on Windows with MKL, when there are less chunks than available threads. You can avoid it by setting the environment variable OMP_NUM_THREADS=2.\n",
      "  warnings.warn(\n",
      "D:\\Anaconda\\Lib\\site-packages\\sklearn\\cluster\\_kmeans.py:1412: FutureWarning: The default value of `n_init` will change from 10 to 'auto' in 1.4. Set the value of `n_init` explicitly to suppress the warning\n",
      "  super()._check_params_vs_input(X, default_n_init=10)\n",
      "D:\\Anaconda\\Lib\\site-packages\\sklearn\\cluster\\_kmeans.py:1436: UserWarning: KMeans is known to have a memory leak on Windows with MKL, when there are less chunks than available threads. You can avoid it by setting the environment variable OMP_NUM_THREADS=2.\n",
      "  warnings.warn(\n"
     ]
    },
    {
     "data": {
      "image/png": "[encoded data removed]",
      "text/plain": [
       "<Figure size 1000x400 with 2 Axes>"
      ]
     },
     "metadata": {},
     "output_type": "display_data"
    }
   ],
   "source": [
    "# 选择pro的聚类个数\n",
    "import numpy as np\n",
    "import pandas as pd\n",
    "from sklearn.cluster import KMeans\n",
    "from sklearn.preprocessing import StandardScaler\n",
    "from sklearn.metrics import silhouette_score\n",
    "import matplotlib.pyplot as plt\n",
    "\n",
    "data_scaled=resource.iloc[:,[12,13,14]]\n",
    "\n",
    "# 确定最佳的聚类簇数，使用肘部法或轮廓系数\n",
    "sse = []\n",
    "silhouette_scores = []\n",
    "K = range(2, 6)  # 假设我们要测试2到5个聚类数\n",
    "for k in K:\n",
    "    kmeans = KMeans(n_clusters=k, random_state=42)\n",
    "    kmeans.fit(data_scaled)\n",
    "    sse.append(kmeans.inertia_)  # SSE\n",
    "    silhouette_scores.append(silhouette_score(data_scaled, kmeans.labels_))\n",
    "\n",
    "# 绘制肘部法图像\n",
    "plt.figure(figsize=(10, 4))\n",
    "plt.subplot(1, 2, 1)\n",
    "plt.plot(K, sse, 'bo-')\n",
    "plt.title('Elbow Method for Optimal k')\n",
    "plt.xlabel('Number of clusters (k)')\n",
    "plt.ylabel('SSE')\n",
    "\n",
    "plt.subplot(1, 2, 2)\n",
    "plt.plot(K, silhouette_scores, 'bo-')\n",
    "plt.title('Silhouette Score for k')\n",
    "plt.xlabel('Number of clusters (k)')\n",
    "plt.ylabel('Silhouette Score')\n",
    "\n",
    "plt.tight_layout()\n",
    "plt.show()"
   ]
  },
  {
   "cell_type": "code",
   "execution_count": 19,
   "id": "ddfceb85",
   "metadata": {
    "ExecuteTime": {
     "end_time": "2024-09-24T16:30:40.435660Z",
     "start_time": "2024-09-24T16:30:39.734835Z"
    }
   },
   "outputs": [
    {
     "name": "stderr",
     "output_type": "stream",
     "text": [
      "D:\\Anaconda\\Lib\\site-packages\\sklearn\\cluster\\_kmeans.py:1412: FutureWarning: The default value of `n_init` will change from 10 to 'auto' in 1.4. Set the value of `n_init` explicitly to suppress the warning\n",
      "  super()._check_params_vs_input(X, default_n_init=10)\n",
      "D:\\Anaconda\\Lib\\site-packages\\sklearn\\cluster\\_kmeans.py:1436: UserWarning: KMeans is known to have a memory leak on Windows with MKL, when there are less chunks than available threads. You can avoid it by setting the environment variable OMP_NUM_THREADS=2.\n",
      "  warnings.warn(\n",
      "C:\\Users\\ShenFei\\AppData\\Local\\Temp\\ipykernel_12240\\1486243090.py:10: SettingWithCopyWarning: \n",
      "A value is trying to be set on a copy of a slice from a DataFrame.\n",
      "Try using .loc[row_indexer,col_indexer] = value instead\n",
      "\n",
      "See the caveats in the documentation: https://pandas.pydata.org/pandas-docs/stable/user_guide/indexing.html#returning-a-view-versus-a-copy\n",
      "  df['cluster'] = kmeans.fit_predict(data_scaled)\n"
     ]
    },
    {
     "name": "stdout",
     "output_type": "stream",
     "text": [
      "Cluster centers:\n",
      "          0         1         2\n",
      "0  0.897140  0.003123  0.924633\n",
      "1  0.063595  0.001679  0.034990\n",
      "2  0.770176  0.001579  0.150017\n",
      "cluster\n",
      "0    179\n",
      "1    170\n",
      "2     41\n",
      "Name: count, dtype: int64\n"
     ]
    },
    {
     "data": {
      "image/png": "[encoded data removed]",
      "text/plain": [
       "<Figure size 1000x700 with 2 Axes>"
      ]
     },
     "metadata": {},
     "output_type": "display_data"
    }
   ],
   "source": [
    "# 得到‘state’类别\n",
    "# 0:大量同步\n",
    "# 1：大量异步\n",
    "# 2：混合\n",
    "\n",
    "\n",
    "df=data_scaled\n",
    "k = 3\n",
    "kmeans = KMeans(n_clusters=k, random_state=42)\n",
    "df['cluster'] = kmeans.fit_predict(data_scaled)\n",
    "\n",
    "# 查看每个簇的平均特征值\n",
    "cluster_centers = pd.DataFrame(kmeans.cluster_centers_)\n",
    "# columns=['pro_pd', 'pro_ed', 'pro_nav']\n",
    "\n",
    "print(f\"Cluster centers:\\n{cluster_centers}\")\n",
    "\n",
    "# 查看每个簇的样本数量\n",
    "print(df['cluster'].value_counts())\n",
    "\n",
    "# # 可视化聚类结果\n",
    "# plt.scatter(df['pro_nav'], df['pro_pd'], c=df['cluster'], cmap='viridis', label='Cluster')\n",
    "# plt.colorbar()\n",
    "# plt.xlabel('pro_nav')\n",
    "# plt.ylabel('pro_pd')\n",
    "# plt.title('KMeans Clustering of WLAN Communication States')\n",
    "# plt.show()\n",
    "# 3D plot of the clustering results\n",
    "fig = plt.figure(figsize=(10, 7))\n",
    "ax = fig.add_subplot(111, projection='3d')\n",
    "\n",
    "# Plot the clusters in 3D\n",
    "scatter = ax.scatter(df['pro_nav'], df['pro_pd'], df['pro_ed'], c=df['cluster'], cmap='viridis')\n",
    "\n",
    "# Set labels and title\n",
    "ax.set_xlabel('pro_nav')\n",
    "ax.set_ylabel('pro_pd')\n",
    "ax.set_zlabel('pro_ed')\n",
    "ax.set_title('3D KMeans Clustering of WLAN Communication States')\n",
    "\n",
    "# Add a color bar\n",
    "plt.colorbar(scatter)\n",
    "\n",
    "plt.show()"
   ]
  },
  {
   "cell_type": "code",
   "execution_count": 20,
   "id": "d99cb1af",
   "metadata": {
    "ExecuteTime": {
     "end_time": "2024-09-24T16:30:43.566595Z",
     "start_time": "2024-09-24T16:30:43.562912Z"
    }
   },
   "outputs": [],
   "source": [
    "resource['state']=df['cluster']"
   ]
  },
  {
   "cell_type": "markdown",
   "id": "57dc84da",
   "metadata": {},
   "source": [
    "## 进行均值处理与SINR"
   ]
  },
  {
   "cell_type": "code",
   "execution_count": 21,
   "id": "aa34983e",
   "metadata": {
    "ExecuteTime": {
     "end_time": "2024-09-24T16:30:45.620292Z",
     "start_time": "2024-09-24T16:30:45.611752Z"
    }
   },
   "outputs": [
    {
     "name": "stdout",
     "output_type": "stream",
     "text": [
      "<class 'pandas.core.frame.DataFrame'>\n",
      "Index: 390 entries, 0 to 77\n",
      "Data columns (total 16 columns):\n",
      " #   Column                      Non-Null Count  Dtype  \n",
      "---  ------                      --------------  -----  \n",
      " 0   protocol                    390 non-null    object \n",
      " 1   bss_id                      390 non-null    int64  \n",
      " 2   nav                         390 non-null    int64  \n",
      " 3   ap_from_ap_0_sum_ant_rssi   390 non-null    object \n",
      " 4   sta_to_ap_0_sum_ant_rssi    390 non-null    object \n",
      " 5   sta_to_ap_1_sum_ant_rssi    390 non-null    object \n",
      " 6   sta_from_ap_0_sum_ant_rssi  390 non-null    object \n",
      " 7   sta_from_ap_1_sum_ant_rssi  390 non-null    object \n",
      " 8   sta_from_sta_0_rssi         390 non-null    float64\n",
      " 9   nss                         390 non-null    float64\n",
      " 10  mcs                         390 non-null    float64\n",
      " 11  seq_time                    390 non-null    float64\n",
      " 12  pro_pd                      390 non-null    float64\n",
      " 13  pro_ed                      390 non-null    float64\n",
      " 14  pro_nav                     390 non-null    float64\n",
      " 15  state                       390 non-null    int32  \n",
      "dtypes: float64(7), int32(1), int64(2), object(6)\n",
      "memory usage: 50.3+ KB\n"
     ]
    }
   ],
   "source": [
    "resource.info()"
   ]
  },
  {
   "cell_type": "code",
   "execution_count": 22,
   "id": "1d6225a6",
   "metadata": {
    "ExecuteTime": {
     "end_time": "2024-09-24T16:30:55.263194Z",
     "start_time": "2024-09-24T16:30:55.225910Z"
    }
   },
   "outputs": [
    {
     "name": "stdout",
     "output_type": "stream",
     "text": [
      "0      36.107692\n",
      "1      30.800000\n",
      "2      36.107692\n",
      "3      30.800000\n",
      "4      35.445588\n",
      "         ...    \n",
      "73    100.575000\n",
      "74     97.450000\n",
      "75    101.800000\n",
      "76     97.450000\n",
      "77    101.800000\n",
      "Name: sinr, Length: 390, dtype: float64\n"
     ]
    }
   ],
   "source": [
    "# 信干比采取dbm直接相减得到db\n",
    "def func(x, y, state):\n",
    "    if state == 0:\n",
    "        return x + 100\n",
    "    else:\n",
    "        return x - y\n",
    "\n",
    "    \n",
    "# 创建一个新列来存储 SINR 计算的结果\n",
    "sinr = []\n",
    "df = resource\n",
    "# 遍历 DataFrame 的每一行\n",
    "for i in range(len(df)):\n",
    "    if df.iloc[i, list(df.columns).index('bss_id')] == 1:  # ap1\n",
    "        result = func(df.iloc[i, list(df.columns).index('sta_from_ap_1_sum_ant_rssi')], df.iloc[i, list(df.columns).index('sta_from_ap_0_sum_ant_rssi')],df.iloc[i, list(df.columns).index('state')])\n",
    "    else:  # ap2\n",
    "        result = func(df.iloc[i, list(df.columns).index('sta_from_ap_0_sum_ant_rssi')], df.iloc[i, list(df.columns).index('sta_from_ap_1_sum_ant_rssi')],df.iloc[i, list(df.columns).index('state')])\n",
    "    sinr.append(result)\n",
    "\n",
    "# 将计算结果添加为新列\n",
    "df['sinr'] = sinr\n",
    "\n",
    "# 输出结果\n",
    "print(df['sinr'])\n",
    "resource = resource.drop('bss_id',axis=1)"
   ]
  },
  {
   "cell_type": "code",
   "execution_count": 23,
   "id": "a301daf2",
   "metadata": {
    "ExecuteTime": {
     "end_time": "2024-09-24T16:30:57.416009Z",
     "start_time": "2024-09-24T16:30:57.411824Z"
    }
   },
   "outputs": [],
   "source": [
    "resource = resource.loc[resource['sinr'] > 0]"
   ]
  },
  {
   "cell_type": "code",
   "execution_count": 24,
   "id": "2151b493",
   "metadata": {
    "ExecuteTime": {
     "end_time": "2024-09-24T16:31:00.735365Z",
     "start_time": "2024-09-24T16:31:00.730899Z"
    }
   },
   "outputs": [],
   "source": [
    "resource.iloc[:,0]=resource.iloc[:,0].astype(str).map({'tcp':1,'udp':0})"
   ]
  },
  {
   "cell_type": "markdown",
   "id": "b4e209b2",
   "metadata": {},
   "source": [
    "# read from here"
   ]
  },
  {
   "cell_type": "code",
   "execution_count": 80,
   "id": "ddd7bc5e",
   "metadata": {
    "ExecuteTime": {
     "end_time": "2024-09-24T19:49:03.197910Z",
     "start_time": "2024-09-24T19:49:03.098419Z"
    }
   },
   "outputs": [],
   "source": [
    "# resource.to_excel('programe2_2ap_processed.xlsx')\n",
    "import numpy as np\n",
    "import pandas as pd\n",
    "resource = pd.read_excel('programe2_2ap_processed.xlsx')\n",
    "resource = resource.sample(frac=1).reset_index(drop=True)"
   ]
  },
  {
   "cell_type": "code",
   "execution_count": 81,
   "id": "c6cafcdb",
   "metadata": {
    "ExecuteTime": {
     "end_time": "2024-09-24T19:49:04.846169Z",
     "start_time": "2024-09-24T19:49:04.839021Z"
    }
   },
   "outputs": [
    {
     "name": "stdout",
     "output_type": "stream",
     "text": [
      "<class 'pandas.core.frame.DataFrame'>\n",
      "RangeIndex: 379 entries, 0 to 378\n",
      "Data columns (total 16 columns):\n",
      " #   Column                      Non-Null Count  Dtype  \n",
      "---  ------                      --------------  -----  \n",
      " 0   protocol                    379 non-null    int64  \n",
      " 1   nav                         379 non-null    int64  \n",
      " 2   ap_from_ap_0_sum_ant_rssi   379 non-null    float64\n",
      " 3   sta_to_ap_0_sum_ant_rssi    379 non-null    float64\n",
      " 4   sta_to_ap_1_sum_ant_rssi    379 non-null    float64\n",
      " 5   sta_from_ap_0_sum_ant_rssi  379 non-null    float64\n",
      " 6   sta_from_ap_1_sum_ant_rssi  379 non-null    float64\n",
      " 7   sta_from_sta_0_rssi         379 non-null    int64  \n",
      " 8   nss                         379 non-null    int64  \n",
      " 9   mcs                         379 non-null    int64  \n",
      " 10  seq_time                    379 non-null    float64\n",
      " 11  pro_pd                      379 non-null    float64\n",
      " 12  pro_ed                      379 non-null    float64\n",
      " 13  pro_nav                     379 non-null    float64\n",
      " 14  state                       379 non-null    int64  \n",
      " 15  sinr                        379 non-null    float64\n",
      "dtypes: float64(10), int64(6)\n",
      "memory usage: 47.5 KB\n"
     ]
    }
   ],
   "source": [
    "resource.info()"
   ]
  },
  {
   "cell_type": "code",
   "execution_count": 82,
   "id": "92144d68",
   "metadata": {
    "ExecuteTime": {
     "end_time": "2024-09-24T19:49:07.636275Z",
     "start_time": "2024-09-24T19:49:07.628868Z"
    }
   },
   "outputs": [
    {
     "name": "stdout",
     "output_type": "stream",
     "text": [
      "<class 'pandas.core.frame.DataFrame'>\n",
      "RangeIndex: 379 entries, 0 to 378\n",
      "Data columns (total 16 columns):\n",
      " #   Column                      Non-Null Count  Dtype  \n",
      "---  ------                      --------------  -----  \n",
      " 0   protocol                    379 non-null    int64  \n",
      " 1   nav                         379 non-null    int64  \n",
      " 2   ap_from_ap_0_sum_ant_rssi   379 non-null    float64\n",
      " 3   sta_to_ap_0_sum_ant_rssi    379 non-null    float64\n",
      " 4   sta_to_ap_1_sum_ant_rssi    379 non-null    float64\n",
      " 5   sta_from_ap_0_sum_ant_rssi  379 non-null    float64\n",
      " 6   sta_from_ap_1_sum_ant_rssi  379 non-null    float64\n",
      " 7   sta_from_sta_0_rssi         379 non-null    int64  \n",
      " 8   nss                         379 non-null    int64  \n",
      " 9   mcs                         379 non-null    int64  \n",
      " 10  seq_time                    379 non-null    float64\n",
      " 11  pro_pd                      379 non-null    float64\n",
      " 12  pro_ed                      379 non-null    float64\n",
      " 13  pro_nav                     379 non-null    float64\n",
      " 14  state                       379 non-null    int64  \n",
      " 15  sinr                        379 non-null    float64\n",
      "dtypes: float64(10), int64(6)\n",
      "memory usage: 47.5 KB\n"
     ]
    }
   ],
   "source": [
    "target=resource[['nss','mcs']]\n",
    "# resource=resource.drop(['nss','mcs'],axis=1)\n",
    "resource.info()"
   ]
  },
  {
   "cell_type": "markdown",
   "id": "2b35e0cd",
   "metadata": {},
   "source": [
    "# 构造nss,mcs字典"
   ]
  },
  {
   "cell_type": "code",
   "execution_count": 83,
   "id": "d8bf0ea9",
   "metadata": {
    "ExecuteTime": {
     "end_time": "2024-09-24T19:49:09.807214Z",
     "start_time": "2024-09-24T19:49:09.802607Z"
    }
   },
   "outputs": [],
   "source": [
    "nss_mcs_dict=dict()\n",
    "phy=[8.6,17.2,25.8,34.4,51.6,68.8,77.4,86.0,103.2,114.7,129.0,143.4,17.2,34.4,51.6,68.8,103.2,137.6,154.9,172.1,206.5,\n",
    "    229.4,258.1,286.8]\n",
    "num=0\n",
    "\n",
    "for i in range(1,3):\n",
    "    for j in range(0,12):\n",
    "        nss_mcs_dict[(i,j)]=phy[num]\n",
    "        num+=1"
   ]
  },
  {
   "cell_type": "markdown",
   "id": "3677b61b",
   "metadata": {
    "ExecuteTime": {
     "end_time": "2024-09-23T11:42:51.592488Z",
     "start_time": "2024-09-23T11:42:51.588488Z"
    },
    "heading_collapsed": true
   },
   "source": [
    "# 相关性分析"
   ]
  },
  {
   "cell_type": "code",
   "execution_count": null,
   "id": "70bd3dc2",
   "metadata": {
    "ExecuteTime": {
     "end_time": "2024-09-23T14:03:41.530205Z",
     "start_time": "2024-09-23T14:03:41.530205Z"
    },
    "hidden": true
   },
   "outputs": [],
   "source": [
    "import matplotlib.pyplot as plt\n",
    "pearson_correlation=resource.corr(method='pearson')\n",
    "spearman_correlation=resource.corr(method='spearman')\n",
    "# 0.8~1的话为极强相关，0.6~0.8之间为强相关,0.4~0.6的话为中等强度相关,0.2~0.4之间为弱相关，0.0~0.2极弱或无相关\n",
    "plt.imshow(pearson_correlation,cmap='coolwarm')\n",
    "a=plt.gca()\n",
    "a.set_yticks(range(len(resource_columns)))\n",
    "a.set_yticklabels(resource_columns)\n",
    "a.set_xticks(range(len(resource_columns)))\n",
    "# a.set_xticklabels(resource_1_columns)\n",
    "plt.show()"
   ]
  },
  {
   "cell_type": "code",
   "execution_count": null,
   "id": "72f431a3",
   "metadata": {
    "ExecuteTime": {
     "end_time": "2024-09-23T14:03:41.531096Z",
     "start_time": "2024-09-23T14:03:41.531096Z"
    },
    "hidden": true
   },
   "outputs": [],
   "source": [
    "plt.imshow(spearman_correlation,cmap='coolwarm')\n",
    "a=plt.gca()\n",
    "a.set_yticks(range(len(resource_columns)))\n",
    "a.set_yticklabels(resource_columns)\n",
    "a.set_xticks(range(len(resource_columns)))\n",
    "# a.set_xticklabels(resource_1_columns)\n",
    "plt.show()"
   ]
  },
  {
   "cell_type": "code",
   "execution_count": null,
   "id": "65e0e5da",
   "metadata": {
    "ExecuteTime": {
     "end_time": "2024-09-23T13:41:46.578226Z",
     "start_time": "2024-09-23T13:41:46.516015Z"
    },
    "hidden": true
   },
   "outputs": [],
   "source": []
  },
  {
   "cell_type": "code",
   "execution_count": 28,
   "id": "1e8a0428",
   "metadata": {
    "ExecuteTime": {
     "end_time": "2024-09-23T14:04:29.828033Z",
     "start_time": "2024-09-23T14:04:29.819515Z"
    },
    "hidden": true
   },
   "outputs": [
    {
     "name": "stdout",
     "output_type": "stream",
     "text": [
      "<class 'pandas.core.frame.DataFrame'>\n",
      "Index: 345 entries, 0 to 76\n",
      "Data columns (total 14 columns):\n",
      " #   Column                      Non-Null Count  Dtype  \n",
      "---  ------                      --------------  -----  \n",
      " 0   protocol                    345 non-null    object \n",
      " 1   nav                         345 non-null    int64  \n",
      " 2   ap_from_ap_0_sum_ant_rssi   345 non-null    object \n",
      " 3   sta_to_ap_0_sum_ant_rssi    345 non-null    object \n",
      " 4   sta_to_ap_1_sum_ant_rssi    345 non-null    object \n",
      " 5   sta_from_ap_0_sum_ant_rssi  345 non-null    object \n",
      " 6   sta_from_ap_1_sum_ant_rssi  345 non-null    object \n",
      " 7   sta_from_sta_0_rssi         345 non-null    float64\n",
      " 8   seq_time                    345 non-null    float64\n",
      " 9   pro_pd                      345 non-null    float64\n",
      " 10  pro_ed                      345 non-null    float64\n",
      " 11  pro_nav                     345 non-null    float64\n",
      " 12  state                       345 non-null    int32  \n",
      " 13  sinr                        345 non-null    float64\n",
      "dtypes: float64(6), int32(1), int64(1), object(6)\n",
      "memory usage: 39.1+ KB\n"
     ]
    }
   ],
   "source": [
    "resource.info()"
   ]
  },
  {
   "cell_type": "code",
   "execution_count": 29,
   "id": "02ae225c",
   "metadata": {
    "ExecuteTime": {
     "end_time": "2024-09-23T14:04:32.151957Z",
     "start_time": "2024-09-23T14:04:32.144922Z"
    },
    "hidden": true
   },
   "outputs": [
    {
     "name": "stdout",
     "output_type": "stream",
     "text": [
      "<class 'pandas.core.frame.DataFrame'>\n",
      "Index: 345 entries, 0 to 76\n",
      "Data columns (total 2 columns):\n",
      " #   Column  Non-Null Count  Dtype\n",
      "---  ------  --------------  -----\n",
      " 0   nss     345 non-null    int64\n",
      " 1   mcs     345 non-null    int64\n",
      "dtypes: int64(2)\n",
      "memory usage: 8.1 KB\n"
     ]
    }
   ],
   "source": [
    "target.info()"
   ]
  },
  {
   "cell_type": "markdown",
   "id": "7dbbff14",
   "metadata": {},
   "source": [
    "# SINR_总情况"
   ]
  },
  {
   "cell_type": "code",
   "execution_count": 84,
   "id": "b13f76cd",
   "metadata": {
    "ExecuteTime": {
     "end_time": "2024-09-24T19:49:19.641752Z",
     "start_time": "2024-09-24T19:49:12.177081Z"
    }
   },
   "outputs": [],
   "source": [
    "resource=resource.drop('sta_from_sta_0_rssi',axis=1)\n",
    "resource=resource.drop(['mcs','nss'],axis=1)\n",
    "from sklearn.ensemble import RandomForestRegressor\n",
    "\n",
    "rfg0=RandomForestRegressor(n_estimators=100,criterion='friedman_mse',random_state=0,oob_score=False)\n",
    "\n",
    "target_phy=[]\n",
    "for idx,s in target.iterrows():\n",
    "    target_phy.append(nss_mcs_dict[s['nss'],s['mcs']])\n",
    "\n",
    "# target_0_phy=pd.DataFrame(target_0_phy)\n",
    "\n",
    "rfg0=rfg0.fit(resource,target_phy)\n",
    "\n",
    "# rfg0=RandomForestRegressor(n_estimators=100,criterion='friedman_mse',random_state=0,oob_score=False)\n",
    "# rfg0=rfg0.fit(resource,target_0.to_numpy())\n",
    "from sklearn.model_selection import cross_val_score\n",
    "\n",
    "res=cross_val_score(rfg0,resource,target_phy,cv=10)"
   ]
  },
  {
   "cell_type": "code",
   "execution_count": 65,
   "id": "c0d21857",
   "metadata": {
    "ExecuteTime": {
     "end_time": "2024-09-24T19:38:26.922535Z",
     "start_time": "2024-09-24T19:38:24.727613Z"
    }
   },
   "outputs": [
    {
     "name": "stderr",
     "output_type": "stream",
     "text": [
      "D:\\Anaconda\\Lib\\site-packages\\sklearn\\model_selection\\_split.py:725: UserWarning: The least populated class in y has only 1 members, which is less than n_splits=10.\n",
      "  warnings.warn(\n"
     ]
    }
   ],
   "source": [
    "resource=resource.drop(['mcs','nss'],axis=1)\n",
    "from sklearn.ensemble import RandomForestClassifier\n",
    "\n",
    "rfg0=RandomForestClassifier(n_estimators=100,criterion='gini',random_state=0,oob_score=False)\n",
    "\n",
    "# target_phy=[]\n",
    "# for idx,s in target.iterrows():\n",
    "#     target_phy.append(nss_mcs_dict[s['nss'],s['mcs']])\n",
    "\n",
    "# target_0_phy=pd.DataFrame(target_0_phy)\n",
    "\n",
    "rfg0=rfg0.fit(resource,target)\n",
    "\n",
    "# rfg0=RandomForestRegressor(n_estimators=100,criterion='friedman_mse',random_state=0,oob_score=False)\n",
    "# rfg0=rfg0.fit(resource,target_0.to_numpy())\n",
    "from sklearn.model_selection import cross_val_score\n",
    "\n",
    "res=cross_val_score(rfg0,resource,target,cv=10)"
   ]
  },
  {
   "cell_type": "code",
   "execution_count": 67,
   "id": "05288eb4",
   "metadata": {
    "ExecuteTime": {
     "end_time": "2024-09-24T19:41:08.744986Z",
     "start_time": "2024-09-24T19:41:08.739813Z"
    }
   },
   "outputs": [
    {
     "data": {
      "text/plain": [
       "pandas.core.series.Series"
      ]
     },
     "execution_count": 67,
     "metadata": {},
     "output_type": "execute_result"
    }
   ],
   "source": [
    "resource"
   ]
  },
  {
   "cell_type": "code",
   "execution_count": null,
   "id": "56666fad",
   "metadata": {},
   "outputs": [],
   "source": []
  },
  {
   "cell_type": "code",
   "execution_count": 68,
   "id": "ddb2153c",
   "metadata": {
    "ExecuteTime": {
     "end_time": "2024-09-24T19:41:40.537880Z",
     "start_time": "2024-09-24T19:41:40.530001Z"
    }
   },
   "outputs": [
    {
     "data": {
      "text/plain": [
       "array([0.84210526, 0.92105263, 0.92105263, 0.89473684, 0.94736842,\n",
       "       0.92105263, 0.92105263, 0.84210526, 0.92105263, 0.91891892])"
      ]
     },
     "execution_count": 68,
     "metadata": {},
     "output_type": "execute_result"
    }
   ],
   "source": [
    "res"
   ]
  },
  {
   "cell_type": "code",
   "execution_count": 85,
   "id": "6d48ccf6",
   "metadata": {
    "ExecuteTime": {
     "end_time": "2024-09-24T19:49:26.129062Z",
     "start_time": "2024-09-24T19:49:26.124537Z"
    }
   },
   "outputs": [
    {
     "data": {
      "text/plain": [
       "0.8859147855936259"
      ]
     },
     "execution_count": 85,
     "metadata": {},
     "output_type": "execute_result"
    }
   ],
   "source": [
    "res.mean()"
   ]
  },
  {
   "cell_type": "code",
   "execution_count": 86,
   "id": "29c80433",
   "metadata": {
    "ExecuteTime": {
     "end_time": "2024-09-24T19:49:32.642080Z",
     "start_time": "2024-09-24T19:49:32.633648Z"
    }
   },
   "outputs": [
    {
     "name": "stdout",
     "output_type": "stream",
     "text": [
      "<class 'pandas.core.frame.DataFrame'>\n",
      "RangeIndex: 379 entries, 0 to 378\n",
      "Data columns (total 13 columns):\n",
      " #   Column                      Non-Null Count  Dtype  \n",
      "---  ------                      --------------  -----  \n",
      " 0   protocol                    379 non-null    int64  \n",
      " 1   nav                         379 non-null    int64  \n",
      " 2   ap_from_ap_0_sum_ant_rssi   379 non-null    float64\n",
      " 3   sta_to_ap_0_sum_ant_rssi    379 non-null    float64\n",
      " 4   sta_to_ap_1_sum_ant_rssi    379 non-null    float64\n",
      " 5   sta_from_ap_0_sum_ant_rssi  379 non-null    float64\n",
      " 6   sta_from_ap_1_sum_ant_rssi  379 non-null    float64\n",
      " 7   seq_time                    379 non-null    float64\n",
      " 8   pro_pd                      379 non-null    float64\n",
      " 9   pro_ed                      379 non-null    float64\n",
      " 10  pro_nav                     379 non-null    float64\n",
      " 11  state                       379 non-null    int64  \n",
      " 12  sinr                        379 non-null    float64\n",
      "dtypes: float64(10), int64(3)\n",
      "memory usage: 38.6 KB\n"
     ]
    }
   ],
   "source": [
    "resource.info()"
   ]
  },
  {
   "cell_type": "markdown",
   "id": "59ff83a1",
   "metadata": {
    "heading_collapsed": true
   },
   "source": [
    "# 分成三份"
   ]
  },
  {
   "cell_type": "code",
   "execution_count": 27,
   "id": "0cb49de4",
   "metadata": {
    "ExecuteTime": {
     "end_time": "2024-09-24T16:31:24.727492Z",
     "start_time": "2024-09-24T16:31:24.720491Z"
    },
    "hidden": true
   },
   "outputs": [],
   "source": [
    "child=resource.groupby('state')\n",
    "\n",
    "child_0=list(child)[0][1] #完全同步\n",
    "child_1=list(child)[0][1] # 大量异步\n",
    "child_2=list(child)[0][1]  # 混合情况\n",
    "\n",
    "child_0.index=range(child_0.shape[0])\n",
    "child_1.index=range(child_1.shape[0])\n",
    "child_2.index=range(child_2.shape[0])"
   ]
  },
  {
   "cell_type": "code",
   "execution_count": 28,
   "id": "4fd497e8",
   "metadata": {
    "ExecuteTime": {
     "end_time": "2024-09-24T16:31:26.912955Z",
     "start_time": "2024-09-24T16:31:26.905933Z"
    },
    "hidden": true
   },
   "outputs": [],
   "source": [
    "# 删除列并取出目标值\n",
    "target_0=child_0[['nss','mcs']]\n",
    "target_1=child_1[['nss','mcs']]\n",
    "target_2=child_2[['nss','mcs']]\n",
    "\n",
    "child_0=child_0.drop(['mcs','nss','state'],axis=1)\n",
    "child_1=child_1.drop(['mcs','nss','state'],axis=1)\n",
    "child_2=child_2.drop(['mcs','nss','state'],axis=1)"
   ]
  },
  {
   "cell_type": "markdown",
   "id": "5dd2c6dc",
   "metadata": {
    "heading_collapsed": true
   },
   "source": [
    "# child_0情况"
   ]
  },
  {
   "cell_type": "code",
   "execution_count": 29,
   "id": "2d5285a1",
   "metadata": {
    "ExecuteTime": {
     "end_time": "2024-09-24T16:31:46.049702Z",
     "start_time": "2024-09-24T16:31:39.196882Z"
    },
    "hidden": true
   },
   "outputs": [],
   "source": [
    "from sklearn.ensemble import RandomForestRegressor\n",
    "\n",
    "rfg0=RandomForestRegressor(n_estimators=100,criterion='friedman_mse',random_state=0,oob_score=False)\n",
    "\n",
    "target_0_phy=[]\n",
    "for idx,s in target_0.iterrows():\n",
    "    target_0_phy.append(nss_mcs_dict[s['nss'],s['mcs']])\n",
    "\n",
    "# target_0_phy=pd.DataFrame(target_0_phy)\n",
    "\n",
    "rfg0=rfg0.fit(child_0,target_0_phy)\n",
    "\n",
    "# rfg0=RandomForestRegressor(n_estimators=100,criterion='friedman_mse',random_state=0,oob_score=False)\n",
    "# rfg0=rfg0.fit(resource,target_0.to_numpy())\n",
    "from sklearn.model_selection import cross_val_score\n",
    "\n",
    "res=cross_val_score(rfg0,child_0,target_0_phy,cv=10)"
   ]
  },
  {
   "cell_type": "code",
   "execution_count": 30,
   "id": "8fd73406",
   "metadata": {
    "ExecuteTime": {
     "end_time": "2024-09-24T16:31:47.417650Z",
     "start_time": "2024-09-24T16:31:47.413070Z"
    },
    "hidden": true
   },
   "outputs": [
    {
     "data": {
      "text/plain": [
       "0.015199409085189375"
      ]
     },
     "execution_count": 30,
     "metadata": {},
     "output_type": "execute_result"
    }
   ],
   "source": [
    "res.mean()"
   ]
  },
  {
   "cell_type": "code",
   "execution_count": 31,
   "id": "e914b1d6",
   "metadata": {
    "ExecuteTime": {
     "end_time": "2024-09-24T16:31:49.831382Z",
     "start_time": "2024-09-24T16:31:49.826064Z"
    },
    "hidden": true
   },
   "outputs": [
    {
     "data": {
      "text/plain": [
       "array([ 0.        ,  0.        ,  0.        ,  0.        , -0.03219007,\n",
       "        0.84663934,  0.581401  ,  0.        , -1.17453336, -0.06932281])"
      ]
     },
     "execution_count": 31,
     "metadata": {},
     "output_type": "execute_result"
    }
   ],
   "source": [
    "res"
   ]
  },
  {
   "cell_type": "markdown",
   "id": "9ba4351a",
   "metadata": {
    "heading_collapsed": true
   },
   "source": [
    "# child_1情况"
   ]
  },
  {
   "cell_type": "code",
   "execution_count": 43,
   "id": "14d3075e",
   "metadata": {
    "ExecuteTime": {
     "end_time": "2024-09-24T16:29:11.782236Z",
     "start_time": "2024-09-24T16:29:05.410524Z"
    },
    "hidden": true
   },
   "outputs": [],
   "source": [
    "from sklearn.ensemble import RandomForestRegressor\n",
    "\n",
    "rfg1=RandomForestRegressor(n_estimators=100,criterion='friedman_mse',random_state=0,oob_score=False)\n",
    "\n",
    "target_1_phy=[]\n",
    "for idx,s in target_1.iterrows():\n",
    "    target_1_phy.append(nss_mcs_dict[s['nss'],s['mcs']])\n",
    "\n",
    "\n",
    "rfg1=rfg1.fit(child_1,target_1_phy)\n",
    "\n",
    "# rfg0=RandomForestRegressor(n_estimators=100,criterion='friedman_mse',random_state=0,oob_score=False)\n",
    "# rfg0=rfg0.fit(resource,target_0.to_numpy())\n",
    "from sklearn.model_selection import cross_val_score\n",
    "\n",
    "res=cross_val_score(rfg1,child_1,target_1_phy,cv=10)"
   ]
  },
  {
   "cell_type": "code",
   "execution_count": 44,
   "id": "6805ab35",
   "metadata": {
    "ExecuteTime": {
     "end_time": "2024-09-24T16:29:12.901948Z",
     "start_time": "2024-09-24T16:29:12.897417Z"
    },
    "hidden": true
   },
   "outputs": [
    {
     "data": {
      "text/plain": [
       "array([ 0.        ,  0.        ,  0.        ,  0.        , -0.03219007,\n",
       "        0.84663934,  0.581401  ,  0.        , -1.17453336, -0.06932281])"
      ]
     },
     "execution_count": 44,
     "metadata": {},
     "output_type": "execute_result"
    }
   ],
   "source": [
    "res"
   ]
  },
  {
   "cell_type": "code",
   "execution_count": 29,
   "id": "64150679",
   "metadata": {
    "ExecuteTime": {
     "end_time": "2024-09-24T01:55:44.931545Z",
     "start_time": "2024-09-24T01:55:44.927035Z"
    },
    "hidden": true
   },
   "outputs": [
    {
     "data": {
      "text/plain": [
       "0.015199409085189375"
      ]
     },
     "execution_count": 29,
     "metadata": {},
     "output_type": "execute_result"
    }
   ],
   "source": [
    "res.mean()"
   ]
  },
  {
   "cell_type": "markdown",
   "id": "eeba6a45",
   "metadata": {},
   "source": [
    "# child_2情况"
   ]
  },
  {
   "cell_type": "code",
   "execution_count": null,
   "id": "38fdb19c",
   "metadata": {},
   "outputs": [],
   "source": [
    "# from sklearn.ensemble import RandomForestRegressor\n",
    "\n",
    "# rfg1=RandomForestRegressor(n_estimators=100,criterion='friedman_mse',random_state=0,oob_score=False)\n",
    "\n",
    "# target_1_phy=[]\n",
    "# for idx,s in target_1.iterrows():\n",
    "#     target_1_phy.append(nss_mcs_dict[s['nss'],s['mcs']])\n",
    "\n",
    "\n",
    "# rfg1=rfg1.fit(child_1,target_1_phy)\n",
    "\n",
    "# # rfg0=RandomForestRegressor(n_estimators=100,criterion='friedman_mse',random_state=0,oob_score=False)\n",
    "# # rfg0=rfg0.fit(resource,target_0.to_numpy())\n",
    "# from sklearn.model_selection import cross_val_score\n",
    "\n",
    "# res=cross_val_score(rfg1,child_1,target_1_phy,cv=10)"
   ]
  },
  {
   "cell_type": "code",
   "execution_count": 30,
   "id": "79bbe5e1",
   "metadata": {
    "ExecuteTime": {
     "end_time": "2024-09-24T01:55:51.273138Z",
     "start_time": "2024-09-24T01:55:49.551334Z"
    }
   },
   "outputs": [
    {
     "ename": "KeyError",
     "evalue": "''",
     "output_type": "error",
     "traceback": [
      "\u001b[1;31m---------------------------------------------------------------------------\u001b[0m",
      "\u001b[1;31mKeyError\u001b[0m                                  Traceback (most recent call last)",
      "File \u001b[1;32m~\\AppData\\Roaming\\Python\\Python311\\site-packages\\pandas\\core\\indexes\\base.py:3790\u001b[0m, in \u001b[0;36mIndex.get_loc\u001b[1;34m(self, key)\u001b[0m\n\u001b[0;32m   3789\u001b[0m \u001b[38;5;28;01mtry\u001b[39;00m:\n\u001b[1;32m-> 3790\u001b[0m     \u001b[38;5;28;01mreturn\u001b[39;00m \u001b[38;5;28mself\u001b[39m\u001b[38;5;241m.\u001b[39m_engine\u001b[38;5;241m.\u001b[39mget_loc(casted_key)\n\u001b[0;32m   3791\u001b[0m \u001b[38;5;28;01mexcept\u001b[39;00m \u001b[38;5;167;01mKeyError\u001b[39;00m \u001b[38;5;28;01mas\u001b[39;00m err:\n",
      "File \u001b[1;32mindex.pyx:152\u001b[0m, in \u001b[0;36mpandas._libs.index.IndexEngine.get_loc\u001b[1;34m()\u001b[0m\n",
      "File \u001b[1;32mindex.pyx:181\u001b[0m, in \u001b[0;36mpandas._libs.index.IndexEngine.get_loc\u001b[1;34m()\u001b[0m\n",
      "File \u001b[1;32mpandas\\_libs\\hashtable_class_helper.pxi:7080\u001b[0m, in \u001b[0;36mpandas._libs.hashtable.PyObjectHashTable.get_item\u001b[1;34m()\u001b[0m\n",
      "File \u001b[1;32mpandas\\_libs\\hashtable_class_helper.pxi:7088\u001b[0m, in \u001b[0;36mpandas._libs.hashtable.PyObjectHashTable.get_item\u001b[1;34m()\u001b[0m\n",
      "\u001b[1;31mKeyError\u001b[0m: ''",
      "\nThe above exception was the direct cause of the following exception:\n",
      "\u001b[1;31mKeyError\u001b[0m                                  Traceback (most recent call last)",
      "Cell \u001b[1;32mIn[30], line 4\u001b[0m\n\u001b[0;32m      1\u001b[0m \u001b[38;5;28;01mfrom\u001b[39;00m \u001b[38;5;21;01msklearn\u001b[39;00m\u001b[38;5;21;01m.\u001b[39;00m\u001b[38;5;21;01mensemble\u001b[39;00m \u001b[38;5;28;01mimport\u001b[39;00m RandomForestClassifier\n\u001b[0;32m      3\u001b[0m rfg1\u001b[38;5;241m=\u001b[39mRandomForestRegressor(n_estimators\u001b[38;5;241m=\u001b[39m\u001b[38;5;241m100\u001b[39m,criterion\u001b[38;5;241m=\u001b[39m\u001b[38;5;124m'\u001b[39m\u001b[38;5;124mgini\u001b[39m\u001b[38;5;124m'\u001b[39m,random_state\u001b[38;5;241m=\u001b[39m\u001b[38;5;241m0\u001b[39m,oob_score\u001b[38;5;241m=\u001b[39m\u001b[38;5;28;01mFalse\u001b[39;00m)\n\u001b[1;32m----> 4\u001b[0m rfg1\u001b[38;5;241m=\u001b[39mrfg1\u001b[38;5;241m.\u001b[39mfit(child_1,target_1[\u001b[38;5;124m'\u001b[39m\u001b[38;5;124m'\u001b[39m])\n\u001b[0;32m      6\u001b[0m \u001b[38;5;66;03m# rfg0=RandomForestRegressor(n_estimators=100,criterion='friedman_mse',random_state=0,oob_score=False)\u001b[39;00m\n\u001b[0;32m      7\u001b[0m \u001b[38;5;66;03m# rfg0=rfg0.fit(resource,target_0.to_numpy())\u001b[39;00m\n\u001b[0;32m      8\u001b[0m \u001b[38;5;28;01mfrom\u001b[39;00m \u001b[38;5;21;01msklearn\u001b[39;00m\u001b[38;5;21;01m.\u001b[39;00m\u001b[38;5;21;01mmodel_selection\u001b[39;00m \u001b[38;5;28;01mimport\u001b[39;00m cross_val_score\n",
      "File \u001b[1;32m~\\AppData\\Roaming\\Python\\Python311\\site-packages\\pandas\\core\\frame.py:3896\u001b[0m, in \u001b[0;36mDataFrame.__getitem__\u001b[1;34m(self, key)\u001b[0m\n\u001b[0;32m   3894\u001b[0m \u001b[38;5;28;01mif\u001b[39;00m \u001b[38;5;28mself\u001b[39m\u001b[38;5;241m.\u001b[39mcolumns\u001b[38;5;241m.\u001b[39mnlevels \u001b[38;5;241m>\u001b[39m \u001b[38;5;241m1\u001b[39m:\n\u001b[0;32m   3895\u001b[0m     \u001b[38;5;28;01mreturn\u001b[39;00m \u001b[38;5;28mself\u001b[39m\u001b[38;5;241m.\u001b[39m_getitem_multilevel(key)\n\u001b[1;32m-> 3896\u001b[0m indexer \u001b[38;5;241m=\u001b[39m \u001b[38;5;28mself\u001b[39m\u001b[38;5;241m.\u001b[39mcolumns\u001b[38;5;241m.\u001b[39mget_loc(key)\n\u001b[0;32m   3897\u001b[0m \u001b[38;5;28;01mif\u001b[39;00m is_integer(indexer):\n\u001b[0;32m   3898\u001b[0m     indexer \u001b[38;5;241m=\u001b[39m [indexer]\n",
      "File \u001b[1;32m~\\AppData\\Roaming\\Python\\Python311\\site-packages\\pandas\\core\\indexes\\base.py:3797\u001b[0m, in \u001b[0;36mIndex.get_loc\u001b[1;34m(self, key)\u001b[0m\n\u001b[0;32m   3792\u001b[0m     \u001b[38;5;28;01mif\u001b[39;00m \u001b[38;5;28misinstance\u001b[39m(casted_key, \u001b[38;5;28mslice\u001b[39m) \u001b[38;5;129;01mor\u001b[39;00m (\n\u001b[0;32m   3793\u001b[0m         \u001b[38;5;28misinstance\u001b[39m(casted_key, abc\u001b[38;5;241m.\u001b[39mIterable)\n\u001b[0;32m   3794\u001b[0m         \u001b[38;5;129;01mand\u001b[39;00m \u001b[38;5;28many\u001b[39m(\u001b[38;5;28misinstance\u001b[39m(x, \u001b[38;5;28mslice\u001b[39m) \u001b[38;5;28;01mfor\u001b[39;00m x \u001b[38;5;129;01min\u001b[39;00m casted_key)\n\u001b[0;32m   3795\u001b[0m     ):\n\u001b[0;32m   3796\u001b[0m         \u001b[38;5;28;01mraise\u001b[39;00m InvalidIndexError(key)\n\u001b[1;32m-> 3797\u001b[0m     \u001b[38;5;28;01mraise\u001b[39;00m \u001b[38;5;167;01mKeyError\u001b[39;00m(key) \u001b[38;5;28;01mfrom\u001b[39;00m \u001b[38;5;21;01merr\u001b[39;00m\n\u001b[0;32m   3798\u001b[0m \u001b[38;5;28;01mexcept\u001b[39;00m \u001b[38;5;167;01mTypeError\u001b[39;00m:\n\u001b[0;32m   3799\u001b[0m     \u001b[38;5;66;03m# If we have a listlike key, _check_indexing_error will raise\u001b[39;00m\n\u001b[0;32m   3800\u001b[0m     \u001b[38;5;66;03m#  InvalidIndexError. Otherwise we fall through and re-raise\u001b[39;00m\n\u001b[0;32m   3801\u001b[0m     \u001b[38;5;66;03m#  the TypeError.\u001b[39;00m\n\u001b[0;32m   3802\u001b[0m     \u001b[38;5;28mself\u001b[39m\u001b[38;5;241m.\u001b[39m_check_indexing_error(key)\n",
      "\u001b[1;31mKeyError\u001b[0m: ''"
     ]
    }
   ],
   "source": [
    "# from sklearn.ensemble import RandomForestClassifier\n",
    "\n",
    "# rfg1=RandomForestRegressor(n_estimators=100,criterion='gini',random_state=0,oob_score=False)\n",
    "# rfg1=rfg1.fit(child_1,target_1[''])\n",
    "\n",
    "# # rfg0=RandomForestRegressor(n_estimators=100,criterion='friedman_mse',random_state=0,oob_score=False)\n",
    "# # rfg0=rfg0.fit(resource,target_0.to_numpy())\n",
    "# from sklearn.model_selection import cross_val_score\n",
    "\n",
    "# res=cross_val_score(rfg1,child_1,target_1,cv=10)"
   ]
  },
  {
   "cell_type": "markdown",
   "id": "68626513",
   "metadata": {},
   "source": [
    "# predict"
   ]
  },
  {
   "cell_type": "code",
   "execution_count": 87,
   "id": "ed35d4a0",
   "metadata": {
    "ExecuteTime": {
     "end_time": "2024-09-24T19:49:41.100474Z",
     "start_time": "2024-09-24T19:49:41.067780Z"
    }
   },
   "outputs": [],
   "source": [
    "import numpy as np\n",
    "import pandas as pd\n",
    "predict = pd.read_excel('programe2_test_1_2ap_processed.xlsx')\n",
    "predict=predict.drop(['nss','mcs'],axis=1)\n",
    "predict=predict.drop('sta_from_sta_0_rssi',axis=1)"
   ]
  },
  {
   "cell_type": "code",
   "execution_count": 89,
   "id": "d33bdeae",
   "metadata": {
    "ExecuteTime": {
     "end_time": "2024-09-24T19:49:47.626798Z",
     "start_time": "2024-09-24T19:49:47.618840Z"
    }
   },
   "outputs": [
    {
     "name": "stdout",
     "output_type": "stream",
     "text": [
      "<class 'pandas.core.frame.DataFrame'>\n",
      "RangeIndex: 80 entries, 0 to 79\n",
      "Data columns (total 15 columns):\n",
      " #   Column                      Non-Null Count  Dtype  \n",
      "---  ------                      --------------  -----  \n",
      " 0   Unnamed: 0                  80 non-null     int64  \n",
      " 1   protocol                    80 non-null     int64  \n",
      " 2   nav                         80 non-null     int64  \n",
      " 3   ap_from_ap_0_sum_ant_rssi   80 non-null     float64\n",
      " 4   sta_to_ap_0_sum_ant_rssi    80 non-null     float64\n",
      " 5   sta_to_ap_1_sum_ant_rssi    80 non-null     float64\n",
      " 6   sta_from_ap_0_sum_ant_rssi  80 non-null     float64\n",
      " 7   sta_from_ap_1_sum_ant_rssi  80 non-null     float64\n",
      " 8   sta_from_sta_0_rssi         0 non-null      float64\n",
      " 9   seq_time                    80 non-null     float64\n",
      " 10  pro_pd                      80 non-null     float64\n",
      " 11  pro_ed                      80 non-null     float64\n",
      " 12  pro_nav                     80 non-null     float64\n",
      " 13  state                       80 non-null     int64  \n",
      " 14  sinr                        80 non-null     float64\n",
      "dtypes: float64(11), int64(4)\n",
      "memory usage: 9.5 KB\n"
     ]
    }
   ],
   "source": [
    "predict.info()"
   ]
  },
  {
   "cell_type": "code",
   "execution_count": 72,
   "id": "651d6ebb",
   "metadata": {
    "ExecuteTime": {
     "end_time": "2024-09-24T19:42:16.358794Z",
     "start_time": "2024-09-24T19:42:16.318277Z"
    }
   },
   "outputs": [],
   "source": [
    "res=rfg0.predict(predict)\n",
    "pd.DataFrame(res).to_excel('programe2_test1_type2_res_mcs.xlsx')"
   ]
  },
  {
   "cell_type": "code",
   "execution_count": null,
   "id": "0117374d",
   "metadata": {},
   "outputs": [],
   "source": []
  }
 ],
 "metadata": {
  "kernelspec": {
   "display_name": "Python 3 (ipykernel)",
   "language": "python",
   "name": "python3"
  },
  "language_info": {
   "codemirror_mode": {
    "name": "ipython",
    "version": 3
   },
   "file_extension": ".py",
   "mimetype": "text/x-python",
   "name": "python",
   "nbconvert_exporter": "python",
   "pygments_lexer": "ipython3",
   "version": "3.11.4"
  },
  "toc": {
   "base_numbering": 1,
   "nav_menu": {},
   "number_sections": false,
   "sideBar": true,
   "skip_h1_title": false,
   "title_cell": "Table of Contents",
   "title_sidebar": "Contents",
   "toc_cell": false,
   "toc_position": {},
   "toc_section_display": true,
   "toc_window_display": false
  },
  "varInspector": {
   "cols": {
    "lenName": 16,
    "lenType": 16,
    "lenVar": 40
   },
   "kernels_config": {
    "python": {
     "delete_cmd_postfix": "",
     "delete_cmd_prefix": "del ",
     "library": "var_list.py",
     "varRefreshCmd": "print(var_dic_list())"
    },
    "r": {
     "delete_cmd_postfix": ") ",
     "delete_cmd_prefix": "rm(",
     "library": "var_list.r",
     "varRefreshCmd": "cat(var_dic_list()) "
    }
   },
   "types_to_exclude": [
    "module",
    "function",
    "builtin_function_or_method",
    "instance",
    "_Feature"
   ],
   "window_display": false
  }
 },
 "nbformat": 4,
 "nbformat_minor": 5
}
